{
 "cells": [
  {
   "cell_type": "markdown",
   "id": "426660b6",
   "metadata": {},
   "source": [
    "# Distribution of the data related by the following paper: \n",
    "\n",
    "### Investigating the effect of grain structure on compressive response of open-cell metal foam using high-fidelity crystal-plasticity modeling \n",
    "\n",
    "__Authors:__  _Dongfang Zhao, Kristoffer E. Matheson, Brian R. Phung, Steve Petruzza, Michael W. Czabaj, Ashley D. Spear_ \n",
    "\n",
    "__Published in:__  Materials Science and Engineering, Volume 812, 2021, 140847, ISSN 0921-5093\n",
    "\n",
    "https://doi.org/10.1016/j.msea.2021.140847\n",
    "\n",
    "https://www.sciencedirect.com/science/article/pii/S0921509321001167"
   ]
  },
  {
   "cell_type": "code",
   "execution_count": null,
   "id": "fb837105",
   "metadata": {},
   "outputs": [],
   "source": [
    "def InstallPrerequisites():\n",
    "\n",
    "    # Pre-requirements: install all the python libraries needed to run this exemple.\n",
    "    # You may need to restart the kernel if the process catches a missing library to be installed. \n",
    "    import os,sys\n",
    "\n",
    "    # specific prerequisite (this may need to be completed)\n",
    "    !\"{sys.executable}\" -m pip  install --upgrade OpenVisus\n",
    "    !\"{sys.executable}\" -m OpenVisus configure \n",
    "\n",
    "    # general prerequisites\n",
    "    !\"{sys.executable}\" -m pip install PIL\n",
    "    !\"{sys.executable}\" -m pip install urllib\n",
    "    !\"{sys.executable}\" -m pip install matplotlib\n",
    "    !\"{sys.executable}\" -m pip install mpl_interactions\n",
    "    !\"{sys.executable}\" -m pip install ipywidgets\n",
    "    !\"{sys.executable}\" -m pip install ipympl \n",
    "    !\"{sys.executable}\" -m pip install ipycanvas\n",
    "    !\"{sys.executable}\" -m jupyter nbextension enable --py widgetsnbextension\n",
    "\n",
    "    print(\"WARNING: you probably need to restart Jupyter\")\n",
    "    \n",
    "InstallPrerequisites()"
   ]
  },
  {
   "cell_type": "code",
   "execution_count": 1,
   "id": "1fd28bd1",
   "metadata": {},
   "outputs": [
    {
     "name": "stdout",
     "output_type": "stream",
     "text": [
      "Starting OpenVisus C:\\projects\\OpenVisus\\build\\RelWithDebInfo\\OpenVisus\\__init__.py 3.8.6 (tags/v3.8.6:db45529, Sep 23 2020, 15:52:53) [MSC v.1927 64 bit (AMD64)] sys.version_info(major=3, minor=8, micro=6, releaselevel='final', serial=0) ...\n",
      "C:\\projects\\OpenVisus\\Samples\\jupyter\n"
     ]
    }
   ],
   "source": [
    "import os,sys\n",
    "#sys.path.append(r\"C:\\projects\\OpenVisus\\build\\RelWithDebInfo\")\n",
    "from OpenVisus import *\n",
    "from ipywidgets import *\n",
    "print(os.getcwd() )"
   ]
  },
  {
   "cell_type": "code",
   "execution_count": 8,
   "id": "22d65f85",
   "metadata": {},
   "outputs": [
    {
     "name": "stdout",
     "output_type": "stream",
     "text": [
      "Utilities defined\n"
     ]
    }
   ],
   "source": [
    "from PIL import Image\n",
    "from urllib.request import urlopen\n",
    "import matplotlib.pyplot as plt\n",
    "\n",
    "def LoadImage(filename):\n",
    "\tif filename.startswith('http'):\n",
    "\t\tfilename=urlopen(filename) \n",
    "\treturn numpy.asarray(Image.open(filename))\n",
    "\n",
    "def ShowImage(data,width=10):\n",
    "\tratio=float(data.shape[1])/data.shape[0]\n",
    "\tfig = plt.figure(figsize = (width,width*ratio))\n",
    "\tax = fig.add_subplot(1,1,1)\n",
    "\tax.imshow(data, origin='lower')\n",
    "\tplt.show()\n",
    "    \n",
    "# function to read data from a remote dataset\n",
    "# optional parameters: timestep, field (variable in the dataset), logic_box (bounding box of the query), resolution\n",
    "\n",
    "# Note: the resolution value could sometime fetch a dataset with the wrong aspect ratio, \n",
    "# this because in the IDX format we double the size at each resolution on only one of the axis at a time\n",
    "\n",
    "# function to plot the image data with matplotlib\n",
    "# optional parameters: colormap, existing plot to reuse (for more interactivity)\n",
    "def ShowData(data, cmap=None, plot=None):\n",
    "    #print(data)\n",
    "    if(plot==None or cmap!=None):\n",
    "        width = 6\n",
    "        ratio=float(data.shape[1])/data.shape[0]\n",
    "        fig = plt.figure(figsize = (width,width*ratio))\n",
    "        plot = plt.imshow(data, origin='lower', cmap=cmap)\n",
    "        plt.show()\n",
    "        return plot\n",
    "    else:\n",
    "        plot.set_data(data)\n",
    "        plt.show()\n",
    "        return plot\n",
    "    \n",
    "# function to create a local dataset from a remote one (typically S3 object storage)\n",
    "# please first check if remote_compression and remote_layour are right (you must know them in advance)\n",
    "def EnableCaching(local_filename, remote_url, remote_compression=\"zip\", remote_layout=\"hzorder\"):\n",
    "\n",
    "    print(\"local_filename\",local_filename)\n",
    "    print(\"remote_url\",remote_url)\n",
    "\n",
    "    access_config=\"\"\"\n",
    "    <access type='multiplex'>\n",
    "            <access type='disk' chmod='rw' url='file://{}' />\n",
    "            <access type=\"CloudStorageAccess\" url='{}' chmod=\"r\" compression=\"{}\" layout=\"{}\" /> \n",
    "    </access>  \n",
    "    \"\"\".format(local_filename,remote_url,remote_compression,remote_layout)\n",
    "    print(\"access_config\",access_config)\n",
    "\n",
    "    access= db.createAccessForBlockQuery(StringTree.fromString(access_config))\n",
    "\n",
    "    # at this point the cache is enabled with the new local idx file\n",
    "    Assert(os.path.isfile(local_filename))\n",
    "\n",
    "    print(\"local caching enabled\")\n",
    "    \n",
    "    \n",
    "# utility to copy a dataset block-by block (you can run it in the background)\n",
    "def CopyDataset(dst,src,Waccess=None,Raccess=None,limit=0, background=False):\n",
    "    \n",
    "    if background:\n",
    "        thread = threading.Thread(target=CopyDataset, args=(dst,src,Waccess,Raccess,limit,False))\n",
    "        thread.start()        \n",
    "        return thread\n",
    "    \n",
    "    print(\"CopyDataset\",dst.getUrl(),\"<-\",src.getUrl(),\"...\")\n",
    "    if Waccess is None: Waccess=dst.createAccess()\n",
    "    if Raccess is None: Raccess=src.createAccess()\n",
    "        \n",
    "    def Return():\n",
    "        Waccess.endWrite()\n",
    "        Raccess.endRead()\n",
    "        print(\"CopyDataset done\")\n",
    "        \n",
    "    Waccess.beginWrite()\n",
    "    Raccess.beginRead()\n",
    "        \n",
    "    cont=0\n",
    "    for time in src.getTimesteps().asVector():\n",
    "        for field in src.getFields():\n",
    "            for blockid in range(src.getTotalNumberOfBlocks()):\n",
    "                # print(\"Copying block\",\"time\",time,\"field\",field,\"blockid\",blockid,\"...\")\n",
    "                buffer = src.readBlock(blockid, field=field, time=time, access=Raccess)\n",
    "                if buffer is None: continue # could be the block is not storeds\n",
    "                bOk = dst.writeBlock(blockid, field=field, time=time, access=Waccess,data=buffer)\n",
    "                Assert(bOk)\n",
    "                cont+=1\n",
    "                if limit>0 and cont>=limit:\n",
    "                    return Return()\n",
    "                \n",
    "    return Return()\n",
    "    \n",
    "def Assert(cond):\n",
    "    if not cond:\n",
    "        raise Exception(\"Assert failed\")\n",
    "    \n",
    "print(\"Utilities defined\")"
   ]
  },
  {
   "cell_type": "code",
   "execution_count": 4,
   "id": "ed6f7b2c",
   "metadata": {},
   "outputs": [
    {
     "name": "stdout",
     "output_type": "stream",
     "text": [
      "Loaded dataset https://s3.us-west-1.wasabisys.com/visus-server-foam/visus.idx\n"
     ]
    }
   ],
   "source": [
    "# create data access method from a dataset stored on the cloud\n",
    "url=\"https://s3.us-west-1.wasabisys.com/visus-server-foam/visus.idx\"\n",
    "db=LoadDataset(url)\n",
    "print(\"Loaded dataset\",url)"
   ]
  },
  {
   "cell_type": "code",
   "execution_count": 7,
   "id": "c66c5097",
   "metadata": {},
   "outputs": [
    {
     "name": "stdout",
     "output_type": "stream",
     "text": [
      "local_filename C:/projects/OpenVisus/Samples/jupyter/visus-cache/foam/visus.idx\n",
      "remote_url https://s3.us-west-1.wasabisys.com/visus-server-foam/visus.idx\n",
      "access_config \n",
      "    <access type='multiplex'>\n",
      "            <access type='disk' chmod='rw' url='file://C:/projects/OpenVisus/Samples/jupyter/visus-cache/foam/visus.idx' />\n",
      "            <access type=\"CloudStorageAccess\" url='https://s3.us-west-1.wasabisys.com/visus-server-foam/visus.idx' chmod=\"r\" compression=\"zip\" layout=\"hzorder\" /> \n",
      "    </access>  \n",
      "    \n",
      "local caching enabled\n"
     ]
    }
   ],
   "source": [
    "local_filename=os.path.abspath(\"./visus-cache/foam/visus.idx\").replace(\"\\\\\",\"/\")\n",
    "remote_url=\"https://s3.us-west-1.wasabisys.com/visus-server-foam/visus.idx\"\n",
    "EnableCaching(local_filename, remote_url)"
   ]
  },
  {
   "cell_type": "markdown",
   "id": "169db9d1",
   "metadata": {},
   "source": [
    "Now you can run a background process that slowly copy blocks from remote location"
   ]
  },
  {
   "cell_type": "code",
   "execution_count": 10,
   "id": "aaed5c21",
   "metadata": {
    "collapsed": true
   },
   "outputs": [
    {
     "name": "stdout",
     "output_type": "stream",
     "text": [
      "CopyDataset C:/projects/OpenVisus/Samples/jupyter/visus-cache/foam/visus.idx <- https://s3.us-west-1.wasabisys.com/visus-server-foam/visus.idx "
     ]
    },
    {
     "data": {
      "text/plain": [
       "<Thread(Thread-6, started 18824)>"
      ]
     },
     "execution_count": 10,
     "metadata": {},
     "output_type": "execute_result"
    },
    {
     "name": "stdout",
     "output_type": "stream",
     "text": [
      "...\n",
      "Copying block time 0.0 field data blockid 0 ...\n",
      "Copying block time 0.0 field data blockid 1 ...\n",
      "Copying block time 0.0 field data blockid 2 ...\n",
      "Copying block time 0.0 field data blockid 3 ...\n",
      "Copying block time 0.0 field data blockid 4 ...\n",
      "Copying block time 0.0 field data blockid 5 ...\n",
      "Copying block time 0.0 field data blockid 6 ...\n",
      "Copying block time 0.0 field data blockid 7 ...\n",
      "Copying block time 0.0 field data blockid 8 ...\n",
      "Copying block time 0.0 field data blockid 9 ...\n"
     ]
    }
   ],
   "source": [
    "dst=LoadDataset(local_filename)\n",
    "src=db\n",
    "thread=CopyDataset(dst,src,Waccess=dst.createAccess(),Raccess=src.createAccess(),limit=0,background=True)"
   ]
  },
  {
   "cell_type": "code",
   "execution_count": null,
   "id": "ea1a4116",
   "metadata": {},
   "outputs": [],
   "source": [
    "X_size,Y_size,Z_size = db.getLogicBox()[1]\n",
    "slice_value = int(Z_size/2)\n",
    "\n",
    "print(\"Database size\",X_size,Y_size,Z_size )\n",
    "print(\"slice_value\",slice_value)\n",
    "print(\"fields:\",db.getFields())"
   ]
  },
  {
   "cell_type": "code",
   "execution_count": 11,
   "id": "4087f5e7",
   "metadata": {},
   "outputs": [
    {
     "ename": "NameError",
     "evalue": "name 'slice_value' is not defined",
     "output_type": "error",
     "traceback": [
      "\u001b[1;31m---------------------------------------------------------------------------\u001b[0m",
      "\u001b[1;31mNameError\u001b[0m                                 Traceback (most recent call last)",
      "\u001b[1;32m<ipython-input-11-8e0f4dc62efe>\u001b[0m in \u001b[0;36m<module>\u001b[1;34m\u001b[0m\n\u001b[0;32m      1\u001b[0m \u001b[1;31m# create a plot for our data\u001b[0m\u001b[1;33m\u001b[0m\u001b[1;33m\u001b[0m\u001b[1;33m\u001b[0m\u001b[0m\n\u001b[1;32m----> 2\u001b[1;33m \u001b[0mfirst_query\u001b[0m \u001b[1;33m=\u001b[0m \u001b[0mdb\u001b[0m\u001b[1;33m.\u001b[0m\u001b[0mread\u001b[0m\u001b[1;33m(\u001b[0m\u001b[0mx\u001b[0m\u001b[1;33m=\u001b[0m\u001b[1;33m[\u001b[0m\u001b[0mslice_value\u001b[0m\u001b[1;33m,\u001b[0m\u001b[0mslice_value\u001b[0m\u001b[1;33m+\u001b[0m\u001b[1;36m1\u001b[0m\u001b[1;33m]\u001b[0m\u001b[1;33m,\u001b[0m\u001b[0my\u001b[0m\u001b[1;33m=\u001b[0m\u001b[1;33m[\u001b[0m\u001b[1;36m0\u001b[0m\u001b[1;33m,\u001b[0m\u001b[0mY_size\u001b[0m\u001b[1;33m]\u001b[0m\u001b[1;33m,\u001b[0m\u001b[0mz\u001b[0m\u001b[1;33m=\u001b[0m\u001b[1;33m[\u001b[0m\u001b[1;36m0\u001b[0m\u001b[1;33m,\u001b[0m\u001b[0mZ_size\u001b[0m\u001b[1;33m]\u001b[0m\u001b[1;33m,\u001b[0m \u001b[0mnum_refinements\u001b[0m\u001b[1;33m=\u001b[0m\u001b[1;36m1\u001b[0m \u001b[1;33m,\u001b[0m \u001b[0mquality\u001b[0m\u001b[1;33m=\u001b[0m\u001b[1;33m-\u001b[0m\u001b[1;36m3\u001b[0m\u001b[1;33m,\u001b[0m \u001b[0maccess\u001b[0m \u001b[1;33m=\u001b[0m \u001b[0maccess\u001b[0m\u001b[1;33m)\u001b[0m\u001b[1;33m.\u001b[0m\u001b[0mreshape\u001b[0m\u001b[1;33m(\u001b[0m\u001b[1;33m[\u001b[0m\u001b[0mY_size\u001b[0m\u001b[1;33m//\u001b[0m\u001b[1;36m2\u001b[0m\u001b[1;33m,\u001b[0m\u001b[0mZ_size\u001b[0m\u001b[1;33m//\u001b[0m\u001b[1;36m2\u001b[0m\u001b[1;33m]\u001b[0m\u001b[1;33m)\u001b[0m\u001b[1;33m\u001b[0m\u001b[1;33m\u001b[0m\u001b[0m\n\u001b[0m\u001b[0;32m      3\u001b[0m \u001b[0mprint\u001b[0m\u001b[1;33m(\u001b[0m\u001b[1;34m\"First query done\"\u001b[0m\u001b[1;33m)\u001b[0m\u001b[1;33m\u001b[0m\u001b[1;33m\u001b[0m\u001b[0m\n",
      "\u001b[1;31mNameError\u001b[0m: name 'slice_value' is not defined"
     ]
    }
   ],
   "source": [
    "# create a plot for our data\n",
    "first_query = db.read(x=[slice_value,slice_value+1],y=[0,Y_size],z=[0,Z_size], num_refinements=1 , quality=-3, access = access).reshape([Y_size//2,Z_size//2])\n",
    "print(\"First query done\")"
   ]
  },
  {
   "cell_type": "code",
   "execution_count": null,
   "id": "66a64bb2",
   "metadata": {},
   "outputs": [],
   "source": [
    "# if running this code in a Jupter notbeook or JupyterLab\n",
    "# NOTE I need this cell to be one line only with only this op\n",
    "%matplotlib notebook "
   ]
  },
  {
   "cell_type": "code",
   "execution_count": null,
   "id": "d7287244",
   "metadata": {},
   "outputs": [],
   "source": [
    "# create a plot for our data\n",
    "myplot = ShowData(first_query)\n",
    "slice_dir = 0\n",
    "resolution = 2\n",
    "#myplot = None\n",
    "width = 6\n",
    "#ratio=float(data.shape[2])/data.shape[1])\n",
    "#fig = plt.figure(figsize = (width,width*ratio))\n",
    "\n",
    "time  =widgets.IntSlider(value=0,min=0,max=3,step=1)\n",
    "direction = widgets.Dropdown(options=[('X', 0), ('Y', 1), ('Z', 2)], value=0,description='Slice orthogonal to axis:')\n",
    "xslice=widgets.IntSlider(value=500,min=0,max=X_size-1,step=1,description=\"slice\")\n",
    "res_widget =widgets.IntSlider(value=-2,min=-5,max=0,step=1,description=\"Resolution\")\n",
    "\n",
    "# function to plot the image data with matplotlib\n",
    "# optional parameters: colormap, existing plot to reuse (for more interactivity)\n",
    "def showSlice(time=0,direction = slice_dir,slice_position=700,new_resolution = resolution,db=db, cmap=None, plot=myplot):\n",
    "    global myplot, first_query, slice_dir, xslice, resolution\n",
    "    plot = myplot\n",
    "    print (time,direction,slice_position,new_resolution,db, cmap, plot)\n",
    "    if  slice_dir != direction :    \n",
    "        #print(\"Direction changed from \", slice_dir,\" to \", direction)\n",
    "        xslice.max = db.getLogicBox()[1][direction]-1        \n",
    "        xslice.value = 512\n",
    "        \n",
    "    slice_dir  = direction\n",
    "    resolution = new_resolution\n",
    "    \n",
    "    #print(time,slice_dir,slice_position+1)\n",
    "    #print  (time, slice_dir,[slice_position,slice_position+1],[0,Y_size],[0,Z_size])\n",
    "    data_quality = resolution *2\n",
    "    New_quality = new_resolution*3\n",
    "    size_denominator = int(2**(new_resolution*-1))\n",
    "    \n",
    "    actual_slice_position = slice_position //size_denominator\n",
    "    actual_slice_position = actual_slice_position *size_denominator\n",
    "    \n",
    "    print(\"> \",New_quality,size_denominator,actual_slice_position)\n",
    "    try:\n",
    "        if  slice_dir == 0:  \n",
    "                data = db.read(time=time, \n",
    "                    x=[actual_slice_position,actual_slice_position+1],\n",
    "                    y=[0,Y_size],\n",
    "                    z=[0,Z_size], \n",
    "                    num_refinements=1 , \n",
    "                    quality=New_quality, \n",
    "                    access = access).reshape([Y_size//size_denominator,Z_size//size_denominator])\n",
    "        elif slice_dir == 1:\n",
    "                data = db.read(time=time, \n",
    "                    x=[0,Y_size],\n",
    "                    y=[actual_slice_position,actual_slice_position+1],\n",
    "                    z=[0,Z_size], \n",
    "                    num_refinements=1 , \n",
    "                    quality=New_quality, \n",
    "                    access = access).reshape([Y_size//size_denominator,Z_size//size_denominator])\n",
    "        else :\n",
    "                data = db.read(time=time, \n",
    "                    x=[0,Y_size],\n",
    "                    y=[0,Z_size], \n",
    "                    z=[actual_slice_position,actual_slice_position+1],\n",
    "                    num_refinements=1 , \n",
    "                    quality=New_quality, \n",
    "                    access = access).reshape([Y_size//size_denominator,Z_size//size_denominator])\n",
    "            \n",
    "    except:\n",
    "        data = first_query\n",
    "    first_query = data\n",
    "    #print(data)\n",
    "    if(plot==None or cmap!=None):\n",
    "        print(\"===================== PROBLEM!!!! =======================================\")\n",
    "        return plot\n",
    "    else:\n",
    "        #print(\"++++++++++++++++++++++++++++++++++++++++++++++++++++++++++++++++++++++\")\n",
    "        #plot.\n",
    "        plot.set_data(data)\n",
    "        plt.show()\n",
    "        return plot\n",
    "\n",
    "# reuse the plot with an interact for varying time and resolution values\n",
    "interact(lambda time, direction,xslice, res_widget: showSlice(time, direction,xslice, res_widget), \n",
    "         time  = time, direction = direction, xslice=xslice, res_widget = res_widget)"
   ]
  },
  {
   "cell_type": "code",
   "execution_count": null,
   "id": "c1265fc0",
   "metadata": {},
   "outputs": [],
   "source": []
  }
 ],
 "metadata": {
  "kernelspec": {
   "display_name": "Python 3",
   "language": "python",
   "name": "python3"
  },
  "language_info": {
   "codemirror_mode": {
    "name": "ipython",
    "version": 3
   },
   "file_extension": ".py",
   "mimetype": "text/x-python",
   "name": "python",
   "nbconvert_exporter": "python",
   "pygments_lexer": "ipython3",
   "version": "3.8.6"
  }
 },
 "nbformat": 4,
 "nbformat_minor": 5
}
