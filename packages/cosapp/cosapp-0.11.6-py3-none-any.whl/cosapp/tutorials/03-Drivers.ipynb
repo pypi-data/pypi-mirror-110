{
 "cells": [
  {
   "cell_type": "markdown",
   "metadata": {
    "nbsphinx": "hidden"
   },
   "source": [
    "![CoSAppLogo](images/cosapp.svg) **CoSApp** tutorials:"
   ]
  },
  {
   "cell_type": "markdown",
   "metadata": {},
   "source": [
    "# Drivers\n",
    "\n",
    "## What is a `Driver`?!\n",
    "\n",
    "`Driver` objects allow users to modify the state of a `System` for a given purpose. Resolution of non-linear equations, optimization, or time integration of dynamic equations are typical examples of `Driver` usage.\n",
    "As will be seen in this tutorial, drivers can also be nested, to create a simulation workflow.\n",
    "\n",
    "## Introduction\n",
    "\n",
    "### Add a `Driver`\n",
    "\n",
    "Simply use the `add_driver` method passing the `Driver` object you want to use \n",
    "(see [Available drivers](#Available-Drivers) section of this tutorial)."
   ]
  },
  {
   "cell_type": "code",
   "execution_count": null,
   "metadata": {},
   "outputs": [],
   "source": [
    "from cosapp.tests.library.systems import Multiply1\n",
    "from cosapp.drivers import RunOnce\n",
    "\n",
    "m = Multiply1('mult')\n",
    "run = m.add_driver(RunOnce('run'))"
   ]
  },
  {
   "cell_type": "markdown",
   "metadata": {},
   "source": [
    "`Multiply1` *is the same* `System` *as* `Multiply` *in the* [Systems](01-Systems.ipynb) *tutorial*"
   ]
  },
  {
   "cell_type": "markdown",
   "metadata": {},
   "source": [
    " ![Driver in system](images/drivers_1.svg)"
   ]
  },
  {
   "cell_type": "markdown",
   "metadata": {},
   "source": [
    "### Implementation\n",
    "\n",
    "Every `System` (including sub-systems) may have one or multiple `Driver` objects. They are stored in the `drivers` attribute.\n",
    "By default, there is no `Driver` attached to a `System`.\n",
    "\n",
    "The `run_drivers` method of `System` executes drivers recursively. In the following example, the simplest driver\n",
    "[RunOnce](#RunOnce) is added and executed."
   ]
  },
  {
   "cell_type": "code",
   "execution_count": null,
   "metadata": {},
   "outputs": [],
   "source": [
    "from cosapp.tests.library.systems import Multiply1\n",
    "\n",
    "m = Multiply1('mult')\n",
    "m.add_driver(RunOnce('run'))\n",
    "print('m.drivers:', m.drivers) # print drivers of the system\n",
    "\n",
    "m.K1 = 2.\n",
    "m.p_in.x = 15.\n",
    "m.run_drivers()\n",
    "\n",
    "print(f\"m.p_out.x = {m.p_out.x}\")"
   ]
  },
  {
   "cell_type": "markdown",
   "metadata": {},
   "source": [
    "### Driver chains and subdrivers\n",
    "\n",
    "If several drivers are attached to a system, `run_drivers` will execute them in turn, as a sequence of drivers.\n",
    "Furthermore, like a `System`, each individual `Driver` may have children, which also inherit from base class `Driver`. Nested drivers are created with method `add_child` of class `Driver`; they are stored in attribute `children` of the parent driver.\n",
    "\n",
    "By construction, a `System` can have as many levels of drivers as required.\n",
    "\n",
    "Driver chains and nested drivers thus allow users to define complex simulation scenarios, such as workflows, multi-point design, designs of experiment, optimization, *etc.*\n"
   ]
  },
  {
   "cell_type": "markdown",
   "metadata": {},
   "source": [
    "![drivers](images/drivers_2.svg)\n"
   ]
  },
  {
   "cell_type": "code",
   "execution_count": null,
   "metadata": {},
   "outputs": [],
   "source": [
    "m = Multiply1('mult')\n",
    "run = m.add_driver(RunOnce('run'))\n",
    "\n",
    "print(f\"run.children: {run.children}\")  # driver 'run' has no child"
   ]
  },
  {
   "cell_type": "code",
   "execution_count": null,
   "metadata": {},
   "outputs": [],
   "source": [
    "subrun = run.add_child(RunOnce('subrun'))  # add a sub-driver 'subrun'\n",
    "\n",
    "print(f\"run.children: {run.children}\", f\"subrun.children: {subrun.children}\", sep=\"\\n\")"
   ]
  },
  {
   "cell_type": "markdown",
   "metadata": {},
   "source": [
    "## Available Drivers\n",
    "\n",
    "**CoSApp** comes with a set of drivers to help users build their simulations.\n",
    "\n",
    "### RunOnce\n",
    "\n",
    "As the name suggests, `RunOnce` makes your `System` and its subsystems compute their code once. It does not deal with residues or iterative loops that may be necessary to resolve the `System`. Instead, it merely transports information from the top system down to the lowest level sub-systems."
   ]
  },
  {
   "cell_type": "code",
   "execution_count": null,
   "metadata": {},
   "outputs": [],
   "source": [
    "from cosapp.systems import System\n",
    "from cosapp.tests.library.ports import XPort\n",
    "\n",
    "class MultiplyWithResidue(System):\n",
    "\n",
    "    def setup(self):\n",
    "        self.add_input(XPort, 'p_in', {'x': 1.})\n",
    "        self.add_output(XPort, 'p_out', {'x': 1.})\n",
    "\n",
    "        self.add_inward('K1', 5.)\n",
    "        \n",
    "        # off design default\n",
    "        self.add_inward('expected_output', 7.5)\n",
    "        self.add_unknown('p_in.x').add_equation('expected_output == p_out.x')\n",
    "\n",
    "        \n",
    "    def compute(self):\n",
    "        self.p_out.x = self.p_in.x * self.K1\n"
   ]
  },
  {
   "cell_type": "code",
   "execution_count": null,
   "metadata": {},
   "outputs": [],
   "source": [
    "from cosapp.drivers import RunOnce\n",
    "\n",
    "m = MultiplyWithResidue('mult')\n",
    "run = m.add_driver(RunOnce('run'))\n",
    "\n",
    "m.run_drivers()\n",
    "\n",
    "print(\"List of defined drivers\\n\", dict(m.drivers))\n",
    "\n",
    "print(\"\",\n",
    "    f\"K1 = {m.K1}\",\n",
    "    f\"p_in.x = {m.p_in.x}\",\n",
    "    f\"p_out.x = {m.p_out.x}\",\n",
    "    f\"residues: {list(m.residues.values())}\",\n",
    "    sep=\"\\n\"\n",
    ")"
   ]
  },
  {
   "cell_type": "markdown",
   "metadata": {},
   "source": [
    "### NonLinearSolver\n",
    "\n",
    "This `Driver` determines the parameters of your `System` declared as unknowns that satisfy its equations. It resolves the mathematical problem between free parameters and residues of its child drivers.\n",
    "\n",
    "NonLinear options are available:\n",
    "\n",
    "- *tol* - solver iterates until *residue <= tol* (1e-5 by default).\n",
    "- *factor* - relaxation factor applied at each iteration (1 by default; must be striclty positive).\n",
    "- *max_iter* - maximum number of iterations (500 by default).\n",
    "\n",
    "We define below a new `System` containing an equation, and execute a `NonLinearSolver` driver.\n",
    "\n",
    "An `unknown` is simply defined by its name. An `equation` is defined by a string of the kind `\"lhs == rhs\"`, where `lhs` and `rhs` denote the left- and right-hand sides. Each side of the `equation` may be a constant or an evaluable expression, as in `\"x - cos(sub.y) == z**2\"`, or  `\"x == 1.5\"`. An exception will be raised if both sides are trivially constant, as in `\"pi / 2 == 0\"`."
   ]
  },
  {
   "cell_type": "code",
   "execution_count": null,
   "metadata": {},
   "outputs": [],
   "source": [
    "from cosapp.systems import System\n",
    "from cosapp.tests.library.ports import XPort\n",
    "\n",
    "class MultiplyWithResidue(System):\n",
    "\n",
    "    def setup(self):\n",
    "        self.add_input(XPort, 'p_in', {'x': 1.})\n",
    "        self.add_output(XPort, 'p_out', {'x': 1.})\n",
    "\n",
    "        self.add_inward('K1', 5.)\n",
    "        \n",
    "        # off design default\n",
    "        self.add_inward('expected_output', 7.5)\n",
    "        self.add_unknown('p_in.x').add_equation('p_out.x == expected_output')\n",
    "\n",
    "        \n",
    "    def compute(self):\n",
    "        self.p_out.x = self.p_in.x * self.K1"
   ]
  },
  {
   "cell_type": "code",
   "execution_count": null,
   "metadata": {},
   "outputs": [],
   "source": [
    "from cosapp.drivers import NonLinearSolver\n",
    "\n",
    "m = MultiplyWithResidue('mult')\n",
    "solver = m.add_driver(NonLinearSolver('solver', max_iter=100, tol=1e-3, factor=0.1))\n",
    "m.run_drivers()\n",
    "\n",
    "print(\"m.drivers:\", m.drivers)\n",
    "print(m.drivers['solver'].children)\n",
    "print(\"\",\n",
    "    f\"K1 = {m.K1}\",\n",
    "    f\"p_in.x = {m.p_in.x}\",\n",
    "    f\"p_out.x = {m.p_out.x}\",\n",
    "    f\"m.expected_output = {m.expected_output}\",\n",
    "    f\"residues: {list(m.residues.values())}\",\n",
    "    sep=\"\\n\"\n",
    ")"
   ]
  },
  {
   "cell_type": "markdown",
   "metadata": {},
   "source": [
    "### RunSingleCase\n",
    "\n",
    "`NonLinearSolver` is primarily designed to solve [multi-point problems](./08-Multipoints-Design.ipynb), where several [RunSingleCase](#RunSingleCase) drivers are declared as direct sub-drivers of the solver.\n",
    "By default, a `NonLinearSolver` driver comes with one [RunSingleCase](#RunSingleCase) child, called *runner*. \n",
    "\n",
    "![scipysolver](images/drivers_nonlinear.svg)\n",
    "\n",
    "`RunSingleCase` executes all subsystem drivers by recursively calling the `compute()` method of the top system and each of its children.\n",
    "\n",
    "This `Driver` does not contain a solver per se, but is helpfull to set boundary conditions, initial values, and define additional unknowns and/or equations.\n",
    "It is primarily meant to be used as a child of a [NonLinearSolver](#NonLinearSolver) driver.\n",
    "\n",
    "To update its `System` owner, two possibilities are offered:\n",
    "\n",
    "- `set_values` will impose the value of prescribed input variables, as boundary conditions;\n",
    "- `set_init` will change the initial value of iteratives before resolving the case.\n",
    "\n",
    "Both methods take as argument a dictionary of the kind `{varname: value, ...}`, where `varname` is the name of the variable *in the context of the driver owner*.\n",
    "For example, if the driver is attached to a system `head` possessing a child named `sub` and an inward `x`, `{'sub.k': 0.0, 'x': 0.1}` will affect variables `head.sub.k` and `head.x`."
   ]
  },
  {
   "cell_type": "code",
   "execution_count": null,
   "metadata": {},
   "outputs": [],
   "source": [
    "from cosapp.drivers import RunSingleCase\n",
    "\n",
    "m = MultiplyWithResidue('mult')\n",
    "update = m.add_driver(RunSingleCase('update'))\n",
    "update.offdesign.add_unknown('p_in.x')\n",
    "\n",
    "update.set_values({'expected_output': 15, 'K1': 2})\n",
    "update.set_init({'p_in.x': 1.5})\n",
    "m.run_drivers()\n",
    "\n",
    "print(\"List of defined drivers:\", m.drivers, sep=\"\\n\")\n",
    "print(\"\",\n",
    "    f\"K1 = {m.K1}\",\n",
    "    f\"p_in.x = {m.p_in.x}\",\n",
    "    f\"p_out.x = {m.p_out.x}\",\n",
    "    f\"residues: {list(m.residues.values())}\",\n",
    "    sep=\"\\n\"\n",
    ")"
   ]
  },
  {
   "cell_type": "markdown",
   "metadata": {},
   "source": [
    "Another important ability of this driver is the addition of unknowns and equations to the mathematical system.\n",
    "There are two kinds of problems for a `System`:\n",
    "\n",
    "- *Design problems*: They are associated with a design variable that is frozen in the final product; e.g. the diameter of a pipe.\n",
    "This type of unknowns and equation can be added to attribute `design`.\n",
    "- *Off-design problems*: They correspond to constraints imposed regardless of design constraints (by physical laws, typically).\n",
    "This type of unknowns and equation can be added to attribute `offdesign`.\n",
    "\n",
    "The methods to call are identical:\n",
    "\n",
    "```python\n",
    "runcase.design \\\n",
    "       .add_unknown('pipe.diameter') \\  # Name of unknown variable\n",
    "       .add_equation('pipe.flow_in.W == 50')  # Constraint equation\n",
    "\n",
    "runcase.offdesign \\\n",
    "       .add_unknown('pedal.angle') \\  # Name of unknown variable\n",
    "       .add_equation('outlet.pressure == p_atm')  # Constraint equation\n",
    "```\n",
    "\n",
    "The good practice is to have by default the system operating in off-design condition, and introduce design methods to design it (see [tutorial on design methods](11-DesignMethods.ipynb)).\n",
    "\n",
    "It can happen that the system has some degrees of freedom freed without constraint equations\n",
    "defined. So it is up to the user to feed the mathematical system with the proper degree of freedom and constraints to close it.\n",
    "\n",
    "The solver will check if the mathematical system is closed before solving it."
   ]
  },
  {
   "cell_type": "code",
   "execution_count": null,
   "metadata": {},
   "outputs": [],
   "source": [
    "m.drivers.clear() # Remove all drivers on the system `m`\n",
    "solver = m.add_driver(NonLinearSolver('solver'))\n",
    "update = solver.add_child(RunSingleCase('update'))\n",
    "\n",
    "# Customization of the case\n",
    "update.set_values({'expected_output': 15.})\n",
    "\n",
    "# Execution\n",
    "m.run_drivers()\n",
    "\n",
    "print(\n",
    "    \"Off-design default\",\n",
    "    f\"K1 = {m.K1}\",\n",
    "    f\"p_in.x = {m.p_in.x}\",\n",
    "    f\"p_out.x = {m.p_out.x}\",\n",
    "    sep=\"\\n\"\n",
    ")"
   ]
  },
  {
   "cell_type": "markdown",
   "metadata": {},
   "source": [
    "Design methods could be defined at system level and be available for simulation."
   ]
  },
  {
   "cell_type": "code",
   "execution_count": null,
   "metadata": {},
   "outputs": [],
   "source": [
    "class MultiplyWithDesignMethod(System):\n",
    "\n",
    "    def setup(self):\n",
    "        self.add_input(XPort, 'p_in', {'x': 1.})\n",
    "        self.add_output(XPort, 'p_out', {'x': 1.})\n",
    "\n",
    "        self.add_inward('K1', 5.)\n",
    "        \n",
    "        # off design default\n",
    "        self.add_inward('expected_output', 7.5)\n",
    "        self.add_unknown('p_in.x').add_equation('p_out.x == expected_output')\n",
    "\n",
    "        # design methods\n",
    "        self.add_inward('dx_design', 1.0)        \n",
    "        self.add_design_method('dx').add_unknown('K1').add_equation('p_out.x - p_in.x == dx_design')\n",
    "\n",
    "    def compute(self):\n",
    "        self.p_out.x = self.p_in.x * self.K1\n",
    "\n",
    "\n",
    "from cosapp.recorders import DataFrameRecorder\n",
    "\n",
    "m = MultiplyWithDesignMethod('m')\n",
    "m.expected_output = 7.5\n",
    "\n",
    "solver = m.add_driver(NonLinearSolver('solver', tol=1e-12))\n",
    "solver.add_recorder(DataFrameRecorder(includes=['K1', 'p_*.x', 'expected*']))\n",
    "\n",
    "# Design\n",
    "design = solver.add_child(RunSingleCase('design'))\n",
    "design.set_values({\n",
    "    'expected_output': 7.5,\n",
    "    'dx_design': 5,\n",
    "})\n",
    "design.design.extend(m.design_methods['dx'])\n",
    "\n",
    "m.run_drivers()\n",
    "\n",
    "print(\n",
    "    \"Design:\",\n",
    "    f\"K1 = {m.K1}\",\n",
    "    f\"p_in.x = {m.p_in.x}\",\n",
    "    f\"p_out.x = {m.p_out.x}\",\n",
    "    sep=\"\\n\"\n",
    ")\n",
    "print(solver.problem)"
   ]
  },
  {
   "cell_type": "markdown",
   "metadata": {},
   "source": [
    "With driver RunSingleCase, it is possible to simulate a life cycle made of states. On next exemple, design is made than offdesign for several environement conditions. \n",
    "\n",
    "![metadriver](images/drivers_5.svg)"
   ]
  },
  {
   "cell_type": "code",
   "execution_count": null,
   "metadata": {},
   "outputs": [],
   "source": [
    "# Off-design 1\n",
    "offdesign1 = solver.add_child(RunSingleCase('offdesign1'))\n",
    "offdesign1.set_values({'expected_output': 15.})\n",
    "\n",
    "# Off-design 2\n",
    "offdesign2 = solver.add_child(RunSingleCase('offdesign2'))\n",
    "offdesign2.set_values({'expected_output': 24.})\n",
    "\n",
    "m.run_drivers()\n",
    "\n",
    "df = solver.recorder.export_data()  # export recorded data as a pandas DataFrame\n",
    "df"
   ]
  },
  {
   "cell_type": "markdown",
   "metadata": {},
   "source": [
    "For advanced design methods tutorial and strategy to create a \"design model\" from a \"simulation model\", we recommand to read [Design Methods](./11-DesignMethods.ipynb) tutorial, before \n",
    "creating your test case.\n",
    "\n",
    "**Congrats!** You are now ready to launch computation on your `System` with **CoSApp**!"
   ]
  }
 ],
 "metadata": {
  "kernelspec": {
   "display_name": "Python 3",
   "language": "python",
   "name": "python3"
  },
  "language_info": {
   "codemirror_mode": {
    "name": "ipython",
    "version": 3
   },
   "file_extension": ".py",
   "mimetype": "text/x-python",
   "name": "python",
   "nbconvert_exporter": "python",
   "pygments_lexer": "ipython3",
   "version": "3.7.9"
  }
 },
 "nbformat": 4,
 "nbformat_minor": 4
}
