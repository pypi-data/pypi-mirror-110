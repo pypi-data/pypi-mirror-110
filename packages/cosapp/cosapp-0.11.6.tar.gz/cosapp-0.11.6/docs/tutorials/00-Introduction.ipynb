{
 "cells": [
  {
   "cell_type": "markdown",
   "metadata": {},
   "source": [
    "![CoSAppLogo](images/cosapp.svg)\n",
    "\n",
    "Welcome to the <font color='orange'>**CoSApp**</font> tutorials in the Jupyter Notebook!"
   ]
  },
  {
   "cell_type": "markdown",
   "metadata": {},
   "source": [
    "# Quickstart"
   ]
  },
  {
   "cell_type": "markdown",
   "metadata": {},
   "source": [
    "Get started with a [5 Minutes to CoSApp](quickstart.ipynb)."
   ]
  },
  {
   "cell_type": "markdown",
   "metadata": {},
   "source": [
    "# Tutorials\n",
    "\n",
    "## Fundamental objects\n",
    "\n",
    "In order to use CoSApp, you need to understand the 3 fundamental elements defining a model:"
   ]
  },
  {
   "cell_type": "markdown",
   "metadata": {},
   "source": [
    "* [System](01-Systems.ipynb)\n",
    "* [Port](02-Ports.ipynb)\n",
    "* [Driver](03-Drivers.ipynb)"
   ]
  },
  {
   "cell_type": "markdown",
   "metadata": {},
   "source": [
    "We advice you to read our [good pratices](Guidelines.ipynb) to create your own models."
   ]
  },
  {
   "cell_type": "markdown",
   "metadata": {},
   "source": [
    "* [Good Pratices](Guidelines.ipynb)"
   ]
  },
  {
   "cell_type": "markdown",
   "metadata": {},
   "source": [
    "## Design and simulation features\n"
   ]
  },
  {
   "cell_type": "markdown",
   "metadata": {},
   "source": [
    "* [Design methods](11-DesignMethods.ipynb)\n",
    "* [Multi-point design](08-Multipoints-Design.ipynb)\n",
    "* [Time simulations](TimeDriver.ipynb)\n",
    "* [Monte Carlo](09-MonteCarlo.ipynb)\n",
    "* [Optimization](Optimization.ipynb)\n"
   ]
  },
  {
   "cell_type": "markdown",
   "metadata": {},
   "source": [
    "## Data - advanced attributes"
   ]
  },
  {
   "cell_type": "markdown",
   "metadata": {},
   "source": [
    "* [Validation](05-Validation.ipynb)\n",
    "* [Visibility](06-Visibility.ipynb)"
   ]
  },
  {
   "cell_type": "markdown",
   "metadata": {},
   "source": [
    "## Utilities\n",
    "\n",
    "CoSApp comes with a couple of utility tools. The following notebooks demonstrate their usage:"
   ]
  },
  {
   "cell_type": "markdown",
   "metadata": {},
   "source": [
    "* [Recording data](10-Recorders.ipynb)\n",
    "* [Simulation log](Logging.ipynb)\n",
    "* [System surrogates](SystemSurrogates.ipynb)\n",
    "* [Export to FMU](FMI.ipynb)\n",
    "* [File Event Triggers](04-Triggers.ipynb)"
   ]
  },
  {
   "cell_type": "markdown",
   "metadata": {},
   "source": [
    "## Other"
   ]
  },
  {
   "cell_type": "markdown",
   "metadata": {},
   "source": [
    "* [A simple circuit](aa-SimpleCircuit.ipynb)\n",
    "* [Time simulations (Advanced)](TimeDriverAdvanced.ipynb)\n",
    "* [System Surrogates (Advanced)](SystemSurrogatesAdvanced.ipynb)"
   ]
  },
  {
   "cell_type": "markdown",
   "metadata": {},
   "source": []
  }
 ],
 "metadata": {
  "kernelspec": {
   "display_name": "Python 3",
   "language": "python",
   "name": "python3"
  },
  "language_info": {
   "codemirror_mode": {
    "name": "ipython",
    "version": 3
   },
   "file_extension": ".py",
   "mimetype": "text/x-python",
   "name": "python",
   "nbconvert_exporter": "python",
   "pygments_lexer": "ipython3",
   "version": "3.7.9"
  }
 },
 "nbformat": 4,
 "nbformat_minor": 4
}
