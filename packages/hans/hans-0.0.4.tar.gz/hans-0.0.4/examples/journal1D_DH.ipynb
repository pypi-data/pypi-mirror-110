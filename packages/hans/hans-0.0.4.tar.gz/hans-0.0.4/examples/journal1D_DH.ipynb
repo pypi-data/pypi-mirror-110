{
 "cells": [
  {
   "cell_type": "code",
   "execution_count": null,
   "metadata": {},
   "outputs": [],
   "source": [
    "import matplotlib.pyplot as plt\n",
    "from hans.input import Input\n",
    "from hans.plottools import Plot"
   ]
  },
  {
   "cell_type": "code",
   "execution_count": null,
   "metadata": {},
   "outputs": [],
   "source": [
    "myProblem = Input(\"journal1D_DH.yaml\").getProblem()\n",
    "myProblem.run(out_dir=\"data\")"
   ]
  },
  {
   "cell_type": "code",
   "execution_count": null,
   "metadata": {},
   "outputs": [],
   "source": [
    "files = Plot(\"data\", mode=\"select\")"
   ]
  },
  {
   "cell_type": "code",
   "execution_count": null,
   "metadata": {},
   "outputs": [],
   "source": [
    "%matplotlib notebook\n",
    "\n",
    "gr = 1.618\n",
    "pt_per_inch = 72\n",
    "width_pt = 600\n",
    "size_x = width_pt / pt_per_inch\n",
    "size_y = size_x / gr\n",
    "\n",
    "fig1, ax1 = files.plot_cut(\"all\", figsize=(size_x, size_y), xscale=1e3)"
   ]
  },
  {
   "cell_type": "code",
   "execution_count": null,
   "metadata": {},
   "outputs": [],
   "source": [
    "%matplotlib notebook\n",
    "fig2, ax2 = files.plot_cut(\"p\", figsize=(size_x, size_y), xscale=1e3, yscale=1e-6)\n",
    "ax2.set_xlabel(r\"Distance $x\\,\\mathrm{(mm)}$\")\n",
    "ax2.set_ylabel(r\"Pressure $p\\,\\mathrm{(MPa)}$\");"
   ]
  }
 ],
 "metadata": {
  "kernelspec": {
   "display_name": "Python 3",
   "language": "python",
   "name": "python3"
  },
  "language_info": {
   "codemirror_mode": {
    "name": "ipython",
    "version": 3
   },
   "file_extension": ".py",
   "mimetype": "text/x-python",
   "name": "python",
   "nbconvert_exporter": "python",
   "pygments_lexer": "ipython3",
   "version": "3.6.9"
  }
 },
 "nbformat": 4,
 "nbformat_minor": 2
}
