{
 "cells": [
  {
   "cell_type": "code",
   "execution_count": 1,
   "metadata": {},
   "outputs": [],
   "source": [
    "from nufeb_tools import utils,plot\n",
    "from scipy.integrate import odeint\n",
    "import numpy as np\n",
    "import pandas as pd\n",
    "from itertools import combinations\n",
    "import seaborn as sns\n",
    "import matplotlib.pyplot as plt\n",
    "from scipy.signal import find_peaks\n",
    "from scipy.optimize import curve_fit"
   ]
  },
  {
   "cell_type": "code",
   "execution_count": 2,
   "metadata": {},
   "outputs": [],
   "source": [
    "x = utils.get_data(test=True)\n",
    "#x.single_cell_growth()\n"
   ]
  },
  {
   "cell_type": "code",
   "execution_count": 3,
   "metadata": {},
   "outputs": [
    {
     "data": {
      "text/html": [
       "<div>\n",
       "<style scoped>\n",
       "    .dataframe tbody tr th:only-of-type {\n",
       "        vertical-align: middle;\n",
       "    }\n",
       "\n",
       "    .dataframe tbody tr th {\n",
       "        vertical-align: top;\n",
       "    }\n",
       "\n",
       "    .dataframe thead th {\n",
       "        text-align: right;\n",
       "    }\n",
       "</style>\n",
       "<table border=\"1\" class=\"dataframe\">\n",
       "  <thead>\n",
       "    <tr style=\"text-align: right;\">\n",
       "      <th></th>\n",
       "      <th>ID</th>\n",
       "      <th>type</th>\n",
       "      <th>x</th>\n",
       "      <th>y</th>\n",
       "      <th>z</th>\n",
       "    </tr>\n",
       "  </thead>\n",
       "  <tbody>\n",
       "    <tr>\n",
       "      <th>0</th>\n",
       "      <td>95</td>\n",
       "      <td>2</td>\n",
       "      <td>0.000026</td>\n",
       "      <td>0.000020</td>\n",
       "      <td>0.000001</td>\n",
       "    </tr>\n",
       "    <tr>\n",
       "      <th>1</th>\n",
       "      <td>53</td>\n",
       "      <td>2</td>\n",
       "      <td>0.000024</td>\n",
       "      <td>0.000004</td>\n",
       "      <td>0.000003</td>\n",
       "    </tr>\n",
       "    <tr>\n",
       "      <th>2</th>\n",
       "      <td>62</td>\n",
       "      <td>2</td>\n",
       "      <td>0.000042</td>\n",
       "      <td>0.000006</td>\n",
       "      <td>0.000003</td>\n",
       "    </tr>\n",
       "    <tr>\n",
       "      <th>3</th>\n",
       "      <td>45</td>\n",
       "      <td>2</td>\n",
       "      <td>0.000027</td>\n",
       "      <td>0.000016</td>\n",
       "      <td>0.000003</td>\n",
       "    </tr>\n",
       "    <tr>\n",
       "      <th>4</th>\n",
       "      <td>26</td>\n",
       "      <td>1</td>\n",
       "      <td>0.000035</td>\n",
       "      <td>0.000003</td>\n",
       "      <td>0.000004</td>\n",
       "    </tr>\n",
       "    <tr>\n",
       "      <th>...</th>\n",
       "      <td>...</td>\n",
       "      <td>...</td>\n",
       "      <td>...</td>\n",
       "      <td>...</td>\n",
       "      <td>...</td>\n",
       "    </tr>\n",
       "    <tr>\n",
       "      <th>111</th>\n",
       "      <td>3</td>\n",
       "      <td>1</td>\n",
       "      <td>0.000096</td>\n",
       "      <td>0.000088</td>\n",
       "      <td>0.000006</td>\n",
       "    </tr>\n",
       "    <tr>\n",
       "      <th>112</th>\n",
       "      <td>110</td>\n",
       "      <td>2</td>\n",
       "      <td>0.000094</td>\n",
       "      <td>0.000093</td>\n",
       "      <td>0.000007</td>\n",
       "    </tr>\n",
       "    <tr>\n",
       "      <th>113</th>\n",
       "      <td>1</td>\n",
       "      <td>1</td>\n",
       "      <td>0.000053</td>\n",
       "      <td>0.000096</td>\n",
       "      <td>0.000008</td>\n",
       "    </tr>\n",
       "    <tr>\n",
       "      <th>114</th>\n",
       "      <td>89</td>\n",
       "      <td>2</td>\n",
       "      <td>0.000079</td>\n",
       "      <td>0.000090</td>\n",
       "      <td>0.000008</td>\n",
       "    </tr>\n",
       "    <tr>\n",
       "      <th>115</th>\n",
       "      <td>79</td>\n",
       "      <td>2</td>\n",
       "      <td>0.000086</td>\n",
       "      <td>0.000081</td>\n",
       "      <td>0.000009</td>\n",
       "    </tr>\n",
       "  </tbody>\n",
       "</table>\n",
       "<p>116 rows × 5 columns</p>\n",
       "</div>"
      ],
      "text/plain": [
       "      ID  type         x         y         z\n",
       "0     95     2  0.000026  0.000020  0.000001\n",
       "1     53     2  0.000024  0.000004  0.000003\n",
       "2     62     2  0.000042  0.000006  0.000003\n",
       "3     45     2  0.000027  0.000016  0.000003\n",
       "4     26     1  0.000035  0.000003  0.000004\n",
       "..   ...   ...       ...       ...       ...\n",
       "111    3     1  0.000096  0.000088  0.000006\n",
       "112  110     2  0.000094  0.000093  0.000007\n",
       "113    1     1  0.000053  0.000096  0.000008\n",
       "114   89     2  0.000079  0.000090  0.000008\n",
       "115   79     2  0.000086  0.000081  0.000009\n",
       "\n",
       "[116 rows x 5 columns]"
      ]
     },
     "execution_count": 3,
     "metadata": {},
     "output_type": "execute_result"
    }
   ],
   "source": [
    "df = x.get_positions()\n",
    "df"
   ]
  },
  {
   "cell_type": "code",
   "execution_count": 4,
   "metadata": {},
   "outputs": [
    {
     "data": {
      "text/plain": [
       "array([2, 2, 2, 2, 1, 2, 2, 2, 2, 2, 2, 1, 2, 2, 2, 2, 2, 1, 2, 2, 2, 1,\n",
       "       1, 2, 2, 1, 1, 2, 2, 2, 2, 2, 2, 1, 2, 2, 2, 2, 2, 1, 1, 1, 1, 2,\n",
       "       1, 2, 1, 2, 1, 2, 2, 2, 2, 1, 2, 2, 2, 2, 1, 2, 1, 1, 2, 2, 2, 2,\n",
       "       2, 2, 2, 2, 2, 2, 2, 1, 2, 2, 2, 2, 2, 2, 1, 2, 2, 2, 2, 2, 1, 2,\n",
       "       2, 2, 2, 2, 2, 2, 2, 2, 2, 2, 2, 2, 2, 1, 2, 2, 1, 2, 2, 2, 2, 2,\n",
       "       2, 1, 2, 1, 2, 2])"
      ]
     },
     "execution_count": 4,
     "metadata": {},
     "output_type": "execute_result"
    }
   ],
   "source": [
    "\n",
    "x.h5['type']['0'].__array__()"
   ]
  },
  {
   "cell_type": "code",
   "execution_count": 4,
   "metadata": {},
   "outputs": [
    {
     "data": {
      "text/html": [
       "<div>\n",
       "<style scoped>\n",
       "    .dataframe tbody tr th:only-of-type {\n",
       "        vertical-align: middle;\n",
       "    }\n",
       "\n",
       "    .dataframe tbody tr th {\n",
       "        vertical-align: top;\n",
       "    }\n",
       "\n",
       "    .dataframe thead th {\n",
       "        text-align: right;\n",
       "    }\n",
       "</style>\n",
       "<table border=\"1\" class=\"dataframe\">\n",
       "  <thead>\n",
       "    <tr style=\"text-align: right;\">\n",
       "      <th></th>\n",
       "      <th>ID</th>\n",
       "      <th>type</th>\n",
       "      <th>Distance</th>\n",
       "    </tr>\n",
       "  </thead>\n",
       "  <tbody>\n",
       "    <tr>\n",
       "      <th>0</th>\n",
       "      <td>211</td>\n",
       "      <td>2</td>\n",
       "      <td>0.000005</td>\n",
       "    </tr>\n",
       "    <tr>\n",
       "      <th>1</th>\n",
       "      <td>649</td>\n",
       "      <td>2</td>\n",
       "      <td>0.000005</td>\n",
       "    </tr>\n",
       "    <tr>\n",
       "      <th>2</th>\n",
       "      <td>388</td>\n",
       "      <td>2</td>\n",
       "      <td>0.000004</td>\n",
       "    </tr>\n",
       "    <tr>\n",
       "      <th>3</th>\n",
       "      <td>376</td>\n",
       "      <td>2</td>\n",
       "      <td>0.000005</td>\n",
       "    </tr>\n",
       "    <tr>\n",
       "      <th>4</th>\n",
       "      <td>650</td>\n",
       "      <td>2</td>\n",
       "      <td>0.000013</td>\n",
       "    </tr>\n",
       "    <tr>\n",
       "      <th>...</th>\n",
       "      <td>...</td>\n",
       "      <td>...</td>\n",
       "      <td>...</td>\n",
       "    </tr>\n",
       "    <tr>\n",
       "      <th>684</th>\n",
       "      <td>491</td>\n",
       "      <td>2</td>\n",
       "      <td>0.000090</td>\n",
       "    </tr>\n",
       "    <tr>\n",
       "      <th>685</th>\n",
       "      <td>590</td>\n",
       "      <td>2</td>\n",
       "      <td>0.000087</td>\n",
       "    </tr>\n",
       "    <tr>\n",
       "      <th>686</th>\n",
       "      <td>330</td>\n",
       "      <td>2</td>\n",
       "      <td>0.000087</td>\n",
       "    </tr>\n",
       "    <tr>\n",
       "      <th>687</th>\n",
       "      <td>532</td>\n",
       "      <td>2</td>\n",
       "      <td>0.000090</td>\n",
       "    </tr>\n",
       "    <tr>\n",
       "      <th>688</th>\n",
       "      <td>671</td>\n",
       "      <td>2</td>\n",
       "      <td>0.000088</td>\n",
       "    </tr>\n",
       "  </tbody>\n",
       "</table>\n",
       "<p>689 rows × 3 columns</p>\n",
       "</div>"
      ],
      "text/plain": [
       "      ID  type  Distance\n",
       "0    211     2  0.000005\n",
       "1    649     2  0.000005\n",
       "2    388     2  0.000004\n",
       "3    376     2  0.000005\n",
       "4    650     2  0.000013\n",
       "..   ...   ...       ...\n",
       "684  491     2  0.000090\n",
       "685  590     2  0.000087\n",
       "686  330     2  0.000087\n",
       "687  532     2  0.000090\n",
       "688  671     2  0.000088\n",
       "\n",
       "[689 rows x 3 columns]"
      ]
     },
     "execution_count": 4,
     "metadata": {},
     "output_type": "execute_result"
    }
   ],
   "source": [
    "\r\n",
    "neigh = x.get_neighbor_distance(45,10000)\r\n",
    "neigh"
   ]
  },
  {
   "cell_type": "code",
   "execution_count": 5,
   "metadata": {},
   "outputs": [
    {
     "data": {
      "text/plain": [
       "<AxesSubplot:xlabel='ID', ylabel='Distance'>"
      ]
     },
     "execution_count": 5,
     "metadata": {},
     "output_type": "execute_result"
    },
    {
     "data": {
      "image/png": "[encoded data removed]",
      "text/plain": [
       "<Figure size 432x288 with 1 Axes>"
      ]
     },
     "metadata": {
      "needs_background": "light"
     },
     "output_type": "display_data"
    }
   ],
   "source": [
    "sns.scatterplot(data=neigh,x='ID',y='Distance',hue='type')"
   ]
  },
  {
   "cell_type": "code",
   "execution_count": 7,
   "metadata": {},
   "outputs": [
    {
     "data": {
      "text/plain": [
       "\" light = 1.00e-01 #kg/m^3\\nco2 = 4e-1\\nmu_max = 0.047*24 #2.25e-05# 1/d\\nK_m_light = 3.5e-04\\nK_m_co2 = 5e-2\\ndef monod_func(y,t):\\n    return y*mu_max * (light/(K_m_light + light)) * (co2/( K_m_co2 + co2))\\nt = np.linspace(df.index[0], df.index[-1],1000)\\nsol = odeint(monod_func, y0, t)\\nf, ax = plt.subplots(figsize=(9,6))\\nax.plot(df.iloc[:,1],label=f'Data')\\nax.plot(t,sol,ls='--',label=f'fit') \""
      ]
     },
     "execution_count": 7,
     "metadata": {},
     "output_type": "execute_result"
    }
   ],
   "source": [
    "\"\"\" light = 1.00e-01 #kg/m^3\n",
    "co2 = 4e-1\n",
    "mu_max = 0.047*24 #2.25e-05# 1/d\n",
    "K_m_light = 3.5e-04\n",
    "K_m_co2 = 5e-2\n",
    "def monod_func(y,t):\n",
    "    return y*mu_max * (light/(K_m_light + light)) * (co2/( K_m_co2 + co2))\n",
    "t = np.linspace(df.index[0], df.index[-1],1000)\n",
    "sol = odeint(monod_func, y0, t)\n",
    "f, ax = plt.subplots(figsize=(9,6))\n",
    "ax.plot(df.iloc[:,1],label=f'Data')\n",
    "ax.plot(t,sol,ls='--',label=f'fit') \"\"\""
   ]
  },
  {
   "cell_type": "markdown",
   "metadata": {},
   "source": []
  },
  {
   "cell_type": "code",
   "execution_count": 7,
   "metadata": {},
   "outputs": [
    {
     "data": {
      "text/plain": [
       "3.42e-20"
      ]
     },
     "execution_count": 7,
     "metadata": {},
     "output_type": "execute_result"
    }
   ],
   "source": [
    "x.get_local_con('suc',0,1)"
   ]
  },
  {
   "cell_type": "code",
   "execution_count": 8,
   "metadata": {},
   "outputs": [
    {
     "name": "stdout",
     "output_type": "stream",
     "text": [
      "Help on method get_local_con in module nufeb_tools.utils:\n",
      "\n",
      "get_local_con(nutrient, timestep, cellID) method of nufeb_tools.utils.get_data instance\n",
      "    Get the local nutrient concentration of a cell\n",
      "    \n",
      "    Args:\n",
      "        nutrient (str):\n",
      "            The nutrient to check the concentration of\n",
      "        timestep (int):\n",
      "            The timestep at which to check the concentration\n",
      "        cellID (int):\n",
      "            The cell identification number\n",
      "    \n",
      "    Returns:\n",
      "        Nutrient Concentration (float):\n",
      "            The concentration of the specified nutrient within the cell's grid\n",
      "\n"
     ]
    }
   ],
   "source": [
    "help(x.get_local_con)"
   ]
  },
  {
   "cell_type": "code",
   "execution_count": 10,
   "metadata": {},
   "outputs": [
    {
     "ename": "NameError",
     "evalue": "name 'grid_loc' is not defined",
     "output_type": "error",
     "traceback": [
      "\u001b[1;31m---------------------------------------------------------------------------\u001b[0m",
      "\u001b[1;31mNameError\u001b[0m                                 Traceback (most recent call last)",
      "\u001b[1;32m<ipython-input-10-404243caa4d0>\u001b[0m in \u001b[0;36m<module>\u001b[1;34m\u001b[0m\n\u001b[1;32m----> 1\u001b[1;33m \u001b[0mutils\u001b[0m\u001b[1;33m.\u001b[0m\u001b[0mget_grid_idx\u001b[0m\u001b[1;33m(\u001b[0m\u001b[0mgrid_loc\u001b[0m\u001b[1;33m[\u001b[0m\u001b[1;36m1\u001b[0m\u001b[1;33m]\u001b[0m\u001b[1;33m,\u001b[0m\u001b[0mcl\u001b[0m\u001b[1;33m[\u001b[0m\u001b[1;36m1\u001b[0m\u001b[1;33m]\u001b[0m\u001b[1;33m)\u001b[0m\u001b[1;33m\u001b[0m\u001b[1;33m\u001b[0m\u001b[0m\n\u001b[0m",
      "\u001b[1;31mNameError\u001b[0m: name 'grid_loc' is not defined"
     ]
    }
   ],
   "source": [
    "utils.get_grid_idx(grid_loc[1],cl[1])"
   ]
  },
  {
   "cell_type": "code",
   "execution_count": 18,
   "metadata": {},
   "outputs": [
    {
     "data": {
      "text/plain": [
       "0.8104361259742746"
      ]
     },
     "execution_count": 18,
     "metadata": {},
     "output_type": "execute_result"
    }
   ],
   "source": [
    "x.get_local_con('suc',10000,1)"
   ]
  },
  {
   "cell_type": "code",
   "execution_count": 26,
   "metadata": {},
   "outputs": [
    {
     "name": "stdout",
     "output_type": "stream",
     "text": [
      "co2\n",
      "o2\n",
      "sub\n",
      "suc\n"
     ]
    }
   ],
   "source": [
    "for item in x.h5['concentration'].__iter__():\r\n",
    "    print(item)"
   ]
  },
  {
   "cell_type": "code",
   "execution_count": 28,
   "metadata": {},
   "outputs": [
    {
     "data": {
      "text/plain": [
       "False"
      ]
     },
     "execution_count": 28,
     "metadata": {},
     "output_type": "execute_result"
    }
   ],
   "source": [
    "x.h5['concentration'].__contains__('Sucrose')"
   ]
  },
  {
   "cell_type": "code",
   "execution_count": 34,
   "metadata": {},
   "outputs": [],
   "source": [
    "nutes = list(x.h5['concentration'].__iter__())"
   ]
  },
  {
   "cell_type": "code",
   "execution_count": 35,
   "metadata": {},
   "outputs": [
    {
     "data": {
      "text/plain": [
       "['co2', 'o2', 'sub', 'suc']"
      ]
     },
     "execution_count": 35,
     "metadata": {},
     "output_type": "execute_result"
    }
   ],
   "source": [
    "nutes"
   ]
  },
  {
   "cell_type": "code",
   "execution_count": 43,
   "metadata": {},
   "outputs": [
    {
     "name": "stdout",
     "output_type": "stream",
     "text": [
      "co2 o2 sub suc\n",
      "1\n"
     ]
    },
    {
     "data": {
      "text/plain": [
       "(None, None)"
      ]
     },
     "execution_count": 43,
     "metadata": {},
     "output_type": "execute_result"
    }
   ],
   "source": [
    "print(*nutes),print('1')"
   ]
  },
  {
   "cell_type": "code",
   "execution_count": null,
   "metadata": {},
   "outputs": [
    {
     "data": {
      "text/plain": [
       "[0.0001, 0.0001, 1e-05]"
      ]
     },
     "execution_count": 59,
     "metadata": {},
     "output_type": "execute_result"
    }
   ],
   "source": [
    "x.metadata['Dimensions']"
   ]
  },
  {
   "cell_type": "code",
   "execution_count": null,
   "metadata": {},
   "outputs": [],
   "source": [
    "l = list(x.dims)"
   ]
  },
  {
   "cell_type": "code",
   "execution_count": null,
   "metadata": {},
   "outputs": [],
   "source": []
  },
  {
   "cell_type": "code",
   "execution_count": null,
   "metadata": {},
   "outputs": [],
   "source": [
    "l += [l.pop(0)]"
   ]
  },
  {
   "cell_type": "code",
   "execution_count": null,
   "metadata": {},
   "outputs": [
    {
     "data": {
      "text/plain": [
       "[50, 5, 50]"
      ]
     },
     "execution_count": 55,
     "metadata": {},
     "output_type": "execute_result"
    }
   ],
   "source": [
    "l"
   ]
  },
  {
   "cell_type": "code",
   "execution_count": null,
   "metadata": {},
   "outputs": [],
   "source": [
    "grid = [np.linspace(0,x.metadata['Dimensions'][i],l[i]) for i in range(3)]"
   ]
  },
  {
   "cell_type": "code",
   "execution_count": null,
   "metadata": {},
   "outputs": [
    {
     "data": {
      "text/plain": [
       "[array([0.00000000e+00, 2.04081633e-06, 4.08163265e-06, 6.12244898e-06,\n",
       "        8.16326531e-06, 1.02040816e-05, 1.22448980e-05, 1.42857143e-05,\n",
       "        1.63265306e-05, 1.83673469e-05, 2.04081633e-05, 2.24489796e-05,\n",
       "        2.44897959e-05, 2.65306122e-05, 2.85714286e-05, 3.06122449e-05,\n",
       "        3.26530612e-05, 3.46938776e-05, 3.67346939e-05, 3.87755102e-05,\n",
       "        4.08163265e-05, 4.28571429e-05, 4.48979592e-05, 4.69387755e-05,\n",
       "        4.89795918e-05, 5.10204082e-05, 5.30612245e-05, 5.51020408e-05,\n",
       "        5.71428571e-05, 5.91836735e-05, 6.12244898e-05, 6.32653061e-05,\n",
       "        6.53061224e-05, 6.73469388e-05, 6.93877551e-05, 7.14285714e-05,\n",
       "        7.34693878e-05, 7.55102041e-05, 7.75510204e-05, 7.95918367e-05,\n",
       "        8.16326531e-05, 8.36734694e-05, 8.57142857e-05, 8.77551020e-05,\n",
       "        8.97959184e-05, 9.18367347e-05, 9.38775510e-05, 9.59183673e-05,\n",
       "        9.79591837e-05, 1.00000000e-04]),\n",
       " array([0.0e+00, 2.5e-05, 5.0e-05, 7.5e-05, 1.0e-04]),\n",
       " array([0.00000000e+00, 2.04081633e-07, 4.08163265e-07, 6.12244898e-07,\n",
       "        8.16326531e-07, 1.02040816e-06, 1.22448980e-06, 1.42857143e-06,\n",
       "        1.63265306e-06, 1.83673469e-06, 2.04081633e-06, 2.24489796e-06,\n",
       "        2.44897959e-06, 2.65306122e-06, 2.85714286e-06, 3.06122449e-06,\n",
       "        3.26530612e-06, 3.46938776e-06, 3.67346939e-06, 3.87755102e-06,\n",
       "        4.08163265e-06, 4.28571429e-06, 4.48979592e-06, 4.69387755e-06,\n",
       "        4.89795918e-06, 5.10204082e-06, 5.30612245e-06, 5.51020408e-06,\n",
       "        5.71428571e-06, 5.91836735e-06, 6.12244898e-06, 6.32653061e-06,\n",
       "        6.53061224e-06, 6.73469388e-06, 6.93877551e-06, 7.14285714e-06,\n",
       "        7.34693878e-06, 7.55102041e-06, 7.75510204e-06, 7.95918367e-06,\n",
       "        8.16326531e-06, 8.36734694e-06, 8.57142857e-06, 8.77551020e-06,\n",
       "        8.97959184e-06, 9.18367347e-06, 9.38775510e-06, 9.59183673e-06,\n",
       "        9.79591837e-06, 1.00000000e-05])]"
      ]
     },
     "execution_count": 61,
     "metadata": {},
     "output_type": "execute_result"
    }
   ],
   "source": [
    "grid"
   ]
  },
  {
   "cell_type": "code",
   "execution_count": null,
   "metadata": {},
   "outputs": [
    {
     "data": {
      "text/plain": [
       "2.59e-05"
      ]
     },
     "execution_count": 62,
     "metadata": {},
     "output_type": "execute_result"
    }
   ],
   "source": [
    "ret_array[ret_array.ID ==95]['x'].values[0]"
   ]
  },
  {
   "cell_type": "code",
   "execution_count": null,
   "metadata": {},
   "outputs": [
    {
     "data": {
      "text/plain": [
       "2.59e-05"
      ]
     },
     "execution_count": 63,
     "metadata": {},
     "output_type": "execute_result"
    }
   ],
   "source": [
    "ret_array.loc[0]['x']"
   ]
  },
  {
   "cell_type": "code",
   "execution_count": null,
   "metadata": {},
   "outputs": [],
   "source": [
    "def get_grid_idx(array,value):\n",
    "    \"\"\"\n",
    "    Find the nutrient grid index value. Taken from https://stackoverflow.com/questions/2566412/find-nearest-value-in-numpy-array.\n",
    "\n",
    "    Args:\n",
    "        array (numpy.array):\n",
    "            1D Array containing the grid positions\n",
    "        value (float):\n",
    "            Cell location to map to the grid\n",
    "    Returns:\n",
    "        index (int):\n",
    "            Grid index\n",
    "    \"\"\"\n",
    "    n = len(array)\n",
    "\n",
    "    jl = 0# Initialize lower\n",
    "    ju = n-1# and upper limits.\n",
    "    while (ju-jl > 1):# If we are not yet done,\n",
    "        jm=(ju+jl) >> 1# compute a midpoint with a bitshift\n",
    "        if (value >= array[jm]):\n",
    "            jl=jm# and replace either the lower limit\n",
    "        else:\n",
    "            ju=jm# or the upper limit, as appropriate.\n",
    "        # Repeat until the test condition is satisfied.\n",
    "    if (value == array[0]):# edge cases at bottom\n",
    "        return 0\n",
    "    elif (value == array[n-1]):# and top\n",
    "        return n-1\n",
    "    else:\n",
    "        return jl"
   ]
  },
  {
   "cell_type": "code",
   "execution_count": null,
   "metadata": {},
   "outputs": [
    {
     "data": {
      "text/plain": [
       "47"
      ]
     },
     "execution_count": 52,
     "metadata": {},
     "output_type": "execute_result"
    }
   ],
   "source": [
    "get_grid_idx(grid_loc[1],cl[1])"
   ]
  },
  {
   "cell_type": "code",
   "execution_count": null,
   "metadata": {},
   "outputs": [
    {
     "data": {
      "text/plain": [
       "2.448979591836735e-05"
      ]
     },
     "execution_count": 95,
     "metadata": {},
     "output_type": "execute_result"
    }
   ],
   "source": [
    "grid[0][12]"
   ]
  },
  {
   "cell_type": "code",
   "execution_count": null,
   "metadata": {},
   "outputs": [
    {
     "data": {
      "text/plain": [
       "0.12523104535199808"
      ]
     },
     "execution_count": 103,
     "metadata": {},
     "output_type": "execute_result"
    }
   ],
   "source": [
    "trajectory['concentration']['suc']['1000'][0,12,0]"
   ]
  },
  {
   "cell_type": "code",
   "execution_count": null,
   "metadata": {},
   "outputs": [],
   "source": [
    "grid = [np.linspace(0,metadata['Dimensions'][x],l[x]) for x in range(3)]\n",
    "grid_loc = [get_grid_idx(grid[i],ret_array[ret_array.ID ==95][d].values[0]) for i,d in enumerate(['x','y','z'])]"
   ]
  },
  {
   "cell_type": "code",
   "execution_count": null,
   "metadata": {},
   "outputs": [
    {
     "data": {
      "text/plain": [
       "[12, 9, 0]"
      ]
     },
     "execution_count": 170,
     "metadata": {},
     "output_type": "execute_result"
    }
   ],
   "source": [
    "grid_loc"
   ]
  },
  {
   "cell_type": "code",
   "execution_count": null,
   "metadata": {},
   "outputs": [
    {
     "data": {
      "text/plain": [
       "0.1326231307024827"
      ]
     },
     "execution_count": 146,
     "metadata": {},
     "output_type": "execute_result"
    }
   ],
   "source": [
    "trajectory['concentration']['suc']['1000'][grid_loc[2],grid_loc[0],grid_loc[1]]"
   ]
  },
  {
   "cell_type": "code",
   "execution_count": null,
   "metadata": {},
   "outputs": [],
   "source": [
    "def get_local_con(trajectory,nutrient,timestep,cellID):\n",
    "    grid = [np.linspace(0,metadata['Dimensions'][x],l[x]) for x in range(3)]\n",
    "    grid_loc = [get_grid_idx(grid[i],ret_array[ret_array.ID ==cellID][d].values[0]) for i,d in enumerate(['x','y','z'])]\n",
    "    return trajectory['concentration'][nutrient][str(timestep)][grid_loc[2],grid_loc[0],grid_loc[1]]"
   ]
  },
  {
   "cell_type": "code",
   "execution_count": null,
   "metadata": {},
   "outputs": [
    {
     "data": {
      "text/plain": [
       "3.42e-20"
      ]
     },
     "execution_count": 172,
     "metadata": {},
     "output_type": "execute_result"
    }
   ],
   "source": [
    "get_local_con(trajectory,'suc',0,1)"
   ]
  },
  {
   "cell_type": "code",
   "execution_count": null,
   "metadata": {},
   "outputs": [],
   "source": [
    "timepoints = [key for key in trajectory['concentration']['co2'].keys()]\n",
    "timepoints.sort(key=int)"
   ]
  },
  {
   "cell_type": "code",
   "execution_count": null,
   "metadata": {},
   "outputs": [
    {
     "data": {
      "text/html": [
       "<div>\n",
       "<style scoped>\n",
       "    .dataframe tbody tr th:only-of-type {\n",
       "        vertical-align: middle;\n",
       "    }\n",
       "\n",
       "    .dataframe tbody tr th {\n",
       "        vertical-align: top;\n",
       "    }\n",
       "\n",
       "    .dataframe thead th {\n",
       "        text-align: right;\n",
       "    }\n",
       "</style>\n",
       "<table border=\"1\" class=\"dataframe\">\n",
       "  <thead>\n",
       "    <tr style=\"text-align: right;\">\n",
       "      <th></th>\n",
       "      <th>id</th>\n",
       "      <th>type</th>\n",
       "      <th>time</th>\n",
       "      <th>biomass</th>\n",
       "    </tr>\n",
       "  </thead>\n",
       "  <tbody>\n",
       "    <tr>\n",
       "      <th>0</th>\n",
       "      <td>95</td>\n",
       "      <td>2</td>\n",
       "      <td>0.000000</td>\n",
       "      <td>92.505631</td>\n",
       "    </tr>\n",
       "    <tr>\n",
       "      <th>1</th>\n",
       "      <td>95</td>\n",
       "      <td>2</td>\n",
       "      <td>0.277778</td>\n",
       "      <td>90.662882</td>\n",
       "    </tr>\n",
       "    <tr>\n",
       "      <th>2</th>\n",
       "      <td>95</td>\n",
       "      <td>2</td>\n",
       "      <td>0.555556</td>\n",
       "      <td>88.941568</td>\n",
       "    </tr>\n",
       "    <tr>\n",
       "      <th>3</th>\n",
       "      <td>95</td>\n",
       "      <td>2</td>\n",
       "      <td>0.833333</td>\n",
       "      <td>87.342844</td>\n",
       "    </tr>\n",
       "    <tr>\n",
       "      <th>4</th>\n",
       "      <td>95</td>\n",
       "      <td>2</td>\n",
       "      <td>1.111111</td>\n",
       "      <td>85.860407</td>\n",
       "    </tr>\n",
       "    <tr>\n",
       "      <th>...</th>\n",
       "      <td>...</td>\n",
       "      <td>...</td>\n",
       "      <td>...</td>\n",
       "      <td>...</td>\n",
       "    </tr>\n",
       "    <tr>\n",
       "      <th>11711</th>\n",
       "      <td>79</td>\n",
       "      <td>2</td>\n",
       "      <td>26.666667</td>\n",
       "      <td>132.590902</td>\n",
       "    </tr>\n",
       "    <tr>\n",
       "      <th>11712</th>\n",
       "      <td>79</td>\n",
       "      <td>2</td>\n",
       "      <td>26.944444</td>\n",
       "      <td>136.687773</td>\n",
       "    </tr>\n",
       "    <tr>\n",
       "      <th>11713</th>\n",
       "      <td>79</td>\n",
       "      <td>2</td>\n",
       "      <td>27.222222</td>\n",
       "      <td>140.810091</td>\n",
       "    </tr>\n",
       "    <tr>\n",
       "      <th>11714</th>\n",
       "      <td>79</td>\n",
       "      <td>2</td>\n",
       "      <td>27.500000</td>\n",
       "      <td>67.292851</td>\n",
       "    </tr>\n",
       "    <tr>\n",
       "      <th>11715</th>\n",
       "      <td>79</td>\n",
       "      <td>2</td>\n",
       "      <td>27.777778</td>\n",
       "      <td>69.220306</td>\n",
       "    </tr>\n",
       "  </tbody>\n",
       "</table>\n",
       "<p>11716 rows × 4 columns</p>\n",
       "</div>"
      ],
      "text/plain": [
       "       id type       time     biomass\n",
       "0      95    2   0.000000   92.505631\n",
       "1      95    2   0.277778   90.662882\n",
       "2      95    2   0.555556   88.941568\n",
       "3      95    2   0.833333   87.342844\n",
       "4      95    2   1.111111   85.860407\n",
       "...    ..  ...        ...         ...\n",
       "11711  79    2  26.666667  132.590902\n",
       "11712  79    2  26.944444  136.687773\n",
       "11713  79    2  27.222222  140.810091\n",
       "11714  79    2  27.500000   67.292851\n",
       "11715  79    2  27.777778   69.220306\n",
       "\n",
       "[11716 rows x 4 columns]"
      ]
     },
     "execution_count": 321,
     "metadata": {},
     "output_type": "execute_result"
    }
   ],
   "source": [
    "df = x.single_cell_biomass\n",
    "#df = df[df.id == 95]\n",
    "df\n"
   ]
  },
  {
   "cell_type": "code",
   "execution_count": null,
   "metadata": {},
   "outputs": [],
   "source": []
  },
  {
   "cell_type": "code",
   "execution_count": null,
   "metadata": {},
   "outputs": [
    {
     "data": {
      "text/plain": [
       "1"
      ]
     },
     "execution_count": 291,
     "metadata": {},
     "output_type": "execute_result"
    }
   ],
   "source": [
    "light = 1.00e-01 #kg/m^3\n",
    "co2 = 4e-1\n",
    "mu_max_cy = 0.06\n",
    "K_m_light = 3.5e-04\n",
    "K_m_co2 = 5e-2\n",
    "K_m_suc = 3.6\n",
    "K_m_o2 = 0.001\n",
    "mu_max_ecw = 0.972\n",
    "o2 = 0.009\n",
    "suc = 0.1\n",
    "df.type.unique()[0]"
   ]
  },
  {
   "cell_type": "code",
   "execution_count": null,
   "metadata": {},
   "outputs": [],
   "source": [
    "#[get_local_con(trajectory,'suc',t,1) for t in timepoints]"
   ]
  },
  {
   "cell_type": "code",
   "execution_count": null,
   "metadata": {},
   "outputs": [],
   "source": [
    "x= utils.get_data(id='c/47146695')\n",
    "x.single_cell_growth()\n",
    "df = x.single_cell_biomass\n"
   ]
  },
  {
   "cell_type": "code",
   "execution_count": 12,
   "metadata": {},
   "outputs": [
    {
     "ename": "NameError",
     "evalue": "name 'x' is not defined",
     "output_type": "error",
     "traceback": [
      "\u001b[1;31m---------------------------------------------------------------------------\u001b[0m",
      "\u001b[1;31mNameError\u001b[0m                                 Traceback (most recent call last)",
      "\u001b[1;32m<ipython-input-12-b84229eeec0a>\u001b[0m in \u001b[0;36m<module>\u001b[1;34m\u001b[0m\n\u001b[1;32m----> 1\u001b[1;33m \u001b[0mx\u001b[0m\u001b[1;33m.\u001b[0m\u001b[0mget_local_con\u001b[0m\u001b[1;33m(\u001b[0m\u001b[1;34m'sucrose'\u001b[0m\u001b[1;33m,\u001b[0m\u001b[1;36m0\u001b[0m\u001b[1;33m,\u001b[0m\u001b[1;36m1\u001b[0m\u001b[1;33m)\u001b[0m\u001b[1;33m\u001b[0m\u001b[1;33m\u001b[0m\u001b[0m\n\u001b[0m",
      "\u001b[1;32md:\\nufeb_tools\\src\\nufeb_tools\\utils.py\u001b[0m in \u001b[0;36mget_local_con\u001b[1;34m(self, nutrient, timestep, cellID)\u001b[0m\n\u001b[0;32m    247\u001b[0m             \u001b[1;32mreturn\u001b[0m \u001b[0mself\u001b[0m\u001b[1;33m.\u001b[0m\u001b[0mh5\u001b[0m\u001b[1;33m[\u001b[0m\u001b[1;34m'concentration'\u001b[0m\u001b[1;33m]\u001b[0m\u001b[1;33m[\u001b[0m\u001b[0mnutrient\u001b[0m\u001b[1;33m]\u001b[0m\u001b[1;33m[\u001b[0m\u001b[0mstr\u001b[0m\u001b[1;33m(\u001b[0m\u001b[0mtimestep\u001b[0m\u001b[1;33m)\u001b[0m\u001b[1;33m]\u001b[0m\u001b[1;33m[\u001b[0m\u001b[0mgrid_loc\u001b[0m\u001b[1;33m[\u001b[0m\u001b[1;36m2\u001b[0m\u001b[1;33m]\u001b[0m\u001b[1;33m,\u001b[0m\u001b[0mgrid_loc\u001b[0m\u001b[1;33m[\u001b[0m\u001b[1;36m0\u001b[0m\u001b[1;33m]\u001b[0m\u001b[1;33m,\u001b[0m\u001b[0mgrid_loc\u001b[0m\u001b[1;33m[\u001b[0m\u001b[1;36m1\u001b[0m\u001b[1;33m]\u001b[0m\u001b[1;33m]\u001b[0m\u001b[1;33m\u001b[0m\u001b[1;33m\u001b[0m\u001b[0m\n\u001b[0;32m    248\u001b[0m         \u001b[1;32melse\u001b[0m\u001b[1;33m:\u001b[0m\u001b[1;33m\u001b[0m\u001b[1;33m\u001b[0m\u001b[0m\n\u001b[1;32m--> 249\u001b[1;33m             \u001b[0mnutes\u001b[0m \u001b[1;33m=\u001b[0m \u001b[0mlist\u001b[0m\u001b[1;33m(\u001b[0m\u001b[0mx\u001b[0m\u001b[1;33m.\u001b[0m\u001b[0mh5\u001b[0m\u001b[1;33m[\u001b[0m\u001b[1;34m'concentration'\u001b[0m\u001b[1;33m]\u001b[0m\u001b[1;33m.\u001b[0m\u001b[0m__iter__\u001b[0m\u001b[1;33m(\u001b[0m\u001b[1;33m)\u001b[0m\u001b[1;33m)\u001b[0m\u001b[1;33m\u001b[0m\u001b[1;33m\u001b[0m\u001b[0m\n\u001b[0m\u001b[0;32m    250\u001b[0m             \u001b[0mprint\u001b[0m\u001b[1;33m(\u001b[0m\u001b[0mnutrient\u001b[0m \u001b[1;33m+\u001b[0m \u001b[1;34m'not found. Try:'\u001b[0m\u001b[1;33m)\u001b[0m\u001b[1;33m\u001b[0m\u001b[1;33m\u001b[0m\u001b[0m\n\u001b[0;32m    251\u001b[0m             \u001b[0mprint\u001b[0m\u001b[1;33m(\u001b[0m\u001b[1;33m*\u001b[0m\u001b[0mnutes\u001b[0m\u001b[1;33m)\u001b[0m\u001b[1;33m\u001b[0m\u001b[1;33m\u001b[0m\u001b[0m\n",
      "\u001b[1;31mNameError\u001b[0m: name 'x' is not defined"
     ]
    }
   ],
   "source": []
  }
 ],
 "metadata": {
  "interpreter": {
   "hash": "fed87d2da7933e83b39f819818d729ac6c478e1b3a55093fdc01ca05a4826a67"
  },
  "kernelspec": {
   "display_name": "Python 2.7.18 64-bit ('pyscaf': conda)",
   "name": "python3"
  },
  "language_info": {
   "name": "python",
   "version": ""
  },
  "orig_nbformat": 4
 },
 "nbformat": 4,
 "nbformat_minor": 2
}