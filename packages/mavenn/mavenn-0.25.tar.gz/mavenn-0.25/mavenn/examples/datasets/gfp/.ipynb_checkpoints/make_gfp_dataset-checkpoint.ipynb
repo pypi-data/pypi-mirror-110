{
 "cells": [
  {
   "cell_type": "code",
   "execution_count": 1,
   "metadata": {
    "ExecuteTime": {
     "end_time": "2020-11-13T17:18:53.593737Z",
     "start_time": "2020-11-13T17:18:48.009833Z"
    }
   },
   "outputs": [
    {
     "name": "stdout",
     "output_type": "stream",
     "text": [
      "['/Users/tareen/Desktop/Research_Projects/2020_mavenn_github/mavenn_local/mavenn']\n"
     ]
    }
   ],
   "source": [
    "# Standard imports\n",
    "import pandas as pd\n",
    "import matplotlib.pyplot as plt\n",
    "import numpy as np\n",
    "\n",
    "# Insert local path to MAVE-NN at beginning of Python's path\n",
    "import sys\n",
    "sys.path.insert(0, '/Users/tareen/Desktop/Research_Projects/2020_mavenn_github/mavenn')\n",
    "\n",
    "# Load mavenn\n",
    "import mavenn\n",
    "print(mavenn.__path__)"
   ]
  },
  {
   "cell_type": "code",
   "execution_count": 2,
   "metadata": {
    "ExecuteTime": {
     "end_time": "2020-11-13T17:18:55.241596Z",
     "start_time": "2020-11-13T17:18:53.609787Z"
    },
    "collapsed": true
   },
   "outputs": [],
   "source": [
    "# Load GFP data\n",
    "data_df = pd.read_csv('GFPdata_2019_11_04.tsv', delim_whitespace=True)\n",
    "\n",
    "# get sequences and their measurements\n",
    "\n",
    "X = data_df['AAsequence'].values\n",
    "y = data_df['medianBrightness'].values\n",
    "\n",
    "# split data into training and test sets. \n",
    "from sklearn.model_selection import train_test_split\n",
    "x_train, x_test, y_train, y_test = train_test_split(X, y, test_size=0.2, random_state=0)"
   ]
  },
  {
   "cell_type": "code",
   "execution_count": 3,
   "metadata": {},
   "outputs": [
    {
     "data": {
      "text/html": [
       "<div>\n",
       "<style scoped>\n",
       "    .dataframe tbody tr th:only-of-type {\n",
       "        vertical-align: middle;\n",
       "    }\n",
       "\n",
       "    .dataframe tbody tr th {\n",
       "        vertical-align: top;\n",
       "    }\n",
       "\n",
       "    .dataframe thead th {\n",
       "        text-align: right;\n",
       "    }\n",
       "</style>\n",
       "<table border=\"1\" class=\"dataframe\">\n",
       "  <thead>\n",
       "    <tr style=\"text-align: right;\">\n",
       "      <th></th>\n",
       "      <th>AAsequence</th>\n",
       "      <th>HammingDistance</th>\n",
       "      <th>aaMutations</th>\n",
       "      <th>medianBrightness</th>\n",
       "      <th>std</th>\n",
       "    </tr>\n",
       "  </thead>\n",
       "  <tbody>\n",
       "    <tr>\n",
       "      <th>0</th>\n",
       "      <td>KGEELFTGVVPILVELDGDVNGHKFSVSGEGEGDATYGKLTLKFIC...</td>\n",
       "      <td>0</td>\n",
       "      <td>3.7192121319</td>\n",
       "      <td>0.106992</td>\n",
       "      <td>NaN</td>\n",
       "    </tr>\n",
       "    <tr>\n",
       "      <th>1</th>\n",
       "      <td>KGEELFTGVVPILVELDGDVNGHKFSVSGEGEGDATYGKLTLKFIC...</td>\n",
       "      <td>1</td>\n",
       "      <td>SA108D</td>\n",
       "      <td>1.301030</td>\n",
       "      <td>NaN</td>\n",
       "    </tr>\n",
       "    <tr>\n",
       "      <th>2</th>\n",
       "      <td>KGEELFTGVVPILVELDGDVNGHKFSVSGEGEGDATYGKLTLKFIC...</td>\n",
       "      <td>5</td>\n",
       "      <td>SA108D:SN144D:SI186V:SM231T:SL234P</td>\n",
       "      <td>1.301031</td>\n",
       "      <td>NaN</td>\n",
       "    </tr>\n",
       "    <tr>\n",
       "      <th>3</th>\n",
       "      <td>KGEELFTGVVPILVELDGDVNGHKFSVSGEGEGDATYGKLTLKFIC...</td>\n",
       "      <td>4</td>\n",
       "      <td>SA108D:SY141N:SH146L:SE220G</td>\n",
       "      <td>1.301189</td>\n",
       "      <td>NaN</td>\n",
       "    </tr>\n",
       "    <tr>\n",
       "      <th>4</th>\n",
       "      <td>KGEELFTGVVPILVELDGDVNGHKFSVSGEGEGDATYGKLTLKFIC...</td>\n",
       "      <td>1</td>\n",
       "      <td>SA108G</td>\n",
       "      <td>3.708478</td>\n",
       "      <td>0.020613</td>\n",
       "    </tr>\n",
       "  </tbody>\n",
       "</table>\n",
       "</div>"
      ],
      "text/plain": [
       "                                          AAsequence  HammingDistance  \\\n",
       "0  KGEELFTGVVPILVELDGDVNGHKFSVSGEGEGDATYGKLTLKFIC...                0   \n",
       "1  KGEELFTGVVPILVELDGDVNGHKFSVSGEGEGDATYGKLTLKFIC...                1   \n",
       "2  KGEELFTGVVPILVELDGDVNGHKFSVSGEGEGDATYGKLTLKFIC...                5   \n",
       "3  KGEELFTGVVPILVELDGDVNGHKFSVSGEGEGDATYGKLTLKFIC...                4   \n",
       "4  KGEELFTGVVPILVELDGDVNGHKFSVSGEGEGDATYGKLTLKFIC...                1   \n",
       "\n",
       "                          aaMutations  medianBrightness       std  \n",
       "0                        3.7192121319          0.106992       NaN  \n",
       "1                              SA108D          1.301030       NaN  \n",
       "2  SA108D:SN144D:SI186V:SM231T:SL234P          1.301031       NaN  \n",
       "3         SA108D:SY141N:SH146L:SE220G          1.301189       NaN  \n",
       "4                              SA108G          3.708478  0.020613  "
      ]
     },
     "execution_count": 3,
     "metadata": {},
     "output_type": "execute_result"
    }
   ],
   "source": [
    "data_df.head()"
   ]
  },
  {
   "cell_type": "code",
   "execution_count": 4,
   "metadata": {
    "collapsed": true
   },
   "outputs": [],
   "source": [
    "# split data into training/validation/test sets. ghh\n",
    "N = len(data_df)\n",
    "training_frac=.8\n",
    "np.random.seed(0)\n",
    "r = np.random.rand(N)\n",
    "test_frac = .2\n",
    "val_frac = .2\n",
    "ix_train = (test_frac + val_frac <= r)\n",
    "ix_val = (test_frac <= r) & (r < test_frac + val_frac)\n",
    "ix_test = (r < test_frac)\n",
    "\n",
    "data_df['set'] = ''\n",
    "data_df.loc[ix_train, 'set'] = 'training'\n",
    "data_df.loc[ix_val, 'set'] = 'validation'\n",
    "data_df.loc[ix_test, 'set'] = 'test'\n",
    "assert all([len(x)>0 for x in data_df['set']])"
   ]
  },
  {
   "cell_type": "code",
   "execution_count": 5,
   "metadata": {},
   "outputs": [
    {
     "data": {
      "text/html": [
       "<div>\n",
       "<style scoped>\n",
       "    .dataframe tbody tr th:only-of-type {\n",
       "        vertical-align: middle;\n",
       "    }\n",
       "\n",
       "    .dataframe tbody tr th {\n",
       "        vertical-align: top;\n",
       "    }\n",
       "\n",
       "    .dataframe thead th {\n",
       "        text-align: right;\n",
       "    }\n",
       "</style>\n",
       "<table border=\"1\" class=\"dataframe\">\n",
       "  <thead>\n",
       "    <tr style=\"text-align: right;\">\n",
       "      <th></th>\n",
       "      <th>set</th>\n",
       "      <th>HammingDistance</th>\n",
       "      <th>aaMutations</th>\n",
       "      <th>y</th>\n",
       "      <th>std</th>\n",
       "      <th>x</th>\n",
       "    </tr>\n",
       "  </thead>\n",
       "  <tbody>\n",
       "    <tr>\n",
       "      <th>0</th>\n",
       "      <td>training</td>\n",
       "      <td>0</td>\n",
       "      <td>3.7192121319</td>\n",
       "      <td>0.106992</td>\n",
       "      <td>NaN</td>\n",
       "      <td>KGEELFTGVVPILVELDGDVNGHKFSVSGEGEGDATYGKLTLKFIC...</td>\n",
       "    </tr>\n",
       "    <tr>\n",
       "      <th>1</th>\n",
       "      <td>training</td>\n",
       "      <td>1</td>\n",
       "      <td>SA108D</td>\n",
       "      <td>1.301030</td>\n",
       "      <td>NaN</td>\n",
       "      <td>KGEELFTGVVPILVELDGDVNGHKFSVSGEGEGDATYGKLTLKFIC...</td>\n",
       "    </tr>\n",
       "    <tr>\n",
       "      <th>2</th>\n",
       "      <td>training</td>\n",
       "      <td>5</td>\n",
       "      <td>SA108D:SN144D:SI186V:SM231T:SL234P</td>\n",
       "      <td>1.301031</td>\n",
       "      <td>NaN</td>\n",
       "      <td>KGEELFTGVVPILVELDGDVNGHKFSVSGEGEGDATYGKLTLKFIC...</td>\n",
       "    </tr>\n",
       "    <tr>\n",
       "      <th>3</th>\n",
       "      <td>training</td>\n",
       "      <td>4</td>\n",
       "      <td>SA108D:SY141N:SH146L:SE220G</td>\n",
       "      <td>1.301189</td>\n",
       "      <td>NaN</td>\n",
       "      <td>KGEELFTGVVPILVELDGDVNGHKFSVSGEGEGDATYGKLTLKFIC...</td>\n",
       "    </tr>\n",
       "    <tr>\n",
       "      <th>4</th>\n",
       "      <td>training</td>\n",
       "      <td>1</td>\n",
       "      <td>SA108G</td>\n",
       "      <td>3.708478</td>\n",
       "      <td>0.020613</td>\n",
       "      <td>KGEELFTGVVPILVELDGDVNGHKFSVSGEGEGDATYGKLTLKFIC...</td>\n",
       "    </tr>\n",
       "  </tbody>\n",
       "</table>\n",
       "</div>"
      ],
      "text/plain": [
       "        set  HammingDistance                         aaMutations         y  \\\n",
       "0  training                0                        3.7192121319  0.106992   \n",
       "1  training                1                              SA108D  1.301030   \n",
       "2  training                5  SA108D:SN144D:SI186V:SM231T:SL234P  1.301031   \n",
       "3  training                4         SA108D:SY141N:SH146L:SE220G  1.301189   \n",
       "4  training                1                              SA108G  3.708478   \n",
       "\n",
       "        std                                                  x  \n",
       "0       NaN  KGEELFTGVVPILVELDGDVNGHKFSVSGEGEGDATYGKLTLKFIC...  \n",
       "1       NaN  KGEELFTGVVPILVELDGDVNGHKFSVSGEGEGDATYGKLTLKFIC...  \n",
       "2       NaN  KGEELFTGVVPILVELDGDVNGHKFSVSGEGEGDATYGKLTLKFIC...  \n",
       "3       NaN  KGEELFTGVVPILVELDGDVNGHKFSVSGEGEGDATYGKLTLKFIC...  \n",
       "4  0.020613  KGEELFTGVVPILVELDGDVNGHKFSVSGEGEGDATYGKLTLKFIC...  "
      ]
     },
     "execution_count": 5,
     "metadata": {},
     "output_type": "execute_result"
    }
   ],
   "source": [
    "# rename columns\n",
    "data_df=data_df.rename(columns = {'AAsequence':'x','medianBrightness':'y'})\n",
    "# Order columns\n",
    "data_df = data_df[['set', 'HammingDistance', 'aaMutations', 'y', 'std','x']]\n",
    "# preview dataset\n",
    "data_df.head()"
   ]
  },
  {
   "cell_type": "code",
   "execution_count": 10,
   "metadata": {},
   "outputs": [
    {
     "data": {
      "image/png": "[encoded data removed]",
      "text/plain": [
       "<Figure size 432x288 with 1 Axes>"
      ]
     },
     "metadata": {
      "needs_background": "light"
     },
     "output_type": "display_data"
    }
   ],
   "source": [
    "plt.hist(data_df['y'],bins=20,density=True)\n",
    "plt.title('Histogram of measurements')\n",
    "plt.xlabel('Median Brightness')\n",
    "plt.show()"
   ]
  },
  {
   "cell_type": "code",
   "execution_count": 6,
   "metadata": {},
   "outputs": [
    {
     "name": "stdout",
     "output_type": "stream",
     "text": [
      "data_df (zipped):\n",
      "1.5M\tgfp_data.csv.gz\r\n"
     ]
    }
   ],
   "source": [
    "# Save data as gzip and show size of compressed dataset file\n",
    "file_name = 'gfp_data.csv.gz'\n",
    "data_df.to_csv(file_name, compression='gzip', index=False)\n",
    "print('data_df (zipped):')\n",
    "!du -mh $file_name\n",
    "!mv $file_name ../."
   ]
  }
 ],
 "metadata": {
  "kernelspec": {
   "display_name": "Python 3",
   "language": "python",
   "name": "python3"
  },
  "language_info": {
   "codemirror_mode": {
    "name": "ipython",
    "version": 3
   },
   "file_extension": ".py",
   "mimetype": "text/x-python",
   "name": "python",
   "nbconvert_exporter": "python",
   "pygments_lexer": "ipython3",
   "version": "3.6.7"
  },
  "toc": {
   "base_numbering": 1,
   "nav_menu": {},
   "number_sections": true,
   "sideBar": true,
   "skip_h1_title": false,
   "title_cell": "Table of Contents",
   "title_sidebar": "Contents",
   "toc_cell": false,
   "toc_position": {},
   "toc_section_display": true,
   "toc_window_display": false
  },
  "varInspector": {
   "cols": {
    "lenName": 16,
    "lenType": 16,
    "lenVar": 40
   },
   "kernels_config": {
    "python": {
     "delete_cmd_postfix": "",
     "delete_cmd_prefix": "del ",
     "library": "var_list.py",
     "varRefreshCmd": "print(var_dic_list())"
    },
    "r": {
     "delete_cmd_postfix": ") ",
     "delete_cmd_prefix": "rm(",
     "library": "var_list.r",
     "varRefreshCmd": "cat(var_dic_list()) "
    }
   },
   "types_to_exclude": [
    "module",
    "function",
    "builtin_function_or_method",
    "instance",
    "_Feature"
   ],
   "window_display": false
  }
 },
 "nbformat": 4,
 "nbformat_minor": 2
}
