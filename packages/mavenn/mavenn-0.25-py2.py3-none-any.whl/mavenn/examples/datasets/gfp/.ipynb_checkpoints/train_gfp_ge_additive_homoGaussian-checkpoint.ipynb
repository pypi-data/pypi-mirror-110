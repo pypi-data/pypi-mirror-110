{
 "cells": [
  {
   "cell_type": "code",
   "execution_count": 1,
   "metadata": {
    "ExecuteTime": {
     "end_time": "2020-11-13T17:18:53.593737Z",
     "start_time": "2020-11-13T17:18:48.009833Z"
    }
   },
   "outputs": [
    {
     "name": "stdout",
     "output_type": "stream",
     "text": [
      "['/Users/tareen/Desktop/Research_Projects/2020_mavenn_github/mavenn_local/mavenn']\n"
     ]
    }
   ],
   "source": [
    "# Standard imports\n",
    "import pandas as pd\n",
    "import matplotlib.pyplot as plt\n",
    "import numpy as np\n",
    "\n",
    "# Insert local path to MAVE-NN at beginning of Python's path\n",
    "import sys\n",
    "sys.path.insert(0, '/Users/tareen/Desktop/Research_Projects/2020_mavenn_github/mavenn_local')\n",
    "\n",
    "# Load mavenn\n",
    "import mavenn\n",
    "print(mavenn.__path__)"
   ]
  },
  {
   "cell_type": "code",
   "execution_count": 10,
   "metadata": {
    "ExecuteTime": {
     "end_time": "2020-11-13T17:18:55.241596Z",
     "start_time": "2020-11-13T17:18:53.609787Z"
    }
   },
   "outputs": [
    {
     "data": {
      "text/html": [
       "<div>\n",
       "<style scoped>\n",
       "    .dataframe tbody tr th:only-of-type {\n",
       "        vertical-align: middle;\n",
       "    }\n",
       "\n",
       "    .dataframe tbody tr th {\n",
       "        vertical-align: top;\n",
       "    }\n",
       "\n",
       "    .dataframe thead th {\n",
       "        text-align: right;\n",
       "    }\n",
       "</style>\n",
       "<table border=\"1\" class=\"dataframe\">\n",
       "  <thead>\n",
       "    <tr style=\"text-align: right;\">\n",
       "      <th></th>\n",
       "      <th>set</th>\n",
       "      <th>HammingDistance</th>\n",
       "      <th>aaMutations</th>\n",
       "      <th>y</th>\n",
       "      <th>std</th>\n",
       "      <th>x</th>\n",
       "    </tr>\n",
       "  </thead>\n",
       "  <tbody>\n",
       "    <tr>\n",
       "      <th>0</th>\n",
       "      <td>training</td>\n",
       "      <td>0</td>\n",
       "      <td>3.7192121319</td>\n",
       "      <td>0.106992</td>\n",
       "      <td>NaN</td>\n",
       "      <td>KGEELFTGVVPILVELDGDVNGHKFSVSGEGEGDATYGKLTLKFIC...</td>\n",
       "    </tr>\n",
       "    <tr>\n",
       "      <th>1</th>\n",
       "      <td>training</td>\n",
       "      <td>1</td>\n",
       "      <td>SA108D</td>\n",
       "      <td>1.301030</td>\n",
       "      <td>NaN</td>\n",
       "      <td>KGEELFTGVVPILVELDGDVNGHKFSVSGEGEGDATYGKLTLKFIC...</td>\n",
       "    </tr>\n",
       "    <tr>\n",
       "      <th>2</th>\n",
       "      <td>training</td>\n",
       "      <td>5</td>\n",
       "      <td>SA108D:SN144D:SI186V:SM231T:SL234P</td>\n",
       "      <td>1.301031</td>\n",
       "      <td>NaN</td>\n",
       "      <td>KGEELFTGVVPILVELDGDVNGHKFSVSGEGEGDATYGKLTLKFIC...</td>\n",
       "    </tr>\n",
       "    <tr>\n",
       "      <th>3</th>\n",
       "      <td>training</td>\n",
       "      <td>4</td>\n",
       "      <td>SA108D:SY141N:SH146L:SE220G</td>\n",
       "      <td>1.301189</td>\n",
       "      <td>NaN</td>\n",
       "      <td>KGEELFTGVVPILVELDGDVNGHKFSVSGEGEGDATYGKLTLKFIC...</td>\n",
       "    </tr>\n",
       "    <tr>\n",
       "      <th>4</th>\n",
       "      <td>training</td>\n",
       "      <td>1</td>\n",
       "      <td>SA108G</td>\n",
       "      <td>3.708478</td>\n",
       "      <td>0.020613</td>\n",
       "      <td>KGEELFTGVVPILVELDGDVNGHKFSVSGEGEGDATYGKLTLKFIC...</td>\n",
       "    </tr>\n",
       "  </tbody>\n",
       "</table>\n",
       "</div>"
      ],
      "text/plain": [
       "        set  HammingDistance                         aaMutations         y  \\\n",
       "0  training                0                        3.7192121319  0.106992   \n",
       "1  training                1                              SA108D  1.301030   \n",
       "2  training                5  SA108D:SN144D:SI186V:SM231T:SL234P  1.301031   \n",
       "3  training                4         SA108D:SY141N:SH146L:SE220G  1.301189   \n",
       "4  training                1                              SA108G  3.708478   \n",
       "\n",
       "        std                                                  x  \n",
       "0       NaN  KGEELFTGVVPILVELDGDVNGHKFSVSGEGEGDATYGKLTLKFIC...  \n",
       "1       NaN  KGEELFTGVVPILVELDGDVNGHKFSVSGEGEGDATYGKLTLKFIC...  \n",
       "2       NaN  KGEELFTGVVPILVELDGDVNGHKFSVSGEGEGDATYGKLTLKFIC...  \n",
       "3       NaN  KGEELFTGVVPILVELDGDVNGHKFSVSGEGEGDATYGKLTLKFIC...  \n",
       "4  0.020613  KGEELFTGVVPILVELDGDVNGHKFSVSGEGEGDATYGKLTLKFIC...  "
      ]
     },
     "execution_count": 10,
     "metadata": {},
     "output_type": "execute_result"
    }
   ],
   "source": [
    "# Load gfp dataset from mavenn\n",
    "data_df = mavenn.load_example_dataset(name='gfp')\n",
    "\n",
    "# Separate test from data_df\n",
    "ix_test = data_df['set']=='test'\n",
    "test_df = data_df[ix_test].reset_index(drop=True)\n",
    "print(f'test N: {len(test_df):,}')\n",
    "\n",
    "# Remove test data from data_df\n",
    "data_df = data_df[~ix_test].reset_index(drop=True)\n",
    "print(f'training + validation N: {len(data_df):,}')\n",
    "data_df.head(10)"
   ]
  },
  {
   "cell_type": "code",
   "execution_count": 3,
   "metadata": {
    "ExecuteTime": {
     "end_time": "2020-11-13T17:18:56.769693Z",
     "start_time": "2020-11-13T17:18:55.248052Z"
    },
    "collapsed": true
   },
   "outputs": [],
   "source": [
    "# Get sequence length\n",
    "L = len(data_df['x'][0])\n",
    "\n",
    "# Define model\n",
    "model = mavenn.Model(regression_type='GE',\n",
    "                     L=L,\n",
    "                     alphabet='protein*',\n",
    "                     gpmap_type='additive',                     \n",
    "                     ge_noise_model_type='Gaussian',\n",
    "                     ge_heteroskedasticity_order=0)"
   ]
  },
  {
   "cell_type": "code",
   "execution_count": 4,
   "metadata": {
    "ExecuteTime": {
     "end_time": "2020-11-13T17:19:10.236222Z",
     "start_time": "2020-11-13T17:18:56.800857Z"
    }
   },
   "outputs": [
    {
     "name": "stdout",
     "output_type": "stream",
     "text": [
      "N = 54,025 observations set as training data.\n",
      "Using 20.2% for validation.\n",
      "Data shuffled.\n",
      "Time to set data: 5.75 sec.\n"
     ]
    }
   ],
   "source": [
    "# Set training data\n",
    "model.set_data(x=data_df['x'],\n",
    "               y=data_df['y'],\n",
    "               validation_flags=(data_df['set']=='validation'),\n",
    "               shuffle=True)"
   ]
  },
  {
   "cell_type": "code",
   "execution_count": 5,
   "metadata": {
    "ExecuteTime": {
     "end_time": "2020-11-13T17:24:29.660897Z",
     "start_time": "2020-11-13T17:19:10.244039Z"
    }
   },
   "outputs": [
    {
     "name": "stdout",
     "output_type": "stream",
     "text": [
      "Epoch 1/1000\n",
      "87/87 [==============================] - 1s 17ms/step - loss: 726.5077 - I_var: -2.1375 - val_loss: 714.1534 - val_I_var: -2.1135\n",
      "Epoch 2/1000\n",
      "87/87 [==============================] - 2s 19ms/step - loss: 714.1794 - I_var: -2.1033 - val_loss: 708.5948 - val_I_var: -2.0985\n",
      "Epoch 3/1000\n",
      "87/87 [==============================] - 2s 20ms/step - loss: 708.7189 - I_var: -2.0889 - val_loss: 702.5306 - val_I_var: -2.0818\n",
      "Epoch 4/1000\n",
      "87/87 [==============================] - 2s 19ms/step - loss: 698.6130 - I_var: -2.0597 - val_loss: 686.5289 - val_I_var: -2.0357\n",
      "Epoch 5/1000\n",
      "87/87 [==============================] - 2s 18ms/step - loss: 672.8360 - I_var: -1.9852 - val_loss: 651.2919 - val_I_var: -1.9330\n",
      "Epoch 6/1000\n",
      "87/87 [==============================] - 1s 16ms/step - loss: 627.3516 - I_var: -1.8526 - val_loss: 602.3210 - val_I_var: -1.7896\n",
      "Epoch 7/1000\n",
      "87/87 [==============================] - 1s 17ms/step - loss: 577.0021 - I_var: -1.7057 - val_loss: 556.7313 - val_I_var: -1.6560\n",
      "Epoch 8/1000\n",
      "87/87 [==============================] - 1s 16ms/step - loss: 536.7538 - I_var: -1.5897 - val_loss: 525.8812 - val_I_var: -1.5656\n",
      "Epoch 9/1000\n",
      "87/87 [==============================] - 1s 16ms/step - loss: 507.5338 - I_var: -1.5036 - val_loss: 500.6844 - val_I_var: -1.4918\n",
      "Epoch 10/1000\n",
      "87/87 [==============================] - 1s 16ms/step - loss: 486.0250 - I_var: -1.4420 - val_loss: 481.8258 - val_I_var: -1.4366\n",
      "Epoch 11/1000\n",
      "87/87 [==============================] - 1s 16ms/step - loss: 469.7175 - I_var: -1.3947 - val_loss: 471.3237 - val_I_var: -1.4056\n",
      "Epoch 12/1000\n",
      "87/87 [==============================] - 1s 16ms/step - loss: 456.2498 - I_var: -1.3555 - val_loss: 455.8864 - val_I_var: -1.3602\n",
      "Epoch 13/1000\n",
      "87/87 [==============================] - 1s 16ms/step - loss: 444.3567 - I_var: -1.3198 - val_loss: 445.0688 - val_I_var: -1.3282\n",
      "Epoch 14/1000\n",
      "87/87 [==============================] - 1s 16ms/step - loss: 434.0386 - I_var: -1.2896 - val_loss: 436.9470 - val_I_var: -1.3040\n",
      "Epoch 15/1000\n",
      "87/87 [==============================] - 1s 16ms/step - loss: 425.1456 - I_var: -1.2637 - val_loss: 428.3463 - val_I_var: -1.2784\n",
      "Epoch 16/1000\n",
      "87/87 [==============================] - 1s 16ms/step - loss: 417.4527 - I_var: -1.2410 - val_loss: 421.2173 - val_I_var: -1.2569\n",
      "Epoch 17/1000\n",
      "87/87 [==============================] - 1s 16ms/step - loss: 410.5187 - I_var: -1.2192 - val_loss: 419.7122 - val_I_var: -1.2518\n",
      "Epoch 18/1000\n",
      "87/87 [==============================] - 1s 16ms/step - loss: 405.0432 - I_var: -1.2042 - val_loss: 416.5379 - val_I_var: -1.2416\n",
      "Epoch 19/1000\n",
      "87/87 [==============================] - 1s 16ms/step - loss: 397.6957 - I_var: -1.1811 - val_loss: 402.7957 - val_I_var: -1.2008\n",
      "Epoch 20/1000\n",
      "87/87 [==============================] - 1s 17ms/step - loss: 391.5526 - I_var: -1.1651 - val_loss: 398.9421 - val_I_var: -1.1887\n",
      "Epoch 21/1000\n",
      "87/87 [==============================] - 1s 16ms/step - loss: 385.6060 - I_var: -1.1435 - val_loss: 391.6083 - val_I_var: -1.1663\n",
      "Epoch 22/1000\n",
      "87/87 [==============================] - 1s 16ms/step - loss: 379.5105 - I_var: -1.1264 - val_loss: 386.0362 - val_I_var: -1.1491\n",
      "Epoch 23/1000\n",
      "87/87 [==============================] - 1s 16ms/step - loss: 373.8112 - I_var: -1.1068 - val_loss: 381.2009 - val_I_var: -1.1340\n",
      "Epoch 24/1000\n",
      "87/87 [==============================] - 1s 16ms/step - loss: 368.5576 - I_var: -1.0908 - val_loss: 376.1493 - val_I_var: -1.1182\n",
      "Epoch 25/1000\n",
      "87/87 [==============================] - 1s 16ms/step - loss: 361.5595 - I_var: -1.0702 - val_loss: 371.4904 - val_I_var: -1.1035\n",
      "Epoch 26/1000\n",
      "87/87 [==============================] - 1s 16ms/step - loss: 355.1543 - I_var: -1.0511 - val_loss: 362.9163 - val_I_var: -1.0775\n",
      "Epoch 27/1000\n",
      "87/87 [==============================] - 2s 18ms/step - loss: 348.4428 - I_var: -1.0290 - val_loss: 355.2055 - val_I_var: -1.0540\n",
      "Epoch 28/1000\n",
      "87/87 [==============================] - 1s 15ms/step - loss: 340.4435 - I_var: -1.0054 - val_loss: 348.7738 - val_I_var: -1.0343\n",
      "Epoch 29/1000\n",
      "87/87 [==============================] - 1s 15ms/step - loss: 333.0334 - I_var: -0.9836 - val_loss: 345.7002 - val_I_var: -1.0243\n",
      "Epoch 30/1000\n",
      "87/87 [==============================] - 1s 16ms/step - loss: 323.9311 - I_var: -0.9563 - val_loss: 330.6975 - val_I_var: -0.9800\n",
      "Epoch 31/1000\n",
      "87/87 [==============================] - 1s 17ms/step - loss: 315.3876 - I_var: -0.9311 - val_loss: 322.6065 - val_I_var: -0.9558\n",
      "Epoch 32/1000\n",
      "87/87 [==============================] - 1s 17ms/step - loss: 306.5175 - I_var: -0.9059 - val_loss: 313.9726 - val_I_var: -0.9300\n",
      "Epoch 33/1000\n",
      "87/87 [==============================] - 1s 16ms/step - loss: 298.6787 - I_var: -0.8810 - val_loss: 308.0879 - val_I_var: -0.9123\n",
      "Epoch 34/1000\n",
      "87/87 [==============================] - 1s 17ms/step - loss: 291.9993 - I_var: -0.8613 - val_loss: 298.9474 - val_I_var: -0.8850\n",
      "Epoch 35/1000\n",
      "87/87 [==============================] - 1s 17ms/step - loss: 281.3131 - I_var: -0.8295 - val_loss: 289.4622 - val_I_var: -0.8569\n",
      "Epoch 36/1000\n",
      "87/87 [==============================] - 1s 17ms/step - loss: 273.1788 - I_var: -0.8053 - val_loss: 281.7411 - val_I_var: -0.8338\n",
      "Epoch 37/1000\n",
      "87/87 [==============================] - 2s 18ms/step - loss: 264.7858 - I_var: -0.7793 - val_loss: 272.5144 - val_I_var: -0.8063\n",
      "Epoch 38/1000\n",
      "87/87 [==============================] - 2s 19ms/step - loss: 256.2717 - I_var: -0.7555 - val_loss: 264.0753 - val_I_var: -0.7812\n",
      "Epoch 39/1000\n",
      "87/87 [==============================] - 1s 15ms/step - loss: 248.8817 - I_var: -0.7329 - val_loss: 256.1584 - val_I_var: -0.7577\n",
      "Epoch 40/1000\n",
      "87/87 [==============================] - 1s 15ms/step - loss: 239.2102 - I_var: -0.7060 - val_loss: 247.9525 - val_I_var: -0.7333\n",
      "Epoch 41/1000\n",
      "87/87 [==============================] - 1s 15ms/step - loss: 231.6275 - I_var: -0.6823 - val_loss: 241.7659 - val_I_var: -0.7147\n",
      "Epoch 42/1000\n",
      "87/87 [==============================] - 1s 15ms/step - loss: 223.8547 - I_var: -0.6564 - val_loss: 236.3383 - val_I_var: -0.6984\n",
      "Epoch 43/1000\n",
      "87/87 [==============================] - 1s 17ms/step - loss: 216.4294 - I_var: -0.6363 - val_loss: 225.8616 - val_I_var: -0.6674\n",
      "Epoch 44/1000\n",
      "87/87 [==============================] - 1s 15ms/step - loss: 209.6017 - I_var: -0.6167 - val_loss: 222.5202 - val_I_var: -0.6573\n",
      "Epoch 45/1000\n",
      "87/87 [==============================] - 1s 15ms/step - loss: 202.8981 - I_var: -0.5957 - val_loss: 213.6410 - val_I_var: -0.6309\n",
      "Epoch 46/1000\n",
      "87/87 [==============================] - 1s 15ms/step - loss: 196.4666 - I_var: -0.5782 - val_loss: 210.9218 - val_I_var: -0.6225\n",
      "Epoch 47/1000\n",
      "87/87 [==============================] - 2s 23ms/step - loss: 189.9837 - I_var: -0.5618 - val_loss: 209.7896 - val_I_var: -0.6188\n",
      "Epoch 48/1000\n",
      "87/87 [==============================] - 1s 16ms/step - loss: 184.1655 - I_var: -0.5414 - val_loss: 199.2410 - val_I_var: -0.5877\n",
      "Epoch 49/1000\n",
      "87/87 [==============================] - 2s 20ms/step - loss: 179.7624 - I_var: -0.5301 - val_loss: 191.1008 - val_I_var: -0.5637\n",
      "Epoch 50/1000\n",
      "87/87 [==============================] - 2s 18ms/step - loss: 174.6811 - I_var: -0.5122 - val_loss: 194.5847 - val_I_var: -0.5735\n",
      "Epoch 51/1000\n",
      "87/87 [==============================] - 2s 17ms/step - loss: 171.0627 - I_var: -0.5022 - val_loss: 196.5479 - val_I_var: -0.5789\n",
      "Epoch 52/1000\n",
      "87/87 [==============================] - 1s 16ms/step - loss: 166.3776 - I_var: -0.4863 - val_loss: 177.5121 - val_I_var: -0.5230\n",
      "Epoch 53/1000\n",
      "87/87 [==============================] - 2s 17ms/step - loss: 161.5061 - I_var: -0.4725 - val_loss: 180.2028 - val_I_var: -0.5304\n",
      "Epoch 54/1000\n",
      "87/87 [==============================] - 1s 16ms/step - loss: 158.7688 - I_var: -0.4651 - val_loss: 174.1174 - val_I_var: -0.5124\n",
      "Epoch 55/1000\n",
      "87/87 [==============================] - 1s 16ms/step - loss: 155.0742 - I_var: -0.4538 - val_loss: 167.2492 - val_I_var: -0.4921\n",
      "Epoch 56/1000\n",
      "87/87 [==============================] - 1s 16ms/step - loss: 150.7163 - I_var: -0.4414 - val_loss: 164.9250 - val_I_var: -0.4850\n",
      "Epoch 57/1000\n",
      "87/87 [==============================] - 1s 17ms/step - loss: 149.7589 - I_var: -0.4391 - val_loss: 163.7325 - val_I_var: -0.4813\n"
     ]
    },
    {
     "name": "stdout",
     "output_type": "stream",
     "text": [
      "Epoch 58/1000\n",
      "87/87 [==============================] - 2s 20ms/step - loss: 144.6404 - I_var: -0.4258 - val_loss: 159.1439 - val_I_var: -0.4676\n",
      "Epoch 59/1000\n",
      "87/87 [==============================] - 2s 22ms/step - loss: 143.6941 - I_var: -0.4202 - val_loss: 159.0061 - val_I_var: -0.4669\n",
      "Epoch 60/1000\n",
      "87/87 [==============================] - 2s 20ms/step - loss: 141.2801 - I_var: -0.4159 - val_loss: 155.2374 - val_I_var: -0.4556\n",
      "Epoch 61/1000\n",
      "87/87 [==============================] - 2s 19ms/step - loss: 138.3198 - I_var: -0.4041 - val_loss: 157.8942 - val_I_var: -0.4630\n",
      "Epoch 62/1000\n",
      "87/87 [==============================] - 2s 20ms/step - loss: 136.0637 - I_var: -0.3981 - val_loss: 154.8844 - val_I_var: -0.4540\n",
      "Epoch 63/1000\n",
      "87/87 [==============================] - 2s 20ms/step - loss: 136.8786 - I_var: -0.3985 - val_loss: 152.9923 - val_I_var: -0.4483\n",
      "Epoch 64/1000\n",
      "87/87 [==============================] - ETA: 0s - loss: 132.3301 - I_var: -0.38 - 2s 18ms/step - loss: 132.0840 - I_var: -0.3854 - val_loss: 152.2128 - val_I_var: -0.4458\n",
      "Epoch 65/1000\n",
      "87/87 [==============================] - 1s 17ms/step - loss: 131.0880 - I_var: -0.3812 - val_loss: 145.7407 - val_I_var: -0.4266\n",
      "Epoch 66/1000\n",
      "87/87 [==============================] - 1s 15ms/step - loss: 128.3383 - I_var: -0.3715 - val_loss: 144.2832 - val_I_var: -0.4221\n",
      "Epoch 67/1000\n",
      "87/87 [==============================] - 1s 15ms/step - loss: 127.0524 - I_var: -0.3715 - val_loss: 144.2081 - val_I_var: -0.4217\n",
      "Epoch 68/1000\n",
      "87/87 [==============================] - 1s 15ms/step - loss: 125.9591 - I_var: -0.3660 - val_loss: 142.4744 - val_I_var: -0.4164\n",
      "Epoch 69/1000\n",
      "87/87 [==============================] - 1s 15ms/step - loss: 124.0313 - I_var: -0.3618 - val_loss: 142.1026 - val_I_var: -0.4150\n",
      "Epoch 70/1000\n",
      "87/87 [==============================] - 1s 16ms/step - loss: 122.9674 - I_var: -0.3572 - val_loss: 140.1846 - val_I_var: -0.4092\n",
      "Epoch 71/1000\n",
      "87/87 [==============================] - 1s 16ms/step - loss: 121.5134 - I_var: -0.3517 - val_loss: 138.3819 - val_I_var: -0.4037\n",
      "Epoch 72/1000\n",
      "87/87 [==============================] - 1s 15ms/step - loss: 120.8508 - I_var: -0.3513 - val_loss: 137.0524 - val_I_var: -0.3996\n",
      "Epoch 73/1000\n",
      "87/87 [==============================] - 1s 16ms/step - loss: 118.9093 - I_var: -0.3437 - val_loss: 135.0521 - val_I_var: -0.3936\n",
      "Epoch 74/1000\n",
      "87/87 [==============================] - 1s 15ms/step - loss: 118.0399 - I_var: -0.3411 - val_loss: 133.6650 - val_I_var: -0.3893\n",
      "Epoch 75/1000\n",
      "87/87 [==============================] - 1s 16ms/step - loss: 116.6997 - I_var: -0.3375 - val_loss: 136.6108 - val_I_var: -0.3975\n",
      "Epoch 76/1000\n",
      "87/87 [==============================] - 2s 19ms/step - loss: 114.1698 - I_var: -0.3311 - val_loss: 131.2166 - val_I_var: -0.3817\n",
      "Epoch 77/1000\n",
      "87/87 [==============================] - 1s 17ms/step - loss: 113.5978 - I_var: -0.3290 - val_loss: 131.9806 - val_I_var: -0.3836\n",
      "Epoch 78/1000\n",
      "87/87 [==============================] - 1s 15ms/step - loss: 114.2252 - I_var: -0.3297 - val_loss: 129.6950 - val_I_var: -0.3767\n",
      "Epoch 79/1000\n",
      "87/87 [==============================] - 1s 15ms/step - loss: 111.0972 - I_var: -0.3212 - val_loss: 127.5122 - val_I_var: -0.3701\n",
      "Epoch 80/1000\n",
      "87/87 [==============================] - 1s 16ms/step - loss: 108.7411 - I_var: -0.3118 - val_loss: 126.5231 - val_I_var: -0.3669\n",
      "Epoch 81/1000\n",
      "87/87 [==============================] - 1s 15ms/step - loss: 110.0732 - I_var: -0.3173 - val_loss: 125.0132 - val_I_var: -0.3623\n",
      "Epoch 82/1000\n",
      "87/87 [==============================] - 1s 16ms/step - loss: 107.5754 - I_var: -0.3121 - val_loss: 131.9330 - val_I_var: -0.3821\n",
      "Epoch 83/1000\n",
      "87/87 [==============================] - 1s 16ms/step - loss: 105.4172 - I_var: -0.3065 - val_loss: 124.5130 - val_I_var: -0.3602\n",
      "Epoch 84/1000\n",
      "87/87 [==============================] - 2s 18ms/step - loss: 105.0891 - I_var: -0.3047 - val_loss: 126.8046 - val_I_var: -0.3665\n",
      "Epoch 85/1000\n",
      "87/87 [==============================] - 2s 21ms/step - loss: 102.9951 - I_var: -0.2947 - val_loss: 124.9134 - val_I_var: -0.3608\n",
      "Epoch 86/1000\n",
      "87/87 [==============================] - 1s 16ms/step - loss: 103.2222 - I_var: -0.2934 - val_loss: 121.2914 - val_I_var: -0.3499\n",
      "Epoch 87/1000\n",
      "87/87 [==============================] - 2s 22ms/step - loss: 100.8118 - I_var: -0.2905 - val_loss: 125.5669 - val_I_var: -0.3620\n",
      "Epoch 88/1000\n",
      "87/87 [==============================] - 2s 20ms/step - loss: 100.4858 - I_var: -0.2846 - val_loss: 118.9337 - val_I_var: -0.3424\n",
      "Epoch 89/1000\n",
      "87/87 [==============================] - 2s 19ms/step - loss: 97.5508 - I_var: -0.2789 - val_loss: 115.1814 - val_I_var: -0.3311\n",
      "Epoch 90/1000\n",
      "87/87 [==============================] - 1s 16ms/step - loss: 95.9928 - I_var: -0.2721 - val_loss: 113.6533 - val_I_var: -0.3263\n",
      "Epoch 91/1000\n",
      "87/87 [==============================] - 2s 19ms/step - loss: 93.4437 - I_var: -0.2647 - val_loss: 112.8144 - val_I_var: -0.3234\n",
      "Epoch 92/1000\n",
      "87/87 [==============================] - 2s 20ms/step - loss: 93.0198 - I_var: -0.2631 - val_loss: 120.4732 - val_I_var: -0.3453\n",
      "Epoch 93/1000\n",
      "87/87 [==============================] - 2s 20ms/step - loss: 90.1188 - I_var: -0.2596 - val_loss: 109.8409 - val_I_var: -0.3141\n",
      "Epoch 94/1000\n",
      "87/87 [==============================] - 1s 16ms/step - loss: 88.5614 - I_var: -0.2494 - val_loss: 107.1914 - val_I_var: -0.3060\n",
      "Epoch 95/1000\n",
      "87/87 [==============================] - 1s 16ms/step - loss: 87.2410 - I_var: -0.2441 - val_loss: 105.1486 - val_I_var: -0.2996\n",
      "Epoch 96/1000\n",
      "87/87 [==============================] - 2s 18ms/step - loss: 84.9678 - I_var: -0.2443 - val_loss: 103.1238 - val_I_var: -0.2933\n",
      "Epoch 97/1000\n",
      "87/87 [==============================] - 2s 21ms/step - loss: 82.5010 - I_var: -0.2297 - val_loss: 103.5726 - val_I_var: -0.2942\n",
      "Epoch 98/1000\n",
      "87/87 [==============================] - 1s 16ms/step - loss: 80.5104 - I_var: -0.2301 - val_loss: 105.1340 - val_I_var: -0.2983\n",
      "Epoch 99/1000\n",
      "87/87 [==============================] - 1s 15ms/step - loss: 79.0620 - I_var: -0.2184 - val_loss: 97.8833 - val_I_var: -0.2767\n",
      "Epoch 100/1000\n",
      "87/87 [==============================] - 2s 19ms/step - loss: 77.0462 - I_var: -0.2114 - val_loss: 101.3138 - val_I_var: -0.2863\n",
      "Epoch 101/1000\n",
      "87/87 [==============================] - 1s 17ms/step - loss: 76.8853 - I_var: -0.2132 - val_loss: 97.3865 - val_I_var: -0.2743\n",
      "Epoch 102/1000\n",
      "87/87 [==============================] - 1s 17ms/step - loss: 73.2253 - I_var: -0.2015 - val_loss: 102.3690 - val_I_var: -0.2883\n",
      "Epoch 103/1000\n",
      "87/87 [==============================] - 2s 20ms/step - loss: 70.3954 - I_var: -0.2007 - val_loss: 92.5425 - val_I_var: -0.2591\n",
      "Epoch 104/1000\n",
      "87/87 [==============================] - 2s 19ms/step - loss: 68.6285 - I_var: -0.1871 - val_loss: 92.0030 - val_I_var: -0.2572\n",
      "Epoch 105/1000\n",
      "87/87 [==============================] - 1s 17ms/step - loss: 65.8522 - I_var: -0.1787 - val_loss: 85.1116 - val_I_var: -0.2365\n",
      "Epoch 106/1000\n",
      "87/87 [==============================] - 1s 15ms/step - loss: 61.9104 - I_var: -0.1684 - val_loss: 84.7962 - val_I_var: -0.2352\n",
      "Epoch 107/1000\n",
      "87/87 [==============================] - 1s 14ms/step - loss: 60.9570 - I_var: -0.1618 - val_loss: 79.4526 - val_I_var: -0.2191\n",
      "Epoch 108/1000\n",
      "87/87 [==============================] - 1s 16ms/step - loss: 56.8726 - I_var: -0.1551 - val_loss: 77.1120 - val_I_var: -0.2118\n",
      "Epoch 109/1000\n",
      "87/87 [==============================] - 2s 18ms/step - loss: 54.5577 - I_var: -0.1459 - val_loss: 76.8648 - val_I_var: -0.2105\n",
      "Epoch 110/1000\n",
      "87/87 [==============================] - 2s 18ms/step - loss: 51.3206 - I_var: -0.1350 - val_loss: 72.7830 - val_I_var: -0.1981\n",
      "Epoch 111/1000\n",
      "87/87 [==============================] - 2s 18ms/step - loss: 49.7719 - I_var: -0.1304 - val_loss: 71.9849 - val_I_var: -0.1952\n",
      "Epoch 112/1000\n",
      "87/87 [==============================] - 2s 19ms/step - loss: 46.5618 - I_var: -0.1168 - val_loss: 68.0464 - val_I_var: -0.1832\n",
      "Epoch 113/1000\n",
      "87/87 [==============================] - 2s 18ms/step - loss: 44.2371 - I_var: -0.1110 - val_loss: 66.0202 - val_I_var: -0.1768\n",
      "Epoch 114/1000\n",
      "87/87 [==============================] - 2s 18ms/step - loss: 42.0634 - I_var: -0.1051 - val_loss: 64.2417 - val_I_var: -0.1710\n"
     ]
    },
    {
     "name": "stdout",
     "output_type": "stream",
     "text": [
      "Epoch 115/1000\n",
      "87/87 [==============================] - 1s 17ms/step - loss: 39.3427 - I_var: -0.0953 - val_loss: 63.1292 - val_I_var: -0.1672\n",
      "Epoch 116/1000\n",
      "87/87 [==============================] - 1s 15ms/step - loss: 37.0827 - I_var: -0.0875 - val_loss: 63.8917 - val_I_var: -0.1688\n",
      "Epoch 117/1000\n",
      "87/87 [==============================] - 2s 18ms/step - loss: 34.5029 - I_var: -0.0799 - val_loss: 57.5739 - val_I_var: -0.1499\n",
      "Epoch 118/1000\n",
      "87/87 [==============================] - 2s 18ms/step - loss: 30.9751 - I_var: -0.0723 - val_loss: 55.1030 - val_I_var: -0.1422\n",
      "Epoch 119/1000\n",
      "87/87 [==============================] - 1s 16ms/step - loss: 29.1855 - I_var: -0.0664 - val_loss: 53.4584 - val_I_var: -0.1369\n",
      "Epoch 120/1000\n",
      "87/87 [==============================] - 1s 16ms/step - loss: 28.5665 - I_var: -0.0613 - val_loss: 51.7436 - val_I_var: -0.1312\n",
      "Epoch 121/1000\n",
      "87/87 [==============================] - 1s 15ms/step - loss: 24.6707 - I_var: -0.0537 - val_loss: 54.9990 - val_I_var: -0.1402\n",
      "Epoch 122/1000\n",
      "87/87 [==============================] - 1s 16ms/step - loss: 22.1386 - I_var: -0.0414 - val_loss: 47.6875 - val_I_var: -0.1183\n",
      "Epoch 123/1000\n",
      "87/87 [==============================] - 1s 16ms/step - loss: 21.4705 - I_var: -0.0386 - val_loss: 46.3252 - val_I_var: -0.1138\n",
      "Epoch 124/1000\n",
      "87/87 [==============================] - 1s 17ms/step - loss: 16.9697 - I_var: -0.0304 - val_loss: 44.3608 - val_I_var: -0.1076\n",
      "Epoch 125/1000\n",
      "87/87 [==============================] - 1s 15ms/step - loss: 16.8772 - I_var: -0.0251 - val_loss: 43.0686 - val_I_var: -0.1032\n",
      "Epoch 126/1000\n",
      "87/87 [==============================] - 2s 20ms/step - loss: 14.9890 - I_var: -0.0194 - val_loss: 41.1074 - val_I_var: -0.0969\n",
      "Epoch 127/1000\n",
      "87/87 [==============================] - 2s 18ms/step - loss: 11.5152 - I_var: -0.0085 - val_loss: 39.3715 - val_I_var: -0.0913\n",
      "Epoch 128/1000\n",
      "87/87 [==============================] - 2s 18ms/step - loss: 11.7345 - I_var: -0.0142 - val_loss: 37.8563 - val_I_var: -0.0864\n",
      "Epoch 129/1000\n",
      "87/87 [==============================] - 1s 16ms/step - loss: 8.2204 - I_var: 0.0017 - val_loss: 38.6425 - val_I_var: -0.0881\n",
      "Epoch 130/1000\n",
      "87/87 [==============================] - 1s 14ms/step - loss: 6.6577 - I_var: 0.0063 - val_loss: 34.8677 - val_I_var: -0.0766\n",
      "Epoch 131/1000\n",
      "87/87 [==============================] - 1s 15ms/step - loss: 4.1983 - I_var: 0.0163 - val_loss: 41.9995 - val_I_var: -0.0967\n",
      "Epoch 132/1000\n",
      "87/87 [==============================] - 1s 15ms/step - loss: 3.7027 - I_var: 0.0162 - val_loss: 36.4344 - val_I_var: -0.0800\n",
      "Epoch 133/1000\n",
      "87/87 [==============================] - 1s 16ms/step - loss: 1.1172 - I_var: 0.0161 - val_loss: 31.2704 - val_I_var: -0.0645\n",
      "Epoch 134/1000\n",
      "87/87 [==============================] - 1s 15ms/step - loss: -0.5893 - I_var: 0.0318 - val_loss: 30.8592 - val_I_var: -0.0627\n",
      "Epoch 135/1000\n",
      "87/87 [==============================] - 1s 15ms/step - loss: -1.2595 - I_var: 0.0340 - val_loss: 30.5691 - val_I_var: -0.0614\n",
      "Epoch 136/1000\n",
      "87/87 [==============================] - 1s 15ms/step - loss: -3.2421 - I_var: 0.0381 - val_loss: 29.1881 - val_I_var: -0.0568\n",
      "Epoch 137/1000\n",
      "87/87 [==============================] - 1s 15ms/step - loss: -2.1007 - I_var: 0.0401 - val_loss: 27.0970 - val_I_var: -0.0502\n",
      "Epoch 138/1000\n",
      "87/87 [==============================] - 1s 15ms/step - loss: -4.1528 - I_var: 0.0437 - val_loss: 25.1044 - val_I_var: -0.0438\n",
      "Epoch 139/1000\n",
      "87/87 [==============================] - 1s 15ms/step - loss: -8.3511 - I_var: 0.0542 - val_loss: 29.5136 - val_I_var: -0.0561\n",
      "Epoch 140/1000\n",
      "87/87 [==============================] - 1s 15ms/step - loss: -10.3476 - I_var: 0.0608 - val_loss: 22.8900 - val_I_var: -0.0364\n",
      "Epoch 141/1000\n",
      "87/87 [==============================] - 1s 15ms/step - loss: -8.2790 - I_var: 0.0578 - val_loss: 23.5526 - val_I_var: -0.0378\n",
      "Epoch 142/1000\n",
      "87/87 [==============================] - 1s 15ms/step - loss: -11.9326 - I_var: 0.0674 - val_loss: 20.8622 - val_I_var: -0.0295\n",
      "Epoch 143/1000\n",
      "87/87 [==============================] - 2s 17ms/step - loss: -14.0100 - I_var: 0.0731 - val_loss: 22.5720 - val_I_var: -0.0339\n",
      "Epoch 144/1000\n",
      "87/87 [==============================] - 1s 16ms/step - loss: -14.9812 - I_var: 0.0774 - val_loss: 19.3199 - val_I_var: -0.0239\n",
      "Epoch 145/1000\n",
      "87/87 [==============================] - 1s 15ms/step - loss: -15.8554 - I_var: 0.0829 - val_loss: 18.2159 - val_I_var: -0.0203\n",
      "Epoch 146/1000\n",
      "87/87 [==============================] - 1s 15ms/step - loss: -18.2386 - I_var: 0.0831 - val_loss: 18.4992 - val_I_var: -0.0206\n",
      "Epoch 147/1000\n",
      "87/87 [==============================] - 2s 20ms/step - loss: -18.7907 - I_var: 0.0909 - val_loss: 17.1029 - val_I_var: -0.0161\n",
      "Epoch 148/1000\n",
      "87/87 [==============================] - 2s 24ms/step - loss: -20.4590 - I_var: 0.0913 - val_loss: 16.2330 - val_I_var: -0.0131\n",
      "Epoch 149/1000\n",
      "87/87 [==============================] - 2s 20ms/step - loss: -20.6085 - I_var: 0.0914 - val_loss: 15.6261 - val_I_var: -0.0108\n",
      "Epoch 150/1000\n",
      "87/87 [==============================] - ETA: 0s - loss: -21.5202 - I_var: 0.099 - 2s 20ms/step - loss: -21.3947 - I_var: 0.0990 - val_loss: 15.2795 - val_I_var: -0.0094\n",
      "Epoch 151/1000\n",
      "87/87 [==============================] - 2s 22ms/step - loss: -21.6786 - I_var: 0.1023 - val_loss: 23.7606 - val_I_var: -0.0335\n",
      "Epoch 152/1000\n",
      "87/87 [==============================] - 2s 21ms/step - loss: -24.2599 - I_var: 0.1096 - val_loss: 16.4538 - val_I_var: -0.0118\n",
      "Epoch 153/1000\n",
      "87/87 [==============================] - 2s 21ms/step - loss: -26.0542 - I_var: 0.1113 - val_loss: 12.7051 - val_I_var: -4.9019e-04\n",
      "Epoch 154/1000\n",
      "87/87 [==============================] - 1s 17ms/step - loss: -26.3425 - I_var: 0.1121 - val_loss: 14.0587 - val_I_var: -0.0040\n",
      "Epoch 155/1000\n",
      "87/87 [==============================] - 1s 17ms/step - loss: -26.3433 - I_var: 0.1161 - val_loss: 11.3718 - val_I_var: 0.0044\n",
      "Epoch 156/1000\n",
      "87/87 [==============================] - 2s 19ms/step - loss: -27.8861 - I_var: 0.1209 - val_loss: 15.1320 - val_I_var: -0.0061\n",
      "Epoch 157/1000\n",
      "87/87 [==============================] - 2s 18ms/step - loss: -27.6725 - I_var: 0.1195 - val_loss: 18.8270 - val_I_var: -0.0164\n",
      "Epoch 158/1000\n",
      "87/87 [==============================] - 1s 16ms/step - loss: -31.5792 - I_var: 0.1191 - val_loss: 17.9680 - val_I_var: -0.0135\n",
      "Epoch 159/1000\n",
      "87/87 [==============================] - 1s 16ms/step - loss: -29.1045 - I_var: 0.1262 - val_loss: 11.1651 - val_I_var: 0.0068\n",
      "Epoch 160/1000\n",
      "87/87 [==============================] - 1s 17ms/step - loss: -32.3765 - I_var: 0.1362 - val_loss: 9.5565 - val_I_var: 0.0119\n",
      "Epoch 161/1000\n",
      "87/87 [==============================] - 1s 17ms/step - loss: -32.7017 - I_var: 0.1377 - val_loss: 8.3112 - val_I_var: 0.0160\n",
      "Epoch 162/1000\n",
      "87/87 [==============================] - 1s 17ms/step - loss: -30.8327 - I_var: 0.1327 - val_loss: 16.2129 - val_I_var: -0.0066\n",
      "Epoch 163/1000\n",
      "87/87 [==============================] - 1s 17ms/step - loss: -32.7308 - I_var: 0.1319 - val_loss: 17.4464 - val_I_var: -0.0097\n",
      "Epoch 164/1000\n",
      "87/87 [==============================] - 1s 16ms/step - loss: -35.3494 - I_var: 0.1478 - val_loss: 10.8905 - val_I_var: 0.0098\n",
      "Epoch 165/1000\n",
      "87/87 [==============================] - 1s 16ms/step - loss: -35.5235 - I_var: 0.1492 - val_loss: 9.1947 - val_I_var: 0.0152\n",
      "Epoch 166/1000\n",
      "87/87 [==============================] - 1s 17ms/step - loss: -36.3689 - I_var: 0.1490 - val_loss: 8.7351 - val_I_var: 0.0169\n",
      "Epoch 167/1000\n",
      "87/87 [==============================] - 1s 16ms/step - loss: -37.0887 - I_var: 0.1504 - val_loss: 11.8827 - val_I_var: 0.0082\n",
      "Epoch 168/1000\n",
      "87/87 [==============================] - 2s 20ms/step - loss: -37.9632 - I_var: 0.1568 - val_loss: 14.3594 - val_I_var: 0.0014\n",
      "Epoch 169/1000\n",
      "87/87 [==============================] - 1s 17ms/step - loss: -37.5289 - I_var: 0.1539 - val_loss: 5.8128 - val_I_var: 0.0268\n",
      "Epoch 170/1000\n",
      "87/87 [==============================] - 1s 16ms/step - loss: -37.8771 - I_var: 0.1600 - val_loss: 4.6338 - val_I_var: 0.0306\n",
      "Epoch 171/1000\n",
      "87/87 [==============================] - 2s 18ms/step - loss: -37.0912 - I_var: 0.1564 - val_loss: 3.7895 - val_I_var: 0.0335\n",
      "Epoch 172/1000\n",
      "87/87 [==============================] - 1s 17ms/step - loss: -38.3922 - I_var: 0.1539 - val_loss: 12.3503 - val_I_var: 0.0089\n",
      "Epoch 173/1000\n",
      "87/87 [==============================] - 1s 17ms/step - loss: -42.0117 - I_var: 0.1655 - val_loss: 5.0784 - val_I_var: 0.0306\n",
      "Epoch 174/1000\n",
      "87/87 [==============================] - 1s 17ms/step - loss: -41.7555 - I_var: 0.1713 - val_loss: 14.7557 - val_I_var: 0.0029\n",
      "Epoch 175/1000\n",
      "87/87 [==============================] - 1s 17ms/step - loss: -42.0653 - I_var: 0.1741 - val_loss: 15.7704 - val_I_var: 2.1554e-04\n",
      "Epoch 176/1000\n",
      "87/87 [==============================] - 2s 18ms/step - loss: -41.6660 - I_var: 0.1718 - val_loss: 6.8130 - val_I_var: 0.0268\n",
      "Epoch 177/1000\n",
      "87/87 [==============================] - 1s 16ms/step - loss: -41.7723 - I_var: 0.1724 - val_loss: 2.4723 - val_I_var: 0.0398\n",
      "Epoch 178/1000\n",
      "87/87 [==============================] - 1s 16ms/step - loss: -44.0295 - I_var: 0.1799 - val_loss: 8.1561 - val_I_var: 0.0237\n",
      "Epoch 179/1000\n",
      "87/87 [==============================] - 1s 16ms/step - loss: -44.3872 - I_var: 0.1739 - val_loss: 6.1978 - val_I_var: 0.0297\n",
      "Epoch 180/1000\n",
      "87/87 [==============================] - 1s 16ms/step - loss: -42.2481 - I_var: 0.1760 - val_loss: 13.2639 - val_I_var: 0.0095\n",
      "Epoch 181/1000\n",
      "87/87 [==============================] - 2s 19ms/step - loss: -45.3080 - I_var: 0.1844 - val_loss: 5.6987 - val_I_var: 0.0321\n",
      "Epoch 182/1000\n",
      "87/87 [==============================] - 2s 18ms/step - loss: -46.4416 - I_var: 0.1859 - val_loss: 7.3285 - val_I_var: 0.0276\n",
      "Epoch 183/1000\n",
      "87/87 [==============================] - 1s 16ms/step - loss: -46.4816 - I_var: 0.1888 - val_loss: 1.1014 - val_I_var: 0.0461\n",
      "Epoch 184/1000\n",
      "87/87 [==============================] - 1s 16ms/step - loss: -45.1897 - I_var: 0.1857 - val_loss: 2.2404 - val_I_var: 0.0433\n",
      "Epoch 185/1000\n",
      "87/87 [==============================] - 1s 16ms/step - loss: -46.3438 - I_var: 0.1896 - val_loss: 5.7226 - val_I_var: 0.0336\n",
      "Epoch 186/1000\n",
      "87/87 [==============================] - 1s 17ms/step - loss: -46.4301 - I_var: 0.1845 - val_loss: 4.1837 - val_I_var: 0.0384\n",
      "Epoch 187/1000\n",
      "87/87 [==============================] - 1s 16ms/step - loss: -47.2701 - I_var: 0.1850 - val_loss: 1.8442 - val_I_var: 0.0455\n",
      "Epoch 188/1000\n",
      "87/87 [==============================] - 1s 17ms/step - loss: -48.6509 - I_var: 0.1956 - val_loss: 13.0757 - val_I_var: 0.0134\n",
      "Epoch 189/1000\n",
      "87/87 [==============================] - 1s 16ms/step - loss: -48.1364 - I_var: 0.1969 - val_loss: 10.6498 - val_I_var: 0.0206\n",
      "Epoch 190/1000\n",
      "87/87 [==============================] - 1s 16ms/step - loss: -50.1367 - I_var: 0.2009 - val_loss: 5.7081 - val_I_var: 0.0353\n",
      "Epoch 191/1000\n",
      "87/87 [==============================] - 1s 16ms/step - loss: -48.4400 - I_var: 0.1933 - val_loss: 1.3506 - val_I_var: 0.0483\n",
      "Epoch 192/1000\n",
      "87/87 [==============================] - 2s 18ms/step - loss: -50.6635 - I_var: 0.1989 - val_loss: 0.7546 - val_I_var: 0.0504\n",
      "Epoch 193/1000\n",
      "87/87 [==============================] - 2s 20ms/step - loss: -49.3732 - I_var: 0.1967 - val_loss: 15.5200 - val_I_var: 0.0080\n",
      "Epoch 194/1000\n",
      "87/87 [==============================] - 2s 21ms/step - loss: -51.6115 - I_var: 0.2078 - val_loss: 0.9421 - val_I_var: 0.0506\n",
      "Epoch 195/1000\n",
      "87/87 [==============================] - 2s 21ms/step - loss: -50.9695 - I_var: 0.2070 - val_loss: 1.3279 - val_I_var: 0.0498\n",
      "Epoch 196/1000\n",
      "87/87 [==============================] - 2s 23ms/step - loss: -51.7258 - I_var: 0.2021 - val_loss: 0.6782 - val_I_var: 0.0520\n",
      "Epoch 197/1000\n",
      "87/87 [==============================] - 2s 21ms/step - loss: -51.1470 - I_var: 0.1944 - val_loss: 12.3148 - val_I_var: 0.0186\n",
      "Epoch 198/1000\n",
      "87/87 [==============================] - 2s 22ms/step - loss: -50.6601 - I_var: 0.2006 - val_loss: 0.3206 - val_I_var: 0.0537\n",
      "Epoch 199/1000\n",
      "87/87 [==============================] - 2s 22ms/step - loss: -53.3240 - I_var: 0.2121 - val_loss: 0.2077 - val_I_var: 0.0543\n",
      "Epoch 200/1000\n",
      "87/87 [==============================] - 2s 21ms/step - loss: -51.6302 - I_var: 0.2102 - val_loss: 13.0046 - val_I_var: 0.0172\n",
      "Epoch 201/1000\n",
      "87/87 [==============================] - 2s 21ms/step - loss: -51.4456 - I_var: 0.2052 - val_loss: 0.9144 - val_I_var: 0.0529\n",
      "Epoch 202/1000\n",
      "87/87 [==============================] - 2s 18ms/step - loss: -54.6957 - I_var: 0.2084 - val_loss: 2.1682 - val_I_var: 0.0495\n",
      "Epoch 203/1000\n",
      "87/87 [==============================] - 2s 17ms/step - loss: -54.2811 - I_var: 0.2198 - val_loss: 2.5602 - val_I_var: 0.0485\n",
      "Epoch 204/1000\n",
      "87/87 [==============================] - 1s 17ms/step - loss: -53.3817 - I_var: 0.2170 - val_loss: 0.0276 - val_I_var: 0.0562\n",
      "Epoch 205/1000\n",
      "87/87 [==============================] - 2s 19ms/step - loss: -54.1545 - I_var: 0.2180 - val_loss: 2.4947 - val_I_var: 0.0492\n",
      "Epoch 206/1000\n",
      "87/87 [==============================] - 2s 21ms/step - loss: -55.3385 - I_var: 0.2214 - val_loss: 5.1209 - val_I_var: 0.0420\n",
      "Epoch 207/1000\n",
      "87/87 [==============================] - 2s 22ms/step - loss: -54.4040 - I_var: 0.2210 - val_loss: 0.0655 - val_I_var: 0.0569\n",
      "Epoch 208/1000\n",
      "87/87 [==============================] - 2s 20ms/step - loss: -55.8650 - I_var: 0.2255 - val_loss: 0.2153 - val_I_var: 0.0566\n",
      "Epoch 209/1000\n",
      "87/87 [==============================] - 2s 24ms/step - loss: -57.0445 - I_var: 0.2263 - val_loss: 11.3560 - val_I_var: 0.0247\n",
      "Epoch 210/1000\n",
      "87/87 [==============================] - 2s 26ms/step - loss: -53.7721 - I_var: 0.2154 - val_loss: 0.4209 - val_I_var: 0.0566\n",
      "Epoch 211/1000\n",
      "87/87 [==============================] - 2s 20ms/step - loss: -56.9266 - I_var: 0.2274 - val_loss: 2.4531 - val_I_var: 0.0508\n",
      "Epoch 212/1000\n",
      "87/87 [==============================] - 2s 25ms/step - loss: -52.0055 - I_var: 0.2119 - val_loss: 3.5093 - val_I_var: 0.0480\n",
      "Epoch 213/1000\n",
      "87/87 [==============================] - 2s 25ms/step - loss: -56.0877 - I_var: 0.2265 - val_loss: 6.5562 - val_I_var: 0.0396\n",
      "Epoch 214/1000\n",
      "87/87 [==============================] - 2s 18ms/step - loss: -57.5837 - I_var: 0.2321 - val_loss: 8.8026 - val_I_var: 0.0330\n",
      "Epoch 215/1000\n",
      "87/87 [==============================] - 1s 17ms/step - loss: -58.3305 - I_var: 0.2163 - val_loss: 0.5430 - val_I_var: 0.0574\n",
      "Epoch 216/1000\n",
      "87/87 [==============================] - 2s 17ms/step - loss: -56.8502 - I_var: 0.2232 - val_loss: 0.9834 - val_I_var: 0.0562\n",
      "Epoch 217/1000\n",
      "87/87 [==============================] - 1s 16ms/step - loss: -58.2441 - I_var: 0.2354 - val_loss: 7.0298 - val_I_var: 0.0388\n",
      "Epoch 218/1000\n",
      "87/87 [==============================] - 1s 16ms/step - loss: -56.3325 - I_var: 0.2258 - val_loss: 2.6722 - val_I_var: 0.0518\n",
      "Epoch 219/1000\n",
      "87/87 [==============================] - 2s 18ms/step - loss: -58.7656 - I_var: 0.2346 - val_loss: 9.9592 - val_I_var: 0.0310\n",
      "Epoch 220/1000\n",
      "87/87 [==============================] - 2s 17ms/step - loss: -57.3546 - I_var: 0.2299 - val_loss: 13.7060 - val_I_var: 0.0199\n",
      "Epoch 221/1000\n",
      "87/87 [==============================] - 2s 18ms/step - loss: -58.2646 - I_var: 0.2338 - val_loss: 13.8558 - val_I_var: 0.0200\n",
      "Epoch 222/1000\n",
      "87/87 [==============================] - 2s 18ms/step - loss: -58.0901 - I_var: 0.2332 - val_loss: 8.9528 - val_I_var: 0.0342\n",
      "Epoch 223/1000\n",
      "87/87 [==============================] - 2s 18ms/step - loss: -60.1482 - I_var: 0.2387 - val_loss: 1.4495 - val_I_var: 0.0563\n",
      "Epoch 224/1000\n",
      "87/87 [==============================] - 2s 22ms/step - loss: -60.1540 - I_var: 0.2325 - val_loss: 3.1686 - val_I_var: 0.0514\n",
      "Epoch 225/1000\n",
      "87/87 [==============================] - 2s 21ms/step - loss: -60.2204 - I_var: 0.2399 - val_loss: 7.5462 - val_I_var: 0.0388\n",
      "Epoch 226/1000\n",
      "87/87 [==============================] - 2s 22ms/step - loss: -56.6267 - I_var: 0.2295 - val_loss: 16.4512 - val_I_var: 0.0130\n",
      "Epoch 227/1000\n",
      "87/87 [==============================] - 2s 22ms/step - loss: -59.5253 - I_var: 0.2403 - val_loss: 4.9488 - val_I_var: 0.0467\n",
      "Epoch 228/1000\n",
      "87/87 [==============================] - 2s 22ms/step - loss: -60.7913 - I_var: 0.2445 - val_loss: 3.7287 - val_I_var: 0.0505\n",
      "Epoch 229/1000\n",
      "87/87 [==============================] - 2s 23ms/step - loss: -60.1143 - I_var: 0.2394 - val_loss: 1.4975 - val_I_var: 0.0572\n",
      "Training time: 363.1 seconds\n"
     ]
    }
   ],
   "source": [
    "# Fit model to data\n",
    "history = model.fit(learning_rate=.00025,\n",
    "                    epochs=1000,\n",
    "                    batch_size=500,\n",
    "                    early_stopping=True,\n",
    "                    early_stopping_patience=25,\n",
    "                    linear_initialization=False)"
   ]
  },
  {
   "cell_type": "code",
   "execution_count": 6,
   "metadata": {
    "ExecuteTime": {
     "end_time": "2020-11-13T17:24:29.738162Z",
     "start_time": "2020-11-13T17:24:29.663486Z"
    }
   },
   "outputs": [
    {
     "name": "stdout",
     "output_type": "stream",
     "text": [
      "Model saved to these files:\n",
      "\tgfp_ge_additive_homogaussian.pickle\n",
      "\tgfp_ge_additive_homogaussian.h5\n"
     ]
    }
   ],
   "source": [
    "# Save model\n",
    "#model.save('gfp_ge_additive_homogaussian')"
   ]
  },
  {
   "cell_type": "code",
   "execution_count": 7,
   "metadata": {
    "ExecuteTime": {
     "end_time": "2020-11-13T17:24:29.949932Z",
     "start_time": "2020-11-13T17:24:29.745159Z"
    }
   },
   "outputs": [
    {
     "name": "stdout",
     "output_type": "stream",
     "text": [
      "Model loaded from these files:\n",
      "\tgfp_ge_additive_homogaussian.pickle\n",
      "\tgfp_ge_additive_homogaussian.h5\n"
     ]
    }
   ],
   "source": [
    "# Load model\n",
    "#model = mavenn.load('gfp_ge_additive_homogaussian')"
   ]
  },
  {
   "cell_type": "code",
   "execution_count": 8,
   "metadata": {
    "ExecuteTime": {
     "end_time": "2020-11-13T17:24:29.968985Z",
     "start_time": "2020-11-13T17:24:29.954699Z"
    },
    "collapsed": true
   },
   "outputs": [],
   "source": [
    "# # Subsample indices for easy plotting and information estimation\n",
    "# N_test = len(test_df)\n",
    "# ix = np.random.rand(N_test) < .1\n",
    "\n",
    "# # Get x and y\n",
    "# x = test_df['x'].values[ix]\n",
    "# y = test_df['y'].values[ix]"
   ]
  },
  {
   "cell_type": "code",
   "execution_count": 9,
   "metadata": {
    "ExecuteTime": {
     "end_time": "2020-11-13T17:24:32.184656Z",
     "start_time": "2020-11-13T17:24:29.975779Z"
    }
   },
   "outputs": [
    {
     "name": "stdout",
     "output_type": "stream",
     "text": [
      "On test data:\n",
      "I_var_test: 0.278 +- 0.026 bits\n",
      "I_pred_test: 1.274 +- 0.010 bits\n"
     ]
    },
    {
     "data": {
      "text/plain": [
       "Text(0.5, 1.0, 'training hisotry')"
      ]
     },
     "execution_count": 9,
     "metadata": {},
     "output_type": "execute_result"
    },
    {
     "data": {
      "image/png": "[encoded data removed]",
      "text/plain": [
       "<Figure size 288x288 with 1 Axes>"
      ]
     },
     "metadata": {
      "needs_background": "light"
     },
     "output_type": "display_data"
    }
   ],
   "source": [
    "# Show training history\n",
    "print('On test data:')\n",
    "\n",
    "# Compute likelihood information\n",
    "I_var, dI_var =  model.I_variational(x=x_test, y=y_test)\n",
    "print(f'I_var_test: {I_var:.3f} +- {dI_var:.3f} bits') \n",
    "\n",
    "# Compute predictive information\n",
    "I_pred, dI_pred = model.I_predictive(x=x_test, y=y_test)\n",
    "print(f'I_pred_test: {I_pred:.3f} +- {dI_pred:.3f} bits')\n",
    "\n",
    "I_var_hist = model.history['I_var']\n",
    "val_I_var_hist = model.history['val_I_var']\n",
    "\n",
    "fig, ax = plt.subplots(1,1,figsize=[4,4])\n",
    "ax.plot(I_var_hist, label='I_var_train')\n",
    "ax.plot(val_I_var_hist, label='I_var_val')\n",
    "ax.axhline(I_var, color='C2', linestyle=':', label='I_var_test')\n",
    "ax.axhline(I_pred, color='C3', linestyle=':', label='I_pred_test')\n",
    "ax.legend()\n",
    "ax.set_xlabel('epochs')\n",
    "ax.set_ylabel('bits')\n",
    "ax.set_title('training hisotry')\n",
    "#ax.set_ylim([0, I_pred*1.2]);"
   ]
  },
  {
   "cell_type": "code",
   "execution_count": 10,
   "metadata": {
    "ExecuteTime": {
     "end_time": "2020-11-13T17:24:33.154877Z",
     "start_time": "2020-11-13T17:24:32.186708Z"
    }
   },
   "outputs": [
    {
     "data": {
      "image/png": "[encoded data removed]",
      "text/plain": [
       "<Figure size 576x288 with 2 Axes>"
      ]
     },
     "metadata": {
      "needs_background": "light"
     },
     "output_type": "display_data"
    }
   ],
   "source": [
    "# Compute phi and yhat values\n",
    "phi = model.x_to_phi(x_test)\n",
    "yhat = model.phi_to_yhat(phi)\n",
    "\n",
    "# Create grid for plotting yhat and yqs\n",
    "phi_lim = [-5, 2.5]\n",
    "phi_grid = np.linspace(phi_lim[0], phi_lim[1], 1000)\n",
    "yhat_grid = model.phi_to_yhat(phi_grid)\n",
    "yqs_grid = model.yhat_to_yq(yhat_grid, q=[.16,.84])\n",
    "\n",
    "# Create two panels\n",
    "fig, ax = plt.subplots(1, 2, figsize=[8, 4])\n",
    "\n",
    "# Illustrate measurement process with GE curve\n",
    "ax[0].scatter(phi, y_test, color='C0', s=5, alpha=.1, label='test data')\n",
    "ax[0].plot(phi_grid, yhat_grid, linewidth=2, color='C1',\n",
    "        label='$\\hat{y} = g(\\phi)$')\n",
    "ax[0].plot(phi_grid, yqs_grid[:, 0], linestyle='--', color='C1',\n",
    "        label='68% CI')\n",
    "ax[0].plot(phi_grid, yqs_grid[:, 1], linestyle='--', color='C1')\n",
    "ax[0].set_xlim(phi_lim)\n",
    "ax[0].set_xlabel('latent phenotype ($\\phi$)')\n",
    "ax[0].set_ylabel('measurement ($y$)')\n",
    "ax[0].set_title('measurement process')\n",
    "ax[0].legend()\n",
    "\n",
    "R_square_on_test = np.corrcoef(yhat,y_test)[0][1]**2\n",
    "ax[1].plot((min(yhat), max(yhat)), (min(y_test), max(y_test)), '--',color='black')\n",
    "ax[1].scatter(yhat, y_test, color='C0', s=5, alpha=.1, label='test data',zorder=10)\n",
    "ax[1].set_xlabel('predictions ($\\hat{y}$)')\n",
    "ax[1].set_ylabel('measurement ($y$)')\n",
    "ax[1].set_title(\"$R^2 = $\"+str(R_square_on_test)[0:5])\n",
    "\n",
    "\n",
    "# Fix up plot\n",
    "fig.tight_layout()\n",
    "#plt.savefig('gfp_ge_additive_measurement_process_yhat.png',bbox_inches='tight',dpi=300)\n",
    "plt.show()"
   ]
  },
  {
   "cell_type": "code",
   "execution_count": null,
   "metadata": {
    "collapsed": true
   },
   "outputs": [],
   "source": []
  },
  {
   "cell_type": "code",
   "execution_count": 11,
   "metadata": {
    "ExecuteTime": {
     "end_time": "2020-11-13T17:24:33.543403Z",
     "start_time": "2020-11-13T17:24:33.157043Z"
    }
   },
   "outputs": [
    {
     "data": {
      "image/png": "[encoded data removed]",
      "text/plain": [
       "<Figure size 864x288 with 2 Axes>"
      ]
     },
     "metadata": {
      "needs_background": "light"
     },
     "output_type": "display_data"
    }
   ],
   "source": [
    "# Set wild-type sequence\n",
    "gfp_consensus_seq = model.x_stats['consensus_seq']\n",
    "\n",
    "# Get effects of all single-point mutations on phi\n",
    "theta_dict = model.get_theta(gauge='user',\n",
    "                             x_wt=gfp_consensus_seq)\n",
    "\n",
    "# Create two panels\n",
    "fig, ax = plt.subplots(1, 1, figsize=[12, 4])\n",
    "\n",
    "# Left panel: draw heatmap illustrating 1pt mutation effects\n",
    "ax, cb = mavenn.heatmap(theta_dict['theta_lc'],\n",
    "                        alphabet=theta_dict['alphabet'],\n",
    "                        seq=gfp_consensus_seq,\n",
    "                        #cmap='PiYG',\n",
    "                        ccenter=0,\n",
    "                        ax=ax)\n",
    "ax.set_xlabel('position ($l$)')\n",
    "ax.set_ylabel('amino acid ($c$)')\n",
    "cb.set_label('effect ($\\Delta\\phi$)', rotation=-90, va=\"bottom\")\n",
    "ax.set_title('mutation effects')\n",
    "\n",
    "\n",
    "\n",
    "# Fix up plot\n",
    "fig.tight_layout()\n",
    "#plt.savefig('gfp_additive_heatmap.png',bbox_inches='tight',dpi=300)\n",
    "plt.show()\n"
   ]
  },
  {
   "cell_type": "code",
   "execution_count": 12,
   "metadata": {},
   "outputs": [
    {
     "data": {
      "text/plain": [
       "'KGEELFTGVVPILVELDGDVNGHKFSVSGEGEGDATYGKLTLKFICTTGKLPVPWPTLVTTLSYGVQCFSRYPDHMKQHDFFKSAMPEGYVQERTIFFKDDGNYKTRAEVKFEGDTLVNRIELKGIDFKEDGNILGHKLEYNYNSHNVYIMADKQKNGIKVNFKIRHNIEDGSVQLADHYQQNTPIGDGPVLLPDNHYLSTQSALSKDPNEKRDHMVLLEFVTAAGITHGMDELY'"
      ]
     },
     "execution_count": 12,
     "metadata": {},
     "output_type": "execute_result"
    }
   ],
   "source": [
    "gfp_consensus_seq"
   ]
  },
  {
   "cell_type": "code",
   "execution_count": null,
   "metadata": {
    "collapsed": true
   },
   "outputs": [],
   "source": []
  }
 ],
 "metadata": {
  "kernelspec": {
   "display_name": "Python 3",
   "language": "python",
   "name": "python3"
  },
  "language_info": {
   "codemirror_mode": {
    "name": "ipython",
    "version": 3
   },
   "file_extension": ".py",
   "mimetype": "text/x-python",
   "name": "python",
   "nbconvert_exporter": "python",
   "pygments_lexer": "ipython3",
   "version": "3.6.7"
  },
  "toc": {
   "base_numbering": 1,
   "nav_menu": {},
   "number_sections": true,
   "sideBar": true,
   "skip_h1_title": false,
   "title_cell": "Table of Contents",
   "title_sidebar": "Contents",
   "toc_cell": false,
   "toc_position": {},
   "toc_section_display": true,
   "toc_window_display": false
  },
  "varInspector": {
   "cols": {
    "lenName": 16,
    "lenType": 16,
    "lenVar": 40
   },
   "kernels_config": {
    "python": {
     "delete_cmd_postfix": "",
     "delete_cmd_prefix": "del ",
     "library": "var_list.py",
     "varRefreshCmd": "print(var_dic_list())"
    },
    "r": {
     "delete_cmd_postfix": ") ",
     "delete_cmd_prefix": "rm(",
     "library": "var_list.r",
     "varRefreshCmd": "cat(var_dic_list()) "
    }
   },
   "types_to_exclude": [
    "module",
    "function",
    "builtin_function_or_method",
    "instance",
    "_Feature"
   ],
   "window_display": false
  }
 },
 "nbformat": 4,
 "nbformat_minor": 2
}
