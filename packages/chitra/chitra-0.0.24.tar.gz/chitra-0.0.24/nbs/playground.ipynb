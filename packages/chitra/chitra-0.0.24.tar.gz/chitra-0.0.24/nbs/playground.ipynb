{
 "cells": [
  {
   "cell_type": "code",
   "execution_count": 1,
   "id": "24d6e10b-ebc0-485e-888b-203f1c0b5e27",
   "metadata": {},
   "outputs": [],
   "source": [
    "import sys"
   ]
  },
  {
   "cell_type": "code",
   "execution_count": 2,
   "id": "e67b47e3-3195-479f-8e18-8d9e0c3ef772",
   "metadata": {},
   "outputs": [],
   "source": [
    "sys.path.append('../')"
   ]
  },
  {
   "cell_type": "code",
   "execution_count": 3,
   "id": "bfab49a8-55df-4212-a34f-3422619cf5c7",
   "metadata": {},
   "outputs": [],
   "source": [
    "from chitra.serve import create_app"
   ]
  },
  {
   "cell_type": "code",
   "execution_count": 4,
   "id": "e0c57137-c3e3-4e49-8be4-8dd3919e85c7",
   "metadata": {},
   "outputs": [],
   "source": [
    "model = lambda x: x+1"
   ]
  },
  {
   "cell_type": "code",
   "execution_count": 8,
   "id": "6735c42d-5bbc-46a1-9048-a856ae6f7597",
   "metadata": {},
   "outputs": [],
   "source": [
    "create_app(model, run=True)"
   ]
  },
  {
   "cell_type": "code",
   "execution_count": null,
   "id": "8d8b37ad-45ae-4d02-87d8-8d9ed2a7ba5d",
   "metadata": {},
   "outputs": [],
   "source": []
  },
  {
   "cell_type": "code",
   "execution_count": null,
   "id": "0b86260f-0aa5-4943-938a-44a0d25b7588",
   "metadata": {},
   "outputs": [],
   "source": []
  },
  {
   "cell_type": "code",
   "execution_count": null,
   "id": "8b7239bc-c4f1-42f9-8678-0ecf9424b939",
   "metadata": {},
   "outputs": [],
   "source": []
  },
  {
   "cell_type": "code",
   "execution_count": null,
   "id": "3bbad381-fc04-4177-90d4-f6fa5f1d1c09",
   "metadata": {},
   "outputs": [],
   "source": []
  },
  {
   "cell_type": "code",
   "execution_count": null,
   "id": "7f9cd3d0-9227-4a68-a8cf-f11ce757811c",
   "metadata": {},
   "outputs": [],
   "source": []
  }
 ],
 "metadata": {
  "kernelspec": {
   "display_name": "Python 3",
   "language": "python",
   "name": "python3"
  },
  "language_info": {
   "codemirror_mode": {
    "name": "ipython",
    "version": 3
   },
   "file_extension": ".py",
   "mimetype": "text/x-python",
   "name": "python",
   "nbconvert_exporter": "python",
   "pygments_lexer": "ipython3",
   "version": "3.7.10"
  }
 },
 "nbformat": 4,
 "nbformat_minor": 5
}
