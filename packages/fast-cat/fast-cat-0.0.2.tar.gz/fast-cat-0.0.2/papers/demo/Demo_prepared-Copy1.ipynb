{
 "cells": [
  {
   "cell_type": "markdown",
   "id": "medieval-myanmar",
   "metadata": {},
   "source": [
    "# Fastcat Demo: Varian kV OBI"
   ]
  },
  {
   "cell_type": "code",
   "execution_count": 60,
   "id": "continuous-argument",
   "metadata": {},
   "outputs": [
    {
     "name": "stdout",
     "output_type": "stream",
     "text": [
      "[2021-06-21 14:57:13,299] {pyplot.py:290} DEBUG - Loaded backend module://ipympl.backend_nbagg version unknown.\n",
      "Populating the interactive namespace from numpy and matplotlib\n",
      "The autoreload extension is already loaded. To reload it, use:\n",
      "  %reload_ext autoreload\n"
     ]
    }
   ],
   "source": [
    "%pylab widget\n",
    "%load_ext autoreload\n",
    "%autoreload 2"
   ]
  },
  {
   "cell_type": "code",
   "execution_count": 61,
   "id": "suited-franklin",
   "metadata": {},
   "outputs": [],
   "source": [
    "import fastcat as fc"
   ]
  },
  {
   "cell_type": "markdown",
   "id": "tight-signal",
   "metadata": {},
   "source": [
    "# Initialize the spectrum"
   ]
  },
  {
   "cell_type": "code",
   "execution_count": 62,
   "id": "designed-trace",
   "metadata": {},
   "outputs": [],
   "source": [
    "s = fc.calculate_spectrum(100,14,3,50,monitor=None)"
   ]
  },
  {
   "cell_type": "code",
   "execution_count": 63,
   "id": "humanitarian-trail",
   "metadata": {},
   "outputs": [],
   "source": [
    "s.attenuate(0.4,fc.get_mu(z=13)) # Aluminum inherent filtration\n",
    "s.attenuate(0.089,fc.get_mu(z=22)) # Titanium beam hardening filter"
   ]
  },
  {
   "cell_type": "code",
   "execution_count": 64,
   "id": "rough-worker",
   "metadata": {},
   "outputs": [
    {
     "data": {
      "application/vnd.jupyter.widget-view+json": {
       "model_id": "4b6cee52ba14457f8bf2976690a02e6c",
       "version_major": 2,
       "version_minor": 0
      },
      "text/plain": [
       "Canvas(toolbar=Toolbar(toolitems=[('Home', 'Reset original view', 'home', 'home'), ('Back', 'Back to previous …"
      ]
     },
     "metadata": {},
     "output_type": "display_data"
    }
   ],
   "source": [
    "plt.figure()\n",
    "s.get_plot(plt.subplot())"
   ]
  },
  {
   "cell_type": "markdown",
   "id": "connected-ballot",
   "metadata": {},
   "source": [
    "# Initialize the detector"
   ]
  },
  {
   "cell_type": "code",
   "execution_count": 65,
   "id": "imported-wilson",
   "metadata": {},
   "outputs": [
    {
     "data": {
      "application/vnd.jupyter.widget-view+json": {
       "model_id": "96dc1c2a661c4185aa167bd572ef89ef",
       "version_major": 2,
       "version_minor": 0
      },
      "text/plain": [
       "Canvas(toolbar=Toolbar(toolitems=[('Home', 'Reset original view', 'home', 'home'), ('Back', 'Back to previous …"
      ]
     },
     "metadata": {},
     "output_type": "display_data"
    }
   ],
   "source": [
    "det = fc.Detector(s,'CZT-342-micrometer')\n",
    "det.add_focal_spot(0.6)\n",
    "\n",
    "plt.figure()\n",
    "det.get_plot(plt.subplot())"
   ]
  },
  {
   "cell_type": "markdown",
   "id": "boolean-scotland",
   "metadata": {},
   "source": [
    "# Initialize the phantom"
   ]
  },
  {
   "cell_type": "code",
   "execution_count": 66,
   "id": "derived-parallel",
   "metadata": {},
   "outputs": [
    {
     "name": "stdout",
     "output_type": "stream",
     "text": [
      "[2021-06-21 14:58:07,890] {phantoms.py:878} INFO - Phantom is low resolution\n"
     ]
    }
   ],
   "source": [
    "phantom = fc.Catphan_404_Devon(hi_res=False)"
   ]
  },
  {
   "cell_type": "markdown",
   "id": "level-compound",
   "metadata": {},
   "source": [
    "# Run the simulation"
   ]
  },
  {
   "cell_type": "code",
   "execution_count": 67,
   "id": "encouraging-spectrum",
   "metadata": {},
   "outputs": [
    {
     "name": "stdout",
     "output_type": "stream",
     "text": [
      "[2021-06-21 14:58:12,836] {simulate.py:465} INFO - Running Simulations\n",
      "[2021-06-21 14:58:12,836] {simulate.py:469} INFO -     0.6 mm focal spot added\n",
      "[2021-06-21 14:58:12,836] {simulate.py:480} INFO -     Simulating 10 keV\n",
      "[2021-06-21 14:58:15,069] {simulate.py:480} INFO -     Simulating 20 keV\n",
      "[2021-06-21 14:58:17,287] {simulate.py:480} INFO -     Simulating 30 keV\n",
      "[2021-06-21 14:58:19,777] {simulate.py:480} INFO -     Simulating 40 keV\n",
      "[2021-06-21 14:58:22,341] {simulate.py:480} INFO -     Simulating 50 keV\n",
      "[2021-06-21 14:58:24,817] {simulate.py:480} INFO -     Simulating 60 keV\n",
      "[2021-06-21 14:58:27,332] {simulate.py:480} INFO -     Simulating 70 keV\n",
      "[2021-06-21 14:58:29,825] {simulate.py:480} INFO -     Simulating 80 keV\n",
      "[2021-06-21 14:58:32,438] {simulate.py:480} INFO -     Simulating 90 keV\n",
      "[2021-06-21 14:58:35,009] {simulate.py:480} INFO -     Simulating 100 keV\n",
      "[2021-06-21 14:58:37,329] {simulate.py:612} INFO - Weighting simulations\n",
      "[2021-06-21 14:58:37,330] {simulate.py:686} INFO -     No noise was added\n"
     ]
    }
   ],
   "source": [
    "angles = np.linspace(0,np.pi*2,180,endpoint=False)\n",
    "phantom.return_projs(det,s,angles,ASG=False)"
   ]
  },
  {
   "cell_type": "code",
   "execution_count": 42,
   "id": "similar-billy",
   "metadata": {},
   "outputs": [
    {
     "data": {
      "application/vnd.jupyter.widget-view+json": {
       "model_id": "",
       "version_major": 2,
       "version_minor": 0
      },
      "text/plain": [
       "Canvas(toolbar=Toolbar(toolitems=[('Home', 'Reset original view', 'home', 'home'), ('Back', 'Back to previous …"
      ]
     },
     "metadata": {},
     "output_type": "display_data"
    }
   ],
   "source": [
    "class IndexTracker(object):\n",
    "    def __init__(self, ax, X):\n",
    "        self.ax = ax\n",
    "        ax.set_title('use scroll wheel to navigate images')\n",
    "\n",
    "        self.X = X\n",
    "        rows, cols, self.slices = X.shape\n",
    "        self.ind = 10 #self.slices//2\n",
    "\n",
    "        self.im = ax.imshow(self.X[:, :, self.ind])\n",
    "        self.update()\n",
    "\n",
    "    def onscroll(self, event):\n",
    "        print(\"%s %s\" % (event.button, event.step))\n",
    "        if event.button == 'up':\n",
    "            self.ind = (self.ind + 1) % self.slices\n",
    "        else:\n",
    "            self.ind = (self.ind - 1) % self.slices\n",
    "        self.update()\n",
    "\n",
    "    def update(self):\n",
    "        self.im.set_data(self.X[:, :, self.ind])\n",
    "        ax.set_ylabel('slice %s' % self.ind)\n",
    "        self.im.axes.figure.canvas.draw()\n",
    "\n",
    "fig, ax = plt.subplots(1, 1)\n",
    "\n",
    "X = np.array(phantom.proj.T)\n",
    "\n",
    "tracker = IndexTracker(ax, X)\n",
    "\n",
    "fig.canvas.mpl_connect('scroll_event', tracker.onscroll)\n",
    "plt.show()"
   ]
  },
  {
   "cell_type": "code",
   "execution_count": 43,
   "id": "herbal-membrane",
   "metadata": {},
   "outputs": [
    {
     "data": {
      "application/vnd.jupyter.widget-view+json": {
       "model_id": "6a845b21cf3842e2820537f44e2c86d1",
       "version_major": 2,
       "version_minor": 0
      },
      "text/plain": [
       "Canvas(toolbar=Toolbar(toolitems=[('Home', 'Reset original view', 'home', 'home'), ('Back', 'Back to previous …"
      ]
     },
     "metadata": {},
     "output_type": "display_data"
    },
    {
     "data": {
      "text/plain": [
       "<matplotlib.image.AxesImage at 0x7efc2d8f5190>"
      ]
     },
     "execution_count": 43,
     "metadata": {},
     "output_type": "execute_result"
    }
   ],
   "source": [
    "plt.figure()\n",
    "plt.imshow(phantom.proj[90],cmap='gray')"
   ]
  },
  {
   "cell_type": "markdown",
   "id": "accessible-conversion",
   "metadata": {},
   "source": [
    "# Reconstruct"
   ]
  },
  {
   "cell_type": "code",
   "execution_count": 68,
   "id": "outstanding-scene",
   "metadata": {},
   "outputs": [
    {
     "data": {
      "application/vnd.jupyter.widget-view+json": {
       "model_id": "9d741d0cb41145b296c7a6c0be93a97f",
       "version_major": 2,
       "version_minor": 0
      },
      "text/plain": [
       "Canvas(toolbar=Toolbar(toolitems=[('Home', 'Reset original view', 'home', 'home'), ('Back', 'Back to previous …"
      ]
     },
     "metadata": {},
     "output_type": "display_data"
    },
    {
     "data": {
      "text/plain": [
       "<matplotlib.image.AxesImage at 0x7efc2d4266d0>"
      ]
     },
     "execution_count": 68,
     "metadata": {},
     "output_type": "execute_result"
    }
   ],
   "source": [
    "phantom.reconstruct('FDK',filt='ram_lak')\n",
    "\n",
    "plt.figure()\n",
    "plt.imshow(phantom.img[5],cmap='gray')"
   ]
  },
  {
   "cell_type": "code",
   "execution_count": null,
   "id": "exempt-omaha",
   "metadata": {},
   "outputs": [],
   "source": []
  }
 ],
 "metadata": {
  "kernelspec": {
   "display_name": "Python 3",
   "language": "python",
   "name": "python3"
  },
  "language_info": {
   "codemirror_mode": {
    "name": "ipython",
    "version": 3
   },
   "file_extension": ".py",
   "mimetype": "text/x-python",
   "name": "python",
   "nbconvert_exporter": "python",
   "pygments_lexer": "ipython3",
   "version": "3.7.6"
  }
 },
 "nbformat": 4,
 "nbformat_minor": 5
}
