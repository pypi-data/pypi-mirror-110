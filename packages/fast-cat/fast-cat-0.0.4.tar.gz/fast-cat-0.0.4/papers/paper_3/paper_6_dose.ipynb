{
 "cells": [
  {
   "cell_type": "code",
   "execution_count": 2,
   "metadata": {},
   "outputs": [
    {
     "name": "stdout",
     "output_type": "stream",
     "text": [
      "Populating the interactive namespace from numpy and matplotlib\n"
     ]
    }
   ],
   "source": [
    "%pylab widget\n",
    "%load_ext autoreload\n",
    "%autoreload 2\n",
    "\n",
    "from analysis_functions import *\n",
    "import fastcat.fastcat as fc\n",
    "from scipy.optimize import minimize"
   ]
  },
  {
   "cell_type": "markdown",
   "metadata": {},
   "source": [
    "# First lets look at the GOS"
   ]
  },
  {
   "cell_type": "code",
   "execution_count": 3,
   "metadata": {},
   "outputs": [],
   "source": [
    "# %%timeit -r 1\n",
    "nviews = 493 #493 #247 #165 #124 for the others\n",
    "\n",
    "s = fc.Spectrum()\n",
    "# s.load('Varian_truebeam')\n",
    "s.load('W_spectrum_6')\n",
    "s.x[0] = 1; s.x[1] = 2\n",
    "s.attenuate(0.,fc.get_mu(z=13))\n",
    "\n",
    "kernel = fc.Kernel(s,'CuGOS-784-micrometer')\n",
    "kernel.add_focal_spot(1.2)\n",
    "angles = np.linspace(0,np.pi*2,nviews)\n",
    "\n",
    "fudge = 0.22/1.07765*1.3907\n",
    "dose = fudge*3000/505\n",
    "\n",
    "phantom = fc.Catphan_404()\n",
    "phantom.phan_map = ['air','G4_POLYSTYRENE','G4_POLYVINYL_BUTYRAL','G4_POLYVINYL_BUTYRAL','CATPHAN_Delrin','G4_POLYVINYL_BUTYRAL','CATPHAN_Teflon_revised','air','CATPHAN_PMP','G4_POLYVINYL_BUTYRAL','CATPHAN_LDPE','G4_POLYVINYL_BUTYRAL','CATPHAN_Polystyrene','air','CATPHAN_Acrylic','air','CATPHAN_Teflon_revised','air','air','air','air'] \n",
    "# phantom.phan_map = ['air','G4_NYLON-8062','CATPHAN_Acrylic','CATPHAN_Acrylic','CATPHAN_Delrin_revised','CATPHAN_Acrylic','CATPHAN_Teflon_revised','air','CATPHAN_PMP','CATPHAN_Acrylic','CATPHAN_LDPE','CATPHAN_Acrylic','CATPHAN_Polystyrene','air','CATPHAN_Acrylic','air','CATPHAN_Teflon','air','air','air','air'] \n",
    "phantom.return_projs(kernel,s,angles,mgy=18,bowtie=True,filter='FF_t0') # should be 507"
   ]
  },
  {
   "cell_type": "code",
   "execution_count": 8,
   "metadata": {},
   "outputs": [],
   "source": [
    "phantom.proj = phantom.proj * 1/0.97\n",
    "phantom.reconstruct('FDK',filt='ram_lak')"
   ]
  },
  {
   "cell_type": "code",
   "execution_count": 10,
   "metadata": {},
   "outputs": [],
   "source": [
    "phantom.img = (phantom.img[:,::2,::2] + phantom.img[:,1::2,::2] + phantom.img[:,::2,1::2] + phantom.img[:,1::2,1::2])/4\n",
    "im = create_mask(phantom.img[5].shape,r=5.7,radius=0.4)\n",
    "contrast_fc, CNR_fc, noise_fc = return_CNR(phantom.img[5],im)"
   ]
  },
  {
   "cell_type": "markdown",
   "metadata": {},
   "source": [
    "## Now lets look at the bcca data"
   ]
  },
  {
   "cell_type": "code",
   "execution_count": 11,
   "metadata": {},
   "outputs": [],
   "source": [
    "# np.save('no_noise_good_flat_filt_paper_draft_april',image_fc_scaled)\n",
    "# image_fc_scaled = np.load('no_noise_good_flat_filt_paper_draft_april.npy')"
   ]
  },
  {
   "cell_type": "code",
   "execution_count": 22,
   "metadata": {},
   "outputs": [
    {
     "data": {
      "application/vnd.jupyter.widget-view+json": {
       "model_id": "746a53c6bb5b416999e08bd32862b05e",
       "version_major": 2,
       "version_minor": 0
      },
      "text/plain": [
       "Canvas(toolbar=Toolbar(toolitems=[('Home', 'Reset original view', 'home', 'home'), ('Back', 'Back to previous …"
      ]
     },
     "metadata": {},
     "output_type": "display_data"
    },
    {
     "name": "stderr",
     "output_type": "stream",
     "text": [
      "/home/xcite/anaconda3/lib/python3.7/site-packages/ipykernel_launcher.py:3: RuntimeWarning: More than 20 figures have been opened. Figures created through the pyplot interface (`matplotlib.pyplot.figure`) are retained until explicitly closed and may consume too much memory. (To control this warning, see the rcParam `figure.max_open_warning`).\n",
      "  This is separate from the ipykernel package so we can avoid doing imports until\n"
     ]
    },
    {
     "data": {
      "application/vnd.jupyter.widget-view+json": {
       "model_id": "6515abb4798d4482892bf41faf0a82b5",
       "version_major": 2,
       "version_minor": 0
      },
      "text/plain": [
       "Canvas(toolbar=Toolbar(toolitems=[('Home', 'Reset original view', 'home', 'home'), ('Back', 'Back to previous …"
      ]
     },
     "metadata": {},
     "output_type": "display_data"
    },
    {
     "data": {
      "application/vnd.jupyter.widget-view+json": {
       "model_id": "4dce12b7b1b9471d9aed901e5383f051",
       "version_major": 2,
       "version_minor": 0
      },
      "text/plain": [
       "Canvas(toolbar=Toolbar(toolitems=[('Home', 'Reset original view', 'home', 'home'), ('Back', 'Back to previous …"
      ]
     },
     "metadata": {},
     "output_type": "display_data"
    },
    {
     "data": {
      "text/plain": [
       "<matplotlib.image.AxesImage at 0x7fa10b9675d0>"
      ]
     },
     "execution_count": 22,
     "metadata": {},
     "output_type": "execute_result"
    }
   ],
   "source": [
    "plt.figure()\n",
    "plt.imshow(phantom.img[5],cmap='gray')\n",
    "plt.figure()\n",
    "plt.imshow(10*recon_slice,cmap='gray')\n",
    "plt.figure()\n",
    "plt.imshow(np.hstack([1/0.97*phantom.img[5],recon_slice]))"
   ]
  },
  {
   "cell_type": "code",
   "execution_count": 17,
   "metadata": {},
   "outputs": [
    {
     "name": "stdout",
     "output_type": "stream",
     "text": [
      "      fun: 0.03064262494444847\n",
      " hess_inv: array([[ 1.61510961e-04, -4.84532883e-04],\n",
      "       [-4.84532883e-04,  5.06453599e-01]])\n",
      "      jac: array([0., 0.])\n",
      "  message: 'Optimization terminated successfully.'\n",
      "     nfev: 27\n",
      "      nit: 4\n",
      "     njev: 9\n",
      "   status: 0\n",
      "  success: True\n",
      "        x: array([0.00926343, 1.14289781])\n"
     ]
    },
    {
     "data": {
      "application/vnd.jupyter.widget-view+json": {
       "model_id": "e70cbbd4fc784812972331aa06aa228c",
       "version_major": 2,
       "version_minor": 0
      },
      "text/plain": [
       "Canvas(toolbar=Toolbar(toolitems=[('Home', 'Reset original view', 'home', 'home'), ('Back', 'Back to previous …"
      ]
     },
     "metadata": {},
     "output_type": "display_data"
    }
   ],
   "source": [
    "bcca_recon = np.load('/home/xcite/MV_CBCT/old_recon_6x_300_rared.npy')\n",
    "recon_slice = 10*np.rot90(np.mean(bcca_recon.T[31:52],0),2)\n",
    "im = create_mask(recon_slice.shape,off =[-0.15,0], r= 5.75,radius=0.3)\n",
    "contrast_bcca, CNR_bcca, noise_bcca = return_CNR(recon_slice,im)#,show_map=True)\n",
    "\n",
    "def HU_fun(a,x,y):\n",
    "    return np.sum(np.abs((x - a[0])*(a[1]) - y))\n",
    "\n",
    "reses = []\n",
    "rem = []\n",
    "\n",
    "for off in [-0.04,-0.03,-0.02,-0.01,0,0.01,0.02,0.03,0.04]:\n",
    "    reses.append(minimize(HU_fun,[contrast_fc[0],contrast_fc[5]+off],args=(contrast_fc,contrast_bcca)))\n",
    "    rem.append(reses[-1].fun)\n",
    "    \n",
    "res = reses[np.argmin(rem)]\n",
    "print(res)\n",
    "\n",
    "x = [.853,0.945,.998,1.147,1.36,1.87]\n",
    "contrast_fc_scaled = (contrast_fc - res.x[0])*(res.x[1])\n",
    "image_fc_scaled = np.roll((phantom.img[4]- res.x[0] - 0.003)*(res.x[1]+0.004),5)\n",
    "\n",
    "plt.figure(figsize=[8,8])\n",
    "plt.subplot(221)\n",
    "plt.imshow(recon_slice,cmap='gray',vmin=0.001,vmax=0.007)\n",
    "plt.axis('off')\n",
    "plt.subplot(222)\n",
    "plt.imshow(image_fc_scaled,cmap='gray',vmin=0.001,vmax=0.007)\n",
    "plt.axis('off')\n",
    "plt.subplot(223)\n",
    "plt.plot(x,contrast_fc_scaled,'s',c='cornflowerblue',label='fastCAT')\n",
    "plt.plot(x,contrast_bcca,'s',c='darkorange',label='Star-lack')\n",
    "plt.subplot(224)\n",
    "plt.plot(np.mean(recon_slice[250:260,7:-7],0),c='darkorange')\n",
    "plt.plot(np.rot90(image_fc_scaled,0)[257,7:-7],c='cornflowerblue')\n",
    "plt.tight_layout()"
   ]
  },
  {
   "cell_type": "code",
   "execution_count": 32,
   "metadata": {},
   "outputs": [],
   "source": [
    "np.save('fc_images/fc_image_gos_6x_493_small_noise',image_fc_scaled)"
   ]
  },
  {
   "cell_type": "code",
   "execution_count": 55,
   "metadata": {},
   "outputs": [
    {
     "name": "stdout",
     "output_type": "stream",
     "text": [
      "Open other images in this ImageJ panel as follows:\n",
      "  imagej -p 1 <image1> [<image2> ... <imageN>]\n",
      "\n"
     ]
    }
   ],
   "source": [
    "plt.imsave('im_for_imagej.png',np.hstack((recon_slice,image_fc_scaled)))\n",
    "!imagej im_for_imagej.png"
   ]
  },
  {
   "cell_type": "markdown",
   "metadata": {},
   "source": [
    "# Now lets look at the kV data "
   ]
  },
  {
   "cell_type": "code",
   "execution_count": 44,
   "metadata": {},
   "outputs": [
    {
     "name": "stdout",
     "output_type": "stream",
     "text": [
      "(19, 19, 19) 19\n"
     ]
    }
   ],
   "source": [
    "# %%timeit -r 1\n",
    "nviews = 887 # 222 296 444 887 That is how many are in the file \n",
    "s = fc.calculate_spectrum(100, 14, 3, 100,monitor=None)\n",
    "s.attenuate(0.4,fc.get_mu(z=13)) #0.4\n",
    "s.attenuate(0.089,fc.get_mu(z=22))\n",
    "kernel = fc.Kernel(s,'CsI-784-micrometer')\n",
    "kernel.add_focal_spot(2.2)\n",
    "# angles = np.linspace(0.1,np.pi*2,nviews)        "
   ]
  },
  {
   "cell_type": "code",
   "execution_count": 45,
   "metadata": {},
   "outputs": [],
   "source": [
    "angles = np.load('/home/xcite/MV_CBCT/angles_kv.npy')[::1]"
   ]
  },
  {
   "cell_type": "code",
   "execution_count": 51,
   "metadata": {},
   "outputs": [
    {
     "name": "stdout",
     "output_type": "stream",
     "text": [
      "bowtie is off False\n",
      "Using the bowtie filter True\n",
      "really doing it!\n",
      "bowtie scatter\n",
      "ratio is 118.71110502710788 number of photons 0.6657473411255314\n"
     ]
    }
   ],
   "source": [
    "conversion = 1.07765#*(0.511/0.784)**2\n",
    "\n",
    "fudge = 0.3 # 0.018\n",
    "# !!!!! Scatter is off\n",
    "phantom = fc.Catphan_404()#pitch = 0.511)\n",
    "# phantom.phan_map = ['air','G4_NYLON-8062','CATPHAN_Acrylic','CATPHAN_Acrylic','CATPHAN_Delrin','CATPHAN_Acrylic','CATPHAN_Teflon_revised','air','CATPHAN_PMP','CATPHAN_Acrylic','CATPHAN_LDPE','CATPHAN_Acrylic','CATPHAN_Polystyrene','air','CATPHAN_Acrylic','air','CATPHAN_Teflon_revised','air','air','air','air'] \n",
    "phantom.phan_map = ['air','G4_POLYSTYRENE','G4_POLYVINYL_BUTYRAL','G4_POLYVINYL_BUTYRAL','CATPHAN_Delrin','G4_POLYVINYL_BUTYRAL','CATPHAN_Teflon_revised','air','CATPHAN_PMP','G4_POLYVINYL_BUTYRAL','CATPHAN_LDPE','G4_POLYVINYL_BUTYRAL','CATPHAN_Polystyrene','air','CATPHAN_Acrylic','air','CATPHAN_Teflon','air','air','air','air'] \n",
    "# phantom.phan_map = ['air','G4_POLYSTYRENE','G4_POLYVINYL_BUTYRAL','G4_POLYVINYL_BUTYRAL','CATPHAN_Delrin','G4_POLYVINYL_BUTYRAL','CATPHAN_Teflon_revised','air','CATPHAN_PMP','G4_POLYVINYL_BUTYRAL','CATPHAN_LDPE','G4_POLYVINYL_BUTYRAL','CATPHAN_Polystyrene','air','G4_POLYVINYL_BUTYRAL','air','CATPHAN_Teflon_revised','air','air','air','air'] \n",
    "# phantom.phan_map = ['air','CATPHAN_Polystyrene','CATPHAN_Acrylic','CATPHAN_Acrylic','CATPHAN_Delrin','CATPHAN_Acrylic','CATPHAN_Teflon_revised','air','CATPHAN_PMP','CATPHAN_Acrylic','CATPHAN_LDPE','CATPHAN_Acrylic','CATPHAN_Polystyrene','air','CATPHAN_Acrylic','air','CATPHAN_Teflon_revised','air','air','air','air'] \n",
    "phantom.return_projs(kernel,s,angles,scat_on=True,mgy=0.004,bowtie=True,filter='bowtie_asym') #bowtie8 1.077 conversion was april mgy=fudge*21.1/1000\n",
    "phantom.reconstruct('FDK',filt='ram_lak')"
   ]
  },
  {
   "cell_type": "code",
   "execution_count": 52,
   "metadata": {},
   "outputs": [],
   "source": [
    "phantom.img = (phantom.img[:,::2,::2] + phantom.img[:,1::2,::2] + phantom.img[:,::2,1::2] + phantom.img[:,1::2,1::2])/4\n",
    "im = create_mask(phantom.img[4].shape,r=5.75,radius=0.4)\n",
    "contrast_fc, CNR_fc, noise_fc = return_CNR(phantom.img[4],im)"
   ]
  },
  {
   "cell_type": "code",
   "execution_count": 53,
   "metadata": {},
   "outputs": [
    {
     "data": {
      "application/vnd.jupyter.widget-view+json": {
       "model_id": "56e75405ca674ccd815b82f284150f54",
       "version_major": 2,
       "version_minor": 0
      },
      "text/plain": [
       "Canvas(toolbar=Toolbar(toolitems=[('Home', 'Reset original view', 'home', 'home'), ('Back', 'Back to previous …"
      ]
     },
     "metadata": {},
     "output_type": "display_data"
    },
    {
     "data": {
      "text/plain": [
       "<matplotlib.image.AxesImage at 0x7fef5b52ffd0>"
      ]
     },
     "execution_count": 53,
     "metadata": {},
     "output_type": "execute_result"
    }
   ],
   "source": [
    "bcca_recon = np.load('/home/xcite/MV_CBCT/recon_kV_full.npy').T #recon_kv_jan_2021.npy')\n",
    "recon_slice = np.rot90(np.mean(bcca_recon.T[32:33],0)).copy()\n",
    "im = create_mask(recon_slice.shape,r=5.8,off = [0.2,0.05],rot = 1)\n",
    "contrast_bcca, CNR_bcca, noise_bcca = return_CNR(recon_slice,im)#,show_map=True)\n",
    "\n",
    "def HU_fun(a,x,y):\n",
    "    return np.sum(np.abs((x - a[0])*(a[1]) - y))\n",
    "\n",
    "reses = []\n",
    "rem = []\n",
    "\n",
    "for off in np.arange(-0.4,0.4,0.02):\n",
    "    reses.append(minimize(HU_fun,[contrast_fc[2],contrast_fc[-3]+off],args=(contrast_fc,contrast_bcca)))\n",
    "    rem.append(reses[-1].fun)\n",
    "    \n",
    "res = reses[np.argmin(rem)]\n",
    "    \n",
    "fc_data = (contrast_fc - res.x[0])*(res.x[1])\n",
    "# fc_image = np.roll((phantom.img[4] - (res.x[0]+0.0103))*(res.x[1]+0.0067),-4)\n",
    "fc_image = np.roll((phantom.img[4] - (res.x[0]))*(res.x[1]),-4)\n",
    "\n",
    "x = [.853,0.945,.998,1.147,1.36,1.87]\n",
    "\n",
    "plt.figure(figsize=[8,8])\n",
    "plt.subplot(221)\n",
    "plt.plot(x,contrast_bcca,'s',c='darkorange',label='')\n",
    "plt.plot(x,fc_data,'*',c='cornflowerblue',label='fastCAT')\n",
    "plt.legend()\n",
    "plt.subplot(222)\n",
    "dist = np.linspace(-7.89,7.89,512-20)\n",
    "dist2= np.linspace(-8,8,512-20)\n",
    "plt.plot(dist,np.mean(recon_slice[250:260,10:-10],0),c='darkorange')\n",
    "plt.plot(dist2,np.mean(np.rot90(np.roll(fc_image,7),2)[250:260,10:-10],0),c='cornflowerblue')\n",
    "plt.subplot(223)\n",
    "plt.imshow(np.rot90(fc_image,0),cmap='gray',vmin=0.013,vmax=0.027)\n",
    "plt.subplot(224)\n",
    "plt.imshow(np.rot90(recon_slice,2),cmap='gray',vmin=0.013,vmax=0.027)"
   ]
  },
  {
   "cell_type": "code",
   "execution_count": 54,
   "metadata": {},
   "outputs": [],
   "source": [
    "np.save('fc_images/fc_image_kv_887_noise',fc_image)"
   ]
  },
  {
   "cell_type": "code",
   "execution_count": 341,
   "metadata": {},
   "outputs": [
    {
     "name": "stdout",
     "output_type": "stream",
     "text": [
      "Open other images in this ImageJ panel as follows:\n",
      "  imagej -p 1 <image1> [<image2> ... <imageN>]\n",
      "\n",
      "Fontconfig error: \"/home/xcite/.config/fontconfig/fonts.conf\", line 5: no element found\n",
      "Fontconfig error: \"/home/xcite/.config/fontconfig/fonts.conf\", line 5: invalid attribute 'target'\n"
     ]
    }
   ],
   "source": [
    "plt.imsave('data/im_for_imagej.png',np.hstack((recon_slice,fc_image)),cmap='gray')\n",
    "!imagej data/im_for_imagej.png"
   ]
  },
  {
   "cell_type": "markdown",
   "metadata": {},
   "source": [
    "# Now let's take a look at the images in terms of CNR"
   ]
  },
  {
   "cell_type": "code",
   "execution_count": 45,
   "metadata": {},
   "outputs": [],
   "source": [
    "from glob import glob"
   ]
  },
  {
   "cell_type": "code",
   "execution_count": 46,
   "metadata": {},
   "outputs": [
    {
     "data": {
      "application/vnd.jupyter.widget-view+json": {
       "model_id": "08f7d63e7c064f7890ae672abcefccf4",
       "version_major": 2,
       "version_minor": 0
      },
      "text/plain": [
       "Canvas(toolbar=Toolbar(toolitems=[('Home', 'Reset original view', 'home', 'home'), ('Back', 'Back to previous …"
      ]
     },
     "metadata": {},
     "output_type": "display_data"
    },
    {
     "data": {
      "text/plain": [
       "<matplotlib.legend.Legend at 0x7f84caae2d10>"
      ]
     },
     "execution_count": 46,
     "metadata": {},
     "output_type": "execute_result"
    }
   ],
   "source": [
    "im = create_mask([512,512],r=5.7,radius=0.4)\n",
    "im2 = create_mask([512,512],off =[-0.15,0], r= 5.75,radius=0.3)\n",
    "\n",
    "CNRs = []\n",
    "\n",
    "plt.figure()\n",
    "\n",
    "exp_files = np.array(glob('/home/xcite/MV_CBCT/recon_6x_300_*.npy'))[np.array([0,1,3,2])]\n",
    "\n",
    "ii = 0\n",
    "for file_fc, file_exp in zip(sorted(glob('fc_images/fc_image_gos*.npy'))[-1::-1],exp_files):\n",
    "    \n",
    "    im_fc = np.load(file_fc)\n",
    "    im_exp = np.rot90(np.load(file_exp).T[35],2)\n",
    "    contrast_fc, CNR_fc, noise_fc = return_CNR(np.roll(im_fc,-5),im)\n",
    "    contrast_bcca, CNR_exp, noise_bcca = return_CNR(im_exp,im2)#,show_map=True)\n",
    "    CNRs.append(CNR_fc)\n",
    "    plt.plot(ii,np.mean(CNR_fc),'b*',label=file_fc.split('/')[-1][-7:-4] + ' fc')\n",
    "    plt.plot(ii+0.1,2.6*np.mean(CNR_exp),'r*',label=file_fc.split('/')[-1][-7:-4] +' exp')\n",
    "    \n",
    "    ii += 1\n",
    "\n",
    "plt.legend()"
   ]
  },
  {
   "cell_type": "markdown",
   "metadata": {},
   "source": [
    "# Looking at the kV"
   ]
  },
  {
   "cell_type": "code",
   "execution_count": 80,
   "metadata": {},
   "outputs": [
    {
     "data": {
      "application/vnd.jupyter.widget-view+json": {
       "model_id": "ee6a82816244421fba3d0aeedee85235",
       "version_major": 2,
       "version_minor": 0
      },
      "text/plain": [
       "Canvas(toolbar=Toolbar(toolitems=[('Home', 'Reset original view', 'home', 'home'), ('Back', 'Back to previous …"
      ]
     },
     "metadata": {},
     "output_type": "display_data"
    },
    {
     "data": {
      "text/plain": [
       "<matplotlib.legend.Legend at 0x7f84c82cbb50>"
      ]
     },
     "execution_count": 80,
     "metadata": {},
     "output_type": "execute_result"
    }
   ],
   "source": [
    "im2 = create_mask([512,512],r=5.8,off = [0.2,0.05],rot = 1)\n",
    "im = create_mask([512,512],r=5.75,radius=0.4)\n",
    "\n",
    "CNRs = []\n",
    "\n",
    "plt.figure()\n",
    "\n",
    "exp_files = np.array(glob('/home/xcite/MV_CBCT/recon_kV*.npy'))[np.array([0,3,2,1])]\n",
    "\n",
    "ii = 0\n",
    "for file_fc, file_exp in zip(sorted(glob('fc_images/fc_image_kv*.npy'))[-1::-1],exp_files):\n",
    "    \n",
    "    im_fc = np.load(file_fc)\n",
    "    im_exp = np.rot90(np.mean(np.load(file_exp)[35:37],0),2)\n",
    "    contrast_fc, CNR_fc, noise_fc = return_CNR(np.roll(im_fc,-5),im)\n",
    "    contrast_bcca, CNR_exp, noise_bcca = return_CNR(im_exp,im2)#,show_map=True)\n",
    "    CNRs.append(CNR_fc)\n",
    "    plt.plot(ii,np.mean(CNR_fc),'b*',label=file_fc.split('/')[-1][-7:-4] + ' fc')\n",
    "    plt.plot(ii+0.1,2.6*np.mean(CNR_exp),'r*',label=file_fc.split('/')[-1][-7:-4] +' exp')\n",
    "    \n",
    "    ii += 1\n",
    "\n",
    "plt.legend()"
   ]
  },
  {
   "cell_type": "code",
   "execution_count": 72,
   "metadata": {},
   "outputs": [
    {
     "data": {
      "text/plain": [
       "((512, 100), (512, 512))"
      ]
     },
     "execution_count": 72,
     "metadata": {},
     "output_type": "execute_result"
    }
   ],
   "source": [
    "im_exp.shape,im2.shape"
   ]
  },
  {
   "cell_type": "markdown",
   "metadata": {},
   "source": [
    "# Now lets look at the 2.5 MV"
   ]
  },
  {
   "cell_type": "code",
   "execution_count": 2,
   "metadata": {},
   "outputs": [
    {
     "name": "stdout",
     "output_type": "stream",
     "text": [
      "Populating the interactive namespace from numpy and matplotlib\n"
     ]
    }
   ],
   "source": [
    "%pylab widget"
   ]
  },
  {
   "cell_type": "code",
   "execution_count": 40,
   "metadata": {},
   "outputs": [
    {
     "name": "stdout",
     "output_type": "stream",
     "text": [
      "(19, 41, 41) 19\n",
      "bowtie is off False\n",
      "Using the bowtie filter True\n",
      "really doing it!\n",
      "ratio is 17874.726480268397 number of photons 0.01015508406165716\n"
     ]
    },
    {
     "data": {
      "application/vnd.jupyter.widget-view+json": {
       "model_id": "c29b013f7c4f4dd5bd4af93394d21d8d",
       "version_major": 2,
       "version_minor": 0
      },
      "text/plain": [
       "Canvas(toolbar=Toolbar(toolitems=[('Home', 'Reset original view', 'home', 'home'), ('Back', 'Back to previous …"
      ]
     },
     "metadata": {},
     "output_type": "display_data"
    }
   ],
   "source": [
    "# %%timeit -r 1\n",
    "nviews =  493 #493 #247 #165 #124 for the others\n",
    "\n",
    "s = fc.Spectrum()\n",
    "s.load('W_spectrum_25')\n",
    "kernel = fc.Kernel(s,'CuGOS-784-micrometer')\n",
    "# kernel.add_focal_spot(1.2)\n",
    "angles = np.load('/home/xcite/MV_CBCT/angles_25x.npy')\n",
    "\n",
    "phantom = fc.Catphan_404()\n",
    "phantom.phan_map = ['air','G4_NYLON-8062','CATPHAN_Acrylic','CATPHAN_Acrylic',\n",
    "                    'CATPHAN_Delrin_revised','CATPHAN_Acrylic','CATPHAN_Teflon_revised',\n",
    "                    'air','CATPHAN_PMP','CATPHAN_Acrylic','CATPHAN_LDPE','CATPHAN_Acrylic','CATPHAN_Polystyrene','air','CATPHAN_Acrylic','air','CATPHAN_Teflon','air','air','air','air'] \n",
    "phantom.return_projs(kernel,s,angles,mgy=600*3/nviews,bowtie=True,filter='FF0') # should be 507\n",
    "phantom.reconstruct('FDK',filt='ram_lak')\n",
    "\n",
    "im = create_mask(phantom.img[5].shape,r=5.7,radius=0.4)\n",
    "contrast_fc, CNR_fc, noise_fc = return_CNR(phantom.img[5],im,show_map=True)"
   ]
  },
  {
   "cell_type": "markdown",
   "metadata": {},
   "source": [
    "## Now lets look at the bcca data"
   ]
  },
  {
   "cell_type": "code",
   "execution_count": 41,
   "metadata": {},
   "outputs": [],
   "source": [
    "bcca_recon = np.load('/home/xcite/MV_CBCT/recon_25x_60.npy')\n",
    "recon_slice = np.rot90(bcca_recon.T[20],2)\n",
    "im = create_mask(recon_slice.shape,off =[0.15,0], r= 5.75,radius=0.3)\n",
    "contrast_bcca, CNR_bcca, noise_bcca = return_CNR(recon_slice,im)#,show_map=True)"
   ]
  },
  {
   "cell_type": "code",
   "execution_count": 42,
   "metadata": {},
   "outputs": [
    {
     "name": "stderr",
     "output_type": "stream",
     "text": [
      "/home/xcite/anaconda3/lib/python3.7/site-packages/ipykernel_launcher.py:17: RuntimeWarning: More than 20 figures have been opened. Figures created through the pyplot interface (`matplotlib.pyplot.figure`) are retained until explicitly closed and may consume too much memory. (To control this warning, see the rcParam `figure.max_open_warning`).\n"
     ]
    },
    {
     "data": {
      "application/vnd.jupyter.widget-view+json": {
       "model_id": "cc97ac02b153495894b25425e8cf663b",
       "version_major": 2,
       "version_minor": 0
      },
      "text/plain": [
       "Canvas(toolbar=Toolbar(toolitems=[('Home', 'Reset original view', 'home', 'home'), ('Back', 'Back to previous …"
      ]
     },
     "metadata": {},
     "output_type": "display_data"
    }
   ],
   "source": [
    "def HU_fun(a,x,y):\n",
    "    return np.sum(np.abs((x - a[0])*(a[1]) - y))\n",
    "\n",
    "reses = []\n",
    "rem = []\n",
    "\n",
    "for off in [-0.04,-0.03,-0.02,-0.01,0,0.01,0.02,0.03,0.04]:\n",
    "    reses.append(minimize(HU_fun,[contrast_fc[0],contrast_fc[5]+off],args=(contrast_fc,contrast_bcca)))\n",
    "    rem.append(reses[-1].fun)\n",
    "    \n",
    "res = reses[np.argmin(rem)]\n",
    "\n",
    "x = [.853,0.945,.998,1.147,1.36,1.87]\n",
    "contrast_fc_scaled = (contrast_fc - res.x[0])*(res.x[1])\n",
    "image_fc_scaled = np.roll((phantom.img[4]- res.x[0])*(res.x[1]),5)\n",
    "\n",
    "plt.figure(figsize=[8,8])\n",
    "plt.subplot(221)\n",
    "plt.imshow(recon_slice,cmap='gray',vmin=0.003,vmax=0.014)\n",
    "plt.axis('off')\n",
    "plt.subplot(222)\n",
    "plt.imshow(image_fc_scaled,cmap='gray',vmin=0.003,vmax=0.014)\n",
    "plt.axis('off')\n",
    "plt.subplot(223)\n",
    "plt.plot(x,contrast_fc_scaled,'s',c='cornflowerblue',label='fastCAT')\n",
    "plt.plot(x,contrast_bcca,'s',c='darkorange',label='Star-lack')\n",
    "plt.subplot(224)\n",
    "plt.plot(recon_slice[256,7:-7])\n",
    "plt.plot(np.rot90(image_fc_scaled,0)[257,7:-7])\n",
    "plt.tight_layout()"
   ]
  },
  {
   "cell_type": "markdown",
   "metadata": {},
   "source": [
    "# Now let's take a look at the images in terms of CNR"
   ]
  },
  {
   "cell_type": "code",
   "execution_count": 2,
   "metadata": {},
   "outputs": [],
   "source": [
    "from glob import glob"
   ]
  },
  {
   "cell_type": "code",
   "execution_count": 105,
   "metadata": {},
   "outputs": [
    {
     "data": {
      "application/vnd.jupyter.widget-view+json": {
       "model_id": "8db013317efd492fb2103b58fecde1df",
       "version_major": 2,
       "version_minor": 0
      },
      "text/plain": [
       "Canvas(toolbar=Toolbar(toolitems=[('Home', 'Reset original view', 'home', 'home'), ('Back', 'Back to previous …"
      ]
     },
     "metadata": {},
     "output_type": "display_data"
    },
    {
     "data": {
      "text/plain": [
       "<matplotlib.legend.Legend at 0x7f84c788c4d0>"
      ]
     },
     "execution_count": 105,
     "metadata": {},
     "output_type": "execute_result"
    }
   ],
   "source": [
    "im = create_mask([512,512],r=5.7,radius=0.4)\n",
    "im2 = create_mask([512,512],off =[-0.15,0], r= 5.75,radius=0.3)\n",
    "\n",
    "CNRs = []\n",
    "\n",
    "plt.figure()\n",
    "\n",
    "exp_files = np.array(glob('/home/xcite/MV_CBCT/recon_6x_300_*.npy'))[np.array([0,1,3,2])]\n",
    "\n",
    "ii = 0\n",
    "for file_fc, file_exp in zip(sorted(glob('fc_images/fc_image_gos*.npy'))[-1::-1],exp_files):\n",
    "    \n",
    "    im_fc = np.load(file_fc)\n",
    "    im_exp = np.rot90(np.load(file_exp).T[35],2)\n",
    "                             \n",
    "    contrast_fc, CNR_fc, noise_fc = return_CNR(np.roll(im_fc,-5),im)\n",
    "    contrast_bcca, CNR_exp, noise_bcca = return_CNR(im_exp,im2)\n",
    "                             \n",
    "    CNRs.append(CNR_fc)\n",
    "    plt.plot(ii,np.mean(CNR_fc),'b*',label=file_fc.split('/')[-1][-7:-4] + ' fc')\n",
    "    plt.plot(ii+0.1,2.6*np.mean(CNR_exp),'r*',label=file_fc.split('/')[-1][-7:-4] +' exp')\n",
    "    \n",
    "    ii += 1\n",
    "\n",
    "plt.legend()"
   ]
  },
  {
   "cell_type": "code",
   "execution_count": 37,
   "metadata": {},
   "outputs": [
    {
     "data": {
      "application/vnd.jupyter.widget-view+json": {
       "model_id": "170a0c55ec664aae9e5ffd918e2dad7f",
       "version_major": 2,
       "version_minor": 0
      },
      "text/plain": [
       "Canvas(toolbar=Toolbar(toolitems=[('Home', 'Reset original view', 'home', 'home'), ('Back', 'Back to previous …"
      ]
     },
     "metadata": {},
     "output_type": "display_data"
    },
    {
     "data": {
      "text/plain": [
       "[<matplotlib.lines.Line2D at 0x7f7c06eaad10>,\n",
       " <matplotlib.lines.Line2D at 0x7f7c06eaadd0>,\n",
       " <matplotlib.lines.Line2D at 0x7f7c06eaae90>,\n",
       " <matplotlib.lines.Line2D at 0x7f7c06eaaf50>,\n",
       " <matplotlib.lines.Line2D at 0x7f7c06eb4050>,\n",
       " <matplotlib.lines.Line2D at 0x7f7c06eb4150>,\n",
       " <matplotlib.lines.Line2D at 0x7f7c06eb4210>,\n",
       " <matplotlib.lines.Line2D at 0x7f7c06eb42d0>,\n",
       " <matplotlib.lines.Line2D at 0x7f7c06eb4390>,\n",
       " <matplotlib.lines.Line2D at 0x7f7c06eb4110>,\n",
       " <matplotlib.lines.Line2D at 0x7f7c06eb44d0>,\n",
       " <matplotlib.lines.Line2D at 0x7f7c06eb4590>,\n",
       " <matplotlib.lines.Line2D at 0x7f7c06eb4650>,\n",
       " <matplotlib.lines.Line2D at 0x7f7c06eb4710>,\n",
       " <matplotlib.lines.Line2D at 0x7f7c06eb47d0>,\n",
       " <matplotlib.lines.Line2D at 0x7f7c06eb4890>,\n",
       " <matplotlib.lines.Line2D at 0x7f7c06eb4950>,\n",
       " <matplotlib.lines.Line2D at 0x7f7c06eb4a10>]"
      ]
     },
     "execution_count": 37,
     "metadata": {},
     "output_type": "execute_result"
    }
   ],
   "source": [
    "\n",
    "no = 0.784\n",
    "npt = 512\n",
    "\n",
    "np2 = 512\n",
    "no2 = 0.511\n",
    "\n",
    "pts2 = np.linspace(0,np2*no2,np2) - np2/2*no2\n",
    "pts = np.linspace(0,npt*no,npt) - npt/2*no\n",
    "\n",
    "p2 = np.zeros_like(phantom.fs)\n",
    "for ii in range(phantom.fs.shape[0]):\n",
    "    p2[ii] = np.interp(pts2,pts,phantom.fs[ii])\n",
    "\n",
    "plt.figure()\n",
    "plt.plot(pts,phantom.fs.T)\n",
    "plt.plot(pts2,p2.T)"
   ]
  },
  {
   "cell_type": "code",
   "execution_count": 28,
   "metadata": {},
   "outputs": [
    {
     "name": "stdout",
     "output_type": "stream",
     "text": [
      "Populating the interactive namespace from numpy and matplotlib\n"
     ]
    }
   ],
   "source": [
    "%pylab widget"
   ]
  },
  {
   "cell_type": "code",
   "execution_count": 39,
   "metadata": {},
   "outputs": [
    {
     "data": {
      "text/plain": [
       "2"
      ]
     },
     "execution_count": 39,
     "metadata": {},
     "output_type": "execute_result"
    }
   ],
   "source": [
    "len(p2.shape)"
   ]
  },
  {
   "cell_type": "code",
   "execution_count": 40,
   "metadata": {},
   "outputs": [
    {
     "data": {
      "text/plain": [
       "0.784"
      ]
     },
     "execution_count": 40,
     "metadata": {},
     "output_type": "execute_result"
    }
   ],
   "source": [
    "kernel.pitch"
   ]
  },
  {
   "cell_type": "code",
   "execution_count": null,
   "metadata": {},
   "outputs": [],
   "source": []
  }
 ],
 "metadata": {
  "kernelspec": {
   "display_name": "Python 3",
   "language": "python",
   "name": "python3"
  },
  "language_info": {
   "codemirror_mode": {
    "name": "ipython",
    "version": 3
   },
   "file_extension": ".py",
   "mimetype": "text/x-python",
   "name": "python",
   "nbconvert_exporter": "python",
   "pygments_lexer": "ipython3",
   "version": "3.7.6"
  },
  "presto": {
   "id": "110b0dee-a591-4d62-bdf8-8727cacef0b7"
  }
 },
 "nbformat": 4,
 "nbformat_minor": 4
}
