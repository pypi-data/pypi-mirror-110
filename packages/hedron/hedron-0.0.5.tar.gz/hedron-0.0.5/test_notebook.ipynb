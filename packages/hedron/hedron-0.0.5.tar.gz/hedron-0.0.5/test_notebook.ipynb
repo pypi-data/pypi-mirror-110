{
 "cells": [
  {
   "cell_type": "code",
   "execution_count": 1,
   "metadata": {},
   "outputs": [],
   "source": [
    "# Test code for hedron project\n",
    "import pandas as pd\n",
    "import hedron as hd\n",
    "from hedron.maps import map_cluster, map_super_cluster, plot_cluster, plot_heat_map"
   ]
  },
  {
   "cell_type": "code",
   "execution_count": 2,
   "metadata": {},
   "outputs": [],
   "source": [
    "ids = ['a','b','c','d','e','f','a','b','c','d','e','f', 'c','d','e','f', 'c','d','e','f', 'g', 'g']\n",
    "dates = pd.to_datetime(['Dec 6, 2019 2:27:45 PM', 'Dec 6, 2019 2:27:45 PM', 'Dec 8, 2019 2:27:45 PM', 'Dec 8, 2019 2:27:45 PM', 'Dec 10, 2019 2:27:45 PM', 'Dec 11, 2019 2:27:45 PM', 'Dec 6, 2019 2:27:45 PM', 'Dec 6, 2019 2:27:45 PM', 'Dec 8, 2019 2:27:45 PM', 'Dec 8, 2019 2:27:45 PM', 'Dec 10, 2019 2:27:45 PM', 'Dec 11, 2019 2:27:45 PM', 'Dec 8, 2019 2:27:45 PM', 'Dec 8, 2019 2:27:45 PM', 'Dec 10, 2019 2:27:45 PM', 'Dec 11, 2019 2:27:45 PM', 'Dec 8, 2019 2:27:45 PM', 'Dec 8, 2019 2:27:45 PM', 'Dec 10, 2019 2:27:45 PM', 'Dec 11, 2019 2:27:45 PM', 'Dec 11, 2019 2:27:45 PM', 'Dec 11, 2019 2:27:45 PM'])\n",
    "lats = [29.4259671, 29.4258, 29.42525, 29.426, 29.4237056,\n",
    "        29.422, 29.423606, 29.424, 29.4239835, 29.422, 29.4239835, 29.424,\n",
    "        29.42642, 29.425, 29.427, 29.428, 29.42642, 29.425, 29.427, 29.428, 29.428, 29.428]\n",
    "lons = [-98.4861419, -98.487, -98.4860167, -98.485, -98.4868973,\n",
    "        -98.485, -98.4860462, -98.487, -98.4851705, -98.486, -98.4851705, -98.486,\n",
    "        -98.485746, -98.486, -98.4858, -98.487, -98.485746, -98.486, -98.4858, -98.487, -98.487, -98.487]\n",
    "df = pd.DataFrame({'ID':ids, 'Date':dates, 'Latitude':lats, 'Longitude':lons})\n",
    "c = hd.Cluster(df, lat_header='Latitude', lon_header='Longitude', date_time_header='Date', id_header='ID')\n",
    "clusters = c.make_clusters(7)"
   ]
  },
  {
   "cell_type": "code",
   "execution_count": null,
   "metadata": {},
   "outputs": [],
   "source": [
    "c.plot()"
   ]
  },
  {
   "cell_type": "code",
   "execution_count": null,
   "metadata": {},
   "outputs": [],
   "source": [
    "clusters"
   ]
  },
  {
   "cell_type": "code",
   "execution_count": null,
   "metadata": {},
   "outputs": [],
   "source": [
    "clusters.plot()"
   ]
  },
  {
   "cell_type": "code",
   "execution_count": null,
   "metadata": {},
   "outputs": [],
   "source": [
    "clusters.plot_heat(6)"
   ]
  },
  {
   "cell_type": "code",
   "execution_count": null,
   "metadata": {},
   "outputs": [],
   "source": []
  },
  {
   "cell_type": "code",
   "execution_count": null,
   "metadata": {},
   "outputs": [],
   "source": [
    "def main():\n",
    "    # Load data into DataFrame\n",
    "    ids = ['a','b','c','d','e','f']\n",
    "    dates = pd.to_datetime(['Dec 6, 2019 2:27:45 PM', 'Dec 6, 2019 2:27:45 PM', 'Dec 8, 2019 2:27:45 PM', 'Dec 8, 2019 2:27:45 PM', 'Dec 10, 2019 2:27:45 PM', 'Dec 11, 2019 2:27:45 PM'])\n",
    "    lats = [29.4259671, 29.42525, 29.4237056, 29.423606, 29.4239835, 29.4239835]\n",
    "    lons = [-98.4861419, -98.4860167, -98.4868973, -98.4860462, -98.4851705, -98.4851705]\n",
    "    df = pd.DataFrame({'ID':ids, 'Date':dates, 'Latitude':lats, 'Longitude':lons})\n",
    "    # Check for headers\n",
    "    if not {'ID', 'Date', 'Latitude', 'Longitude'}.issubset(df.columns):\n",
    "        return print('Headers Missing')\n",
    "\n",
    "    # Load coordinate data into a Cluster object\n",
    "    c = hd.Cluster(df, lat_header='Latitude', lon_header='Longitude', date_time_header='Date', id_header='ID')\n",
    "\n",
    "    # Make coordinate clusters\n",
    "    clusters = c.make_clusters(3)\n",
    "    print(len(clusters))\n",
    "\n",
    "    # Filter clusters to colocation clusters\n",
    "    colocations = clusters.colocation_clusters()\n",
    "    print(len(colocations))\n",
    "\n",
    "    day_co = colocations.day_colocation_clusters()\n",
    "    print(len(day_co))\n",
    "\n",
    "\n",
    "if __name__ == '__main__':\n",
    "    main()"
   ]
  },
  {
   "cell_type": "code",
   "execution_count": null,
   "metadata": {},
   "outputs": [],
   "source": []
  },
  {
   "cell_type": "code",
   "execution_count": null,
   "metadata": {},
   "outputs": [],
   "source": [
    "geohash.bbox(geohash.encode(29.4259671, -98.4861419, 8))"
   ]
  },
  {
   "cell_type": "code",
   "execution_count": null,
   "metadata": {},
   "outputs": [],
   "source": [
    "build_geohash_box(geohash.encode(29.4259671, -98.4861419, 8))"
   ]
  },
  {
   "cell_type": "code",
   "execution_count": null,
   "metadata": {},
   "outputs": [],
   "source": [
    "from maps import random_color\n",
    "from proximityhash import create_geohash\n",
    "import geohash\n",
    "import staticmaps\n",
    "\n",
    "def build_geohash_box(hash):\n",
    "    b = geohash.bbox(hash)\n",
    "    n = (b['n'], b['w']), (b['n'], b['e'])\n",
    "    s = (b['s'], b['w']), (b['s'], b['e'])\n",
    "    w = (b['s'], b['w']), (b['n'], b['w'])\n",
    "    e = (b['s'], b['e']), (b['n'], b['e'])\n",
    "    return (n, s, w, e)\n",
    "\n",
    "def add_hashbox_lines(h, color, width=3, context=None):\n",
    "    if context is None:\n",
    "        context = staticmaps.Context()\n",
    "        context.set_tile_provider(staticmaps.tile_provider_OSM)\n",
    "    for start, end in build_geohash_box(h):\n",
    "        p1 = staticmaps.create_latlng(*start)\n",
    "        p2 = staticmaps.create_latlng(*end)\n",
    "        context.add_object(staticmaps.Line([p1, p2], color=color, width=width))\n",
    "    return context\n",
    "\n",
    "def plot_hashes(hashes, color, context=None):\n",
    "    if context is None:\n",
    "        context = staticmaps.Context()\n",
    "        context.set_tile_provider(staticmaps.tile_provider_OSM)\n",
    "    for h in hashes:\n",
    "        context = add_hashbox_lines(h, context, color)\n",
    "    return context.render_pillow(600, 600)\n",
    "\n",
    "context = staticmaps.Context()\n",
    "context.set_tile_provider(staticmaps.tile_provider_OSM)\n",
    "h = geohash.encode(29.4259671, -98.4861419, 6)\n",
    "lat, lon, _, __ = geohash.decode(h, 6)\n",
    "hashes = create_geohash(lat, lon, radius=1200, precision=7).split(',')\n",
    "\n",
    "context = add_hashbox_lines(h, random_color(), width=12, context)\n",
    "plot_hashes(hashes, context, random_color())\n"
   ]
  },
  {
   "cell_type": "code",
   "execution_count": null,
   "metadata": {},
   "outputs": [],
   "source": [
    "plot_cluster(c)"
   ]
  },
  {
   "cell_type": "code",
   "execution_count": null,
   "metadata": {},
   "outputs": [],
   "source": [
    "plot_hashes(hashes, random_color())"
   ]
  },
  {
   "cell_type": "code",
   "execution_count": null,
   "metadata": {},
   "outputs": [],
   "source": [
    "from maps import plot_hash, plot_nine\n",
    "import geohash"
   ]
  },
  {
   "cell_type": "code",
   "execution_count": null,
   "metadata": {},
   "outputs": [],
   "source": [
    "h = geohash.encode(29.4259671, -98.4861419, 6)\n",
    "plot_hash(h)"
   ]
  },
  {
   "cell_type": "code",
   "execution_count": null,
   "metadata": {},
   "outputs": [],
   "source": [
    "plot_nine(h)"
   ]
  },
  {
   "cell_type": "code",
   "execution_count": null,
   "metadata": {},
   "outputs": [],
   "source": []
  }
 ],
 "metadata": {
  "kernelspec": {
   "name": "python394jvsc74a57bd0d6c8ed5a80277e7fe9ba1c7a4755019e1d4b4e7b446d12ba6aa1005b4fbc6b45",
   "display_name": "Python 3.9.4 64-bit ('hedron': conda)"
  },
  "language_info": {
   "codemirror_mode": {
    "name": "ipython",
    "version": 3
   },
   "file_extension": ".py",
   "mimetype": "text/x-python",
   "name": "python",
   "nbconvert_exporter": "python",
   "pygments_lexer": "ipython3",
   "version": "3.9.4"
  }
 },
 "nbformat": 4,
 "nbformat_minor": 2
}