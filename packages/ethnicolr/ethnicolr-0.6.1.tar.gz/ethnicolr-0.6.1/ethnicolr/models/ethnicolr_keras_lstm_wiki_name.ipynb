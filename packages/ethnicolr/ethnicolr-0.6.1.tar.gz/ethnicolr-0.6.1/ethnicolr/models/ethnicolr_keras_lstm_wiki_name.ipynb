{
 "cells": [
  {
   "cell_type": "code",
   "execution_count": 1,
   "metadata": {},
   "outputs": [
    {
     "name": "stdout",
     "output_type": "stream",
     "text": [
      "2.4.3\n",
      "2.4.1\n"
     ]
    }
   ],
   "source": [
    "import keras\n",
    "import tensorflow as tf\n",
    "print(keras.__version__)\n",
    "print(tf.__version__)"
   ]
  },
  {
   "cell_type": "code",
   "execution_count": 2,
   "metadata": {},
   "outputs": [
    {
     "data": {
      "text/html": [
       "<div>\n",
       "<style scoped>\n",
       "    .dataframe tbody tr th:only-of-type {\n",
       "        vertical-align: middle;\n",
       "    }\n",
       "\n",
       "    .dataframe tbody tr th {\n",
       "        vertical-align: top;\n",
       "    }\n",
       "\n",
       "    .dataframe thead th {\n",
       "        text-align: right;\n",
       "    }\n",
       "</style>\n",
       "<table border=\"1\" class=\"dataframe\">\n",
       "  <thead>\n",
       "    <tr style=\"text-align: right;\">\n",
       "      <th></th>\n",
       "      <th>name_first</th>\n",
       "    </tr>\n",
       "    <tr>\n",
       "      <th>race</th>\n",
       "      <th></th>\n",
       "    </tr>\n",
       "  </thead>\n",
       "  <tbody>\n",
       "    <tr>\n",
       "      <th>Asian,GreaterEastAsian,EastAsian</th>\n",
       "      <td>5497</td>\n",
       "    </tr>\n",
       "    <tr>\n",
       "      <th>Asian,GreaterEastAsian,Japanese</th>\n",
       "      <td>7333</td>\n",
       "    </tr>\n",
       "    <tr>\n",
       "      <th>Asian,IndianSubContinent</th>\n",
       "      <td>7861</td>\n",
       "    </tr>\n",
       "    <tr>\n",
       "      <th>GreaterAfrican,Africans</th>\n",
       "      <td>3672</td>\n",
       "    </tr>\n",
       "    <tr>\n",
       "      <th>GreaterAfrican,Muslim</th>\n",
       "      <td>6242</td>\n",
       "    </tr>\n",
       "    <tr>\n",
       "      <th>GreaterEuropean,British</th>\n",
       "      <td>41445</td>\n",
       "    </tr>\n",
       "    <tr>\n",
       "      <th>GreaterEuropean,EastEuropean</th>\n",
       "      <td>8329</td>\n",
       "    </tr>\n",
       "    <tr>\n",
       "      <th>GreaterEuropean,Jewish</th>\n",
       "      <td>10239</td>\n",
       "    </tr>\n",
       "    <tr>\n",
       "      <th>GreaterEuropean,WestEuropean,French</th>\n",
       "      <td>12293</td>\n",
       "    </tr>\n",
       "    <tr>\n",
       "      <th>GreaterEuropean,WestEuropean,Germanic</th>\n",
       "      <td>3869</td>\n",
       "    </tr>\n",
       "    <tr>\n",
       "      <th>GreaterEuropean,WestEuropean,Hispanic</th>\n",
       "      <td>10412</td>\n",
       "    </tr>\n",
       "    <tr>\n",
       "      <th>GreaterEuropean,WestEuropean,Italian</th>\n",
       "      <td>11867</td>\n",
       "    </tr>\n",
       "    <tr>\n",
       "      <th>GreaterEuropean,WestEuropean,Nordic</th>\n",
       "      <td>4813</td>\n",
       "    </tr>\n",
       "  </tbody>\n",
       "</table>\n",
       "</div>"
      ],
      "text/plain": [
       "                                       name_first\n",
       "race                                             \n",
       "Asian,GreaterEastAsian,EastAsian             5497\n",
       "Asian,GreaterEastAsian,Japanese              7333\n",
       "Asian,IndianSubContinent                     7861\n",
       "GreaterAfrican,Africans                      3672\n",
       "GreaterAfrican,Muslim                        6242\n",
       "GreaterEuropean,British                     41445\n",
       "GreaterEuropean,EastEuropean                 8329\n",
       "GreaterEuropean,Jewish                      10239\n",
       "GreaterEuropean,WestEuropean,French         12293\n",
       "GreaterEuropean,WestEuropean,Germanic        3869\n",
       "GreaterEuropean,WestEuropean,Hispanic       10412\n",
       "GreaterEuropean,WestEuropean,Italian        11867\n",
       "GreaterEuropean,WestEuropean,Nordic          4813"
      ]
     },
     "execution_count": 2,
     "metadata": {},
     "output_type": "execute_result"
    }
   ],
   "source": [
    "from __future__ import print_function\n",
    "\n",
    "import numpy as np\n",
    "import pandas as pd\n",
    "from sklearn.feature_extraction.text import CountVectorizer\n",
    "from sklearn.model_selection import train_test_split\n",
    "from sklearn.metrics import classification_report,confusion_matrix\n",
    "\n",
    "NGRAMS = 2\n",
    "EPOCHS = 15\n",
    "\n",
    "# Wikilabels\n",
    "df = pd.read_csv('../../data/wiki/wiki_name_race.csv')\n",
    "df.dropna(subset=['name_first', 'name_last'], inplace=True)\n",
    "sdf = df\n",
    "\n",
    "# Additional features\n",
    "sdf['name_first'] = sdf.name_first.str.title()\n",
    "sdf['name_last'] = sdf.name_last.str.title()\n",
    "\n",
    "sdf.groupby('race').agg({'name_first': 'count'})"
   ]
  },
  {
   "cell_type": "markdown",
   "metadata": {},
   "source": [
    "## Preprocessing the input data"
   ]
  },
  {
   "cell_type": "code",
   "execution_count": 3,
   "metadata": {},
   "outputs": [
    {
     "name": "stdout",
     "output_type": "stream",
     "text": [
      "num_words = 2210\n",
      "Max feature len = 74, Avg. feature len = 12\n"
     ]
    }
   ],
   "source": [
    "# concat last name and first name\n",
    "sdf['name_last_name_first'] = sdf['name_last'] + ' ' + sdf['name_first']\n",
    "\n",
    "# build n-gram list\n",
    "vect = CountVectorizer(analyzer='char', max_df=0.3, min_df=3, ngram_range=(NGRAMS, NGRAMS), lowercase=False) \n",
    "a = vect.fit_transform(sdf.name_last_name_first)\n",
    "vocab = vect.vocabulary_\n",
    "\n",
    "# sort n-gram by freq (highest -> lowest)\n",
    "words = []\n",
    "for b in vocab:\n",
    "    c = vocab[b]\n",
    "    #print(b, c, a[:, c].sum())\n",
    "    words.append((a[:, c].sum(), b))\n",
    "    #break\n",
    "words = sorted(words, reverse=True)\n",
    "words_list = [w[1] for w in words]\n",
    "num_words = len(words_list)\n",
    "print(\"num_words = %d\" % num_words)\n",
    "\n",
    "\n",
    "def find_ngrams(text, n):\n",
    "    a = zip(*[text[i:] for i in range(n)])\n",
    "    wi = []\n",
    "    for i in a:\n",
    "        w = ''.join(i)\n",
    "        try:\n",
    "            idx = words_list.index(w)\n",
    "        except:\n",
    "            idx = 0\n",
    "        wi.append(idx)\n",
    "    return wi\n",
    "\n",
    "# build X from index of n-gram sequence\n",
    "X = np.array(sdf.name_last_name_first.apply(lambda c: find_ngrams(c, NGRAMS)))\n",
    "\n",
    "# check max/avg feature\n",
    "X_len = []\n",
    "for x in X:\n",
    "    X_len.append(len(x))\n",
    "\n",
    "max_feature_len = max(X_len)\n",
    "avg_feature_len = int(np.mean(X_len))\n",
    "\n",
    "print(\"Max feature len = %d, Avg. feature len = %d\" % (max_feature_len, avg_feature_len))\n",
    "y = np.array(sdf.race.astype('category').cat.codes)\n",
    "\n",
    "# Split train and test dataset\n",
    "X_train,  X_test, y_train, y_test = train_test_split(X, y, test_size=0.2, random_state=21, stratify=y)"
   ]
  },
  {
   "cell_type": "markdown",
   "metadata": {},
   "source": [
    "## Train a LSTM model\n",
    "\n",
    "ref: http://machinelearningmastery.com/sequence-classification-lstm-recurrent-neural-networks-python-keras/"
   ]
  },
  {
   "cell_type": "code",
   "execution_count": 4,
   "metadata": {},
   "outputs": [
    {
     "name": "stdout",
     "output_type": "stream",
     "text": [
      "107097 train sequences\n",
      "26775 test sequences\n",
      "Pad sequences (samples x time)\n",
      "X_train shape: (107097, 25)\n",
      "X_test shape: (26775, 25)\n",
      "13 classes\n",
      "Convert class vector to binary class matrix (for use with categorical_crossentropy)\n",
      "y_train shape: (107097, 13)\n",
      "y_test shape: (26775, 13)\n"
     ]
    }
   ],
   "source": [
    "'''The dataset is actually too small for LSTM to be of any advantage\n",
    "compared to simpler, much faster methods such as TF-IDF + LogReg.\n",
    "Notes:\n",
    "\n",
    "- RNNs are tricky. Choice of batch size is important,\n",
    "choice of loss and optimizer is critical, etc.\n",
    "Some configurations won't converge.\n",
    "\n",
    "- LSTM loss decrease patterns during training can be quite different\n",
    "from what you see with CNNs/MLPs/etc.\n",
    "'''\n",
    "import keras\n",
    "from keras.preprocessing import sequence\n",
    "from keras.models import Sequential\n",
    "from keras.layers import Dense, Embedding, Dropout, Activation\n",
    "from keras.layers import LSTM\n",
    "from keras.layers.convolutional import Conv1D\n",
    "from keras.layers.convolutional import MaxPooling1D\n",
    "from keras.models import load_model\n",
    "\n",
    "max_features = num_words # 20000\n",
    "feature_len = 25 # avg_feature_len # cut texts after this number of words (among top max_features most common words)\n",
    "batch_size = 32\n",
    "\n",
    "print(len(X_train), 'train sequences')\n",
    "print(len(X_test), 'test sequences')\n",
    "\n",
    "print('Pad sequences (samples x time)')\n",
    "X_train = sequence.pad_sequences(X_train, maxlen=feature_len)\n",
    "X_test = sequence.pad_sequences(X_test, maxlen=feature_len)\n",
    "print('X_train shape:', X_train.shape)\n",
    "print('X_test shape:', X_test.shape)\n",
    "\n",
    "num_classes = np.max(y_train) + 1\n",
    "print(num_classes, 'classes')\n",
    "\n",
    "print('Convert class vector to binary class matrix '\n",
    "      '(for use with categorical_crossentropy)')\n",
    "y_train = keras.utils.to_categorical(y_train, num_classes)\n",
    "y_test = keras.utils.to_categorical(y_test, num_classes)\n",
    "print('y_train shape:', y_train.shape)\n",
    "print('y_test shape:', y_test.shape)"
   ]
  },
  {
   "cell_type": "code",
   "execution_count": 5,
   "metadata": {},
   "outputs": [
    {
     "name": "stdout",
     "output_type": "stream",
     "text": [
      "Build model...\n",
      "Model: \"sequential\"\n",
      "_________________________________________________________________\n",
      "Layer (type)                 Output Shape              Param #   \n",
      "=================================================================\n",
      "embedding (Embedding)        (None, 25, 32)            70720     \n",
      "_________________________________________________________________\n",
      "lstm (LSTM)                  (None, 128)               82432     \n",
      "_________________________________________________________________\n",
      "dense (Dense)                (None, 13)                1677      \n",
      "=================================================================\n",
      "Total params: 154,829\n",
      "Trainable params: 154,829\n",
      "Non-trainable params: 0\n",
      "_________________________________________________________________\n",
      "None\n"
     ]
    }
   ],
   "source": [
    "print('Build model...')\n",
    "\n",
    "model = Sequential()\n",
    "model.add(Embedding(num_words, 32, input_length=feature_len))\n",
    "model.add(LSTM(128, dropout=0.2, recurrent_dropout=0.2))\n",
    "model.add(Dense(num_classes, activation='sigmoid'))\n",
    "\n",
    "# try using different optimizers and different optimizer configs\n",
    "model.compile(loss='categorical_crossentropy',\n",
    "              optimizer='adam',\n",
    "              metrics=['accuracy'])\n",
    "\n",
    "print(model.summary())"
   ]
  },
  {
   "cell_type": "code",
   "execution_count": 6,
   "metadata": {},
   "outputs": [
    {
     "name": "stdout",
     "output_type": "stream",
     "text": [
      "Train...\n",
      "Epoch 1/15\n",
      "3013/3013 - 265s - loss: 1.4050 - accuracy: 0.5749 - val_loss: 1.1441 - val_accuracy: 0.6616\n",
      "Epoch 2/15\n",
      "3013/3013 - 227s - loss: 1.1184 - accuracy: 0.6725 - val_loss: 1.0773 - val_accuracy: 0.6884\n",
      "Epoch 3/15\n",
      "3013/3013 - 237s - loss: 1.0531 - accuracy: 0.6938 - val_loss: 1.0307 - val_accuracy: 0.7005\n",
      "Epoch 4/15\n",
      "3013/3013 - 239s - loss: 1.0128 - accuracy: 0.7066 - val_loss: 1.0081 - val_accuracy: 0.7088\n",
      "Epoch 5/15\n",
      "3013/3013 - 242s - loss: 0.9815 - accuracy: 0.7150 - val_loss: 0.9957 - val_accuracy: 0.7144\n",
      "Epoch 6/15\n",
      "3013/3013 - 243s - loss: 0.9569 - accuracy: 0.7232 - val_loss: 0.9867 - val_accuracy: 0.7192\n",
      "Epoch 7/15\n",
      "3013/3013 - 244s - loss: 0.9341 - accuracy: 0.7292 - val_loss: 0.9816 - val_accuracy: 0.7204\n",
      "Epoch 8/15\n",
      "3013/3013 - 243s - loss: 0.9168 - accuracy: 0.7341 - val_loss: 0.9701 - val_accuracy: 0.7226\n",
      "Epoch 9/15\n",
      "3013/3013 - 243s - loss: 0.8989 - accuracy: 0.7397 - val_loss: 0.9661 - val_accuracy: 0.7259\n",
      "Epoch 10/15\n",
      "3013/3013 - 233s - loss: 0.8823 - accuracy: 0.7434 - val_loss: 0.9649 - val_accuracy: 0.7290\n",
      "Epoch 11/15\n",
      "3013/3013 - 209s - loss: 0.8677 - accuracy: 0.7483 - val_loss: 0.9600 - val_accuracy: 0.7299\n",
      "Epoch 12/15\n",
      "3013/3013 - 179s - loss: 0.8559 - accuracy: 0.7503 - val_loss: 0.9559 - val_accuracy: 0.7296\n",
      "Epoch 13/15\n",
      "3013/3013 - 175s - loss: 0.8434 - accuracy: 0.7549 - val_loss: 0.9632 - val_accuracy: 0.7312\n",
      "Epoch 14/15\n",
      "3013/3013 - 175s - loss: 0.8317 - accuracy: 0.7583 - val_loss: 0.9623 - val_accuracy: 0.7303\n",
      "Epoch 15/15\n",
      "3013/3013 - 180s - loss: 0.8248 - accuracy: 0.7588 - val_loss: 0.9603 - val_accuracy: 0.7321\n",
      "837/837 - 7s - loss: 0.9469 - accuracy: 0.7336\n",
      "Test score: 0.9469165205955505\n",
      "Test accuracy: 0.7336321473121643\n"
     ]
    }
   ],
   "source": [
    "print('Train...')\n",
    "model.fit(X_train, y_train, batch_size=batch_size, epochs=EPOCHS,\n",
    "          validation_split=0.1, verbose=2)\n",
    "score, acc = model.evaluate(X_test, y_test,\n",
    "                            batch_size=batch_size, verbose=2)\n",
    "print('Test score:', score)\n",
    "print('Test accuracy:', acc)"
   ]
  },
  {
   "cell_type": "markdown",
   "metadata": {},
   "source": [
    "## Confusion Matrix"
   ]
  },
  {
   "cell_type": "code",
   "execution_count": 7,
   "metadata": {},
   "outputs": [
    {
     "name": "stderr",
     "output_type": "stream",
     "text": [
      "/Users/madhusanjeevi/Desktop/GauravFreelanceing/env/lib/python3.8/site-packages/tensorflow/python/keras/engine/sequential.py:450: UserWarning: `model.predict_classes()` is deprecated and will be removed after 2021-01-01. Please use instead:* `np.argmax(model.predict(x), axis=-1)`,   if your model does multi-class classification   (e.g. if it uses a `softmax` last-layer activation).* `(model.predict(x) > 0.5).astype(\"int32\")`,   if your model does binary classification   (e.g. if it uses a `sigmoid` last-layer activation).\n",
      "  warnings.warn('`model.predict_classes()` is deprecated and '\n"
     ]
    },
    {
     "name": "stdout",
     "output_type": "stream",
     "text": [
      "837/837 - 8s\n"
     ]
    },
    {
     "name": "stderr",
     "output_type": "stream",
     "text": [
      "/Users/madhusanjeevi/Desktop/GauravFreelanceing/env/lib/python3.8/site-packages/tensorflow/python/keras/engine/sequential.py:425: UserWarning: `model.predict_proba()` is deprecated and will be removed after 2021-01-01. Please use `model.predict()` instead.\n",
      "  warnings.warn('`model.predict_proba()` is deprecated and '\n"
     ]
    },
    {
     "name": "stdout",
     "output_type": "stream",
     "text": [
      "837/837 - 7s\n",
      "                                       precision    recall  f1-score   support\n",
      "\n",
      "     Asian,GreaterEastAsian,EastAsian       0.87      0.78      0.82      1099\n",
      "      Asian,GreaterEastAsian,Japanese       0.90      0.89      0.90      1467\n",
      "             Asian,IndianSubContinent       0.78      0.76      0.77      1572\n",
      "              GreaterAfrican,Africans       0.56      0.40      0.46       734\n",
      "                GreaterAfrican,Muslim       0.67      0.69      0.68      1248\n",
      "              GreaterEuropean,British       0.75      0.89      0.81      8289\n",
      "         GreaterEuropean,EastEuropean       0.79      0.75      0.77      1666\n",
      "               GreaterEuropean,Jewish       0.52      0.41      0.46      2048\n",
      "  GreaterEuropean,WestEuropean,French       0.73      0.57      0.64      2459\n",
      "GreaterEuropean,WestEuropean,Germanic       0.47      0.45      0.46       774\n",
      "GreaterEuropean,WestEuropean,Hispanic       0.71      0.70      0.70      2082\n",
      " GreaterEuropean,WestEuropean,Italian       0.75      0.76      0.75      2374\n",
      "  GreaterEuropean,WestEuropean,Nordic       0.80      0.65      0.72       963\n",
      "\n",
      "                             accuracy                           0.73     26775\n",
      "                            macro avg       0.71      0.67      0.69     26775\n",
      "                         weighted avg       0.73      0.73      0.73     26775\n",
      "\n",
      "[[ 856   48   13    6    9  119    7   12    9    2   10    6    2]\n",
      " [  18 1306    7   17    5   50    6    8    1    1   34   13    1]\n",
      " [   3   11 1191   12  118  134   14   16   15   11   20   22    5]\n",
      " [   2   32   44  292   89  140    3   30   41    3   30   23    5]\n",
      " [   4    7  105   26  867   90   42   48   19    8   12   15    5]\n",
      " [  52   12   53   42   56 7396   34  231  139   64   80   89   41]\n",
      " [   7    6   24   12   13   94 1249  124   26   47   17   34   13]\n",
      " [  10    4   33   17   72  652  111  843   73   90   83   47   13]\n",
      " [  11    5   15   43   32  524   26  103 1406   40  118  124   12]\n",
      " [   2    0    8    6    6  160   24  101   34  346   24   25   38]\n",
      " [  11   11   19   21   13  183   15   49   73   27 1460  189   11]\n",
      " [   4    7   14   24    7  173   25   30   70   34  171 1802   13]\n",
      " [   4    2    5    5   14  150   19   31   13   64   11   16  629]]\n"
     ]
    }
   ],
   "source": [
    "y_pred = model.predict_classes(X_test, verbose=2)\n",
    "p = model.predict_proba(X_test, verbose=2) # to predict probability\n",
    "target_names = list(sdf.race.astype('category').cat.categories)\n",
    "print(classification_report(np.argmax(y_test, axis=1), y_pred, target_names=target_names))\n",
    "print(confusion_matrix(np.argmax(y_test, axis=1), y_pred))"
   ]
  },
  {
   "cell_type": "markdown",
   "metadata": {},
   "source": [
    "## Save model"
   ]
  },
  {
   "cell_type": "code",
   "execution_count": 8,
   "metadata": {},
   "outputs": [],
   "source": [
    "model.save('./wiki/lstm/wiki_name_lstm.h5')"
   ]
  },
  {
   "cell_type": "code",
   "execution_count": 9,
   "metadata": {},
   "outputs": [],
   "source": [
    "words_df = pd.DataFrame(words_list, columns=['vocab'])\n",
    "words_df.to_csv('./wiki/lstm/wiki_name_vocab.csv', index=False, encoding='utf-8')"
   ]
  },
  {
   "cell_type": "code",
   "execution_count": null,
   "metadata": {
    "collapsed": true
   },
   "outputs": [],
   "source": []
  }
 ],
 "metadata": {
  "kernelspec": {
   "display_name": "Python 3",
   "language": "python",
   "name": "python3"
  },
  "language_info": {
   "codemirror_mode": {
    "name": "ipython",
    "version": 3
   },
   "file_extension": ".py",
   "mimetype": "text/x-python",
   "name": "python",
   "nbconvert_exporter": "python",
   "pygments_lexer": "ipython3",
   "version": "3.8.7"
  }
 },
 "nbformat": 4,
 "nbformat_minor": 2
}
