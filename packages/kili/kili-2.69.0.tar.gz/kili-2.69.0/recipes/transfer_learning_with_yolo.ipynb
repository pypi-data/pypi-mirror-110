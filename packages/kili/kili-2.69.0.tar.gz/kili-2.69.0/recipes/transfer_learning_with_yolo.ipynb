{
 "cells": [
  {
   "cell_type": "markdown",
   "metadata": {},
   "source": [
    "# Kili Tutorial: Labelled Image Data & Transfer Learning\n",
    "\n",
    "This recipe shows you how you can leverage Kili to rapidly create your own custom image detection model by transfer learning. Even if the pre-trained model had a wide training set, it might not be directly adapted to your use case. But it stil learned very important techniques to make sense of a set of RGB pixels, and thus can speed-up your annotation process by **Transfer Learning**. We'll then try to provide labeled data to help the model improve its analysis, a process that is called fine-tuning. \n",
    "\n",
    "The main ingredients we are going to use are :\n",
    "\n",
    "- The data you have just labelled via Kili as training set\n",
    "- The excellent [yolov3](https://github.com/ultralytics/yolov3) library to craft our model\n",
    "\n",
    "\n",
    "## Steps\n",
    "Those are the steps we are going to detail in this recipe : \n",
    "\n",
    "1. Install `kili-playground` (see the [project repository](https://github.com/kili-technology/kili-playground))\n",
    "2. Install [yolov3](https://github.com/ultralytics/yolov3) by following their requirements, and download the pretrained weights.\n",
    "3. Make the same for our recipe by installing our additional requirements : `pip install -U -r requirements.txt`\n",
    "4. Our `main.py` script will require you to provide your Kili credentials, endpoint and your `yolov3` repository location path as argument. You can as well provide them by setting the following environment variables (they will be used by default by the recipe) : `EMAIL`, `PASSWORD`, `PROJECT_ID`, `API_ENDPOINT`, `YOLO_PATH`.\n",
    "5. Get a first labeling of our unlabeled data with Yolo\n",
    "6. After labeling some data, we can let the model run another time to let it improve."
   ]
  },
  {
   "cell_type": "code",
   "execution_count": null,
   "metadata": {},
   "outputs": [],
   "source": [
    "import os\n",
    "\n",
    "# !pip install kili # uncomment if you don't have kili installed already\n",
    "from kili.client import Kili\n",
    "\n",
    "api_key = os.getenv('KILI_USER_API_KEY')\n",
    "api_endpoint = os.getenv('KILI_API_ENDPOINT') # If you use Kili SaaS, use 'https://cloud.kili-technology.com/api/label/v2/graphql'\n",
    "\n",
    "kili = Kili(api_key=api_key, api_endpoint=api_endpoint)"
   ]
  },
  {
   "cell_type": "markdown",
   "metadata": {},
   "source": [
    "Below is an example of jsonInterface for the 80 class model, but it can be easily adapted for a different number of class."
   ]
  },
  {
   "cell_type": "code",
   "execution_count": null,
   "metadata": {},
   "outputs": [],
   "source": [
    "job_id = 'JOB_0'\n",
    "json_interface = {\n",
    "  \"jobs\": {\n",
    "    job_id: {\n",
    "      \"mlTask\": \"OBJECT_DETECTION\",\n",
    "      \"content\": {\n",
    "        \"input\": \"radio\",\n",
    "        \"categories\": {\n",
    "          \"0\": {\"name\": \"person\"},\n",
    "          \"1\": {\"name\": \"bicycle\"},\n",
    "          \"2\": {\"name\": \"car\"},\n",
    "          \"3\": {\"name\": \"motorcycle\"},\n",
    "          \"4\": {\"name\": \"airplane\"},\n",
    "          \"5\": {\"name\": \"bus\"},\n",
    "          \"6\": {\"name\": \"train\"},\n",
    "          \"7\": {\"name\": \"truck\"},\n",
    "          \"8\": {\"name\": \"boat\"},\n",
    "          \"9\": {\"name\": \"traffic light\"},\n",
    "          \"10\": {\"name\": \"fire hydrant\"},\n",
    "          \"11\": {\"name\": \"stop sign\"},\n",
    "          \"12\": {\"name\": \"parking meter\"},\n",
    "          \"13\": {\"name\": \"bench\"},\n",
    "          \"14\": {\"name\": \"bird\"},\n",
    "          \"15\": {\"name\": \"cat\"},\n",
    "          \"16\": {\"name\": \"dog\"},\n",
    "          \"17\": {\"name\": \"horse\"},\n",
    "          \"18\": {\"name\": \"sheep\"},\n",
    "          \"19\": {\"name\": \"cow\"},\n",
    "          \"20\": {\"name\": \"elephant\"},\n",
    "          \"21\": {\"name\": \"bear\"},\n",
    "          \"22\": {\"name\": \"zebra\"},\n",
    "          \"23\": {\"name\": \"giraffe\"},\n",
    "          \"24\": {\"name\": \"backpack\"},\n",
    "          \"25\": {\"name\": \"umbrella\"},\n",
    "          \"26\": {\"name\": \"handbag\"},\n",
    "          \"27\": {\"name\": \"tie\"},\n",
    "          \"28\": {\"name\": \"suitcase\"},\n",
    "          \"29\": {\"name\": \"frisbee\"},\n",
    "          \"30\": {\"name\": \"skis\"},\n",
    "          \"31\": {\"name\": \"snowboard\"},\n",
    "          \"32\": {\"name\": \"sports ball\"},\n",
    "          \"33\": {\"name\": \"kite\"},\n",
    "          \"34\": {\"name\": \"baseball bat\"},\n",
    "          \"35\": {\"name\": \"baseball glove\"},\n",
    "          \"36\": {\"name\": \"skateboard\"},\n",
    "          \"37\": {\"name\": \"surfboard\"},\n",
    "          \"38\": {\"name\": \"tennis racket\"},\n",
    "          \"39\": {\"name\": \"bottle\"},\n",
    "          \"40\": {\"name\": \"wine glass\"},\n",
    "          \"41\": {\"name\": \"cup\"},\n",
    "          \"42\": {\"name\": \"fork\"},\n",
    "          \"43\": {\"name\": \"knife\"},\n",
    "          \"44\": {\"name\": \"spoon\"},\n",
    "          \"45\": {\"name\": \"bowl\"},\n",
    "          \"46\": {\"name\": \"banana\"},\n",
    "          \"47\": {\"name\": \"apple\"},\n",
    "          \"48\": {\"name\": \"sandwich\"},\n",
    "          \"49\": {\"name\": \"orange\"},\n",
    "          \"50\": {\"name\": \"broccoli\"},\n",
    "          \"51\": {\"name\": \"carrot\"},\n",
    "          \"52\": {\"name\": \"hot dog\"},\n",
    "          \"53\": {\"name\": \"pizza\"},\n",
    "          \"54\": {\"name\": \"donut\"},\n",
    "          \"55\": {\"name\": \"cake\"},\n",
    "          \"56\": {\"name\": \"chair\"},\n",
    "          \"57\": {\"name\": \"couch\"},\n",
    "          \"58\": {\"name\": \"potted plant\"},\n",
    "          \"59\": {\"name\": \"bed\"},\n",
    "          \"60\": {\"name\": \"dining table\"},\n",
    "          \"61\": {\"name\": \"toilet\"},\n",
    "          \"62\": {\"name\": \"tv\"},\n",
    "          \"63\": {\"name\": \"laptop\"},\n",
    "          \"64\": {\"name\": \"mouse\"},\n",
    "          \"65\": {\"name\": \"remote\"},\n",
    "          \"66\": {\"name\": \"keyboard\"},\n",
    "          \"67\": {\"name\": \"cell phone\"},\n",
    "          \"68\": {\"name\": \"microwave\"},\n",
    "          \"69\": {\"name\": \"oven\"},\n",
    "          \"70\": {\"name\": \"toaster\"},\n",
    "          \"71\": {\"name\": \"sink\"},\n",
    "          \"72\": {\"name\": \"refrigerator\"},\n",
    "          \"73\": {\"name\": \"book\"},\n",
    "          \"74\": {\"name\": \"clock\"},\n",
    "          \"75\": {\"name\": \"vase\"},\n",
    "          \"76\": {\"name\": \"scissors\"},\n",
    "          \"77\": {\"name\": \"teddy bear\"},\n",
    "          \"78\": {\"name\": \"hair drier\"},\n",
    "          \"79\": {\"name\": \"toothbrush\"}\n",
    "        }\n",
    "      },\n",
    "      \"required\": True,\n",
    "      \"tools\": [\"rectangle\"],\n",
    "      \"instruction\": \"Detect following objects\"\n",
    "    }\n",
    "  }\n",
    "}"
   ]
  },
  {
   "cell_type": "markdown",
   "metadata": {},
   "source": [
    "Let us create the project in Kili :"
   ]
  },
  {
   "cell_type": "code",
   "execution_count": null,
   "metadata": {},
   "outputs": [],
   "source": [
    "title = 'YOLOv3 with Kili Technology'\n",
    "description = 'Ceci est un projet test'\n",
    "input_type = 'IMAGE'\n",
    "\n",
    "project = kili.create_project(\n",
    "    title=title,\n",
    "    description=description,\n",
    "    input_type=input_type,\n",
    "    json_interface=json_interface\n",
    ")\n",
    "project_id = project['id']"
   ]
  },
  {
   "cell_type": "markdown",
   "metadata": {},
   "source": [
    "and add some collaborators to help us for the labeling task."
   ]
  },
  {
   "cell_type": "code",
   "execution_count": null,
   "metadata": {},
   "outputs": [],
   "source": [
    "emails = ['fx@kili-technology.com']\n",
    "for user_email in emails:\n",
    "    kili.append_to_roles(project_id=project_id, user_email=user_email, role='ADMIN')"
   ]
  },
  {
   "cell_type": "markdown",
   "metadata": {},
   "source": [
    "Add images from the airplane [dataset](http://www.robots.ox.ac.uk/~vgg/data/fgvc-aircraft/), and let's see how YOLO performs on it : \n",
    "\n",
    "![Man on a bike](./img/man_on_a_bike.jpeg)"
   ]
  },
  {
   "cell_type": "code",
   "execution_count": null,
   "metadata": {},
   "outputs": [],
   "source": [
    "content_array = ['https://images.unsplash.com/photo-1532973497172-04b34d604825',\n",
    "                 'https://images.unsplash.com/photo-1528629297340-d1d466945dc5']\n",
    "external_id_array = ['airplane',\n",
    "                     'man-on-bike']\n",
    "kili.append_many_to_dataset(project_id=project_id,\n",
    "                                  content_array=content_array,\n",
    "                                  external_id_array=external_id_array)"
   ]
  },
  {
   "cell_type": "markdown",
   "metadata": {},
   "source": [
    "We will now clone yolov3 framework from Github, and download the pretrained weights `yolov3.pt` from [Google drive](https://drive.google.com/open?id=1LezFG5g3BCW6iYaV89B2i64cqEUZD7e0)"
   ]
  },
  {
   "cell_type": "code",
   "execution_count": null,
   "metadata": {},
   "outputs": [],
   "source": [
    "current_path = !pwd\n",
    "assert len(current_path) == 1\n",
    "current_path = current_path[0]\n",
    "yolo_path = os.path.join(current_path, '../../yolov3')\n",
    "!git clone --branch v7 https://github.com/ultralytics/yolov3.git {yolo_path}"
   ]
  },
  {
   "cell_type": "code",
   "execution_count": null,
   "metadata": {},
   "outputs": [],
   "source": [
    "weights_id = '1SHNFyoe5Ni8DajDNEqgB2oVKBb_NoEad'\n",
    "weights = os.path.join(current_path, '../../yolov3.pt')\n",
    "\n",
    "import requests\n",
    "\n",
    "def download_file_from_google_drive(id, destination):\n",
    "    URL = \"https://docs.google.com/uc?export=download\"\n",
    "\n",
    "    session = requests.Session()\n",
    "\n",
    "    response = session.get(URL, params = { 'id' : id }, stream = True)\n",
    "    token = get_confirm_token(response)\n",
    "\n",
    "    if token:\n",
    "        params = { 'id' : id, 'confirm' : token }\n",
    "        response = session.get(URL, params = params, stream = True)\n",
    "\n",
    "    save_response_content(response, destination)    \n",
    "\n",
    "def get_confirm_token(response):\n",
    "    for key, value in response.cookies.items():\n",
    "        if key.startswith('download_warning'):\n",
    "            return value\n",
    "\n",
    "    return None\n",
    "\n",
    "def save_response_content(response, destination):\n",
    "    CHUNK_SIZE = 32768\n",
    "    with open(destination, \"wb\") as f:\n",
    "        for chunk in response.iter_content(CHUNK_SIZE):\n",
    "            if chunk:\n",
    "                f.write(chunk)\n",
    "\n",
    "download_file_from_google_drive(weights_id, weights)"
   ]
  },
  {
   "cell_type": "markdown",
   "metadata": {},
   "source": [
    "As explained above, let's install all the dependencies to train Yolov3 :"
   ]
  },
  {
   "cell_type": "code",
   "execution_count": null,
   "metadata": {},
   "outputs": [],
   "source": [
    "!wget -O /tmp/yolov3-requirements.txt https://raw.githubusercontent.com/ultralytics/yolov3/master/requirements.txt\n",
    "!pip install -r /tmp/yolov3-requirements.txt\n",
    "\n",
    "!pip install torchvision==0.6.0\n",
    "!pip install tensorflow==2.1.0\n",
    "!pip install opencv-python==4.3.0.36\n",
    "\n",
    "#https://github.com/ultralytics/yolov3/issues/1465\n",
    "!pip uninstall -y thop \n",
    "\n",
    "# Force MKL environment variable\n",
    "import os\n",
    "os.environ['MKL_SERVICE_FORCE_INTEL'] = 'true'"
   ]
  },
  {
   "cell_type": "markdown",
   "metadata": {},
   "source": [
    "Everything is ready now, we'll just launch YOLOv3, leveraging the script we provide, with\n",
    "- The API endpoint is the SAAS or on-premise link\n",
    "- your Kili credentials\n",
    "- the desired number of inferences\n",
    "- our project's id\n",
    "- the pre-trained weights\n",
    "- the installation path of Yolo"
   ]
  },
  {
   "cell_type": "code",
   "execution_count": null,
   "metadata": {},
   "outputs": [],
   "source": [
    "import requests\n",
    "import sys\n",
    "\n",
    "base_url = 'https://raw.githubusercontent.com/kili-technology/kili-playground/master/recipes/image-object-detection-with-yolo/'\n",
    "for filename in ['coco.template.data', 'main.py', 'yolov3.template.cfg']:\n",
    "  with open(filename, 'wb') as f:\n",
    "    f.write(requests.get(base_url + filename).content)\n",
    "\n",
    "command = f'''python ./main.py \\\n",
    "    --api_endpoint {api_endpoint} \\\n",
    "    --api_key {api_key} \\\n",
    "    --job_id {job_id} \\\n",
    "    --number_of_inferences 1 \\\n",
    "    --project_id {project_id} \\\n",
    "    --weights {weights} \\\n",
    "    --yolo_path {yolo_path}\n",
    "'''\n",
    "\n",
    "!{command}"
   ]
  },
  {
   "cell_type": "code",
   "execution_count": null,
   "metadata": {},
   "outputs": [],
   "source": [
    "# Update label references to assets\n",
    "kili.labels(project_id=project_id, fields=['assetIdCompute'])"
   ]
  },
  {
   "cell_type": "code",
   "execution_count": null,
   "metadata": {},
   "outputs": [],
   "source": [
    "# Check pre-annotations were saved in Kili\n",
    "asset = kili.assets(project_id=project_id,\n",
    "                                             external_id_contains=['man-on-bike'])\n",
    "\n",
    "assert len(asset[0]['labels']) > 0"
   ]
  },
  {
   "cell_type": "markdown",
   "metadata": {},
   "source": [
    "Here is the result for our cyclist, well identified by Yolo, but there can be some improvements that will be brought by the Transfer learning \n",
    "\n",
    "![Yolo Result](./img/man_on_a_bike_labels.png)"
   ]
  },
  {
   "cell_type": "markdown",
   "metadata": {},
   "source": [
    "## Launching your training\n",
    "\n",
    "After having labelled a few data instances, you are ready to launch a new training using transfer learning.\n",
    "\n",
    "Next launch the following command to keep tuning the weights according to your data's specificity. The number of inferences will determine the number of full passes over your labeled data :"
   ]
  },
  {
   "cell_type": "code",
   "execution_count": null,
   "metadata": {},
   "outputs": [],
   "source": [
    "number_of_inferences = 5\n",
    "command = f'''python ./main.py \\\n",
    "    --api_endpoint {api_endpoint} \\\n",
    "    --api_key {api_key} \\\n",
    "    --job_id {job_id} \\\n",
    "    --number_of_inferences {number_of_inferences} \\\n",
    "    --project_id {project_id} \\\n",
    "    --weights {weights} \\\n",
    "    --yolo_path {yolo_path}\n",
    "'''\n",
    "#!{command}"
   ]
  },
  {
   "cell_type": "markdown",
   "metadata": {},
   "source": [
    "## Conclusion\n",
    "\n",
    "In this short recipe, we provide a script to help you accelerate your labeling task, leveraging both the powerful Kili interface and the State-of-the-art Yolo pre-trained model. \n",
    "\n",
    "Feel free to keep modifying this recipe to your needs, and to check out our other [recipes](https://github.com/kili-technology/kili-playground/tree/master/recipes) or the Kili [documentation](https://cloud.kili-technology.com/docs/introduction/introduction-to-kili-technology.html)"
   ]
  }
 ],
 "metadata": {
  "kernelspec": {
   "display_name": "Python 3",
   "language": "python",
   "name": "python3"
  },
  "language_info": {
   "codemirror_mode": {
    "name": "ipython",
    "version": 3
   },
   "file_extension": ".py",
   "mimetype": "text/x-python",
   "name": "python",
   "nbconvert_exporter": "python",
   "pygments_lexer": "ipython3",
   "version": "3.9.1"
  }
 },
 "nbformat": 4,
 "nbformat_minor": 2
}