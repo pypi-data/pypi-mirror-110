{
 "cells": [
  {
   "cell_type": "markdown",
   "metadata": {},
   "source": [
    "# Kili Tutorial: Import/export pixel-level masks in Kili Technology"
   ]
  },
  {
   "cell_type": "markdown",
   "metadata": {},
   "source": [
    "In this tutorial, we will show you how to import/export pixel-level masks when doing [semantic annotation in Kili Technology](https://cloud.kili-technology.com/docs/image-interfaces/segmentation). Such projects allow you to annotate image data at pixel level.\n",
    "\n",
    "The data we use comes from [COCO dataset](https://cocodataset.org)."
   ]
  },
  {
   "cell_type": "markdown",
   "metadata": {},
   "source": [
    "## Load an image from COCO dataset to Kili Technology"
   ]
  },
  {
   "cell_type": "markdown",
   "metadata": {},
   "source": [
    "Let's first inspect what an annotated image looks like in COCO dataset.\n",
    "\n",
    "<img src=\"http://farm7.staticflickr.com/6153/6181981748_6a225c275d_z.jpg\">\n",
    "\n",
    "You can go to [this URL](http://cocodataset.org/#explore?id=219921) to see it annotated.\n",
    "\n",
    "Let's create a project in Kili Technology where we can annotate images with two classes: `HUMAN` and `MOTORCYCLE` at pixel level."
   ]
  },
  {
   "cell_type": "code",
   "execution_count": 1,
   "metadata": {},
   "outputs": [],
   "source": [
    "json_interface = {\n",
    "\t\"jobs\": {\n",
    "\t\t\"JOB_0\": {\n",
    "\t\t\t\"mlTask\": \"OBJECT_DETECTION\",\n",
    "\t\t\t\"tools\": [\n",
    "\t\t\t\t\"semantic\"\n",
    "\t\t\t],\n",
    "\t\t\t\"instruction\": None,\n",
    "\t\t\t\"required\": 1,\n",
    "\t\t\t\"isChild\": False,\n",
    "\t\t\t\"content\": {\n",
    "\t\t\t\t\"categories\": {\n",
    "\t\t\t\t\t\"MOTORCYCLE\": {\n",
    "\t\t\t\t\t\t\"name\": \"Motorcycle\",\n",
    "\t\t\t\t\t\t\"children\": [],\n",
    "\t\t\t\t\t\t\"color\": \"#0755FF\"\n",
    "\t\t\t\t\t},\n",
    "\t\t\t\t\t\"HUMAN\": {\n",
    "\t\t\t\t\t\t\"name\": \"Human\",\n",
    "\t\t\t\t\t\t\"children\": [],\n",
    "\t\t\t\t\t\t\"color\": \"#EEBA00\"\n",
    "\t\t\t\t\t}\n",
    "\t\t\t\t},\n",
    "\t\t\t\t\"input\": \"radio\"\n",
    "\t\t\t}\n",
    "\t\t}\n",
    "\t}\n",
    "}"
   ]
  },
  {
   "cell_type": "code",
   "execution_count": 2,
   "metadata": {},
   "outputs": [],
   "source": [
    "%matplotlib inline \n",
    "\n",
    "import functools\n",
    "import json\n",
    "import matplotlib.pyplot as plt\n",
    "import numpy as np\n",
    "import os\n",
    "from PIL import Image\n",
    "from random import randint\n",
    "\n",
    "!apt install -y libgl1-mesa-glx\n",
    "!pip install opencv-python\n",
    "import cv2\n",
    "from kili.client import Kili"
   ]
  },
  {
   "cell_type": "code",
   "execution_count": 3,
   "metadata": {},
   "outputs": [
    {
     "data": {
      "text/plain": [
       "{'id': 'ckfpiub2y24fb07470vnd315w',\n",
       " 'jsonInterface': {'jobs': {'JOB_0': {'mlTask': 'OBJECT_DETECTION',\n",
       "    'tools': ['semantic'],\n",
       "    'instruction': None,\n",
       "    'required': 1,\n",
       "    'isChild': False,\n",
       "    'content': {'categories': {'MOTORCYCLE': {'name': 'Motorcycle',\n",
       "       'children': [],\n",
       "       'color': '#0755FF'},\n",
       "      'HUMAN': {'name': 'Human', 'children': [], 'color': '#EEBA00'}},\n",
       "     'input': 'radio'}}}},\n",
       " 'title': 'Motorcycle annotation',\n",
       " 'roles': []}"
      ]
     },
     "execution_count": 3,
     "metadata": {},
     "output_type": "execute_result"
    }
   ],
   "source": [
    "# Authenticate to Kili Technology\n",
    "api_key = os.getenv('KILI_USER_API_KEY')\n",
    "api_endpoint = os.getenv('KILI_API_ENDPOINT')\n",
    "kili = Kili(api_key=api_key, api_endpoint=api_endpoint)\n",
    "\n",
    "# Create a semantic project\n",
    "project = kili.create_project(\n",
    "    description='COCO dataset',\n",
    "    input_type='IMAGE',\n",
    "    json_interface=json_interface,\n",
    "    title='Motorcycle annotation'\n",
    ")\n",
    "project_id = project['id']\n",
    "\n",
    "users = kili.users(api_key=api_key, fields=['email'])\n",
    "kili.append_to_roles(\n",
    "    project_id=project_id,\n",
    "    user_email=users[0]['email'],\n",
    "    role='ADMIN'\n",
    ")"
   ]
  },
  {
   "cell_type": "code",
   "execution_count": 4,
   "metadata": {},
   "outputs": [
    {
     "data": {
      "text/plain": [
       "{'id': 'ckfpiub2y24fb07470vnd315w'}"
      ]
     },
     "execution_count": 4,
     "metadata": {},
     "output_type": "execute_result"
    }
   ],
   "source": [
    "external_id = 'moto'\n",
    "content = 'https://farm7.staticflickr.com/6153/6181981748_6a225c275d_z.jpg'\n",
    "\n",
    "kili.append_many_to_dataset(\n",
    "    project_id=project_id,\n",
    "    content_array=[content],\n",
    "    external_id_array=[external_id],\n",
    "    json_content_array=None\n",
    ")"
   ]
  },
  {
   "cell_type": "markdown",
   "metadata": {},
   "source": [
    "Now you should be able to visualize your asset in Kili Technology:\n",
    "\n",
    "<img src=\"./img/motorcycle_without_annotations.png\">"
   ]
  },
  {
   "cell_type": "markdown",
   "metadata": {},
   "source": [
    "## Import annotations from a mask"
   ]
  },
  {
   "cell_type": "markdown",
   "metadata": {},
   "source": [
    "Now, imagine you already have annotations stored as a mask. You want to insert it in Kili Technology as a [prediction](https://cloud.kili-technology.com/docs/python-graphql-api/recipes/import_predictions/#docsNav). Here is the mask:\n",
    "\n",
    "<img src=\"./img/HUMAN.mask.png\">\n",
    "\n",
    "We can begin by reading the image:"
   ]
  },
  {
   "cell_type": "code",
   "execution_count": 5,
   "metadata": {},
   "outputs": [],
   "source": [
    "output = './output.png'\n",
    "command = f'wget {content} -O {output} > /dev/null 2>&1'\n",
    "!{command}\n",
    "image = cv2.imread(output)\n",
    "y, x, _ = image.shape\n",
    "shape = (y, x)"
   ]
  },
  {
   "cell_type": "markdown",
   "metadata": {},
   "source": [
    "These two functions will help us convert the mask:"
   ]
  },
  {
   "cell_type": "code",
   "execution_count": 6,
   "metadata": {},
   "outputs": [],
   "source": [
    "def cv_to_kili(polygons, shape, category_name):\n",
    "    \"\"\"\n",
    "    Converts OpenCV polygons to Kili annotations (called JSON response)\n",
    "    \"\"\"\n",
    "    y_max, x_max = shape\n",
    "    xy_max = max(x_max, y_max)\n",
    "    if xy_max == 0:\n",
    "        raise Exception('input image has zero size')\n",
    "    normalized_polygons = []\n",
    "    for polygon in polygons:\n",
    "        normalized_polygon = []\n",
    "        for point in polygon:\n",
    "            x = point[0][0]\n",
    "            y = point[0][1]\n",
    "            normalized_polygon.append({'x': x/x_max, 'y': y/y_max})\n",
    "        normalized_polygons.append(normalized_polygon)\n",
    "    annotations = []\n",
    "    for normalized_polygon in normalized_polygons:\n",
    "        annotations.append({\n",
    "            \"boundingPoly\": [\n",
    "                {\n",
    "                    \"normalizedVertices\": normalized_polygon\n",
    "                  }\n",
    "            ],\n",
    "            \"categories\": [{ \"name\": category_name, \"confidence\": 100 }],\n",
    "            \"mid\": randint(100, 1000),\n",
    "            \"score\": None,\n",
    "            \"type\": \"polygon\"\n",
    "          })\n",
    "    return {\n",
    "      \"JOB_0\": {\n",
    "        \"annotations\": annotations\n",
    "      }\n",
    "    }\n",
    "\n",
    "def create_polygons_from_mask(path):\n",
    "    image = cv2.imread(path)\n",
    "    grey_image = cv2.cvtColor(image, cv2.COLOR_BGR2GRAY)\n",
    "    _, threshold = cv2.threshold(grey_image, 127, 255, 0)\n",
    "    contours, _ = cv2.findContours(threshold, cv2.RETR_TREE, cv2.CHAIN_APPROX_SIMPLE)\n",
    "    return contours"
   ]
  },
  {
   "cell_type": "code",
   "execution_count": 7,
   "metadata": {},
   "outputs": [
    {
     "data": {
      "text/plain": [
       "{'id': 'ckfpiub2y24fb07470vnd315w'}"
      ]
     },
     "execution_count": 7,
     "metadata": {},
     "output_type": "execute_result"
    }
   ],
   "source": [
    "polygons = create_polygons_from_mask('./img/HUMAN.mask.png')\n",
    "json_response = cv_to_kili(polygons, shape, 'HUMAN')\n",
    "\n",
    "kili.create_predictions(\n",
    "    project_id=project_id,\n",
    "    external_id_array=[external_id],\n",
    "    model_name_array=['original_mask'],\n",
    "    json_response_array=[json_response]\n",
    ")"
   ]
  },
  {
   "cell_type": "markdown",
   "metadata": {},
   "source": [
    "That's it! Your mask was just converted to Kili Technology's standard format and uploaded as a prediction to the platform."
   ]
  },
  {
   "cell_type": "markdown",
   "metadata": {},
   "source": [
    "## Export the annotations as a mask"
   ]
  },
  {
   "cell_type": "markdown",
   "metadata": {},
   "source": [
    "You may want to do some changes to the annotation and download them back as a mask.\n",
    "\n",
    "<img src=\"./img/motorcycle_with_annotations.png\">\n",
    "\n",
    "Let's see how you can achieve this!\n",
    "\n",
    "First we define a function to convert JSON responses from Kili Technology to readable polygons in OpenCV."
   ]
  },
  {
   "cell_type": "code",
   "execution_count": 8,
   "metadata": {},
   "outputs": [],
   "source": [
    "def kili_to_cv(json_response, shape):\n",
    "    \"\"\"\n",
    "    Converts Kili annotations (called JSON response) to OpenCV format\n",
    "    \"\"\"\n",
    "    y, x = shape\n",
    "    polygons = {}\n",
    "    for job_name in json_response:\n",
    "        job = json_response[job_name]\n",
    "        if 'annotations' not in job:\n",
    "            continue\n",
    "        annotations = job['annotations']\n",
    "        for annotation in annotations:\n",
    "            categories = annotation['categories']\n",
    "            category = functools.reduce(lambda acc, cat: acc+cat['name'], categories, '')\n",
    "            vertices = annotation['boundingPoly'][0]['normalizedVertices']\n",
    "            polygon = [[int(vertice['x']*x), int(vertice['y']*y)] for vertice in vertices]\n",
    "            if category not in polygons:\n",
    "                polygons[category] = [polygon]\n",
    "            else:\n",
    "                polygons[category].append(polygon)\n",
    "    return polygons"
   ]
  },
  {
   "cell_type": "markdown",
   "metadata": {},
   "source": [
    "Then, we can retrieve JSON responses, and print and save masks."
   ]
  },
  {
   "cell_type": "code",
   "execution_count": 9,
   "metadata": {},
   "outputs": [
    {
     "data": {
      "image/png": "[encoded data removed]",
      "text/plain": [
       "<Figure size 432x288 with 1 Axes>"
      ]
     },
     "metadata": {
      "needs_background": "light"
     },
     "output_type": "display_data"
    },
    {
     "data": {
      "image/png": "[encoded data removed]",
      "text/plain": [
       "<Figure size 432x288 with 1 Axes>"
      ]
     },
     "metadata": {
      "needs_background": "light"
     },
     "output_type": "display_data"
    }
   ],
   "source": [
    "labels = kili.labels(project_id=project_id,\n",
    "                           asset_external_id_in=[external_id],\n",
    "                           fields=['jsonResponse'])\n",
    "json_response = labels[-1]['jsonResponse']\n",
    "\n",
    "polygons = kili_to_cv(json_response, shape)\n",
    "\n",
    "for category in ['HUMAN', 'MOTORCYCLE']:\n",
    "    mask = np.zeros(shape)\n",
    "    if category not in polygons:\n",
    "        continue\n",
    "    cv2.fillPoly(mask, np.array(polygons[category], dtype=np.int32), 1)\n",
    "    plt.figure()\n",
    "    plt.title(f'Mask for {category}')\n",
    "    plt.imshow(mask)\n",
    "    mask_image = Image.fromarray(mask*255).convert('L')\n",
    "    mask_image.save(f'{category}.mask.png')"
   ]
  }
 ],
 "metadata": {
  "kernelspec": {
   "display_name": "Python 3",
   "language": "python",
   "name": "python3"
  },
  "language_info": {
   "codemirror_mode": {
    "name": "ipython",
    "version": 3
   },
   "file_extension": ".py",
   "mimetype": "text/x-python",
   "name": "python",
   "nbconvert_exporter": "python",
   "pygments_lexer": "ipython3",
   "version": "3.9.1"
  }
 },
 "nbformat": 4,
 "nbformat_minor": 4
}