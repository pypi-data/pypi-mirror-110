{
 "cells": [
  {
   "cell_type": "markdown",
   "metadata": {},
   "source": [
    "# Kili Tutorial: Webhooks\n",
    "\n",
    "In this tutorial, we will show how to use webhooks to monitor actions in Kili, such as a label creation. The goal of this tutorial is to illustrate some basic components and concepts of Kili in a simple way, but also to dive into the actual process of iteratively developing real applications in Kili.\n",
    "\n",
    "Additionally:\n",
    "\n",
    "For an overview of Kili, visit kili-technology.com You can also check out the Kili [documentation](https://cloud.kili-technology.com/docs). Our goal is to export labels that can predict whether an image contains a Porsche or a Tesla.\n",
    "\n",
    "The tutorial is divided into two parts:\n",
    "\n",
    "1. Why use webhooks?\n",
    "2. Using Kili's webhook in Python\n",
    "\n",
    "## 1. Why use webhooks?\n",
    "\n",
    "Webhooks allow to react to particular action in Kili's database by triggering a callback whenever an action is completed. For instance, here, every time a label is created in frontend (upper panel), the label can be logged in Python (lower right panel):\n",
    "\n",
    "![gif](./img/websockets.gif)"
   ]
  },
  {
   "cell_type": "markdown",
   "metadata": {},
   "source": [
    "## 2. Using Kili's webhook in Python\n",
    "\n",
    "Kili Playground exposes a method `label_created_or_updated` that allows to listen for all actions on labels:\n",
    "\n",
    "- creation of a new label\n",
    "- update of an existing label\n",
    "\n",
    "First of all, you need to authenticate:"
   ]
  },
  {
   "cell_type": "code",
   "execution_count": null,
   "metadata": {},
   "outputs": [],
   "source": [
    "import os\n",
    "\n",
    "!pip install kili\n",
    "from kili.client import Kili\n",
    "\n",
    "\n",
    "api_key = os.getenv('KILI_USER_API_KEY')\n",
    "api_endpoint = 'https://cloud.kili-technology.com/api/label/v2/graphql'\n",
    "\n",
    "kili = Kili(api_key=api_key, api_endpoint=api_endpoint)"
   ]
  },
  {
   "cell_type": "markdown",
   "metadata": {},
   "source": [
    "Then you can define a callback that will be triggered each time a label gets created/updated:"
   ]
  },
  {
   "cell_type": "code",
   "execution_count": null,
   "metadata": {},
   "outputs": [],
   "source": [
    "project_id = 'CHANGE_ME_FOR_YOUR_PROJECT_ID'\n",
    "\n",
    "def callback(id, data):\n",
    "    print(f'New data: {data}\\n')\n",
    "\n",
    "client = kili.label_created_or_updated(\n",
    "    project_id=project_id, callback=callback)"
   ]
  },
  {
   "cell_type": "markdown",
   "metadata": {},
   "source": [
    "The method `label_created_or_updated` returns a client allowing you to manage the webhook. \n",
    "\n",
    "For example, you can pause or unpause the webhook : "
   ]
  },
  {
   "cell_type": "code",
   "execution_count": null,
   "metadata": {},
   "outputs": [],
   "source": [
    "client.pause()\n",
    "client.unpause()"
   ]
  },
  {
   "cell_type": "markdown",
   "metadata": {},
   "source": [
    "Webhooks have a timeout of around 30 days. After this period, the hook is automatically killed. If you need to stop it before, you can call `close`:"
   ]
  },
  {
   "cell_type": "code",
   "execution_count": null,
   "metadata": {},
   "outputs": [],
   "source": [
    "client.close()"
   ]
  },
  {
   "cell_type": "markdown",
   "metadata": {},
   "source": [
    "If you need to reset the hook, you can call `reset_timeout`:"
   ]
  },
  {
   "cell_type": "code",
   "execution_count": null,
   "metadata": {},
   "outputs": [],
   "source": [
    "client.reset_timeout()"
   ]
  },
  {
   "cell_type": "markdown",
   "metadata": {},
   "source": [
    "Finally, you can get the number of seconds the webhook was up with :"
   ]
  },
  {
   "cell_type": "code",
   "execution_count": null,
   "metadata": {},
   "outputs": [],
   "source": [
    "client.get_lifetime()"
   ]
  },
  {
   "cell_type": "markdown",
   "metadata": {},
   "source": [
    "## Summary\n",
    "In this tutorial, we accomplished the following:\n",
    "\n",
    "We introduced the concept of webhook and we used `label_created_or_updated` to trigger a webhook.\n",
    "\n",
    "You can also visit the Kili [website](https://kili-technology.com/) or Kili [documentation](https://cloud.kili-technology.com/docs/introduction/introduction-to-kili-technology.html) for more info!"
   ]
  }
 ],
 "metadata": {
  "kernelspec": {
   "display_name": "Python 3",
   "language": "python",
   "name": "python3"
  },
  "language_info": {
   "codemirror_mode": {
    "name": "ipython",
    "version": 3
   },
   "file_extension": ".py",
   "mimetype": "text/x-python",
   "name": "python",
   "nbconvert_exporter": "python",
   "pygments_lexer": "ipython3",
   "version": "3.7.6"
  }
 },
 "nbformat": 4,
 "nbformat_minor": 2
}