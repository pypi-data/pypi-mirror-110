{
 "cells": [
  {
   "cell_type": "markdown",
   "id": "4944cbcf",
   "metadata": {},
   "source": [
    "# Using an SBML model\n",
    "\n",
    "## Getting started\n",
    "\n",
    "### Installing libraries\n",
    "\n",
    "Before you start, you will need to install a couple of libraries:\n",
    "   \n",
    "The [ModelSeedDatabase](https://github.com/ModelSEED/ModelSEEDDatabase) has all the biochemistry we'll need. You can install that with `git clone`.\n",
    "   \n",
    "The [PyFBA](http://linsalrob.github.io/PyFBA) library has detailed [installation instructions](http://linsalrob.github.io/PyFBA/installation.html). Don't be scared, its mostly just `pip install`.\n",
    "\n",
    "(Optional) Also, get the [SEED Servers](https://github.com/linsalrob/SEED_Servers_Python) as you can get a lot of information from them. You can install the git python repo from github.  Make sure that the SEED_Servers_Python is in your PYTHONPATH.\n",
    "\n",
    "We start with importing some modules that we are going to use. \n",
    "\n",
    "We import *sys* so that we can use standard out and standard error if we have some error messages.<br>\n",
    "We import *copy* so that we can make a deep copy of data structures for later comparisons.<br>\n",
    "Then we import the *PyFBA* module to get started."
   ]
  },
  {
   "cell_type": "code",
   "execution_count": 1,
   "id": "0858698b",
   "metadata": {},
   "outputs": [],
   "source": [
    "import sys\n",
    "import os\n",
    "import copy\n",
    "import PyFBA\n",
    "import pickle"
   ]
  },
  {
   "cell_type": "markdown",
   "id": "652b5ed3",
   "metadata": {},
   "source": [
    "## Sharing the data\n",
    "\n",
    "If you set this variable to true, we will export some of the data, as either `txt` files or `pickle` files, and then you can import them into other notebooks to explore the data"
   ]
  },
  {
   "cell_type": "code",
   "execution_count": 2,
   "id": "039e778b",
   "metadata": {},
   "outputs": [],
   "source": [
    "share_data = True"
   ]
  },
  {
   "cell_type": "markdown",
   "id": "a6cbaf44",
   "metadata": {},
   "source": [
    "## Running an SBML model\n",
    "\n",
    "If you have run your genome through RAST, you can download the [SBML](http://www.sbml.org/) model and use that directly.\n",
    "\n",
    "We have provided an [SBML model of *Citrobacter sedlakii*](https://raw.githubusercontent.com/linsalrob/PyFBA/master/example_data/Citrobacter/Citrobacter_sedlakii.sbml) that you can download and use. You can right-ctrl click on this link and save the SBML file in the same location you are running this iPython notebook.\n",
    "\n",
    "We use this SBML model to demonstrate the key points of the FBA approach: defining the reactions, including the boundary, or drainflux, reactions; the compounds, including the drain compounds; the media; and the reaction bounds. \n",
    "\n",
    "We'll take it step by step!\n",
    "\n",
    "We start by parsing the model:"
   ]
  },
  {
   "cell_type": "code",
   "execution_count": 3,
   "id": "231031c1",
   "metadata": {},
   "outputs": [
    {
     "name": "stderr",
     "output_type": "stream",
     "text": [
      "We are logging to /home/redwards/GitHubsLinux/PyFBA/iPythonNotebooks/logs/PyFBA.2021-06-16T10:19:22.389049.log\n"
     ]
    }
   ],
   "source": [
    "sbml = PyFBA.parse.parse_sbml_file(\"../example_data/Citrobacter/Citrobacter_sedlakii.sbml\")"
   ]
  },
  {
   "cell_type": "markdown",
   "id": "2fc20dbb",
   "metadata": {},
   "source": [
    "### Find all the reactions and identify those that are boundary reactions\n",
    "\n",
    "We need a set of reactions to run in the model. In this case, we are going to run all the reactions in our SBML file. However, you can change this set if you want to knock out reactions, add reactions, or generally modify the model. We store those in the `reactions_to_run` set.\n",
    "\n",
    "The boundary reactions refer to compounds that are secreted but then need to be removed from the `reactions_to_run` set. We usually include a consumption of those compounds that is open ended, as if they are draining away. We store those reactions in the `uptake_secretion_reactions` dictionary.\n"
   ]
  },
  {
   "cell_type": "code",
   "execution_count": 4,
   "id": "b58cf1b1",
   "metadata": {
    "scrolled": true
   },
   "outputs": [
    {
     "name": "stdout",
     "output_type": "stream",
     "text": [
      "Our biomass equation is Citrobacter_sedlakii_119_auto_biomass\n"
     ]
    }
   ],
   "source": [
    "# Get a dict of reactions.\n",
    "# The key is the reaction ID, and the value is a metabolism.reaction.Reaction object\n",
    "reactions = sbml.reactions\n",
    "reactions_to_run = set()\n",
    "uptake_secretion_reactions = {}\n",
    "biomass_equation = None\n",
    "for r in reactions:\n",
    "    if 'biomass_equation' == r:\n",
    "        biomass_equation = reactions[r]\n",
    "        print(f\"Our biomass equation is {biomass_equation.readable_name}\")\n",
    "        continue\n",
    "    is_boundary = False\n",
    "    for c in reactions[r].all_compounds():\n",
    "        if c.uptake_secretion:\n",
    "            is_boundary = True\n",
    "            break\n",
    "    if is_boundary:\n",
    "        reactions[r].is_uptake_secretion = True\n",
    "        uptake_secretion_reactions[r] = reactions[r]\n",
    "    else:\n",
    "        reactions_to_run.add(r)"
   ]
  },
  {
   "cell_type": "markdown",
   "id": "c0e4eff6",
   "metadata": {},
   "source": [
    "At this point, we can take a look at how many reactions are in the model, not counting the biomass reaction:"
   ]
  },
  {
   "cell_type": "code",
   "execution_count": 5,
   "id": "63c0678f",
   "metadata": {},
   "outputs": [
    {
     "name": "stdout",
     "output_type": "stream",
     "text": [
      "The biomass equation is biomass_equation: Citrobacter_sedlakii_119_auto_biomass\n",
      "There are 1574 reactions in the model\n",
      "There are 174 uptake/secretion reactions in the model\n",
      "There are 1399 reactions to be run in the model\n"
     ]
    }
   ],
   "source": [
    "print(f\"The biomass equation is {biomass_equation}\")\n",
    "print(f\"There are {len(reactions)} reactions in the model\")\n",
    "print(f\"There are {len(uptake_secretion_reactions)} uptake/secretion reactions in the model\")\n",
    "print(f\"There are {len(reactions_to_run)} reactions to be run in the model\")"
   ]
  },
  {
   "cell_type": "code",
   "execution_count": 6,
   "id": "cf825ed4",
   "metadata": {},
   "outputs": [],
   "source": [
    "if share_data:\n",
    "    with open('sbml_reactions.txt', 'w') as out:\n",
    "        for r in reactions:\n",
    "            out.write(f\"{r}\\n\")"
   ]
  },
  {
   "cell_type": "markdown",
   "id": "40158ae1",
   "metadata": {},
   "source": [
    "### Find all the compounds in the model, and filter out those that are secreted\n",
    "\n",
    "We need to filter out uptake and secretion compounds from our list of all compounds before we can make a stoichiometric matrix."
   ]
  },
  {
   "cell_type": "code",
   "execution_count": 7,
   "id": "51b74b7f",
   "metadata": {},
   "outputs": [],
   "source": [
    "all_compounds = sbml.compounds\n",
    "# Filter for compounds that are boundary compounds\n",
    "filtered_compounds = set()\n",
    "for c in all_compounds:\n",
    "    if not c.uptake_secretion:\n",
    "        filtered_compounds.add(c)"
   ]
  },
  {
   "cell_type": "markdown",
   "id": "52cb0214",
   "metadata": {},
   "source": [
    "Again, we can see how many compounds there are in the model."
   ]
  },
  {
   "cell_type": "code",
   "execution_count": 8,
   "id": "e303c94a",
   "metadata": {},
   "outputs": [
    {
     "name": "stdout",
     "output_type": "stream",
     "text": [
      "There are 1475 total compounds in the model\n",
      "There are 1301 compounds that are not involved in uptake and secretion\n"
     ]
    }
   ],
   "source": [
    "print(f\"There are {len(all_compounds)} total compounds in the model\")\n",
    "print(f\"There are {len(filtered_compounds)} compounds that are not involved in uptake and secretion\")"
   ]
  },
  {
   "cell_type": "markdown",
   "id": "15542c16",
   "metadata": {},
   "source": [
    "And now we have the size of our stoichiometric matrix! Notice that the stoichiometric matrix is composed of the reactions that we are going to run and the compounds that are in those reactions (but not the uptake/secretion reactions and compounds)."
   ]
  },
  {
   "cell_type": "code",
   "execution_count": 9,
   "id": "4928888b",
   "metadata": {},
   "outputs": [
    {
     "name": "stdout",
     "output_type": "stream",
     "text": [
      "The stoichiometric matrix will be 1,399 reactions by 1,301 compounds\n"
     ]
    }
   ],
   "source": [
    "print(f\"The stoichiometric matrix will be {len(reactions_to_run):,} reactions by {len(filtered_compounds):,} compounds\")"
   ]
  },
  {
   "cell_type": "markdown",
   "id": "99a47ade",
   "metadata": {},
   "source": [
    "### Read the media file, and correct the media names\n",
    "\n",
    "In our [media](https://github.com/linsalrob/PyFBA/tree/master/media) directory, we have a lot of different media formulations, most of which we use with the Genotype-Phenotype project. For this example, we are going to use Lysogeny Broth (LB). There are many different formulations of LB, but we have included the recipe created by the folks at Argonne so that it is comparable with their analysis. You can download [ArgonneLB.txt](https://raw.githubusercontent.com/linsalrob/PyFBA/master/media/ArgonneLB.txt) and put it in the same directory as this iPython notebook to run it.\n",
    "\n",
    "Once we have read the file we need to correct the names in the compounds. Sometimes when compound names are exported to the SBML file they are modified slightly. This just corrects those names."
   ]
  },
  {
   "cell_type": "code",
   "execution_count": 10,
   "id": "53af205b",
   "metadata": {},
   "outputs": [
    {
     "name": "stdout",
     "output_type": "stream",
     "text": [
      "The media has 65 compounds\n"
     ]
    },
    {
     "name": "stderr",
     "output_type": "stream",
     "text": [
      "Checking media compounds: Our compounds do not include  Vitamin B12\n",
      "Checking media compounds: Our compounds do not include  chromate\n",
      "Checking media compounds: Our compounds do not include  Molybdate\n",
      "Checking media compounds: Our compounds do not include  L-Cystine\n",
      "Checking media compounds: Our compounds do not include  Fe3+\n",
      "Checking media compounds: Our compounds do not include  Ni2+\n",
      "Checking media compounds: Our compounds do not include  Thiamine phosphate\n",
      "Please note: The warnings about media not being found in compounds are not fatal.\n",
      "It just means that we did not find that compound anywhere in the reactions, and so it is unlikely to be\n",
      "needed or used. We typically see a few of these in rich media.\n"
     ]
    }
   ],
   "source": [
    "# Read the media file\n",
    "#media = PyFBA.parse.read_media_file(\"/home/redwards/.local/lib/python3.9/site-packages/PyFBA-2.1-py3.9.egg/PyFBA/Biochemistry/media/ArgonneLB.txt\")\n",
    "# mediafile = \"MOPS_NoC_L-Methionine\"\n",
    "mediafile = 'ArgonneLB'\n",
    "# ediafile = 'MOPS_NoC_D-Glucose'\n",
    "media = PyFBA.parse.pyfba_media(mediafile)\n",
    "# Correct the names\n",
    "media = sbml.correct_media(media)\n",
    "print(f\"The media has {len(media)} compounds\")"
   ]
  },
  {
   "cell_type": "markdown",
   "id": "7fac1d62",
   "metadata": {},
   "source": [
    "### Set the reaction bounds for uptake/secretion compounds\n",
    "\n",
    "The uptake and secretion compounds typically have reaction bounds that allow them to be consumed (i.e. diffuse away from the cell) but not produced. However, our media components can also increase in concentration (i.e. diffuse to the cell) and thus the bounds are set higher. Whenever you change the growth media, you also need to adjust the reaction bounds to ensure that the media can be consumed!\n"
   ]
  },
  {
   "cell_type": "code",
   "execution_count": 11,
   "id": "2d7becdc",
   "metadata": {},
   "outputs": [
    {
     "name": "stdout",
     "output_type": "stream",
     "text": [
      "There are 46 reactions (out of 174) with a media component\n"
     ]
    }
   ],
   "source": [
    "# Adjust the lower bounds of uptake secretion reactions\n",
    "# for things that are not in the media\n",
    "mcr = 0\n",
    "for u in uptake_secretion_reactions:\n",
    "    # just reset the bounds in case we change media and re-run this block\n",
    "    reactions[u].lower_bound = -1000.0\n",
    "    uptake_secretion_reactions[u].lower_bound = -1000.0\n",
    "    reactions[u].upper_bound = 1000.0\n",
    "    uptake_secretion_reactions[u].upper_bound = 1000.0\n",
    "    is_media_component = False\n",
    "    override = False\n",
    "    for c in uptake_secretion_reactions[u].all_compounds():\n",
    "        if c in media:\n",
    "            is_media_component = True\n",
    "\n",
    "    if is_media_component:\n",
    "        mcr += 1\n",
    "    else:\n",
    "        reactions[u].lower_bound = 0.0\n",
    "        uptake_secretion_reactions[u].lower_bound = 0.0\n",
    "        # these are the reactions that allow the media components to flux\n",
    "        # print(f\"{u} {sbml.reactions[u].equation}  ({sbml.reactions[u].lower_bound}, {sbml.reactions[u].upper_bound})\")\n",
    "print(f\"There are {mcr} reactions (out of {len(uptake_secretion_reactions)}) with a media component\")"
   ]
  },
  {
   "cell_type": "markdown",
   "id": "6a097b4a",
   "metadata": {},
   "source": [
    "### Run the FBA\n",
    "\n",
    "Now that we have constructed our model, we can run the FBA!"
   ]
  },
  {
   "cell_type": "code",
   "execution_count": 12,
   "id": "00a2e0c5",
   "metadata": {},
   "outputs": [
    {
     "name": "stderr",
     "output_type": "stream",
     "text": [
      "csm did not find media compound Vitamin B12 in the compounds database\n",
      "csm did not find media compound chromate in the compounds database\n",
      "csm did not find media compound Molybdate in the compounds database\n",
      "csm did not find media compound L-Cystine in the compounds database\n",
      "csm did not find media compound Fe3+ in the compounds database\n",
      "csm did not find media compound Thiamine phosphate in the compounds database\n",
      "csm did not find media compound Ni2+ in the compounds database\n",
      "We are loading 1320 rows and 1574 columns\n"
     ]
    },
    {
     "name": "stdout",
     "output_type": "stream",
     "text": [
      "The FBA completed with a flux value of 281.7387771116904 --> growth: True\n"
     ]
    },
    {
     "name": "stderr",
     "output_type": "stream",
     "text": [
      "In parsing the bounds we found 0 media uptake and secretion reactions and 0 other u/s reactions\n",
      "Length of the media: 65\n",
      "Number of reactions to run: 1399\n",
      "Number of compounds in SM: 1320\n",
      "Number of reactions in SM: 1574\n",
      "Number of uptake/secretion reactions 174\n",
      "SMat dimensions: 1320 x 1574\n"
     ]
    }
   ],
   "source": [
    "ms = PyFBA.model_seed.ModelData(compounds = filtered_compounds, reactions = reactions)\n",
    "status, value, growth = PyFBA.fba.run_fba(ms, reactions_to_run, media, biomass_equation,\n",
    "                                          uptake_secretion_reactions, verbose=True)\n",
    "print(\"The FBA completed with a flux value of {} --> growth: {}\".format(value, growth))\n"
   ]
  },
  {
   "cell_type": "markdown",
   "id": "bde60462",
   "metadata": {},
   "source": [
    "# Export the components of the model\n",
    "\n",
    "This demonstrates how to export and import the components of this model, so you can do other things with it!"
   ]
  },
  {
   "cell_type": "code",
   "execution_count": 13,
   "id": "40eab6c9",
   "metadata": {},
   "outputs": [],
   "source": [
    "if share_data:\n",
    "    pickle.dump(filtered_compounds, open('compounds.pickle', 'wb'))\n",
    "    pickle.dump(reactions, open('reactions.pickle', 'wb'))\n",
    "    pickle.dump(reactions_to_run, open('reactions_to_run.pickle', 'wb'))\n",
    "    pickle.dump(media, open('media.pickle', 'wb'))\n",
    "    pickle.dump(biomass_equation, open('sbml_biomass.pickle', 'wb'))\n",
    "    pickle.dump(uptake_secretion_reactions, open('uptake_secretion_reactions.pickle', 'wb'))"
   ]
  },
  {
   "cell_type": "code",
   "execution_count": 14,
   "id": "07148c48",
   "metadata": {},
   "outputs": [
    {
     "name": "stderr",
     "output_type": "stream",
     "text": [
      "csm did not find media compound Vitamin B12 in the compounds database\n",
      "csm did not find media compound chromate in the compounds database\n",
      "csm did not find media compound Molybdate in the compounds database\n",
      "csm did not find media compound L-Cystine in the compounds database\n",
      "csm did not find media compound Fe3+ in the compounds database\n",
      "csm did not find media compound Thiamine phosphate in the compounds database\n",
      "csm did not find media compound Ni2+ in the compounds database\n",
      "We are loading 1320 rows and 1574 columns\n"
     ]
    },
    {
     "name": "stdout",
     "output_type": "stream",
     "text": [
      "The FBA completed with a flux value of 281.7387771116904 --> growth: True\n"
     ]
    },
    {
     "name": "stderr",
     "output_type": "stream",
     "text": [
      "In parsing the bounds we found 0 media uptake and secretion reactions and 0 other u/s reactions\n",
      "Length of the media: 65\n",
      "Number of reactions to run: 1399\n",
      "Number of compounds in SM: 1320\n",
      "Number of reactions in SM: 1574\n",
      "Number of uptake/secretion reactions 174\n",
      "SMat dimensions: 1320 x 1574\n"
     ]
    }
   ],
   "source": [
    "if share_data:\n",
    "    sbml_filtered_compounds = pickle.load(open('compounds.pickle', 'rb'))\n",
    "    sbml_reactions = pickle.load(open('reactions.pickle', 'rb'))\n",
    "    sbml_reactions_to_run = pickle.load(open('reactions_to_run.pickle', 'rb'))\n",
    "    sbml_media = pickle.load(open('media.pickle', 'rb'))\n",
    "    sbml_biomass_equation = pickle.load(open('sbml_biomass.pickle', 'rb'))\n",
    "    sbml_uptake_secretion_reactions = pickle.load(open('uptake_secretion_reactions.pickle', 'rb'))\n",
    "    \n",
    "    ms = PyFBA.model_seed.ModelData(compounds = sbml_filtered_compounds, reactions = sbml_reactions)\n",
    "    status, value, growth = PyFBA.fba.run_fba(ms, sbml_reactions_to_run, sbml_media, sbml_biomass_equation,\n",
    "                                          sbml_uptake_secretion_reactions, verbose=True)\n",
    "    print(\"The FBA completed with a flux value of {} --> growth: {}\".format(value, growth))"
   ]
  },
  {
   "cell_type": "code",
   "execution_count": null,
   "id": "7910050e",
   "metadata": {},
   "outputs": [],
   "source": []
  }
 ],
 "metadata": {
  "kernelspec": {
   "display_name": "PyFBA_venv",
   "language": "python",
   "name": "pyfba_venv"
  },
  "language_info": {
   "codemirror_mode": {
    "name": "ipython",
    "version": 3
   },
   "file_extension": ".py",
   "mimetype": "text/x-python",
   "name": "python",
   "nbconvert_exporter": "python",
   "pygments_lexer": "ipython3",
   "version": "3.9.1"
  }
 },
 "nbformat": 4,
 "nbformat_minor": 5
}
