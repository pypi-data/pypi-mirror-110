{
 "cells": [
  {
   "cell_type": "markdown",
   "id": "d6acf017",
   "metadata": {},
   "source": [
    "# Reconstruct the SBML from a set of reactions\n",
    "\n",
    "This is to test the FBA toolchain"
   ]
  },
  {
   "cell_type": "code",
   "execution_count": 1,
   "id": "33fa9c38",
   "metadata": {},
   "outputs": [
    {
     "data": {
      "text/plain": [
       "'/home/redwards/GitHubsLinux/PyFBA/venv/lib/python3.9/site-packages/PyFBA-2.2-py3.9.egg/PyFBA/__init__.py'"
      ]
     },
     "execution_count": 1,
     "metadata": {},
     "output_type": "execute_result"
    }
   ],
   "source": [
    "import sys\n",
    "import os\n",
    "import copy\n",
    "import PyFBA\n",
    "import re\n",
    "import pickle\n",
    "\n",
    "import inspect\n",
    "inspect.getfile(PyFBA)"
   ]
  },
  {
   "cell_type": "markdown",
   "id": "f22be327",
   "metadata": {},
   "source": [
    "# Read the Reactions, Enzymes, and Compounds Sets\n",
    "\n",
    "This parses the ModelSeed data"
   ]
  },
  {
   "cell_type": "code",
   "execution_count": 2,
   "id": "70831dcd",
   "metadata": {},
   "outputs": [
    {
     "name": "stderr",
     "output_type": "stream",
     "text": [
      "We are logging to /home/redwards/GitHubsLinux/PyFBA/iPythonNotebooks/logs/PyFBA.2021-06-14T12:06:44.123160.log\n",
      "Reading compounds from PyFBA.Biochemistry.ModelSEEDDatabase.Biochemistry.compounds.json\n",
      "Reading reactions from PyFBA.Biochemistry.ModelSEEDDatabase.Biochemistry.reactions.json\n",
      "Creating enzymes with complexes and reactions\n"
     ]
    },
    {
     "name": "stdout",
     "output_type": "stream",
     "text": [
      "There are 33,845 compounds, 43,774 reactions, and 9,423 enzymes in total\n"
     ]
    }
   ],
   "source": [
    "modeldata = PyFBA.parse.model_seed.parse_model_seed_data('gramnegative', verbose=True)\n",
    "print(f\"There are {len(modeldata.compounds):,} compounds, {len(modeldata.reactions):,} reactions, and {len(modeldata.enzymes):,} enzymes in total\")"
   ]
  },
  {
   "cell_type": "markdown",
   "id": "4c691f0c",
   "metadata": {},
   "source": [
    "Modelseed.compounds is entirely `PyFBA.metabolism.Compound` and does not have locations."
   ]
  },
  {
   "cell_type": "markdown",
   "id": "ea60dea9",
   "metadata": {},
   "source": [
    "# Create a biomass equation"
   ]
  },
  {
   "cell_type": "code",
   "execution_count": 3,
   "id": "24cf5a27",
   "metadata": {},
   "outputs": [],
   "source": [
    "biomass_equation = PyFBA.metabolism.biomass_equation('gramnegative', modeldata.compounds)"
   ]
  },
  {
   "cell_type": "markdown",
   "id": "b7de07ba",
   "metadata": {},
   "source": [
    "# Read the media and normalize any of the compound names"
   ]
  },
  {
   "cell_type": "code",
   "execution_count": 4,
   "id": "26d69622",
   "metadata": {},
   "outputs": [
    {
     "name": "stdout",
     "output_type": "stream",
     "text": [
      "The media has 65 compounds\n"
     ]
    }
   ],
   "source": [
    "# Read the media file\n",
    "media = PyFBA.parse.pyfba_media(\"ArgonneLB\")\n",
    "# Correct the names\n",
    "media = PyFBA.parse.correct_media_names(media, modeldata.compounds)\n",
    "print(f\"The media has {len(media)} compounds\")"
   ]
  },
  {
   "cell_type": "markdown",
   "id": "4e3d566b",
   "metadata": {},
   "source": [
    "`media` is a set of `PyFBA.metabolism.CompoundWithLocation`"
   ]
  },
  {
   "cell_type": "markdown",
   "id": "bfa0e006",
   "metadata": {},
   "source": [
    "# Read the reactions"
   ]
  },
  {
   "cell_type": "code",
   "execution_count": 17,
   "id": "ad3316f0",
   "metadata": {},
   "outputs": [
    {
     "name": "stdout",
     "output_type": "stream",
     "text": [
      "There are 1399 reactions to run\n"
     ]
    }
   ],
   "source": [
    "reactions_to_run = set()\n",
    "with open('rgood.txt', 'r') as f:\n",
    "    for l in f:\n",
    "        if l.startswith('rxn'):\n",
    "            reactions_to_run.add(l.strip())\n",
    "print(f\"There are {len(reactions_to_run)} reactions to run\")"
   ]
  },
  {
   "cell_type": "markdown",
   "id": "1c9a5a75",
   "metadata": {},
   "source": [
    "Note that we do not need to add the biomass reaction to reactions_to_run as that is parsed separately when we create the stiochiometric matrix."
   ]
  },
  {
   "cell_type": "markdown",
   "id": "21c8111d",
   "metadata": {},
   "source": [
    "# Run the FBA"
   ]
  },
  {
   "cell_type": "code",
   "execution_count": 19,
   "id": "f6f3243c",
   "metadata": {
    "scrolled": true
   },
   "outputs": [
    {
     "name": "stderr",
     "output_type": "stream",
     "text": [
      "create_stoichiometric_matrix found 190 uptake and secretion reactions\n"
     ]
    },
    {
     "name": "stdout",
     "output_type": "stream",
     "text": [
      "The FBA completed with a flux value of 933.3130068801794 --> growth: True\n"
     ]
    }
   ],
   "source": [
    "uptake_secretion_reactions = None\n",
    "status, value, growth = PyFBA.fba.run_fba(modeldata, reactions_to_run, media, biomass_equation,\n",
    "                                          uptake_secretion_reactions, verbose=False)\n",
    "print(\"The FBA completed with a flux value of {} --> growth: {}\".format(value, growth))\n"
   ]
  },
  {
   "cell_type": "code",
   "execution_count": null,
   "id": "78d76c53",
   "metadata": {},
   "outputs": [],
   "source": []
  },
  {
   "cell_type": "code",
   "execution_count": 7,
   "id": "0d46374a",
   "metadata": {},
   "outputs": [
    {
     "name": "stdout",
     "output_type": "stream",
     "text": [
      "There are 1302 unique compounds\n",
      "There are 172 external compounds\n"
     ]
    }
   ],
   "source": [
    "cpd = {}\n",
    "ecpd = {}\n",
    "for r in reactions_to_run:\n",
    "    for c in modeldata.reactions[r].all_compounds():\n",
    "        cpd[c] = cpd.get(c, 0) + 1\n",
    "        if c.location == 'e':\n",
    "            ecpd[c] = ecpd.get(c, 0) + 1\n",
    "print(f\"There are {len(cpd)} unique compounds\")\n",
    "print(f\"There are {len(ecpd)} external compounds\")"
   ]
  },
  {
   "cell_type": "code",
   "execution_count": 8,
   "id": "b16cdd09",
   "metadata": {},
   "outputs": [
    {
     "name": "stdout",
     "output_type": "stream",
     "text": [
      "There are 1319 unique compounds\n",
      "There are 172 external compounds\n"
     ]
    }
   ],
   "source": [
    "for m in media:\n",
    "    cpd[m] = cpd.get(m, 0) + 1\n",
    "    if c.location == 'e':\n",
    "        ecpd[c] = ecpd.get(c, 0) + 1\n",
    "print(f\"There are {len(cpd)} unique compounds\")\n",
    "print(f\"There are {len(ecpd)} external compounds\")"
   ]
  },
  {
   "cell_type": "code",
   "execution_count": 9,
   "id": "6bc336d7",
   "metadata": {},
   "outputs": [],
   "source": [
    "for e in ecpd:\n",
    "    newid = f\"Exhaust_{e.id}\"\n",
    "    newr = PyFBA.metabolism.Reaction(newid, newid)\n",
    "    eb = PyFBA.metabolism.CompoundWithLocation.from_compound(e, 'b')\n",
    "    newr.add_left_compounds({e})\n",
    "    newr.set_left_compound_abundance(e, 1)\n",
    "    newr.add_right_compounds({eb})\n",
    "    newr.set_right_compound_abundance(eb, 1)\n",
    "    newr.equation = f'(1) {e} = (1) {eb}'\n",
    "    newr.direction = '='\n",
    "    modeldata.reactions[newid] = newr\n",
    "    reactions_to_run.add(newid)"
   ]
  },
  {
   "cell_type": "code",
   "execution_count": 10,
   "id": "34bde405",
   "metadata": {},
   "outputs": [
    {
     "name": "stderr",
     "output_type": "stream",
     "text": [
      "csm: after adding 65 media, cp: 65, sm has 65\n",
      "csm: after adding 1571 r2r, cp: 1491, sm has 1491\n",
      "csm: after adding biomass, cp: 1492, sm has 1492\n",
      "create_stoichiometric_matrix found 190 uptake and secretion reactions\n",
      "csm: before adding 190 upsr, cp x rxn: 1492 x 1571\n",
      "csm: after adding 190 upsr, cp x rxn: 1492 x 1761\n",
      "csm: In the model there are : 1492 compounds and 1762 reactions\n",
      "We are loading 1492 rows and 1762 columns\n"
     ]
    },
    {
     "name": "stdout",
     "output_type": "stream",
     "text": [
      "The FBA completed with a flux value of 933.3130068801801 --> growth: True\n"
     ]
    },
    {
     "name": "stderr",
     "output_type": "stream",
     "text": [
      "csm: sm will be compounds 1492 x reactions 1762\n",
      "Length of the media: 65\n",
      "Number of reactions to run: 1571\n",
      "Number of compounds in SM: 1492\n",
      "Number of reactions in SM: 1762\n",
      "Number of uptake/secretion reactions 190\n",
      "Revised number of total reactions: 43946\n",
      "Revised number of total compounds: 33845\n",
      "SMat dimensions: 1492 x 1762\n"
     ]
    }
   ],
   "source": [
    "uptake_secretion_reactions = None\n",
    "status, value, growth = PyFBA.fba.run_fba(modeldata, reactions_to_run, media, biomass_equation,\n",
    "                                          uptake_secretion_reactions, verbose=True)\n",
    "print(\"The FBA completed with a flux value of {} --> growth: {}\".format(value, growth))"
   ]
  },
  {
   "cell_type": "markdown",
   "id": "a45c562c",
   "metadata": {},
   "source": [
    "## Gapfilling the reactions"
   ]
  },
  {
   "cell_type": "code",
   "execution_count": 11,
   "id": "fe944f8c",
   "metadata": {},
   "outputs": [],
   "source": [
    "added_reactions = []\n",
    "reactionsource = {r: \"original\" for r in reactions_to_run}"
   ]
  },
  {
   "cell_type": "code",
   "execution_count": 12,
   "id": "5f569454",
   "metadata": {},
   "outputs": [],
   "source": [
    "def gap_fill_media():\n",
    "    sys.stderr.write(\"Gap filling from MEDIA\\n\")\n",
    "    media_reactions = PyFBA.gapfill.suggest_from_media(modeldata, reactions_to_run, media, verbose=True)\n",
    "    added_reactions.append((\"media\", media_reactions))\n",
    "    reactions_to_run.update(media_reactions)\n",
    "    status, value, growth = PyFBA.fba.run_fba(modeldata,\n",
    "                                          reactions_to_run, media, biomass_equation,\n",
    "                                          uptake_secretion_reactions, verbose=True)\n",
    "    sys.stderr.write(f\"After adding {len(media_reactions)} MEDIA reactions we get {value} (growth is {growth})\\n\")\n",
    "    for r in media_reactions:\n",
    "        if r not in reactionsource:\n",
    "            reactionsource[r] = 'media_reactions'\n",
    "\n",
    "    if growth:\n",
    "        additions = resolve_additional_reactions(original_reactions, added_reactions, compounds, reactions,\n",
    "                                                 media, biomass_eqtn)\n",
    "        # print('reactions' + \" : \" + str(original_reactions.union(additions)))\n",
    "        for r in original_reactions.union(additions):\n",
    "            if r not in reactionsource:\n",
    "                reactionsource[r] = \"UNKNOWN??\"\n",
    "            print(\"{}\\t{}\".format(r, reactionsource[r]))"
   ]
  },
  {
   "cell_type": "code",
   "execution_count": 13,
   "id": "143c424c",
   "metadata": {},
   "outputs": [],
   "source": [
    "def essential_reactions():\n",
    "    sys.stderr.write(\"Gap filling from ESSENTIAL PROTEINS\\n\")\n",
    "    essential_reactions = PyFBA.gapfill.suggest_essential_reactions()\n",
    "    # find only the new reactions\n",
    "    essential_reactions.difference_update(reactions_to_run)\n",
    "    added_reactions.append((\"essential\", essential_reactions))\n",
    "    reactions_to_run.update(essential_reactions)\n",
    "    status, value, growth = PyFBA.fba.run_fba(modeldata,\n",
    "                                      reactions_to_run, media, biomass_equation,\n",
    "                                      uptake_secretion_reactions, verbose=True)\n",
    "    sys.stderr.write(\"After adding {} ESSENTIAL reactions we get {} (growth is {})\\n\\n\".format(len(essential_reactions),\n",
    "                                                                                               value, growth))\n",
    "\n",
    "    for r in essential_reactions:\n",
    "        if r not in reactionsource:\n",
    "            reactionsource[r] = 'essential_reactions'\n",
    "\n",
    "    # if this grows then we want to find the minimal set of reactions\n",
    "    # that we need to add for growth and call it good.\n",
    "    if growth:\n",
    "        additions = resolve_additional_reactions(original_reactions, added_reactions, modeldata.compounds, modeldata.reactions,\n",
    "                                                 media, biomass_equation)\n",
    "        for r in original_reactions.union(additions):\n",
    "            if r not in reactionsource:\n",
    "                reactionsource[r] = \"UNKNOWN??\"\n",
    "            print(\"{}\\t{}\".format(r, reactionsource[r]))"
   ]
  },
  {
   "cell_type": "code",
   "execution_count": 14,
   "id": "4d38207e",
   "metadata": {},
   "outputs": [],
   "source": [
    "def close_genomes(close_genomes=None, similar_genera=None):\n",
    "    sys.stderr.write(\"Gap filling from CLOSE GENOMES\\n\")\n",
    "    close_reactions = set()\n",
    "    if close_genomes:\n",
    "        # add reactions from roles in close genomes\n",
    "        close_reactions = PyFBA.gapfill.suggest_from_roles(close_genomes, modeldata.reactions, threshold=0, verbose=True)\n",
    "        # find the new reactions\n",
    "        close_reactions.difference_update(reactions_to_run)\n",
    "        added_reactions.append((\"close genomes \", close_reactions))\n",
    "        reactions_to_run.update(close_reactions)\n",
    "        status, value, growth = PyFBA.fba.run_fba(modeldata,\n",
    "                                  reactions_to_run, media, biomass_equation,\n",
    "                                  uptake_secretion_reactions, verbose=True)\n",
    "        \n",
    "        sys.stderr.write(f\"After adding {len(close_reactions)} reactions in {close_genomes} we get {value} (growth is {growth})\\n\")\n",
    "        \n",
    "        for r in close_reactions:\n",
    "            if r not in reactionsource:\n",
    "                reactionsource[r] = 'close_reactions'\n",
    "\n",
    "        # if this grows then we want to find the minimal set of reactions\n",
    "        # that we need to add for growth and call it good.\n",
    "        if growth:\n",
    "            additions = resolve_additional_reactions(original_reactions, added_reactions, modeldata.compounds, modeldata.reactions,\n",
    "                                                     media, biomass_equation)\n",
    "            # print(\"Additional reactions required: \" + str(additions) + \"\\n\")\n",
    "            # print(\"'reactions': {}\".format(original_reactions.union(additions)))\n",
    "            for r in original_reactions.union(additions):\n",
    "                if r not in reactionsource:\n",
    "                    reactionsource[r] = \"UNKNOWN??\"\n",
    "                print(\"{}\\t{}\".format(r, reactionsource[r]))\n",
    "\n",
    "    genus_reactions = set()\n",
    "    if similar_genera:\n",
    "        # add reactions from roles in similar genera\n",
    "        genus_reactions = PyFBA.gapfill.suggest_from_roles(similar_genera, reactions, threshold=0, verbose=True)\n",
    "        # find the new reactions\n",
    "        genus_reactions.difference_update(reactions_to_run)\n",
    "        added_reactions.append((\"other genera\", genus_reactions))\n",
    "        reactions_to_run.update(genus_reactions)\n",
    "        status, value, growth = PyFBA.fba.run_fba(modeldata,\n",
    "                          reactions_to_run, media, biomass_equation,\n",
    "                          uptake_secretion_reactions, verbose=True)        \n",
    "        sys.stderr.write(f\"After adding {len(genus_reactions)} reactions in {similar_genera} we get {value} (growth is {growth})\\n\")\n",
    "\n",
    "        for r in genus_reactions:\n",
    "            if r not in reactionsource:\n",
    "                reactionsource[r] = 'genus_reactions'\n",
    "\n",
    "        # if this grows then we want to find the minimal set of reactions\n",
    "        # that we need to add for growth and call it good.\n",
    "        if growth:\n",
    "            additions = resolve_additional_reactions(original_reactions, added_reactions, modeldata.compounds, modeldata.reactions,\n",
    "                                                     media, biomass_equation)\n",
    "            for r in original_reactions.union(additions):\n",
    "                if r not in reactionsource:\n",
    "                    reactionsource[r] = \"UNKNOWN??\"\n",
    "                print(\"{}\\t{}\".format(r, reactionsource[r]))\n"
   ]
  },
  {
   "cell_type": "code",
   "execution_count": 15,
   "id": "9351710c",
   "metadata": {},
   "outputs": [],
   "source": [
    "def gapfill_subsystems():\n",
    "    sys.stderr.write(\"Gap filling from SUBSYSTEMS\\n\")\n",
    "    subsystem_reactions = PyFBA.gapfill.suggest_reactions_from_subsystems(\n",
    "        modeldata.reactions, reactions_to_run, threshold=0.5, verbose=True)\n",
    "    added_reactions.append((\"subsystems\", subsystem_reactions))\n",
    "    reactions_to_run.update(subsystem_reactions)\n",
    "    status, value, growth = PyFBA.fba.run_fba(modeldata, reactions_to_run, media, biomass_equation)\n",
    "    sys.stderr.write(f\"After adding {len(subsystem_reactions)} SUBSYSTEM reactions we get {value} (growth is {growth})\\n\")\n",
    "    for r in subsystem_reactions:\n",
    "        if r not in reactionsource:\n",
    "            reactionsource[r] = 'subsystem_reactions'\n",
    "\n",
    "    if growth:\n",
    "        additions = resolve_additional_reactions(original_reactions, added_reactions, modeldata.compounds, modeldata.reactions,\n",
    "                                                 media, biomass_equation)\n",
    "        # print('reactions' + \" : \" + str(original_reactions.union(additions)))\n",
    "        for r in original_reactions.union(additions):\n",
    "            if r not in reactionsource:\n",
    "                reactionsource[r] = \"UNKNOWN??\"\n",
    "            print(\"{}\\t{}\".format(r, reactionsource[r]))"
   ]
  },
  {
   "cell_type": "code",
   "execution_count": 16,
   "id": "bb3817db",
   "metadata": {},
   "outputs": [
    {
     "name": "stderr",
     "output_type": "stream",
     "text": [
      "Gap filling from ESSENTIAL PROTEINS\n",
      "csm: after adding 65 media, cp: 65, sm has 65\n",
      "csm: after adding 1574 r2r, cp: 1492, sm has 1492\n",
      "csm: after adding biomass, cp: 1493, sm has 1493\n",
      "create_stoichiometric_matrix found 190 uptake and secretion reactions\n",
      "csm: before adding 190 upsr, cp x rxn: 1493 x 1574\n",
      "csm: after adding 190 upsr, cp x rxn: 1493 x 1764\n",
      "csm: In the model there are : 1493 compounds and 1765 reactions\n",
      "We are loading 1493 rows and 1765 columns\n",
      "csm: sm will be compounds 1493 x reactions 1765\n",
      "Length of the media: 65\n",
      "Number of reactions to run: 1574\n",
      "Number of compounds in SM: 1493\n",
      "Number of reactions in SM: 1765\n",
      "Number of uptake/secretion reactions 190\n",
      "Revised number of total reactions: 43946\n",
      "Revised number of total compounds: 33845\n",
      "SMat dimensions: 1493 x 1765\n",
      "After adding 3 ESSENTIAL reactions we get 933.3130068801797 (growth is True)\n",
      "\n"
     ]
    },
    {
     "ename": "NameError",
     "evalue": "name 'resolve_additional_reactions' is not defined",
     "output_type": "error",
     "traceback": [
      "\u001b[0;31m---------------------------------------------------------------------------\u001b[0m",
      "\u001b[0;31mNameError\u001b[0m                                 Traceback (most recent call last)",
      "\u001b[0;32m<ipython-input-16-f95adbaeb63c>\u001b[0m in \u001b[0;36m<module>\u001b[0;34m\u001b[0m\n\u001b[0;32m----> 1\u001b[0;31m \u001b[0messential_reactions\u001b[0m\u001b[0;34m(\u001b[0m\u001b[0;34m)\u001b[0m\u001b[0;34m\u001b[0m\u001b[0;34m\u001b[0m\u001b[0m\n\u001b[0m",
      "\u001b[0;32m<ipython-input-13-555a3f74d570>\u001b[0m in \u001b[0;36messential_reactions\u001b[0;34m()\u001b[0m\n\u001b[1;32m     19\u001b[0m     \u001b[0;31m# that we need to add for growth and call it good.\u001b[0m\u001b[0;34m\u001b[0m\u001b[0;34m\u001b[0m\u001b[0;34m\u001b[0m\u001b[0m\n\u001b[1;32m     20\u001b[0m     \u001b[0;32mif\u001b[0m \u001b[0mgrowth\u001b[0m\u001b[0;34m:\u001b[0m\u001b[0;34m\u001b[0m\u001b[0;34m\u001b[0m\u001b[0m\n\u001b[0;32m---> 21\u001b[0;31m         additions = resolve_additional_reactions(original_reactions, added_reactions, modeldata.compounds, modeldata.reactions,\n\u001b[0m\u001b[1;32m     22\u001b[0m                                                  media, biomass_equation)\n\u001b[1;32m     23\u001b[0m         \u001b[0;32mfor\u001b[0m \u001b[0mr\u001b[0m \u001b[0;32min\u001b[0m \u001b[0moriginal_reactions\u001b[0m\u001b[0;34m.\u001b[0m\u001b[0munion\u001b[0m\u001b[0;34m(\u001b[0m\u001b[0madditions\u001b[0m\u001b[0;34m)\u001b[0m\u001b[0;34m:\u001b[0m\u001b[0;34m\u001b[0m\u001b[0;34m\u001b[0m\u001b[0m\n",
      "\u001b[0;31mNameError\u001b[0m: name 'resolve_additional_reactions' is not defined"
     ]
    }
   ],
   "source": [
    "essential_reactions()"
   ]
  },
  {
   "cell_type": "code",
   "execution_count": null,
   "id": "1611f03e",
   "metadata": {},
   "outputs": [],
   "source": [
    "gapfill_subsystems()"
   ]
  },
  {
   "cell_type": "code",
   "execution_count": null,
   "id": "05b95c57",
   "metadata": {},
   "outputs": [],
   "source": [
    "gap_fill_media()"
   ]
  },
  {
   "cell_type": "code",
   "execution_count": null,
   "id": "6dff05de",
   "metadata": {},
   "outputs": [],
   "source": []
  },
  {
   "cell_type": "code",
   "execution_count": null,
   "id": "8e4d570e",
   "metadata": {},
   "outputs": [],
   "source": []
  },
  {
   "cell_type": "code",
   "execution_count": null,
   "id": "f5ceab4c",
   "metadata": {},
   "outputs": [],
   "source": []
  },
  {
   "cell_type": "code",
   "execution_count": null,
   "id": "8ccf6d39",
   "metadata": {},
   "outputs": [],
   "source": []
  },
  {
   "cell_type": "code",
   "execution_count": null,
   "id": "5ff9dc8d",
   "metadata": {},
   "outputs": [],
   "source": []
  },
  {
   "cell_type": "markdown",
   "id": "8a7ccfe3",
   "metadata": {},
   "source": [
    "## Comparing to the SBML file that does grow!\n",
    "\n",
    "We pickled that data, and can load it here. "
   ]
  },
  {
   "cell_type": "code",
   "execution_count": null,
   "id": "10e79235",
   "metadata": {},
   "outputs": [],
   "source": [
    "sbml_filtered_compounds = pickle.load(open('compounds.pickle', 'rb'))\n",
    "sbml_reactions = pickle.load(open('reactions.pickle', 'rb'))\n",
    "sbml_reactions_to_run = pickle.load(open('reactions_to_run.pickle', 'rb'))\n",
    "sbml_media = pickle.load(open('media.pickle', 'rb'))\n",
    "sbml_biomass_equation = pickle.load(open('sbml_biomass.pickle', 'rb'))\n",
    "sbml_uptake_secretion_reactions = pickle.load(open('uptake_secretion_reactions.pickle', 'rb'))"
   ]
  },
  {
   "cell_type": "code",
   "execution_count": null,
   "id": "fcbd68aa",
   "metadata": {},
   "outputs": [],
   "source": [
    "for r in sbml_reactions:\n",
    "    for c in sbml_reactions[r].all_compounds():\n",
    "        if '_' in c.name:\n",
    "            print(c.name)"
   ]
  },
  {
   "cell_type": "code",
   "execution_count": null,
   "id": "24f4dfb9",
   "metadata": {},
   "outputs": [],
   "source": [
    "sbml_by_equation = set()\n",
    "for r in sbml_reactions:\n",
    "    sbml_by_equation.add(sbml_reactions[r].equation)\n",
    "ms_by_equation = set()\n",
    "for r in modeldata.reactions:\n",
    "    ms_by_equation.add(modeldata.reactions[r].equation)\n"
   ]
  },
  {
   "cell_type": "code",
   "execution_count": null,
   "id": "c86859c2",
   "metadata": {},
   "outputs": [],
   "source": [
    "print(f\"There are {len(sbml_by_equation)} sbml reactions and {len(ms_by_equation)} model seed reactions\")\n",
    "print(f\"{len(sbml_by_equation.intersection(ms_by_equation))} reactions are in both\")"
   ]
  },
  {
   "cell_type": "code",
   "execution_count": null,
   "id": "a7d8fe8f",
   "metadata": {},
   "outputs": [],
   "source": [
    "print(f\"There are {len(sbml_reactions_to_run)} sbml reactions to run and {len(reactions_to_run)} model seed reactions to run\")\n",
    "print(f\"{len(sbml_reactions_to_run.intersection(reactions_to_run))} are the same\")\n"
   ]
  },
  {
   "cell_type": "code",
   "execution_count": null,
   "id": "8774d94b",
   "metadata": {},
   "outputs": [],
   "source": [
    "# choose an sbml reaction to run at random\n",
    "from random import sample"
   ]
  },
  {
   "cell_type": "code",
   "execution_count": null,
   "id": "24483d82",
   "metadata": {},
   "outputs": [],
   "source": [
    "rr = sample(list(sbml_reactions_to_run), 1)[0]\n",
    "if rr in reactions_to_run:\n",
    "    print(rr)\n",
    "    print(sbml_reactions[rr].equation)\n",
    "    print(modeldata.reactions[rr].equation)"
   ]
  },
  {
   "cell_type": "code",
   "execution_count": null,
   "id": "e5225ab1",
   "metadata": {},
   "outputs": [],
   "source": [
    "def fixname(x):\n",
    "    x = x.replace('-', '_')\n",
    "    x = x.replace(',', '_')\n",
    "    x = x.replace('sn_glycerol 3_phosphate', 'sn_glycerol_3_phosphate')\n",
    "    return x\n",
    "\n",
    "sbml_rewritten = {}\n",
    "for rx in sbml_reactions:\n",
    "    l = \"\"\n",
    "    for c in sorted(sbml_reactions[rx].left_compounds, key=lambda c:c.name.lower()):\n",
    "        if c.name == 'H' or c.name == 'H+':\n",
    "            continue\n",
    "        l += f\" + ({sbml_reactions[rx].get_left_compound_abundance(c):.0f}) {fixname(c.name)}[{c.location}]\"\n",
    "    l = l.replace(' + ', '', 1)\n",
    "    r = \"\"\n",
    "    for c in sorted(sbml_reactions[rx].right_compounds, key=lambda c:c.name.lower()):\n",
    "        if c.name == 'H' or c.name == 'H+':\n",
    "            continue\n",
    "        r += f\" + ({sbml_reactions[rx].get_right_compound_abundance(c):.0f}) {fixname(c.name)}[{c.location}]\"\n",
    "    r = r.replace(' + ', '', 1)\n",
    "    e = f\"{l} {sbml_reactions[rx].direction} {r}\"\n",
    "    sbml_rewritten[rx] = e\n",
    "\n",
    "ms_rewritten = {}\n",
    "for rx in modeldata.reactions:\n",
    "    l = \"\"\n",
    "    for c in sorted(modeldata.reactions[rx].left_compounds, key=lambda c:c.name.lower()):\n",
    "        if c.name == 'H' or c.name == 'H+':\n",
    "            continue\n",
    "        l += f\" + ({modeldata.reactions[rx].get_left_compound_abundance(c):.0f}) {fixname(c.name)}[{c.location}]\"\n",
    "    l = l.replace(' + ', '', 1)\n",
    "    r = \"\"\n",
    "    for c in sorted(modeldata.reactions[rx].right_compounds, key=lambda c:c.name.lower()):\n",
    "        if c.name == 'H' or c.name == 'H+':\n",
    "            continue\n",
    "        r += f\" + ({modeldata.reactions[rx].get_right_compound_abundance(c):.0f}) {fixname(c.name)}[{c.location}]\"\n",
    "    r = r.replace(' + ', '', 1)\n",
    "    e = f\"{l} {modeldata.reactions[rx].direction} {r}\"\n",
    "    ms_rewritten[rx] = e"
   ]
  },
  {
   "cell_type": "code",
   "execution_count": null,
   "id": "b2853a4a",
   "metadata": {},
   "outputs": [],
   "source": [
    "for r in sbml_rewritten:\n",
    "    if r in ms_rewritten:\n",
    "        if sbml_rewritten[r] != ms_rewritten[r]:\n",
    "            print(f\"\\n{r}\\ns: {sbml_rewritten[r]}\\nm: {ms_rewritten[r]}\")"
   ]
  },
  {
   "cell_type": "code",
   "execution_count": null,
   "id": "8ec9d160",
   "metadata": {},
   "outputs": [],
   "source": []
  },
  {
   "cell_type": "code",
   "execution_count": null,
   "id": "737a2cff",
   "metadata": {},
   "outputs": [],
   "source": []
  },
  {
   "cell_type": "code",
   "execution_count": null,
   "id": "ee8f5a7a",
   "metadata": {},
   "outputs": [],
   "source": []
  },
  {
   "cell_type": "code",
   "execution_count": null,
   "id": "7de811fb",
   "metadata": {},
   "outputs": [],
   "source": []
  },
  {
   "cell_type": "markdown",
   "id": "2e1e11b9",
   "metadata": {},
   "source": [
    "So if we use the `sbml_reactions` and the `sbml_biomass_equation`, we get growth. Without those reactions we get an error. With the normal biomass equation, we don't get any growth"
   ]
  },
  {
   "cell_type": "markdown",
   "id": "0ebb6d65",
   "metadata": {},
   "source": [
    "### Note the normal biomass equation does not work!\n",
    "\n",
    "We need to figure out what is missing!"
   ]
  },
  {
   "cell_type": "code",
   "execution_count": null,
   "id": "29248a08",
   "metadata": {},
   "outputs": [],
   "source": [
    "biomass_equation = PyFBA.metabolism.biomass_equation('gram_negative')\n",
    "status, value, growth = PyFBA.fba.run_fba(modeldata,\n",
    "                                          reactions_to_run, media, biomass_equation,\n",
    "                                          set(), verbose=True)\n",
    "print(\"The FBA completed with a flux value of {} --> growth: {}\".format(value, growth))"
   ]
  },
  {
   "cell_type": "markdown",
   "id": "9b6a8522",
   "metadata": {},
   "source": [
    "### And the modeldata.reactions gives us an error (or no growth"
   ]
  },
  {
   "cell_type": "code",
   "execution_count": null,
   "id": "041b3058",
   "metadata": {},
   "outputs": [],
   "source": [
    "status, value, growth = PyFBA.fba.run_fba(modeldata,\n",
    "                                          reactions_to_run, media, sbml_biomass_equation,\n",
    "                                          set(), verbose=True)\n",
    "print(\"The FBA completed with a flux value of {} --> growth: {}\".format(value, growth))"
   ]
  },
  {
   "cell_type": "code",
   "execution_count": null,
   "id": "9dd7b2b0",
   "metadata": {},
   "outputs": [],
   "source": [
    "for r in sbml_reactions:\n",
    "    if r not in modeldata.reactions:\n",
    "        print(r)"
   ]
  },
  {
   "cell_type": "code",
   "execution_count": null,
   "id": "32097fe6",
   "metadata": {},
   "outputs": [],
   "source": [
    "tmpr = copy.deepcopy(modeldata.reactions)\n",
    "tmpr['biomass_equation'] = sbml_reactions['biomass_equation']"
   ]
  },
  {
   "cell_type": "code",
   "execution_count": null,
   "id": "8c03cd11",
   "metadata": {},
   "outputs": [],
   "source": [
    "status, value, growth = PyFBA.fba.run_fba(modeldata,\n",
    "                                          reactions_to_run, media, sbml_biomass_equation,\n",
    "                                          set(), verbose=True)\n",
    "print(\"The FBA completed with a flux value of {} --> growth: {}\".format(value, growth))"
   ]
  },
  {
   "cell_type": "code",
   "execution_count": null,
   "id": "10e6dabf",
   "metadata": {},
   "outputs": [],
   "source": [
    "sbml_reactions['EX_cpd01022'].__dict__"
   ]
  },
  {
   "cell_type": "code",
   "execution_count": null,
   "id": "91902bd1",
   "metadata": {},
   "outputs": [],
   "source": [
    "external = set()\n",
    "for r in reactions_to_run:\n",
    "    for c in modeldata.reactions[r].all_compounds():\n",
    "        if c.location == 'e':\n",
    "            external.add(c)\n",
    "print(f\"There are {len(external)} external compounds\")"
   ]
  },
  {
   "cell_type": "code",
   "execution_count": null,
   "id": "ad26bcdc",
   "metadata": {},
   "outputs": [],
   "source": [
    "newr = {}\n",
    "for e in external:\n",
    "    n = PyFBA.metabolism.Reaction(f\"EX_{e.id}\", readable_name='external rctn {e.id}',\n",
    "                                 equation = f\"(1) {e} = (1) {e}\", direction='=')\n",
    "    n.add_left_compounds(c)\n",
    "    n.add_right_compounds(c)\n",
    "    n.set_left_compound_abundance(c, 1)\n",
    "    n.set_right_compound_abundance(c, 1)\n",
    "    n.lower_bound = -1000\n",
    "    n.upper_bound = 1000\n",
    "    newr[f\"EX_{e.id}\"] = n\n"
   ]
  },
  {
   "cell_type": "code",
   "execution_count": null,
   "id": "eaf52b7d",
   "metadata": {},
   "outputs": [],
   "source": [
    "mr = copy.deepcopy(modeldata.reactions)\n",
    "mr.update(newr)\n",
    "status, value, growth = PyFBA.fba.run_fba(modeldata,\n",
    "                                          reactions_to_run, media, sbml_biomass_equation,\n",
    "                                          set(), verbose=True)\n",
    "print(\"The FBA completed with a flux value of {} --> growth: {}\".format(value, growth))"
   ]
  },
  {
   "cell_type": "code",
   "execution_count": null,
   "id": "f7d16b6a",
   "metadata": {},
   "outputs": [],
   "source": [
    "mr['biomass_equation'] = sbml_reactions['biomass_equation']\n",
    "status, value, growth = PyFBA.fba.run_fba(modeldata,\n",
    "                                          reactions_to_run, media, sbml_biomass_equation,\n",
    "                                          set(), verbose=True)\n",
    "print(\"The FBA completed with a flux value of {} --> growth: {}\".format(value, growth))"
   ]
  },
  {
   "cell_type": "code",
   "execution_count": null,
   "id": "358fa425",
   "metadata": {},
   "outputs": [],
   "source": [
    "for r in sbml_reactions:\n",
    "    if r not in mr:\n",
    "        print(r)"
   ]
  },
  {
   "cell_type": "code",
   "execution_count": null,
   "id": "ea72a0b2",
   "metadata": {},
   "outputs": [],
   "source": [
    "sbml_reactions['EX_cpd08636'].__dict__"
   ]
  },
  {
   "cell_type": "code",
   "execution_count": null,
   "id": "701bb3f9",
   "metadata": {},
   "outputs": [],
   "source": [
    "sbml_partial = copy.deepcopy(sbml_reactions)\n",
    "status, value, growth = PyFBA.fba.run_fba(modeldata,\n",
    "                                          reactions_to_run, media, sbml_biomass_equation,\n",
    "                                          set(), verbose=True)\n",
    "print(\"The FBA completed with a flux value of {} --> growth: {}\".format(value, growth))"
   ]
  },
  {
   "cell_type": "code",
   "execution_count": null,
   "id": "b50c9770",
   "metadata": {},
   "outputs": [],
   "source": [
    "del sbml_partial['EX_cpd11416']"
   ]
  },
  {
   "cell_type": "code",
   "execution_count": null,
   "id": "96306ff5",
   "metadata": {},
   "outputs": [],
   "source": [
    "for f in ['EX_cpd15302', 'EX_cpd08636', 'EX_cpd02701']:\n",
    "    del sbml_partial[f]"
   ]
  },
  {
   "cell_type": "code",
   "execution_count": null,
   "id": "f1e6f941",
   "metadata": {},
   "outputs": [],
   "source": [
    "for r in sbml_partial:\n",
    "    if r not in mr:\n",
    "        print(r)"
   ]
  },
  {
   "cell_type": "code",
   "execution_count": null,
   "id": "bd414d49",
   "metadata": {},
   "outputs": [],
   "source": [
    "sbml_partial = copy.deepcopy(sbml_reactions)\n",
    "status, value, growth = PyFBA.fba.run_fba(modeldata,\n",
    "                                          reactions_to_run, media, sbml_biomass_equation,\n",
    "                                          set(), verbose=True)\n",
    "print(\"The FBA completed with a flux value of {} --> growth: {}\".format(value, growth))"
   ]
  },
  {
   "cell_type": "code",
   "execution_count": null,
   "id": "efd912eb",
   "metadata": {},
   "outputs": [],
   "source": [
    "for r in sbml_reactions:\n",
    "    if r in modeldata.reactions:\n",
    "        left_diff = 0\n",
    "        right_diff = 0\n",
    "        for l in modeldata.reactions[r].left_compounds:\n",
    "            try:\n",
    "                a = sbml_reactions[r].get_left_compound_abundance(l)\n",
    "            except KeyError:\n",
    "                left_diff += 1\n",
    "        for l in modeldata.reactions[r].right_compounds:\n",
    "            try:\n",
    "                a = sbml_reactions[r].get_right_compound_abundance(l)\n",
    "            except KeyError:\n",
    "                right_diff += 1\n",
    "        if left_diff > 0 or right_diff > 0:\n",
    "            print(f\"{r}\\t{left_diff}\\t{right_diff}\")"
   ]
  },
  {
   "cell_type": "code",
   "execution_count": null,
   "id": "9514f653",
   "metadata": {},
   "outputs": [],
   "source": [
    "for r in sbml_reactions:\n",
    "    print(r)"
   ]
  },
  {
   "cell_type": "code",
   "execution_count": null,
   "id": "c71c8ffa",
   "metadata": {},
   "outputs": [],
   "source": [
    "sbml_reactions['rxn01516'].__dict__"
   ]
  },
  {
   "cell_type": "code",
   "execution_count": null,
   "id": "d56fd722",
   "metadata": {},
   "outputs": [],
   "source": [
    "modeldata.reactions['rxn01516'].__dict__"
   ]
  },
  {
   "cell_type": "code",
   "execution_count": null,
   "id": "c2c6a083",
   "metadata": {},
   "outputs": [],
   "source": [
    "for r in reactions_to_run:\n",
    "    for c in modeldata.reactions[r].left_compounds:\n",
    "        print(f\"left {c.id} abundance {0 - modeldata.reactions[r].get_left_compound_abundance(c)}\")\n"
   ]
  },
  {
   "cell_type": "code",
   "execution_count": null,
   "id": "890750ab",
   "metadata": {},
   "outputs": [],
   "source": [
    "modeldata.get_compound_by_id('cpd00037').name"
   ]
  },
  {
   "cell_type": "code",
   "execution_count": null,
   "id": "def92cb6",
   "metadata": {},
   "outputs": [],
   "source": [
    "for c in modeldata.compounds:\n",
    "    if c.id == 'cpd00060':\n",
    "        if isinstance(c, PyFBA.metabolism.CompoundWithLocation):\n",
    "            print(f\"{c} ({c.id}) ({c.name}) ({c.location}): {c.__hash__()}\")\n",
    "            print(f\"{hash((c.id, c.name, c.location))}\")\n",
    "        else:\n",
    "            print(f\"{c} ({c.id}) ({c.name}): {c.__hash__()}\")"
   ]
  }
 ],
 "metadata": {
  "kernelspec": {
   "display_name": "PyFBA_venv",
   "language": "python",
   "name": "pyfba_venv"
  },
  "language_info": {
   "codemirror_mode": {
    "name": "ipython",
    "version": 3
   },
   "file_extension": ".py",
   "mimetype": "text/x-python",
   "name": "python",
   "nbconvert_exporter": "python",
   "pygments_lexer": "ipython3",
   "version": "3.9.1"
  }
 },
 "nbformat": 4,
 "nbformat_minor": 5
}
