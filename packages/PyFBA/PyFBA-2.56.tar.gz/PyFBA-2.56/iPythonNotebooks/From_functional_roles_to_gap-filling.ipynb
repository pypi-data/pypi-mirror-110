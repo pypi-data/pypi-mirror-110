{
 "cells": [
  {
   "cell_type": "markdown",
   "metadata": {},
   "source": [
    "# How to gap-fill a genome scale metabolic model\n",
    "\n",
    "## Getting started\n",
    "\n",
    "### Installing libraries\n",
    "\n",
    "Before you start, you will need to install a couple of libraries:\n",
    "   \n",
    "The [PyFBA](http://linsalrob.github.io/PyFBA) library has detailed [installation instructions](http://linsalrob.github.io/PyFBA/installation.html). Don't be scared, its mostly just `pip install`.\n",
    "\n",
    "(Optional) Also, get the [SEED Servers](https://github.com/linsalrob/SEED_Servers_Python) as you can get a lot of information from them. You can install the git python repo from github.  Make sure that the SEED_Servers_Python is in your PYTHONPATH.\n",
    "\n",
    "We start with importing some modules that we are going to use. \n",
    "\n",
    "We import *sys* so that we can use standard out and standard error if we have some error messages.<br>\n",
    "We import *copy* so that we can make a deep copy of data structures for later comparisons.<br>\n",
    "Then we import the *PyFBA* module to get started."
   ]
  },
  {
   "cell_type": "code",
   "execution_count": 1,
   "metadata": {},
   "outputs": [],
   "source": [
    "import sys\n",
    "import copy\n",
    "import PyFBA"
   ]
  },
  {
   "cell_type": "code",
   "execution_count": 2,
   "metadata": {},
   "outputs": [
    {
     "name": "stderr",
     "output_type": "stream",
     "text": [
      "We are logging to /home/redwards/GitHubsLinux/PyFBA/iPythonNotebooks/logs/PyFBA.2021-06-16T16:09:16.229866.log\n",
      "Reading compounds from PyFBA.Biochemistry.ModelSEEDDatabase.Biochemistry.compounds.json\n",
      "Reading reactions from PyFBA.Biochemistry.ModelSEEDDatabase.Biochemistry.reactions.json\n",
      "Creating enzymes with complexes and reactions\n"
     ]
    }
   ],
   "source": [
    "modeldata = PyFBA.parse.model_seed.parse_model_seed_data('gramnegative', verbose=True)"
   ]
  },
  {
   "cell_type": "markdown",
   "metadata": {},
   "source": [
    "## Running a basic model\n",
    "\n",
    "The SBML model is great if you have built a model elsewhere, but what if you want to build a model from a genome?\n",
    "\n",
    "We typically start with an *assigned_functions* file from RAST. The easiest way to find that is in the RAST directory by choosing `Genome Directory` from the `Downloads` menu on the job details page.\n",
    "\n",
    "For this example, [here is an *assigned_functions* file](https://raw.githubusercontent.com/linsalrob/PyFBA/master/example_data/Citrobacter/ungapfilled_model/citrobacter.assigned_functions) from our *Citrobacter* model that you can download to the same directory as this iPython notebook. Notice that it has two columns: the first column is the protein ID (using SEED standard IDs that start with `fig|`, and then have the taxonomy ID and version number of the genome, and then `peg` to indicate *protein encoding gene*, `rna` to indicate *RNA*, `crispr_spacer` to indicate *crispr spacers* or other acronym, followed by the feature number. After the tab is the *functional role* of that feature. Download that file to use in this test. \n",
    "\n",
    "We start by converting this *assigned_functions* file to a list of reactions."
   ]
  },
  {
   "cell_type": "code",
   "execution_count": 3,
   "metadata": {
    "scrolled": false
   },
   "outputs": [
    {
     "name": "stdout",
     "output_type": "stream",
     "text": [
      "There are 3591 unique roles in this genome\n"
     ]
    }
   ],
   "source": [
    "assigned_functions = PyFBA.parse.read_assigned_functions(\"citrobacter.assigned_functions\")\n",
    "roles = set([i[0] for i in [list(j) for j in assigned_functions.values()]])\n",
    "print(\"There are {} unique roles in this genome\".format(len(roles)))"
   ]
  },
  {
   "cell_type": "markdown",
   "metadata": {},
   "source": [
    "Convert those roles to reactions. We start with a dict of roles and reactions, but we only need a list of unique reactions, so we convert the keys to a set."
   ]
  },
  {
   "cell_type": "code",
   "execution_count": 5,
   "metadata": {},
   "outputs": [
    {
     "name": "stdout",
     "output_type": "stream",
     "text": [
      "There are 1346 unique reactions associated with this genome\n"
     ]
    }
   ],
   "source": [
    "roles_to_reactions = PyFBA.filters.roles_to_reactions(roles, organism_type=\"Gram_Negative\", verbose=True)\n",
    "reactions_to_run = set()\n",
    "for role in roles_to_reactions:\n",
    "    reactions_to_run.update(roles_to_reactions[role])\n",
    "print(f\"There are {len(reactions_to_run)} unique reactions associated with this genome\")\n",
    "with open(\"evaluated_reactions.txt\", \"w\") as out:\n",
    "    for r in reactions_to_run:\n",
    "        out.write(f\"{r}\\n\")"
   ]
  },
  {
   "cell_type": "code",
   "execution_count": null,
   "metadata": {},
   "outputs": [],
   "source": [
    "print(f\"roles: {len(roles)} r2r: {len(roles_to_reactions)} r2run: {len(reactions_to_run)}\")"
   ]
  },
  {
   "cell_type": "markdown",
   "metadata": {},
   "source": [
    "### Read all the reactions and compounds in our database\n",
    "\n",
    "We read all the reactions, compounds, and enzymes in the [ModelSEEDDatabase](https://github.com/ModelSEED/ModelSEEDDatabase) into three data structures. Each one is a dictionary with a string representation of the object as the key and the PyFBA object as the value.\n",
    "\n",
    "We modify the reactions specifically for Gram negative models (there are also options for Gram positive models, Mycobacterial models, general microbial models, and plant models)."
   ]
  },
  {
   "cell_type": "code",
   "execution_count": 6,
   "metadata": {},
   "outputs": [
    {
     "name": "stdout",
     "output_type": "stream",
     "text": [
      "There are 33,845 compounds, 43,774 reactions, and 9,423 enzymes in total\n"
     ]
    }
   ],
   "source": [
    "modeldata = PyFBA.parse.model_seed.parse_model_seed_data('gramnegative', verbose=True)\n",
    "print(f\"There are {len(modeldata.compounds):,} compounds, {len(modeldata.reactions):,} reactions, and {len(modeldata.enzymes):,} enzymes in total\")"
   ]
  },
  {
   "cell_type": "code",
   "execution_count": null,
   "metadata": {},
   "outputs": [],
   "source": [
    "# for known in ['rxn05514', 'rxn05541', 'rxn01103', 'rxn05533', 'rxn09137', 'rxn00837']:\n",
    "#    modeldata.reactions[known].lower_bound = -1000\n",
    "#    modeldata.reactions[known].upper_bound = 1000"
   ]
  },
  {
   "cell_type": "markdown",
   "metadata": {},
   "source": [
    "#### Update reactions to run, making sure that all reactions are in the list!\n",
    "\n",
    "There are some reactions that come from functional roles that do not appear in the reactions list. We're working on tracking these down, but for now we just check that all reaction IDs in *reactions_to_run* are in *reactions*, too."
   ]
  },
  {
   "cell_type": "code",
   "execution_count": 7,
   "metadata": {},
   "outputs": [],
   "source": [
    "tempset = set()\n",
    "for r in reactions_to_run:\n",
    "    if r in modeldata.reactions:\n",
    "        tempset.add(r)\n",
    "    else:\n",
    "        print(f\"Reaction ID {r} is not in our reactions list. Skipped\", file=sys.stderr)\n",
    "reactions_to_run = tempset"
   ]
  },
  {
   "cell_type": "markdown",
   "metadata": {},
   "source": [
    "### Test whether these reactions grow on ArgonneLB media\n",
    "\n",
    "We can test whether this set of reactions grows on ArgonneLB media. The media is the same one we used above, and you can download the [ArgonneLB.txt](https://raw.githubusercontent.com/linsalrob/PyFBA/master/media/ArgonneLB.txt) and text file and put it in the same directory as this iPython notebook to run it.\n",
    "\n",
    "(Note: we don't need to convert the media components, because the media and compounds come from the same source.)"
   ]
  },
  {
   "cell_type": "code",
   "execution_count": 8,
   "metadata": {},
   "outputs": [
    {
     "name": "stdout",
     "output_type": "stream",
     "text": [
      "Our media has 65 components\n"
     ]
    }
   ],
   "source": [
    "media = PyFBA.parse.pyfba_media(\"ArgonneLB\")\n",
    "media = PyFBA.parse.correct_media_names(media, modeldata.compounds)\n",
    "print(f\"Our media has {len(media)} components\")"
   ]
  },
  {
   "cell_type": "markdown",
   "metadata": {},
   "source": [
    "### Define a biomass equation\n",
    "\n",
    "The biomass equation is the part that says whether the model will grow! This is a [metabolism.reaction.Reaction](https://github.com/linsalrob/PyFBA/blob/master/PyFBA/metabolism/reaction.py) object."
   ]
  },
  {
   "cell_type": "code",
   "execution_count": 10,
   "metadata": {},
   "outputs": [],
   "source": [
    "biomass_equation = PyFBA.metabolism.biomass_equation('gramnegative')"
   ]
  },
  {
   "cell_type": "markdown",
   "metadata": {},
   "source": [
    "### Run the FBA\n",
    "\n",
    "With the reactions, compounds, reactions_to_run, media, and biomass model, we can test whether the model grows on this media."
   ]
  },
  {
   "cell_type": "code",
   "execution_count": 14,
   "metadata": {
    "scrolled": false
   },
   "outputs": [
    {
     "name": "stdout",
     "output_type": "stream",
     "text": [
      "Initial run has a biomass flux value of -2.093436047086711e-14 --> Growth: False\n"
     ]
    }
   ],
   "source": [
    "status, value, growth = PyFBA.fba.run_fba(modeldata, reactions_to_run,\n",
    "                                          media, biomass_equation)\n",
    "print(\"Initial run has a biomass flux value of {} --> Growth: {}\".format(value, growth))"
   ]
  },
  {
   "cell_type": "markdown",
   "metadata": {},
   "source": [
    "## Can we gap fill it to success??\n",
    "\n",
    "This is the set of reactions that we need to add."
   ]
  },
  {
   "cell_type": "code",
   "execution_count": 15,
   "metadata": {},
   "outputs": [],
   "source": [
    "sbml_reactions = set()\n",
    "with open('sbml_reactions.txt', 'r') as f:\n",
    "    for l in f:\n",
    "        if l.startswith('rxn'):\n",
    "            sbml_reactions.add(l.strip())"
   ]
  },
  {
   "cell_type": "code",
   "execution_count": 16,
   "metadata": {},
   "outputs": [
    {
     "name": "stdout",
     "output_type": "stream",
     "text": [
      "Initial run has a biomass flux value of 273.02622233524255 --> Growth: True\n"
     ]
    }
   ],
   "source": [
    "status, value, growth = PyFBA.fba.run_fba(modeldata, reactions_to_run.union(sbml_reactions),\n",
    "                                          media, biomass_equation)\n",
    "print(\"Initial run has a biomass flux value of {} --> Growth: {}\".format(value, growth))"
   ]
  },
  {
   "cell_type": "code",
   "execution_count": 17,
   "metadata": {},
   "outputs": [
    {
     "name": "stdout",
     "output_type": "stream",
     "text": [
      "There are 244 missing reactions yet to find\n"
     ]
    }
   ],
   "source": [
    "# these are the reactions we are looking for\n",
    "missing_reactions = sbml_reactions.difference(reactions_to_run)\n",
    "print(f\"There are {len(missing_reactions)} missing reactions yet to find\")"
   ]
  },
  {
   "cell_type": "markdown",
   "metadata": {},
   "source": [
    "## Gap-fill the model\n",
    "\n",
    "Since the model does not grow on ArgonneLB we need to gap-fill it to ensure growth. There are several ways that we can gap-fill, and we will work through them until we get growth.\n",
    "\n",
    "As you will see, we update the *reactions_to_run list* each time, and keep the media and everything else consistent. Then we just need to run the FBA like we have done above and see if we get growth.\n",
    "\n",
    "We also keep a copy of the original *reactions_to_run*, and a list with all the reactions that we are adding, so once we are done we can go back and bisect the reactions that are added."
   ]
  },
  {
   "cell_type": "code",
   "execution_count": 18,
   "metadata": {},
   "outputs": [],
   "source": [
    "added_reactions = []\n",
    "original_reactions_to_run = copy.copy(reactions_to_run)"
   ]
  },
  {
   "cell_type": "markdown",
   "metadata": {},
   "source": [
    "### Essential reactions\n",
    "\n",
    "There are ~100 reactions that are in every model we have tested, and we construe these to be essential for all models, so we typically add these next!"
   ]
  },
  {
   "cell_type": "code",
   "execution_count": 19,
   "metadata": {
    "scrolled": true
   },
   "outputs": [
    {
     "name": "stdout",
     "output_type": "stream",
     "text": [
      "Before updating we have 1346 reactions, and after updating we have 1394 reactions\n"
     ]
    }
   ],
   "source": [
    "essential_reactions = PyFBA.gapfill.suggest_essential_reactions()\n",
    "for r in essential_reactions:\n",
    "    modeldata.reactions[r].reset_bounds()\n",
    "added_reactions.append((\"essential\", essential_reactions))\n",
    "print(f\"Before updating we have {len(reactions_to_run)} reactions, and after updating we have \", end=\"\")\n",
    "reactions_to_run.update(essential_reactions)\n",
    "print(f\"{len(reactions_to_run)} reactions\")"
   ]
  },
  {
   "cell_type": "code",
   "execution_count": 20,
   "metadata": {
    "scrolled": false
   },
   "outputs": [
    {
     "name": "stdout",
     "output_type": "stream",
     "text": [
      "The biomass reaction has a flux of -2.4960681287600593e-12 --> Growth: False\n"
     ]
    }
   ],
   "source": [
    "status, value, growth = PyFBA.fba.run_fba(modeldata, reactions_to_run, media, biomass_equation)\n",
    "print(f\"The biomass reaction has a flux of {value} --> Growth: {growth}\")"
   ]
  },
  {
   "cell_type": "code",
   "execution_count": 21,
   "metadata": {},
   "outputs": [
    {
     "name": "stdout",
     "output_type": "stream",
     "text": [
      "There are still 196 reactions we have not found\n"
     ]
    }
   ],
   "source": [
    "print(f\"There are still {len(missing_reactions.difference(reactions_to_run))} reactions we have not found\")"
   ]
  },
  {
   "cell_type": "markdown",
   "metadata": {},
   "source": [
    "## Linked Reactions\n",
    "\n",
    "The ModelSEED has a notion of `linked reactions` that do things together. Here we add all of the linked reactions."
   ]
  },
  {
   "cell_type": "code",
   "execution_count": 22,
   "metadata": {},
   "outputs": [
    {
     "name": "stderr",
     "output_type": "stream",
     "text": [
      "Gapfill by linked reactions found 1443 new reactions\n"
     ]
    }
   ],
   "source": [
    "linked_reactions = PyFBA.gapfill.suggest_linked_reactions(modeldata, reactions_to_run, verbose=True)\n",
    "for r in linked_reactions:\n",
    "    modeldata.reactions[r].reset_bounds()\n",
    "added_reactions.append((\"linked_reactions\", linked_reactions))"
   ]
  },
  {
   "cell_type": "code",
   "execution_count": 23,
   "metadata": {},
   "outputs": [
    {
     "name": "stdout",
     "output_type": "stream",
     "text": [
      "Before updating we have 1394 reactions, and after updating we have 2837 reactions\n"
     ]
    }
   ],
   "source": [
    "print(f\"Before updating we have {len(reactions_to_run)} reactions, and after updating we have \", end=\"\")\n",
    "reactions_to_run.update(linked_reactions)\n",
    "print(f\"{len(reactions_to_run)} reactions\")"
   ]
  },
  {
   "cell_type": "code",
   "execution_count": 24,
   "metadata": {},
   "outputs": [
    {
     "name": "stdout",
     "output_type": "stream",
     "text": [
      "The biomass reaction has a flux of -1.0847732382836745e-12 --> Growth: False\n"
     ]
    }
   ],
   "source": [
    "status, value, growth = PyFBA.fba.run_fba(modeldata, reactions_to_run, media, biomass_equation)\n",
    "print(f\"The biomass reaction has a flux of {value} --> Growth: {growth}\")"
   ]
  },
  {
   "cell_type": "code",
   "execution_count": 25,
   "metadata": {},
   "outputs": [
    {
     "name": "stdout",
     "output_type": "stream",
     "text": [
      "There are still 196 reactions we have not found\n"
     ]
    }
   ],
   "source": [
    "print(f\"There are still {len(missing_reactions.difference(reactions_to_run))} reactions we have not found\")"
   ]
  },
  {
   "cell_type": "markdown",
   "metadata": {},
   "source": [
    "## EC Numbers\n",
    "\n",
    "Make sure we have added all the EC numbers that we know about from our roles!"
   ]
  },
  {
   "cell_type": "code",
   "execution_count": 26,
   "metadata": {},
   "outputs": [
    {
     "name": "stderr",
     "output_type": "stream",
     "text": [
      "Gapfilling by EC number found 145 new reactions\n"
     ]
    }
   ],
   "source": [
    "ecnumber_reactions = PyFBA.gapfill.suggest_reactions_using_ec(roles, modeldata, reactions_to_run, verbose=True)\n",
    "for r in ecnumber_reactions:\n",
    "    modeldata.reactions[r].reset_bounds()\n",
    "added_reactions.append((\"ec_numbers_brief\", ecnumber_reactions))"
   ]
  },
  {
   "cell_type": "code",
   "execution_count": 27,
   "metadata": {},
   "outputs": [
    {
     "name": "stdout",
     "output_type": "stream",
     "text": [
      "Before updating we have 2837 reactions, and after updating we have 2982 reactions\n"
     ]
    }
   ],
   "source": [
    "print(f\"Before updating we have {len(reactions_to_run)} reactions, and after updating we have \", end=\"\")\n",
    "reactions_to_run.update(ecnumber_reactions)\n",
    "print(f\"{len(reactions_to_run)} reactions\")"
   ]
  },
  {
   "cell_type": "code",
   "execution_count": 28,
   "metadata": {},
   "outputs": [
    {
     "name": "stdout",
     "output_type": "stream",
     "text": [
      "The biomass reaction has a flux of -1.3589565316186557e-12 --> Growth: False\n"
     ]
    }
   ],
   "source": [
    "status, value, growth = PyFBA.fba.run_fba(modeldata, reactions_to_run, media, biomass_equation)\n",
    "print(f\"The biomass reaction has a flux of {value} --> Growth: {growth}\")"
   ]
  },
  {
   "cell_type": "code",
   "execution_count": 29,
   "metadata": {},
   "outputs": [
    {
     "name": "stdout",
     "output_type": "stream",
     "text": [
      "There are still 184 reactions we have not found\n"
     ]
    }
   ],
   "source": [
    "print(f\"There are still {len(missing_reactions.difference(reactions_to_run))} reactions we have not found\")"
   ]
  },
  {
   "cell_type": "markdown",
   "metadata": {},
   "source": [
    "### Media import reactions\n",
    "\n",
    "We need to make sure that the cell can import everything that is in the media... otherwise it won't be able to grow. Be sure to only do this step if you are certain that the cell can grow on the media you are testing."
   ]
  },
  {
   "cell_type": "code",
   "execution_count": 30,
   "metadata": {},
   "outputs": [
    {
     "name": "stderr",
     "output_type": "stream",
     "text": [
      "ERROR: upsr_10: UPTAKE_SECRETION_REACTION 10 was not found in our reactions\n",
      "ERROR: upsr_8: UPTAKE_SECRETION_REACTION 8 was not found in our reactions\n",
      "Adding from media: For Niacin added 4 reactions\n",
      "ERROR: upsr_76: UPTAKE_SECRETION_REACTION 76 was not found in our reactions\n",
      "ERROR: upsr_82: UPTAKE_SECRETION_REACTION 82 was not found in our reactions\n",
      "Adding from media: For O2 added 11 reactions\n",
      "ERROR: upsr_126: UPTAKE_SECRETION_REACTION 126 was not found in our reactions\n",
      "ERROR: upsr_125: UPTAKE_SECRETION_REACTION 125 was not found in our reactions\n",
      "ERROR: upsr_127: UPTAKE_SECRETION_REACTION 127 was not found in our reactions\n",
      "ERROR: upsr_139: UPTAKE_SECRETION_REACTION 139 was not found in our reactions\n",
      "Adding from media: For Cd2+ added 11 reactions\n",
      "ERROR: upsr_44: UPTAKE_SECRETION_REACTION 44 was not found in our reactions\n",
      "ERROR: upsr_40: UPTAKE_SECRETION_REACTION 40 was not found in our reactions\n",
      "Adding from media: For Folate added 4 reactions\n",
      "ERROR: upsr_116: UPTAKE_SECRETION_REACTION 116 was not found in our reactions\n",
      "ERROR: upsr_117: UPTAKE_SECRETION_REACTION 117 was not found in our reactions\n",
      "ERROR: upsr_129: UPTAKE_SECRETION_REACTION 129 was not found in our reactions\n",
      "ERROR: upsr_115: UPTAKE_SECRETION_REACTION 115 was not found in our reactions\n",
      "Adding from media: For Heme added 8 reactions\n",
      "ERROR: upsr_98: UPTAKE_SECRETION_REACTION 98 was not found in our reactions\n",
      "ERROR: upsr_97: UPTAKE_SECRETION_REACTION 97 was not found in our reactions\n",
      "ERROR: upsr_99: UPTAKE_SECRETION_REACTION 99 was not found in our reactions\n",
      "ERROR: upsr_108: UPTAKE_SECRETION_REACTION 108 was not found in our reactions\n",
      "Adding from media: For Thiamine phosphate added 2 reactions\n",
      "ERROR: upsr_72: UPTAKE_SECRETION_REACTION 72 was not found in our reactions\n",
      "ERROR: upsr_66: UPTAKE_SECRETION_REACTION 66 was not found in our reactions\n",
      "Adding from media: For L-Methionine added 10 reactions\n",
      "ERROR: upsr_91: UPTAKE_SECRETION_REACTION 91 was not found in our reactions\n",
      "ERROR: upsr_85: UPTAKE_SECRETION_REACTION 85 was not found in our reactions\n",
      "ERROR: upsr_83: UPTAKE_SECRETION_REACTION 83 was not found in our reactions\n",
      "ERROR: upsr_84: UPTAKE_SECRETION_REACTION 84 was not found in our reactions\n",
      "Adding from media: For L-Isoleucine added 15 reactions\n",
      "ERROR: upsr_148: UPTAKE_SECRETION_REACTION 148 was not found in our reactions\n",
      "ERROR: upsr_149: UPTAKE_SECRETION_REACTION 149 was not found in our reactions\n",
      "ERROR: upsr_162: UPTAKE_SECRETION_REACTION 162 was not found in our reactions\n",
      "ERROR: upsr_147: UPTAKE_SECRETION_REACTION 147 was not found in our reactions\n",
      "Adding from media: For Hg2+ added 6 reactions\n",
      "ERROR: upsr_170: UPTAKE_SECRETION_REACTION 170 was not found in our reactions\n",
      "ERROR: upsr_172: UPTAKE_SECRETION_REACTION 172 was not found in our reactions\n",
      "ERROR: upsr_173: UPTAKE_SECRETION_REACTION 173 was not found in our reactions\n",
      "ERROR: upsr_189: UPTAKE_SECRETION_REACTION 189 was not found in our reactions\n",
      "Adding from media: For Mn2+ added 9 reactions\n",
      "ERROR: upsr_24: UPTAKE_SECRETION_REACTION 24 was not found in our reactions\n",
      "ERROR: upsr_27: UPTAKE_SECRETION_REACTION 27 was not found in our reactions\n",
      "Adding from media: For Ni2+ added 12 reactions\n",
      "ERROR: upsr_147: UPTAKE_SECRETION_REACTION 147 was not found in our reactions\n",
      "ERROR: upsr_145: UPTAKE_SECRETION_REACTION 145 was not found in our reactions\n",
      "ERROR: upsr_146: UPTAKE_SECRETION_REACTION 146 was not found in our reactions\n",
      "ERROR: upsr_160: UPTAKE_SECRETION_REACTION 160 was not found in our reactions\n",
      "Adding from media: For L-Glutamate added 37 reactions\n",
      "ERROR: upsr_164: UPTAKE_SECRETION_REACTION 164 was not found in our reactions\n",
      "ERROR: upsr_178: UPTAKE_SECRETION_REACTION 178 was not found in our reactions\n",
      "ERROR: upsr_165: UPTAKE_SECRETION_REACTION 165 was not found in our reactions\n",
      "ERROR: upsr_163: UPTAKE_SECRETION_REACTION 163 was not found in our reactions\n",
      "Adding from media: For Thymidine added 5 reactions\n",
      "ERROR: upsr_99: UPTAKE_SECRETION_REACTION 99 was not found in our reactions\n",
      "ERROR: upsr_100: UPTAKE_SECRETION_REACTION 100 was not found in our reactions\n",
      "ERROR: upsr_111: UPTAKE_SECRETION_REACTION 111 was not found in our reactions\n",
      "ERROR: upsr_101: UPTAKE_SECRETION_REACTION 101 was not found in our reactions\n",
      "Adding from media: For Uridine added 6 reactions\n",
      "ERROR: upsr_64: UPTAKE_SECRETION_REACTION 64 was not found in our reactions\n",
      "ERROR: upsr_58: UPTAKE_SECRETION_REACTION 58 was not found in our reactions\n",
      "Adding from media: For Vitamin B12 added 1 reactions\n",
      "ERROR: upsr_37: UPTAKE_SECRETION_REACTION 37 was not found in our reactions\n",
      "ERROR: upsr_40: UPTAKE_SECRETION_REACTION 40 was not found in our reactions\n",
      "Adding from media: For Pyridoxal added 2 reactions\n",
      "ERROR: upsr_58: UPTAKE_SECRETION_REACTION 58 was not found in our reactions\n",
      "ERROR: upsr_52: UPTAKE_SECRETION_REACTION 52 was not found in our reactions\n",
      "Adding from media: For CMP added 7 reactions\n",
      "ERROR: upsr_131: UPTAKE_SECRETION_REACTION 131 was not found in our reactions\n",
      "ERROR: upsr_118: UPTAKE_SECRETION_REACTION 118 was not found in our reactions\n",
      "ERROR: upsr_117: UPTAKE_SECRETION_REACTION 117 was not found in our reactions\n",
      "ERROR: upsr_119: UPTAKE_SECRETION_REACTION 119 was not found in our reactions\n",
      "Adding from media: For L-Proline added 15 reactions\n",
      "ERROR: upsr_73: UPTAKE_SECRETION_REACTION 73 was not found in our reactions\n",
      "ERROR: upsr_67: UPTAKE_SECRETION_REACTION 67 was not found in our reactions\n",
      "Adding from media: For Deoxyadenosine added 4 reactions\n",
      "ERROR: upsr_73: UPTAKE_SECRETION_REACTION 73 was not found in our reactions\n",
      "ERROR: upsr_79: UPTAKE_SECRETION_REACTION 79 was not found in our reactions\n",
      "Adding from media: For Guanosine added 6 reactions\n",
      "ERROR: upsr_102: UPTAKE_SECRETION_REACTION 102 was not found in our reactions\n",
      "ERROR: upsr_103: UPTAKE_SECRETION_REACTION 103 was not found in our reactions\n",
      "ERROR: upsr_114: UPTAKE_SECRETION_REACTION 114 was not found in our reactions\n",
      "ERROR: upsr_104: UPTAKE_SECRETION_REACTION 104 was not found in our reactions\n",
      "Adding from media: For Fe2+ added 15 reactions\n",
      "ERROR: upsr_64: UPTAKE_SECRETION_REACTION 64 was not found in our reactions\n",
      "ERROR: upsr_70: UPTAKE_SECRETION_REACTION 70 was not found in our reactions\n",
      "Adding from media: For H2S added 7 reactions\n",
      "ERROR: upsr_53: UPTAKE_SECRETION_REACTION 53 was not found in our reactions\n",
      "ERROR: upsr_59: UPTAKE_SECRETION_REACTION 59 was not found in our reactions\n",
      "Adding from media: For L-Histidine added 12 reactions\n",
      "ERROR: upsr_143: UPTAKE_SECRETION_REACTION 143 was not found in our reactions\n",
      "ERROR: upsr_144: UPTAKE_SECRETION_REACTION 144 was not found in our reactions\n",
      "ERROR: upsr_142: UPTAKE_SECRETION_REACTION 142 was not found in our reactions\n",
      "ERROR: upsr_157: UPTAKE_SECRETION_REACTION 157 was not found in our reactions\n",
      "Adding from media: For L-Valine added 14 reactions\n",
      "ERROR: upsr_71: UPTAKE_SECRETION_REACTION 71 was not found in our reactions\n",
      "ERROR: upsr_77: UPTAKE_SECRETION_REACTION 77 was not found in our reactions\n",
      "Adding from media: For chromate added 2 reactions\n",
      "ERROR: upsr_155: UPTAKE_SECRETION_REACTION 155 was not found in our reactions\n",
      "ERROR: upsr_169: UPTAKE_SECRETION_REACTION 169 was not found in our reactions\n",
      "ERROR: upsr_154: UPTAKE_SECRETION_REACTION 154 was not found in our reactions\n",
      "ERROR: upsr_156: UPTAKE_SECRETION_REACTION 156 was not found in our reactions\n",
      "Adding from media: For Arsenate added 4 reactions\n",
      "ERROR: upsr_86: UPTAKE_SECRETION_REACTION 86 was not found in our reactions\n",
      "ERROR: upsr_95: UPTAKE_SECRETION_REACTION 95 was not found in our reactions\n",
      "ERROR: upsr_87: UPTAKE_SECRETION_REACTION 87 was not found in our reactions\n",
      "ERROR: upsr_88: UPTAKE_SECRETION_REACTION 88 was not found in our reactions\n",
      "Adding from media: For Mg added 11 reactions\n",
      "ERROR: upsr_36: UPTAKE_SECRETION_REACTION 36 was not found in our reactions\n",
      "ERROR: upsr_33: UPTAKE_SECRETION_REACTION 33 was not found in our reactions\n",
      "Adding from media: For HYXN added 4 reactions\n",
      "ERROR: upsr_19: UPTAKE_SECRETION_REACTION 19 was not found in our reactions\n",
      "ERROR: upsr_17: UPTAKE_SECRETION_REACTION 17 was not found in our reactions\n",
      "Adding from media: For Cl- added 8 reactions\n",
      "ERROR: upsr_158: UPTAKE_SECRETION_REACTION 158 was not found in our reactions\n",
      "ERROR: upsr_159: UPTAKE_SECRETION_REACTION 159 was not found in our reactions\n",
      "ERROR: upsr_160: UPTAKE_SECRETION_REACTION 160 was not found in our reactions\n",
      "ERROR: upsr_173: UPTAKE_SECRETION_REACTION 173 was not found in our reactions\n",
      "Adding from media: For L-Phenylalanine added 14 reactions\n",
      "ERROR: upsr_122: UPTAKE_SECRETION_REACTION 122 was not found in our reactions\n",
      "ERROR: upsr_110: UPTAKE_SECRETION_REACTION 110 was not found in our reactions\n",
      "ERROR: upsr_111: UPTAKE_SECRETION_REACTION 111 was not found in our reactions\n",
      "ERROR: upsr_109: UPTAKE_SECRETION_REACTION 109 was not found in our reactions\n",
      "Adding from media: For H2O added 15 reactions\n",
      "ERROR: upsr_111: UPTAKE_SECRETION_REACTION 111 was not found in our reactions\n",
      "ERROR: upsr_123: UPTAKE_SECRETION_REACTION 123 was not found in our reactions\n",
      "ERROR: upsr_112: UPTAKE_SECRETION_REACTION 112 was not found in our reactions\n",
      "ERROR: upsr_110: UPTAKE_SECRETION_REACTION 110 was not found in our reactions\n",
      "Adding from media: For Fe3+ added 13 reactions\n",
      "ERROR: upsr_38: UPTAKE_SECRETION_REACTION 38 was not found in our reactions\n",
      "ERROR: upsr_41: UPTAKE_SECRETION_REACTION 41 was not found in our reactions\n",
      "Adding from media: For L-Serine added 15 reactions\n",
      "ERROR: upsr_80: UPTAKE_SECRETION_REACTION 80 was not found in our reactions\n",
      "ERROR: upsr_74: UPTAKE_SECRETION_REACTION 74 was not found in our reactions\n",
      "Adding from media: For GMP added 6 reactions\n",
      "ERROR: upsr_166: UPTAKE_SECRETION_REACTION 166 was not found in our reactions\n"
     ]
    },
    {
     "name": "stderr",
     "output_type": "stream",
     "text": [
      "ERROR: upsr_165: UPTAKE_SECRETION_REACTION 165 was not found in our reactions\n",
      "ERROR: upsr_164: UPTAKE_SECRETION_REACTION 164 was not found in our reactions\n",
      "ERROR: upsr_179: UPTAKE_SECRETION_REACTION 179 was not found in our reactions\n",
      "Adding from media: For H+ added 1319 reactions\n",
      "ERROR: upsr_43: UPTAKE_SECRETION_REACTION 43 was not found in our reactions\n",
      "ERROR: upsr_47: UPTAKE_SECRETION_REACTION 47 was not found in our reactions\n",
      "Adding from media: For Uracil added 4 reactions\n",
      "ERROR: upsr_95: UPTAKE_SECRETION_REACTION 95 was not found in our reactions\n",
      "ERROR: upsr_93: UPTAKE_SECRETION_REACTION 93 was not found in our reactions\n",
      "ERROR: upsr_104: UPTAKE_SECRETION_REACTION 104 was not found in our reactions\n",
      "ERROR: upsr_94: UPTAKE_SECRETION_REACTION 94 was not found in our reactions\n",
      "Adding from media: For L-Tyrosine added 14 reactions\n",
      "ERROR: upsr_60: UPTAKE_SECRETION_REACTION 60 was not found in our reactions\n",
      "ERROR: upsr_66: UPTAKE_SECRETION_REACTION 66 was not found in our reactions\n",
      "Adding from media: For L-Tryptophan added 12 reactions\n",
      "ERROR: upsr_104: UPTAKE_SECRETION_REACTION 104 was not found in our reactions\n",
      "ERROR: upsr_105: UPTAKE_SECRETION_REACTION 105 was not found in our reactions\n",
      "ERROR: upsr_116: UPTAKE_SECRETION_REACTION 116 was not found in our reactions\n",
      "ERROR: upsr_106: UPTAKE_SECRETION_REACTION 106 was not found in our reactions\n",
      "Adding from media: For Cu2+ added 14 reactions\n",
      "ERROR: upsr_165: UPTAKE_SECRETION_REACTION 165 was not found in our reactions\n",
      "ERROR: upsr_180: UPTAKE_SECRETION_REACTION 180 was not found in our reactions\n",
      "ERROR: upsr_167: UPTAKE_SECRETION_REACTION 167 was not found in our reactions\n",
      "ERROR: upsr_166: UPTAKE_SECRETION_REACTION 166 was not found in our reactions\n",
      "Adding from media: For Na+ added 113 reactions\n",
      "ERROR: upsr_174: UPTAKE_SECRETION_REACTION 174 was not found in our reactions\n",
      "ERROR: upsr_190: UPTAKE_SECRETION_REACTION 190 was not found in our reactions\n",
      "ERROR: upsr_171: UPTAKE_SECRETION_REACTION 171 was not found in our reactions\n",
      "ERROR: upsr_173: UPTAKE_SECRETION_REACTION 173 was not found in our reactions\n",
      "Adding from media: For L-Cystine added 2 reactions\n",
      "ERROR: upsr_139: UPTAKE_SECRETION_REACTION 139 was not found in our reactions\n",
      "ERROR: upsr_137: UPTAKE_SECRETION_REACTION 137 was not found in our reactions\n",
      "ERROR: upsr_138: UPTAKE_SECRETION_REACTION 138 was not found in our reactions\n",
      "ERROR: upsr_152: UPTAKE_SECRETION_REACTION 152 was not found in our reactions\n",
      "Adding from media: For Phosphate added 65 reactions\n",
      "ERROR: upsr_11: UPTAKE_SECRETION_REACTION 11 was not found in our reactions\n",
      "ERROR: upsr_9: UPTAKE_SECRETION_REACTION 9 was not found in our reactions\n",
      "Adding from media: For K+ added 19 reactions\n",
      "ERROR: upsr_163: UPTAKE_SECRETION_REACTION 163 was not found in our reactions\n",
      "ERROR: upsr_161: UPTAKE_SECRETION_REACTION 161 was not found in our reactions\n",
      "ERROR: upsr_176: UPTAKE_SECRETION_REACTION 176 was not found in our reactions\n",
      "ERROR: upsr_162: UPTAKE_SECRETION_REACTION 162 was not found in our reactions\n",
      "Adding from media: For Adenosine added 6 reactions\n",
      "ERROR: upsr_39: UPTAKE_SECRETION_REACTION 39 was not found in our reactions\n",
      "ERROR: upsr_42: UPTAKE_SECRETION_REACTION 42 was not found in our reactions\n",
      "Adding from media: For L-Alanine added 20 reactions\n",
      "ERROR: upsr_124: UPTAKE_SECRETION_REACTION 124 was not found in our reactions\n",
      "ERROR: upsr_138: UPTAKE_SECRETION_REACTION 138 was not found in our reactions\n",
      "ERROR: upsr_126: UPTAKE_SECRETION_REACTION 126 was not found in our reactions\n",
      "ERROR: upsr_125: UPTAKE_SECRETION_REACTION 125 was not found in our reactions\n",
      "Adding from media: For AMP added 11 reactions\n",
      "ERROR: upsr_48: UPTAKE_SECRETION_REACTION 48 was not found in our reactions\n",
      "ERROR: upsr_44: UPTAKE_SECRETION_REACTION 44 was not found in our reactions\n",
      "Adding from media: For PAN added 6 reactions\n",
      "ERROR: upsr_95: UPTAKE_SECRETION_REACTION 95 was not found in our reactions\n",
      "ERROR: upsr_105: UPTAKE_SECRETION_REACTION 105 was not found in our reactions\n",
      "ERROR: upsr_94: UPTAKE_SECRETION_REACTION 94 was not found in our reactions\n",
      "ERROR: upsr_96: UPTAKE_SECRETION_REACTION 96 was not found in our reactions\n",
      "Adding from media: For Glycine added 19 reactions\n",
      "ERROR: upsr_30: UPTAKE_SECRETION_REACTION 30 was not found in our reactions\n",
      "ERROR: upsr_27: UPTAKE_SECRETION_REACTION 27 was not found in our reactions\n",
      "Adding from media: For Inosine added 5 reactions\n",
      "ERROR: upsr_106: UPTAKE_SECRETION_REACTION 106 was not found in our reactions\n",
      "ERROR: upsr_105: UPTAKE_SECRETION_REACTION 105 was not found in our reactions\n",
      "ERROR: upsr_107: UPTAKE_SECRETION_REACTION 107 was not found in our reactions\n",
      "ERROR: upsr_117: UPTAKE_SECRETION_REACTION 117 was not found in our reactions\n",
      "Adding from media: For Molybdate added 4 reactions\n",
      "ERROR: upsr_102: UPTAKE_SECRETION_REACTION 102 was not found in our reactions\n",
      "ERROR: upsr_93: UPTAKE_SECRETION_REACTION 93 was not found in our reactions\n",
      "ERROR: upsr_92: UPTAKE_SECRETION_REACTION 92 was not found in our reactions\n",
      "ERROR: upsr_91: UPTAKE_SECRETION_REACTION 91 was not found in our reactions\n",
      "Adding from media: For Sulfate added 16 reactions\n",
      "ERROR: upsr_7: UPTAKE_SECRETION_REACTION 7 was not found in our reactions\n",
      "ERROR: upsr_9: UPTAKE_SECRETION_REACTION 9 was not found in our reactions\n",
      "Adding from media: For L-Leucine added 16 reactions\n",
      "ERROR: upsr_121: UPTAKE_SECRETION_REACTION 121 was not found in our reactions\n",
      "ERROR: upsr_108: UPTAKE_SECRETION_REACTION 108 was not found in our reactions\n",
      "ERROR: upsr_109: UPTAKE_SECRETION_REACTION 109 was not found in our reactions\n",
      "ERROR: upsr_110: UPTAKE_SECRETION_REACTION 110 was not found in our reactions\n",
      "Adding from media: For UMP added 7 reactions\n",
      "ERROR: upsr_86: UPTAKE_SECRETION_REACTION 86 was not found in our reactions\n",
      "ERROR: upsr_93: UPTAKE_SECRETION_REACTION 93 was not found in our reactions\n",
      "ERROR: upsr_87: UPTAKE_SECRETION_REACTION 87 was not found in our reactions\n",
      "ERROR: upsr_85: UPTAKE_SECRETION_REACTION 85 was not found in our reactions\n",
      "Adding from media: For Ca2+ added 22 reactions\n",
      "ERROR: upsr_87: UPTAKE_SECRETION_REACTION 87 was not found in our reactions\n",
      "ERROR: upsr_89: UPTAKE_SECRETION_REACTION 89 was not found in our reactions\n",
      "ERROR: upsr_88: UPTAKE_SECRETION_REACTION 88 was not found in our reactions\n",
      "ERROR: upsr_96: UPTAKE_SECRETION_REACTION 96 was not found in our reactions\n",
      "Adding from media: For L-Lysine added 15 reactions\n",
      "ERROR: upsr_13: UPTAKE_SECRETION_REACTION 13 was not found in our reactions\n",
      "ERROR: upsr_11: UPTAKE_SECRETION_REACTION 11 was not found in our reactions\n",
      "Adding from media: For NH3 added 19 reactions\n",
      "ERROR: upsr_130: UPTAKE_SECRETION_REACTION 130 was not found in our reactions\n",
      "ERROR: upsr_128: UPTAKE_SECRETION_REACTION 128 was not found in our reactions\n",
      "ERROR: upsr_129: UPTAKE_SECRETION_REACTION 129 was not found in our reactions\n",
      "ERROR: upsr_142: UPTAKE_SECRETION_REACTION 142 was not found in our reactions\n",
      "Adding from media: For Riboflavin added 6 reactions\n",
      "ERROR: upsr_152: UPTAKE_SECRETION_REACTION 152 was not found in our reactions\n",
      "ERROR: upsr_151: UPTAKE_SECRETION_REACTION 151 was not found in our reactions\n",
      "ERROR: upsr_166: UPTAKE_SECRETION_REACTION 166 was not found in our reactions\n",
      "ERROR: upsr_153: UPTAKE_SECRETION_REACTION 153 was not found in our reactions\n",
      "Adding from media: For L-Threonine added 16 reactions\n",
      "ERROR: upsr_52: UPTAKE_SECRETION_REACTION 52 was not found in our reactions\n",
      "ERROR: upsr_46: UPTAKE_SECRETION_REACTION 46 was not found in our reactions\n",
      "Adding from media: For Deoxycytidine added 4 reactions\n",
      "ERROR: upsr_17: UPTAKE_SECRETION_REACTION 17 was not found in our reactions\n",
      "ERROR: upsr_15: UPTAKE_SECRETION_REACTION 15 was not found in our reactions\n",
      "Adding from media: For Zn2+ added 12 reactions\n",
      "ERROR: upsr_135: UPTAKE_SECRETION_REACTION 135 was not found in our reactions\n",
      "ERROR: upsr_134: UPTAKE_SECRETION_REACTION 134 was not found in our reactions\n",
      "ERROR: upsr_148: UPTAKE_SECRETION_REACTION 148 was not found in our reactions\n",
      "ERROR: upsr_133: UPTAKE_SECRETION_REACTION 133 was not found in our reactions\n",
      "Adding from media: For Lipoate added 1 reactions\n",
      "ERROR: upsr_134: UPTAKE_SECRETION_REACTION 134 was not found in our reactions\n",
      "ERROR: upsr_120: UPTAKE_SECRETION_REACTION 120 was not found in our reactions\n",
      "ERROR: upsr_121: UPTAKE_SECRETION_REACTION 121 was not found in our reactions\n",
      "ERROR: upsr_122: UPTAKE_SECRETION_REACTION 122 was not found in our reactions\n",
      "Adding from media: For L-Aspartate added 24 reactions\n",
      "ERROR: upsr_34: UPTAKE_SECRETION_REACTION 34 was not found in our reactions\n",
      "ERROR: upsr_31: UPTAKE_SECRETION_REACTION 31 was not found in our reactions\n",
      "Adding from media: For D-Glucose added 18 reactions\n"
     ]
    },
    {
     "name": "stdout",
     "output_type": "stream",
     "text": [
      "Before updating we have 2982 reactions, and after updating we have 4508 reactions\n"
     ]
    },
    {
     "name": "stderr",
     "output_type": "stream",
     "text": [
      "ERROR: upsr_81: UPTAKE_SECRETION_REACTION 81 was not found in our reactions\n",
      "ERROR: upsr_75: UPTAKE_SECRETION_REACTION 75 was not found in our reactions\n",
      "Adding from media: For L-Arginine added 19 reactions\n",
      "ERROR: upsr_158: UPTAKE_SECRETION_REACTION 158 was not found in our reactions\n",
      "ERROR: upsr_171: UPTAKE_SECRETION_REACTION 171 was not found in our reactions\n",
      "ERROR: upsr_157: UPTAKE_SECRETION_REACTION 157 was not found in our reactions\n",
      "ERROR: upsr_156: UPTAKE_SECRETION_REACTION 156 was not found in our reactions\n",
      "Adding from media: For Co2+ added 8 reactions\n"
     ]
    }
   ],
   "source": [
    "media_reactions = PyFBA.gapfill.suggest_from_media(modeldata, reactions_to_run, media, verbose=True)\n",
    "for r in media_reactions:\n",
    "    modeldata.reactions[r].reset_bounds()\n",
    "added_reactions.append((\"media\", media_reactions))\n",
    "print(f\"Before updating we have {len(reactions_to_run)} reactions, and after updating we have \", end=\"\")\n",
    "reactions_to_run.update(media_reactions)\n",
    "print(f\"{len(reactions_to_run)} reactions\")"
   ]
  },
  {
   "cell_type": "code",
   "execution_count": 31,
   "metadata": {
    "scrolled": true
   },
   "outputs": [
    {
     "name": "stdout",
     "output_type": "stream",
     "text": [
      "The biomass reaction has a flux of 4.3860264727446435e-13 --> Growth: False\n"
     ]
    }
   ],
   "source": [
    "status, value, growth = PyFBA.fba.run_fba(modeldata, reactions_to_run, media, biomass_equation)\n",
    "print(f\"The biomass reaction has a flux of {value} --> Growth: {growth}\")"
   ]
  },
  {
   "cell_type": "code",
   "execution_count": 32,
   "metadata": {},
   "outputs": [
    {
     "name": "stdout",
     "output_type": "stream",
     "text": [
      "There are still 160 reactions we have not found\n"
     ]
    }
   ],
   "source": [
    "print(f\"There are still {len(missing_reactions.difference(reactions_to_run))} reactions we have not found\")"
   ]
  },
  {
   "cell_type": "markdown",
   "metadata": {},
   "source": [
    "### Reactions from closely related organisms\n",
    "\n",
    "We also gap-fill on closely related organisms. We assume that an organism is most likely to have reactions in its genome that are similar to those in closely related organisms. \n",
    "\n",
    "You will need to download the [closest.genomes.roles](https://raw.githubusercontent.com/linsalrob/PyFBA/master/example_data/Citrobacter/ungapfilled_model/closest.genomes.roles) file"
   ]
  },
  {
   "cell_type": "code",
   "execution_count": 33,
   "metadata": {
    "scrolled": true
   },
   "outputs": [
    {
     "name": "stdout",
     "output_type": "stream",
     "text": [
      "Before updating we have 4508 reactions, and after updating we have 4863 reactions\n"
     ]
    }
   ],
   "source": [
    "reactions_from_other_orgs = PyFBA.gapfill.suggest_from_roles(\"closest.genomes.roles\", modeldata.reactions)\n",
    "for r in reactions_from_other_orgs:\n",
    "    modeldata.reactions[r].reset_bounds()\n",
    "added_reactions.append((\"close genomes\", reactions_from_other_orgs))\n",
    "print(f\"Before updating we have {len(reactions_to_run)} reactions, and after updating we have \", end=\"\")\n",
    "reactions_to_run.update(reactions_from_other_orgs)\n",
    "print(f\"{len(reactions_to_run)} reactions\")"
   ]
  },
  {
   "cell_type": "code",
   "execution_count": 34,
   "metadata": {
    "scrolled": true
   },
   "outputs": [
    {
     "name": "stdout",
     "output_type": "stream",
     "text": [
      "The biomass reaction has a flux of 999.9999999999991 --> Growth: True\n"
     ]
    }
   ],
   "source": [
    "status, value, growth = PyFBA.fba.run_fba(modeldata, reactions_to_run, media, biomass_equation)\n",
    "print(f\"The biomass reaction has a flux of {value} --> Growth: {growth}\")"
   ]
  },
  {
   "cell_type": "code",
   "execution_count": 35,
   "metadata": {},
   "outputs": [
    {
     "name": "stdout",
     "output_type": "stream",
     "text": [
      "There are still 109 reactions we have not found\n"
     ]
    }
   ],
   "source": [
    "print(f\"There are still {len(missing_reactions.difference(reactions_to_run))} reactions we have not found\")"
   ]
  },
  {
   "cell_type": "markdown",
   "metadata": {},
   "source": [
    "### Subsystems\n",
    "\n",
    "The reactions connect us to subsystems (see [Overbeek et al. 2014](http://www.ncbi.nlm.nih.gov/pmc/articles/PMC3965101/)), and this test ensures that all the subsystems are complete. We add reactions required to complete the subsystem."
   ]
  },
  {
   "cell_type": "code",
   "execution_count": 36,
   "metadata": {},
   "outputs": [],
   "source": [
    "if not growth:\n",
    "    subsystem_reactions = \\\n",
    "        PyFBA.gapfill.suggest_reactions_from_subsystems(modeldata.reactions,\n",
    "                                                        reactions_to_run,\n",
    "                                                        threshold=0.5)\n",
    "    for r in subsystem_reactions:\n",
    "        modeldata.reactions[r].reset_bounds()\n",
    "    added_reactions.append((\"subsystems\", subsystem_reactions))\n",
    "    print(f\"Before updating we have {len(reactions_to_run)} reactions, and after updating we have \", end=\"\")\n",
    "    reactions_to_run.update(subsystem_reactions)\n",
    "    print(f\"{len(reactions_to_run)} reactions\")\n",
    "    status, value, growth = PyFBA.fba.run_fba(modeldata, reactions_to_run, media, biomass_equation)\n",
    "    print(f\"The biomass reaction has a flux of {value} --> Growth: {growth}\")\n",
    "    print(f\"There are still {len(missing_reactions.difference(reactions_to_run))} reactions we have not found\")"
   ]
  },
  {
   "cell_type": "markdown",
   "metadata": {},
   "source": [
    "## Revisit EC Numbers\n",
    "\n",
    "When we added the EC numbers before, we were a little conservative, only adding those EC numbers that appeared in two or less (by default) reactions. If we get here, lets be aggressive and add any EC number regardless of how many reactions we add. We set the `maxnumrx` variable to 0"
   ]
  },
  {
   "cell_type": "code",
   "execution_count": 37,
   "metadata": {},
   "outputs": [],
   "source": [
    "if not growth:\n",
    "    ecnumber_reactions = PyFBA.gapfill.suggest_reactions_using_ec(roles, modeldata, reactions_to_run, maxnumrx=0, verbose=True)\n",
    "    for r in ecnumber_reactions:\n",
    "        modeldata.reactions[r].reset_bounds()\n",
    "    added_reactions.append((\"ec_numbers_full\", ecnumber_reactions))\n",
    "    # lets try limiting these so we don't add everything\n",
    "    lec = PyFBA.gapfill.limit_reactions_by_compound(modeldata.reactions, reactions_to_run, ecnumber_reactions, 50)\n",
    "    print(f\"Before limiting we wanted to add {len(ecnumber_reactions)}, and after, we wanted to add {len(lec)} reactions\")\n",
    "    print(f\"Before updating we have {len(reactions_to_run)} reactions, and after updating we have \", end=\"\")\n",
    "    reactions_to_run.update(ecnumber_reactions)\n",
    "    print(f\"{len(reactions_to_run)} reactions\")\n",
    "    status, value, growth = PyFBA.fba.run_fba(modeldata, reactions_to_run, media, biomass_equation)\n",
    "    print(f\"The biomass reaction has a flux of {value} --> Growth: {growth}\")\n",
    "    print(f\"There are still {len(missing_reactions.difference(reactions_to_run))} reactions we have not found\")"
   ]
  },
  {
   "cell_type": "markdown",
   "metadata": {},
   "source": [
    "## Linked Reactions\n",
    "\n",
    "We revist linked reactions once more, because now we have many more reactions in our set to run!"
   ]
  },
  {
   "cell_type": "code",
   "execution_count": 38,
   "metadata": {},
   "outputs": [],
   "source": [
    "if not growth:\n",
    "    linked_reactions = PyFBA.gapfill.suggest_linked_reactions(modeldata, reactions_to_run, verbose=True)\n",
    "    for r in linked_reactions:\n",
    "        modeldata.reactions[r].reset_bounds()\n",
    "    added_reactions.append((\"linked_reactions_addition\", linked_reactions))\n",
    "    print(f\"Before updating we have {len(reactions_to_run)} reactions, and after updating we have \", end=\"\")\n",
    "    reactions_to_run.update(linked_reactions)\n",
    "    print(f\"{len(reactions_to_run)} reactions\")\n",
    "    status, value, growth = PyFBA.fba.run_fba(modeldata, reactions_to_run, media, biomass_equation)\n",
    "    print(f\"The biomass reaction has a flux of {value} --> Growth: {growth}\")\n",
    "    print(f\"There are still {len(missing_reactions.difference(reactions_to_run))} reactions we have not found\")"
   ]
  },
  {
   "cell_type": "markdown",
   "metadata": {},
   "source": [
    "### Orphan compounds\n",
    "\n",
    "Orphan compounds are those compounds which are only associated with one reaction. They are either produced, or trying to be consumed. We need to add reaction(s) that complete the network of those compounds.\n",
    "\n",
    "You can change the maximum number of reactions that a compound is in to be considered an orphan (try increasing it to 2 or 3)."
   ]
  },
  {
   "cell_type": "code",
   "execution_count": 39,
   "metadata": {},
   "outputs": [],
   "source": [
    "if not growth:\n",
    "    orphan_reactions = PyFBA.gapfill.suggest_by_compound(modeldata,\n",
    "                                                     reactions_to_run,\n",
    "                                                     max_reactions=1)\n",
    "    # lets try limiting these so we don't add everything\n",
    "    lor = PyFBA.gapfill.limit_reactions_by_compound(modeldata.reactions, reactions_to_run, orphan_reactions, 50)\n",
    "    print(f\"Before limiting we wanted to add {len(orphan_reactions)}, and after, we wanted to add {len(lor)} reactions\")\n",
    "    for r in orphan_reactions:\n",
    "        modeldata.reactions[r].reset_bounds()\n",
    "    added_reactions.append((\"orphans\", orphan_reactions))\n",
    "    print(f\"Before updating we have {len(reactions_to_run)} reactions, and after updating we have \", end=\"\")\n",
    "    reactions_to_run.update(orphan_reactions)\n",
    "    print(f\"{len(reactions_to_run)} reactions\")"
   ]
  },
  {
   "cell_type": "code",
   "execution_count": null,
   "metadata": {
    "scrolled": false
   },
   "outputs": [],
   "source": [
    "status, value, growth = PyFBA.fba.run_fba(modeldata, reactions_to_run, media, biomass_equation)\n",
    "print(f\"The biomass reaction has a flux of {value} --> Growth: {growth}\")"
   ]
  },
  {
   "cell_type": "code",
   "execution_count": null,
   "metadata": {},
   "outputs": [],
   "source": [
    "print(f\"There are still {len(missing_reactions.difference(reactions_to_run))} reactions we have not found\")"
   ]
  },
  {
   "cell_type": "markdown",
   "metadata": {},
   "source": [
    "## Trimming the model\n",
    "\n",
    "Now that the model has been shown to grow on ArgonneLB media after several gap-fill iterations, we should trim down the reactions to only the required reactions necessary to observe growth.\n",
    "\n",
    "In this example, we start removing the additional reactions from the last added (`orphans`) and bisect each set, trying to find the miniumum number of reactions that will ensure growth.\n",
    "\n",
    "We strongly recommend enabling verbose output on the `PyFBA.gapfill.minimize_additional_reactions` function, as it will demonstrate the power of `O(log n)` functions"
   ]
  },
  {
   "cell_type": "code",
   "execution_count": 40,
   "metadata": {
    "scrolled": true
   },
   "outputs": [
    {
     "name": "stdout",
     "output_type": "stream",
     "text": [
      "Before we begin, our original reactions were 1346\n"
     ]
    },
    {
     "name": "stderr",
     "output_type": "stream",
     "text": [
      "Testing reactions from close genomes\n",
      "Successfully limited the reactions by compound and reduced from 1670 to 301\n",
      "At the beginning the base list has 4508 and the optional list has 301 reactions\n",
      "Iteration: 1 Try: 0 Length: 151 and 150 Growth: False and False\n",
      "Iteration: 1 Try: 0 Length: 120 and 181 Growth: False and True\n",
      "Iteration: 2 Try: 0 Length: 91 and 90 Growth: False and False\n",
      "Iteration: 2 Try: 0 Length: 72 and 109 Growth: False and False\n",
      "Iteration: 2 Try: 0 Length: 36 and 145 Growth: False and True\n",
      "Iteration: 3 Try: 0 Length: 73 and 72 Growth: False and False\n",
      "Iteration: 3 Try: 0 Length: 58 and 87 Growth: False and False\n",
      "Iteration: 3 Try: 0 Length: 29 and 116 Growth: False and False\n",
      "Iteration: 3 Try: 0 Length: 14 and 131 Growth: False and True\n",
      "Iteration: 4 Try: 0 Length: 66 and 65 Growth: False and False\n",
      "Iteration: 4 Try: 0 Length: 52 and 79 Growth: False and False\n",
      "Iteration: 4 Try: 0 Length: 26 and 105 Growth: False and False\n",
      "Iteration: 4 Try: 0 Length: 13 and 118 Growth: False and False\n",
      "Iteration: 4 Try: 0 Length: 6 and 125 Growth: False and False\n",
      "Iteration: 4 Try: 0 Length: 3 and 128 Growth: False and True\n",
      "Iteration: 5 Try: 0 Length: 64 and 64 Growth: False and False\n",
      "Iteration: 5 Try: 0 Length: 51 and 77 Growth: False and False\n",
      "Iteration: 5 Try: 0 Length: 25 and 103 Growth: False and False\n",
      "Iteration: 5 Try: 0 Length: 12 and 116 Growth: False and False\n",
      "Iteration: 5 Try: 0 Length: 3 and 125 Growth: False and False\n",
      "Iteration: 5 Try: 0 Length: 1 and 127 Growth: False and True\n",
      "Iteration: 6 Try: 0 Length: 64 and 63 Growth: False and False\n",
      "Iteration: 6 Try: 0 Length: 50 and 77 Growth: False and False\n",
      "Iteration: 6 Try: 0 Length: 25 and 102 Growth: False and False\n",
      "Iteration: 6 Try: 0 Length: 12 and 115 Growth: False and False\n",
      "Iteration: 6 Try: 0 Length: 6 and 121 Growth: False and False\n",
      "Iteration: 6 Try: 0 Length: 3 and 124 Growth: False and False\n",
      "Iteration: 6 Try: 0 Length: 1 and 126 Growth: False and False\n",
      "Iteration: 7 Try: 1 Length: 64 and 63 Growth: False and False\n",
      "Iteration: 7 Try: 1 Length: 50 and 77 Growth: False and False\n",
      "Iteration: 7 Try: 1 Length: 25 and 102 Growth: False and False\n",
      "Iteration: 7 Try: 1 Length: 12 and 115 Growth: False and False\n",
      "Iteration: 7 Try: 1 Length: 6 and 121 Growth: False and False\n",
      "Iteration: 7 Try: 1 Length: 3 and 124 Growth: False and True\n",
      "Iteration: 8 Try: 0 Length: 62 and 62 Growth: False and False\n",
      "Iteration: 8 Try: 0 Length: 49 and 75 Growth: False and False\n",
      "Iteration: 8 Try: 0 Length: 24 and 100 Growth: False and False\n",
      "Iteration: 8 Try: 0 Length: 12 and 112 Growth: False and False\n",
      "Iteration: 8 Try: 0 Length: 6 and 118 Growth: False and False\n",
      "Iteration: 8 Try: 0 Length: 3 and 121 Growth: False and False\n",
      "Iteration: 8 Try: 0 Length: 1 and 123 Growth: False and True\n",
      "Iteration: 9 Try: 0 Length: 62 and 61 Growth: False and False\n",
      "Iteration: 9 Try: 0 Length: 49 and 74 Growth: False and False\n",
      "Iteration: 9 Try: 0 Length: 24 and 99 Growth: False and False\n",
      "Iteration: 9 Try: 0 Length: 12 and 111 Growth: False and False\n",
      "Iteration: 9 Try: 0 Length: 6 and 117 Growth: False and False\n",
      "Iteration: 9 Try: 0 Length: 3 and 120 Growth: False and False\n",
      "Iteration: 9 Try: 0 Length: 1 and 122 Growth: False and True\n",
      "Iteration: 10 Try: 0 Length: 61 and 61 Growth: False and False\n",
      "Iteration: 10 Try: 0 Length: 48 and 74 Growth: False and False\n",
      "Iteration: 10 Try: 0 Length: 24 and 98 Growth: False and False\n",
      "Iteration: 10 Try: 0 Length: 12 and 110 Growth: False and False\n",
      "Iteration: 10 Try: 0 Length: 6 and 116 Growth: False and False\n",
      "Iteration: 10 Try: 0 Length: 3 and 119 Growth: False and False\n",
      "Iteration: 10 Try: 0 Length: 1 and 121 Growth: False and False\n",
      "Iteration: 11 Try: 1 Length: 61 and 61 Growth: False and False\n",
      "Iteration: 11 Try: 1 Length: 48 and 74 Growth: False and True\n",
      "Iteration: 12 Try: 0 Length: 37 and 37 Growth: False and False\n",
      "Iteration: 12 Try: 0 Length: 29 and 45 Growth: False and False\n",
      "Iteration: 12 Try: 0 Length: 14 and 60 Growth: False and False\n",
      "Iteration: 12 Try: 0 Length: 7 and 67 Growth: False and True\n",
      "Iteration: 13 Try: 0 Length: 34 and 33 Growth: False and False\n",
      "Iteration: 13 Try: 0 Length: 26 and 41 Growth: False and False\n",
      "Iteration: 13 Try: 0 Length: 13 and 54 Growth: False and False\n",
      "Iteration: 13 Try: 0 Length: 6 and 61 Growth: False and False\n",
      "Iteration: 13 Try: 0 Length: 3 and 64 Growth: False and False\n",
      "Iteration: 13 Try: 0 Length: 1 and 66 Growth: False and False\n",
      "Iteration: 14 Try: 0 Length: 34 and 33 Growth: True and NOT TESTED\n",
      "Iteration: 15 Try: 0 Length: 17 and 17 Growth: False and False\n",
      "Iteration: 15 Try: 0 Length: 13 and 21 Growth: False and False\n",
      "Iteration: 15 Try: 0 Length: 6 and 28 Growth: False and True\n",
      "Iteration: 16 Try: 0 Length: 14 and 14 Growth: False and False\n",
      "Iteration: 16 Try: 0 Length: 11 and 17 Growth: False and False\n",
      "Iteration: 16 Try: 0 Length: 5 and 23 Growth: False and False\n",
      "Iteration: 16 Try: 0 Length: 2 and 26 Growth: False and False\n",
      "Iteration: 16 Try: 0 Length: 1 and 27 Growth: False and True\n",
      "Iteration: 17 Try: 0 Length: 14 and 13 Growth: False and False\n",
      "Iteration: 17 Try: 0 Length: 10 and 17 Growth: False and False\n",
      "Iteration: 17 Try: 0 Length: 5 and 22 Growth: False and False\n",
      "Iteration: 17 Try: 0 Length: 2 and 25 Growth: False and False\n",
      "Iteration: 17 Try: 0 Length: 1 and 26 Growth: False and False\n",
      "Iteration: 18 Try: 1 Length: 14 and 13 Growth: False and False\n",
      "Iteration: 18 Try: 1 Length: 10 and 17 Growth: False and True\n",
      "Iteration: 19 Try: 0 Length: 9 and 8 Growth: False and False\n",
      "Single reaction iteration 1 of 17: Attempting without rxn12512: (1) ATP[c] + (1) L-Cysteine[c] + (1) 4-phosphopantothenate[c] <=> (1) PPi[c] + (1) AMP[c] + (2) H+[c] + (1) (R)-4'-Phosphopantothenoyl-L-cysteine[c]\n",
      "Result: REQUIRED\n",
      "Single reaction iteration 2 of 17: Attempting without rxn08793: (1) L-Lactate[c] + (1) Menaquinone 8[c] <=> (1) Pyruvate[c] + (1) Menaquinol 8[c]\n",
      "Result: NOT REQUIRED\n",
      "Single reaction iteration 3 of 17: Attempting without rxn01513: (1) ATP[c] + (1) H+[c] + (1) dTMP[c] <=> (1) ADP[c] + (1) dTDP[c]\n",
      "Result: REQUIRED\n",
      "Single reaction iteration 4 of 17: Attempting without rxn00547: (1) ATP[c] + (1) D-Fructose[c] <=> (1) ADP[c] + (1) H+[c] + (1) D-fructose-6-phosphate[c]\n",
      "Result: NOT REQUIRED\n",
      "Single reaction iteration 5 of 17: Attempting without rxn08933: (1) H2O[c] + (1) Maltotetraose[c] <=> (1) D-Glucose[c] + (1) Amylotriose[c]\n",
      "Result: NOT REQUIRED\n",
      "Single reaction iteration 6 of 17: Attempting without rxn00375: (1) H2O[c] + (1) N-Formyl-L-glutamate[c] <=> (1) L-Glutamate[c] + (1) Formate[c]\n",
      "Result: NOT REQUIRED\n",
      "Single reaction iteration 7 of 17: Attempting without rxn10299: (24) UDP-glucose[c] + (1) Myristoyllipoteichoic acid (n=24), linked, unsubstituted[c] <=> (24) UDP[c] + (1) Myristoyllipoteichoic acid (n=24), linked, glucose substituted[c]\n",
      "Result: NOT REQUIRED\n",
      "Single reaction iteration 8 of 17: Attempting without rxn01729: (1) H2O[c] + (1) NAD[c] + (1) 5-Oxopentanoate[c] <=> (1) NADH[c] + (2) H+[c] + (1) Glutarate[c]\n",
      "Result: NOT REQUIRED\n",
      "Single reaction iteration 9 of 17: Attempting without rxn01854: (1) H2O[c] + (1) H+[c] + (1) N(alpha)-Benzyloxycarbonyl-L-leucine[c] <=> (1) CO2[c] + (1) L-Leucine[c] + (1) Phenylcarbinol[c]\n",
      "Result: NOT REQUIRED\n",
      "Single reaction iteration 10 of 17: Attempting without rxn03087: (1) 2-Oxoglutarate[c] + (1) N-Succinyl-L-2,6-diaminopimelate[c] <=> (1) L-Glutamate[c] + (1) N-Succinyl-L-2-amino-6-oxopimelate[c]\n",
      "Result: REQUIRED\n",
      "Single reaction iteration 11 of 17: Attempting without rxn00242: (1) H2O[c] + (1) Guanosine 3',5'-bis(diphosphate)[c] <=> (1) PPi[c] + (1) GDP[c]\n",
      "Result: NOT REQUIRED\n",
      "Single reaction iteration 12 of 17: Attempting without rxn08792: (1) L-Lactate[c] + (1) Ubiquinone-8[c] <=> (1) Pyruvate[c] + (1) Ubiquinol-8[c]\n",
      "Result: NOT REQUIRED\n",
      "Single reaction iteration 13 of 17: Attempting without rxn01737: (1) H2O[c] + (1) Melitose[c] <=> (1) D-Fructose[c] + (1) Melibiose[c]\n",
      "Result: NOT REQUIRED\n",
      "Single reaction iteration 14 of 17: Attempting without rxn01233: (1) 2-Oxoglutarate[c] + (1) Taurine[c] <=> (1) L-Glutamate[c] + (1) Sulfoacetaldehyde[c]\n",
      "Result: NOT REQUIRED\n",
      "Single reaction iteration 15 of 17: Attempting without rxn08935: (1) H2O[c] + (1) Maltohexaose[c] <=> (1) D-Glucose[c] + (1) Maltopentaose[c]\n",
      "Result: NOT REQUIRED\n",
      "Single reaction iteration 16 of 17: Attempting without rxn01945: (1) NADH[c] + (1) O2[c] + (1) H+[c] + (1) 4-Hydroxyphenylacetate[c] <=> (1) H2O[c] + (1) NAD[c] + (1) Homoprotocatechuate[c]\n"
     ]
    },
    {
     "name": "stderr",
     "output_type": "stream",
     "text": [
      "Result: NOT REQUIRED\n",
      "Single reaction iteration 17 of 17: Attempting without rxn00162: (1) Oxaloacetate[c] + (1) H+[c] <=> (1) CO2[c] + (1) Pyruvate[c]\n",
      "Result: NOT REQUIRED\n",
      "There are 3 reactions remaining: {'rxn01513', 'rxn12512', 'rxn03087'}\n",
      "Saved 3 reactions from close genomes\n",
      "Testing reactions from media\n",
      "Successfully limited the reactions by compound and reduced from 1526 to 978\n",
      "At the beginning the base list has 2985 and the optional list has 978 reactions\n",
      "Iteration: 1 Try: 0 Length: 489 and 489 Growth: False and True\n",
      "Iteration: 2 Try: 0 Length: 245 and 244 Growth: True and NOT TESTED\n",
      "Iteration: 3 Try: 0 Length: 123 and 122 Growth: True and NOT TESTED\n",
      "Iteration: 4 Try: 0 Length: 62 and 61 Growth: True and NOT TESTED\n",
      "Iteration: 5 Try: 0 Length: 31 and 31 Growth: True and NOT TESTED\n",
      "Iteration: 6 Try: 0 Length: 16 and 15 Growth: True and NOT TESTED\n",
      "Iteration: 7 Try: 0 Length: 8 and 8 Growth: True and NOT TESTED\n",
      "Iteration: 8 Try: 0 Length: 4 and 4 Growth: True and NOT TESTED\n",
      "Iteration: 9 Try: 0 Length: 2 and 2 Growth: True and NOT TESTED\n",
      "Iteration: 10 Try: 0 Length: 1 and 0 Growth: True and NOT TESTED\n",
      "There are 1 reactions remaining: {'rxn05645'}\n",
      "Saved 1 reactions from media\n",
      "Testing reactions from ec_numbers_brief\n",
      "Successfully limited the reactions by compound and reduced from 145 to 83\n",
      "At the beginning the base list has 2841 and the optional list has 83 reactions\n",
      "Iteration: 1 Try: 0 Length: 42 and 41 Growth: False and False\n",
      "Iteration: 1 Try: 0 Length: 33 and 50 Growth: False and False\n",
      "Iteration: 1 Try: 0 Length: 16 and 67 Growth: False and False\n",
      "Iteration: 1 Try: 0 Length: 8 and 75 Growth: False and True\n",
      "Iteration: 2 Try: 0 Length: 38 and 37 Growth: False and False\n",
      "Iteration: 2 Try: 0 Length: 30 and 45 Growth: False and False\n",
      "Iteration: 2 Try: 0 Length: 15 and 60 Growth: False and False\n",
      "Iteration: 2 Try: 0 Length: 7 and 68 Growth: False and False\n",
      "Iteration: 2 Try: 0 Length: 3 and 72 Growth: False and False\n",
      "Iteration: 2 Try: 0 Length: 1 and 74 Growth: False and False\n",
      "Iteration: 3 Try: 1 Length: 38 and 37 Growth: False and False\n",
      "Iteration: 3 Try: 1 Length: 30 and 45 Growth: False and False\n",
      "Iteration: 3 Try: 1 Length: 15 and 60 Growth: False and True\n",
      "Iteration: 4 Try: 0 Length: 30 and 30 Growth: False and False\n",
      "Iteration: 4 Try: 0 Length: 24 and 36 Growth: False and False\n",
      "Iteration: 4 Try: 0 Length: 12 and 48 Growth: False and False\n",
      "Iteration: 4 Try: 0 Length: 6 and 54 Growth: False and True\n",
      "Iteration: 5 Try: 0 Length: 27 and 27 Growth: False and False\n",
      "Iteration: 5 Try: 0 Length: 21 and 33 Growth: False and False\n",
      "Iteration: 5 Try: 0 Length: 10 and 44 Growth: False and False\n",
      "Iteration: 5 Try: 0 Length: 5 and 49 Growth: False and False\n",
      "Iteration: 5 Try: 0 Length: 2 and 52 Growth: False and True\n",
      "Iteration: 6 Try: 0 Length: 26 and 26 Growth: False and False\n",
      "Iteration: 6 Try: 0 Length: 20 and 32 Growth: False and False\n",
      "Iteration: 6 Try: 0 Length: 10 and 42 Growth: False and False\n",
      "Iteration: 6 Try: 0 Length: 5 and 47 Growth: False and False\n",
      "Iteration: 6 Try: 0 Length: 2 and 50 Growth: False and False\n",
      "Iteration: 6 Try: 0 Length: 1 and 51 Growth: False and False\n",
      "Iteration: 7 Try: 1 Length: 26 and 26 Growth: False and False\n",
      "Iteration: 7 Try: 1 Length: 20 and 32 Growth: False and False\n",
      "Iteration: 7 Try: 1 Length: 10 and 42 Growth: False and False\n",
      "Iteration: 7 Try: 1 Length: 5 and 47 Growth: False and False\n",
      "Iteration: 7 Try: 1 Length: 2 and 50 Growth: False and False\n",
      "Iteration: 7 Try: 1 Length: 1 and 51 Growth: False and False\n",
      "Iteration: 8 Try: 2 Length: 26 and 26 Growth: False and False\n",
      "Iteration: 8 Try: 2 Length: 20 and 32 Growth: False and False\n",
      "Iteration: 8 Try: 2 Length: 10 and 42 Growth: False and False\n",
      "Iteration: 8 Try: 2 Length: 5 and 47 Growth: False and False\n",
      "Iteration: 8 Try: 2 Length: 2 and 50 Growth: False and True\n",
      "Iteration: 9 Try: 0 Length: 25 and 25 Growth: False and False\n",
      "Iteration: 9 Try: 0 Length: 20 and 30 Growth: False and False\n",
      "Iteration: 9 Try: 0 Length: 10 and 40 Growth: False and False\n",
      "Iteration: 9 Try: 0 Length: 5 and 45 Growth: False and False\n",
      "Iteration: 9 Try: 0 Length: 2 and 48 Growth: False and False\n",
      "Iteration: 9 Try: 0 Length: 1 and 49 Growth: False and False\n",
      "Iteration: 10 Try: 1 Length: 25 and 25 Growth: False and False\n",
      "Iteration: 10 Try: 1 Length: 20 and 30 Growth: False and False\n",
      "Iteration: 10 Try: 1 Length: 10 and 40 Growth: False and False\n",
      "Iteration: 10 Try: 1 Length: 5 and 45 Growth: False and True\n",
      "Iteration: 11 Try: 0 Length: 23 and 22 Growth: False and False\n",
      "Iteration: 11 Try: 0 Length: 18 and 27 Growth: False and False\n",
      "Iteration: 11 Try: 0 Length: 9 and 36 Growth: False and False\n",
      "Iteration: 11 Try: 0 Length: 4 and 41 Growth: False and False\n",
      "Iteration: 11 Try: 0 Length: 2 and 43 Growth: False and True\n",
      "Iteration: 12 Try: 0 Length: 22 and 21 Growth: False and False\n",
      "Iteration: 12 Try: 0 Length: 17 and 26 Growth: False and False\n",
      "Iteration: 12 Try: 0 Length: 8 and 35 Growth: False and False\n",
      "Iteration: 12 Try: 0 Length: 4 and 39 Growth: False and False\n",
      "Iteration: 12 Try: 0 Length: 2 and 41 Growth: False and False\n",
      "Iteration: 12 Try: 0 Length: 1 and 42 Growth: False and False\n",
      "Iteration: 13 Try: 1 Length: 22 and 21 Growth: False and True\n",
      "Iteration: 14 Try: 0 Length: 11 and 10 Growth: True and NOT TESTED\n",
      "Iteration: 15 Try: 0 Length: 6 and 5 Growth: False and False\n",
      "Single reaction iteration 1 of 11: Attempting without rxn40037: (1) Pyruvate[c] + (1) L-Aspartate4-semialdehyde[c] <=> (1) H2O[c] + (1) H+[c] + (1) (2S,4S)-4-Hydroxy-2,3,4,5-tetrahydrodipicolinate[c]\n",
      "Result: REQUIRED\n",
      "Single reaction iteration 2 of 11: Attempting without rxn42709: (1) NADPH[c] + (1) S-Adenosyl-L-methionine[c] + (1) L-Tyrosine[c] <=> (1) NADP[c] + (1) L-Methionine[c] + (1) p-Cresol[c] + (1) 5'-Deoxyadenosine[c] + (1) Iminoglycine[c]\n",
      "Result: NOT REQUIRED\n",
      "Single reaction iteration 3 of 11: Attempting without rxn47793: (1) CTP[c] + (1) KDO[c] <=> (1) PPi[c]\n",
      "Result: REQUIRED\n",
      "Single reaction iteration 4 of 11: Attempting without rxn20661: (1) Glycerone-phosphate[c] + (1) Iminoaspartate[c] <=> (2) H2O[c] + (1) Phosphate[c] + (1) H+[c] + (1) Quinolinate[c]\n",
      "Result: REQUIRED\n",
      "Single reaction iteration 5 of 11: Attempting without rxn44123: (1) H2O[c] + (1) tetrahydrodipicolinate[c] + (1) NAD-P-OR-NOP[c] <=> (1) H+[c] + (1) (2S,4S)-4-Hydroxy-2,3,4,5-tetrahydrodipicolinate[c] + (1) NADH-P-OR-NOP[c]\n",
      "Result: NOT REQUIRED\n",
      "Single reaction iteration 6 of 11: Attempting without rxn16894: (1) D-Lactate[c] + (2) Oxidized-cytochromes-c553[c] <=> (1) Pyruvate[c] + (2) H+[c] + (2) Reduced-cytochromes-c553[c]\n",
      "Result: NOT REQUIRED\n",
      "Single reaction iteration 7 of 11: Attempting without rxn45881: (1) D-Galactonate[c] <=> (1) H2O[c]\n",
      "Result: NOT REQUIRED\n",
      "Single reaction iteration 8 of 11: Attempting without rxn04386: (1) ATP[c] + (1) L-Threonine[c] <=> (1) ADP[c] + (1) H+[c] + (1) L-Threonine phosphate[c]\n",
      "Result: NOT REQUIRED\n",
      "Single reaction iteration 9 of 11: Attempting without rxn05864: (1) S-Adenosyl-L-methionine[c] + (1) tRNA[c] <=> (1) S-Adenosyl-homocysteine[c] + (1) tRNA containing N1-methylguanine[c]\n",
      "Result: NOT REQUIRED\n",
      "Single reaction iteration 10 of 11: Attempting without rxn01308: (1) L-Xylulose 1-phosphate[c] <=> (1) Glycerone-phosphate[c] + (1) Glycolaldehyde[c]\n",
      "Result: NOT REQUIRED\n",
      "Single reaction iteration 11 of 11: Attempting without rxn39451: (1) H2O[c] + (1) NAD[c] + (1) tetrahydrodipicolinate[c] <=> (1) NADH[c] + (1) H+[c] + (1) (2S,4S)-4-Hydroxy-2,3,4,5-tetrahydrodipicolinate[c]\n",
      "Result: REQUIRED\n",
      "There are 4 reactions remaining: {'rxn47793', 'rxn39451', 'rxn20661', 'rxn40037'}\n",
      "Saved 4 reactions from ec_numbers_brief\n",
      "Testing reactions from linked_reactions\n",
      "Successfully limited the reactions by compound and reduced from 1443 to 1417\n",
      "At the beginning the base list has 1402 and the optional list has 1417 reactions\n",
      "Iteration: 1 Try: 0 Length: 709 and 708 Growth: True and NOT TESTED\n",
      "Iteration: 2 Try: 0 Length: 355 and 354 Growth: False and True\n",
      "Iteration: 3 Try: 0 Length: 177 and 177 Growth: False and True\n",
      "Iteration: 4 Try: 0 Length: 89 and 88 Growth: True and NOT TESTED\n",
      "Iteration: 5 Try: 0 Length: 45 and 44 Growth: False and True\n",
      "Iteration: 6 Try: 0 Length: 22 and 22 Growth: True and NOT TESTED\n",
      "Iteration: 7 Try: 0 Length: 11 and 11 Growth: True and NOT TESTED\n",
      "Iteration: 8 Try: 0 Length: 6 and 5 Growth: True and NOT TESTED\n"
     ]
    },
    {
     "name": "stderr",
     "output_type": "stream",
     "text": [
      "Iteration: 9 Try: 0 Length: 3 and 3 Growth: False and True\n",
      "Iteration: 10 Try: 0 Length: 2 and 1 Growth: True and NOT TESTED\n",
      "Iteration: 11 Try: 0 Length: 1 and 0 Growth: True and NOT TESTED\n",
      "There are 1 reactions remaining: {'rxn32076'}\n",
      "Saved 1 reactions from linked_reactions\n",
      "Testing reactions from essential\n",
      "Successfully limited the reactions by compound and reduced from 109 to 38\n",
      "At the beginning the base list has 1355 and the optional list has 38 reactions\n",
      "Iteration: 1 Try: 0 Length: 19 and 19 Growth: False and False\n",
      "Iteration: 1 Try: 0 Length: 15 and 23 Growth: False and False\n",
      "Iteration: 1 Try: 0 Length: 7 and 31 Growth: False and False\n",
      "Iteration: 1 Try: 0 Length: 3 and 35 Growth: False and True\n",
      "Iteration: 2 Try: 0 Length: 18 and 17 Growth: False and False\n",
      "Iteration: 2 Try: 0 Length: 14 and 21 Growth: False and False\n",
      "Iteration: 2 Try: 0 Length: 7 and 28 Growth: False and False\n",
      "Iteration: 2 Try: 0 Length: 3 and 32 Growth: False and False\n",
      "Iteration: 2 Try: 0 Length: 1 and 34 Growth: False and False\n",
      "Iteration: 3 Try: 1 Length: 18 and 17 Growth: False and False\n",
      "Iteration: 3 Try: 1 Length: 14 and 21 Growth: False and False\n",
      "Iteration: 3 Try: 1 Length: 7 and 28 Growth: False and True\n",
      "Iteration: 4 Try: 0 Length: 14 and 14 Growth: False and False\n",
      "Iteration: 4 Try: 0 Length: 11 and 17 Growth: False and False\n",
      "Iteration: 4 Try: 0 Length: 5 and 23 Growth: False and True\n",
      "Iteration: 5 Try: 0 Length: 12 and 11 Growth: False and False\n",
      "Iteration: 5 Try: 0 Length: 9 and 14 Growth: False and False\n",
      "Iteration: 5 Try: 0 Length: 4 and 19 Growth: False and False\n",
      "Iteration: 5 Try: 0 Length: 2 and 21 Growth: False and False\n",
      "Iteration: 5 Try: 0 Length: 1 and 22 Growth: False and False\n",
      "Iteration: 6 Try: 1 Length: 12 and 11 Growth: False and False\n",
      "Iteration: 6 Try: 1 Length: 9 and 14 Growth: False and False\n",
      "Iteration: 6 Try: 1 Length: 4 and 19 Growth: False and False\n",
      "Iteration: 6 Try: 1 Length: 2 and 21 Growth: False and True\n",
      "Iteration: 7 Try: 0 Length: 11 and 10 Growth: False and False\n",
      "Iteration: 7 Try: 0 Length: 8 and 13 Growth: False and False\n",
      "Iteration: 7 Try: 0 Length: 4 and 17 Growth: False and False\n",
      "Iteration: 7 Try: 0 Length: 2 and 19 Growth: False and False\n",
      "Iteration: 7 Try: 0 Length: 1 and 20 Growth: False and False\n",
      "Iteration: 8 Try: 1 Length: 11 and 10 Growth: False and False\n",
      "Iteration: 8 Try: 1 Length: 8 and 13 Growth: False and False\n",
      "Iteration: 8 Try: 1 Length: 4 and 17 Growth: False and True\n",
      "Iteration: 9 Try: 0 Length: 9 and 8 Growth: False and False\n",
      "Single reaction iteration 1 of 17: Attempting without rxn05359: (1) Malonyl-acyl-carrierprotein-[c] + (1) 2-methylbutyryl-ACP[c] <=> (1) CO2[c] + (1) ACP[c] + (1) 4-methyl-3-oxo-hexanoyl-ACP[c]\n",
      "Result: NOT REQUIRED\n",
      "Single reaction iteration 2 of 17: Attempting without rxn05404: (1) Malonyl-acyl-carrierprotein-[c] + (1) 13-methyl-tetra-decanoyl-ACP[c] <=> (1) CO2[c] + (1) ACP[c] + (1) 15-methyl-3-oxo-hexa-decanoyl-ACP[c]\n",
      "Result: NOT REQUIRED\n",
      "Single reaction iteration 3 of 17: Attempting without rxn05369: (1) 8-methyl-3-hydroxy-decanoyl-ACP[c] <=> (1) H2O[c] + (1) 8-methyl-trans-dec-2-enoyl-ACP[c]\n",
      "Result: NOT REQUIRED\n",
      "Single reaction iteration 4 of 17: Attempting without rxn03538: (1) alpha-Ribazole[c] + (1) Adenosylcobinamide-GDP[c] <=> (1) H+[c] + (1) GMP[c] + (1) Calomide[c]\n",
      "Result: NOT REQUIRED\n",
      "Single reaction iteration 5 of 17: Attempting without rxn00851: (1) ATP[c] + (2) D-Alanine[c] <=> (1) ADP[c] + (1) Phosphate[c] + (1) H+[c] + (1) Ala-Ala[c]\n",
      "Result: REQUIRED\n",
      "Single reaction iteration 6 of 17: Attempting without rxn05392: (1) Malonyl-acyl-carrierprotein-[c] + (1) 7-methyl-octanoyl-ACP[c] <=> (1) CO2[c] + (1) ACP[c] + (1) 9-methyl-3-oxo-decanoyl-ACP[c]\n",
      "Result: NOT REQUIRED\n",
      "Single reaction iteration 7 of 17: Attempting without rxn02666: (1) CO2[c] + (1) Aminoacetone[c] <=> (1) H+[c] + (1) L-2-Amino-acetoacetate[c]\n",
      "Result: NOT REQUIRED\n",
      "Single reaction iteration 8 of 17: Attempting without rxn05400: (1) Malonyl-acyl-carrierprotein-[c] + (1) 11-methyl-dodecanoyl-ACP[c] <=> (1) CO2[c] + (1) ACP[c] + (1) 13-methyl-3-oxo-tetra-decanoyl-ACP[c]\n",
      "Result: NOT REQUIRED\n",
      "Single reaction iteration 9 of 17: Attempting without rxn05371: (1) Malonyl-acyl-carrierprotein-[c] + (1) 8-methyl-decanoyl-ACP[c] <=> (1) CO2[c] + (1) ACP[c] + (1) 10-methyl-3-oxo-dodecanoyl-ACP[c]\n",
      "Result: NOT REQUIRED\n",
      "Single reaction iteration 10 of 17: Attempting without rxn05396: (1) Malonyl-acyl-carrierprotein-[c] + (1) 9-methyl-decanoyl-ACP[c] <=> (1) CO2[c] + (1) ACP[c] + (1) 11-methyl-3-oxo-dodecanoyl-ACP[c]\n",
      "Result: NOT REQUIRED\n",
      "Single reaction iteration 11 of 17: Attempting without rxn05195: (1) H2O[c] + (1) ATP[c] + (1) Fe3+[e] <=> (1) ADP[c] + (1) Phosphate[c] + (1) H+[c] + (1) Fe3+[c]\n",
      "Result: NOT REQUIRED\n",
      "Single reaction iteration 12 of 17: Attempting without rxn05373: (1) 10-methyl-3-hydroxy-dodecanoyl-ACP[c] <=> (1) H2O[c] + (1) 10-methyl-trans-dodec-2-enoyl-ACP[c]\n",
      "Result: NOT REQUIRED\n",
      "Single reaction iteration 13 of 17: Attempting without rxn03164: (1) ATP[c] + (1) Ala-Ala[c] + (1) UDP-N-acetylmuramoyl-L-alanyl-D-gamma-glutamyl-meso-2-6-diaminopimelate[c] <=> (1) ADP[c] + (1) Phosphate[c] + (1) H+[c] + (1) UDP-N-acetylmuramoyl-L-alanyl-D-glutamyl-6-carboxy-L-lysyl-D-alanyl- D-alanine[c]\n",
      "Result: REQUIRED\n",
      "Single reaction iteration 14 of 17: Attempting without rxn05468: (1) O2[e] <=> (1) O2[c]\n",
      "Result: REQUIRED\n",
      "Single reaction iteration 15 of 17: Attempting without rxn02285: (1) NADP[c] + (1) UDP-MurNAc[c] <=> (1) NADPH[c] + (1) H+[c] + (1) UDP-N-acetylglucosamine enolpyruvate[c]\n",
      "Result: REQUIRED\n",
      "Single reaction iteration 16 of 17: Attempting without rxn05361: (1) 4-methyl-3-hydroxy-hexanoyl-ACP[c] <=> (1) H2O[c] + (1) 4-methyl-trans-hex-2-enoyl-ACP[c]\n",
      "Result: NOT REQUIRED\n",
      "Single reaction iteration 17 of 17: Attempting without rxn05365: (1) 6-methyl-3-hydroxy-octanoyl-ACP[c] <=> (1) H2O[c] + (1) 6-methyl-trans-oct-2-enoyl-ACP[c]\n",
      "Result: NOT REQUIRED\n",
      "There are 4 reactions remaining: {'rxn00851', 'rxn02285', 'rxn03164', 'rxn05468'}\n",
      "Saved 4 reactions from essential\n"
     ]
    }
   ],
   "source": [
    "reqd_additional = set()\n",
    "print(f\"Before we begin, our original reactions were {len(original_reactions_to_run)}\")\n",
    "# Begin loop through all gap-filled reactions\n",
    "while added_reactions:\n",
    "    ori = copy.copy(original_reactions_to_run)\n",
    "    ori.update(reqd_additional)\n",
    "    # Test next set of gap-filled reactions\n",
    "    # Each set is based on a method described above\n",
    "    how, new = added_reactions.pop()\n",
    "    sys.stderr.write(f\"Testing reactions from {how}\\n\")\n",
    "    \n",
    "    # Get all the other gap-filled reactions we need to add\n",
    "    for tple in added_reactions:\n",
    "        ori.update(tple[1])\n",
    "    \n",
    "    # Use minimization function to determine the minimal\n",
    "    # set of gap-filled reactions from the current method\n",
    "    new_essential = PyFBA.gapfill.minimize_additional_reactions(ori, new, modeldata, media,\n",
    "                                                                biomass_equation, verbose=True)\n",
    "    sys.stderr.write(f\"Saved {len(new_essential)} reactions from {how}\\n\")\n",
    "    # Record the method used to determine\n",
    "    # how the reaction was gap-filled\n",
    "    for new_r in new_essential:\n",
    "        modeldata.reactions[new_r].is_gapfilled = True\n",
    "        modeldata.reactions[new_r].gapfill_method = how\n",
    "    reqd_additional.update(new_essential)\n",
    "\n",
    "# Combine old and new reactions\n",
    "all_reactions = original_reactions_to_run.union(reqd_additional)"
   ]
  },
  {
   "cell_type": "code",
   "execution_count": 41,
   "metadata": {},
   "outputs": [],
   "source": [
    "with open('gapfilled_reactions.txt', 'w') as out:\n",
    "    for a in all_reactions:\n",
    "        out.write(f\"{a}\\n\")"
   ]
  },
  {
   "cell_type": "code",
   "execution_count": 42,
   "metadata": {
    "scrolled": true
   },
   "outputs": [
    {
     "name": "stdout",
     "output_type": "stream",
     "text": [
      "After completing reaction trimming, we have 1359 reactions\n",
      "The biomass reaction has a flux of 290.97497947966707 --> Growth: True\n"
     ]
    }
   ],
   "source": [
    "print(f\"After completing reaction trimming, we have {len(all_reactions)} reactions\")\n",
    "status, value, growth = PyFBA.fba.run_fba(modeldata, all_reactions, media, biomass_equation)\n",
    "print(f\"The biomass reaction has a flux of {value} --> Growth: {growth}\")"
   ]
  },
  {
   "cell_type": "markdown",
   "metadata": {},
   "source": [
    "## Other gap-filling techniques\n",
    "\n",
    "Besides those methods we have described above, listed here are other methods that can be used to gap-fill your model. This list will continue to grow over time as we create new techniques to identify reactions and compounds that should be added to your model."
   ]
  },
  {
   "cell_type": "markdown",
   "metadata": {
    "collapsed": true
   },
   "source": [
    "### Probable reactions\n",
    "Probable reactions are those reactions whose probability is based on whether there is a protein associated with the reaction and if the reaction's compounds are currently present in the model. Above a certain probability threshold, those reactions will be added to the model."
   ]
  },
  {
   "cell_type": "code",
   "execution_count": null,
   "metadata": {},
   "outputs": [],
   "source": [
    "probable_reactions = PyFBA.gapfill.compound_probability(reactions, reactions_to_run,\n",
    "                                                        cutoff=0, rxn_with_proteins=True)"
   ]
  }
 ],
 "metadata": {
  "kernelspec": {
   "display_name": "PyFBA_venv",
   "language": "python",
   "name": "pyfba_venv"
  },
  "language_info": {
   "codemirror_mode": {
    "name": "ipython",
    "version": 3
   },
   "file_extension": ".py",
   "mimetype": "text/x-python",
   "name": "python",
   "nbconvert_exporter": "python",
   "pygments_lexer": "ipython3",
   "version": "3.9.1"
  }
 },
 "nbformat": 4,
 "nbformat_minor": 1
}
