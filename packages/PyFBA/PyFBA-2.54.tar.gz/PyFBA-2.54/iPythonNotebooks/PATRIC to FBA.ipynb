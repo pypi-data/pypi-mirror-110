{
 "cells": [
  {
   "cell_type": "markdown",
   "metadata": {},
   "source": [
    "# How to create and run a gap-filled FBA from PATRIC\n",
    "\n",
    "The PATRIC (the Pathosystems Resource Integration Center) contains the best collection of well annotated genomes. They also happen to have been annotated by RAST, and so we should be able to use those integrations directly.\n",
    "\n",
    "Here we'll walk through taking a genome from PATRIC, building a model, and running it. PATRIC also has model reconstruction built in, but when I tried it (05/24/16) it was not working.\n",
    "\n",
    "As usual, we'll start by loading some modules that we'll need for our analysis."
   ]
  },
  {
   "cell_type": "code",
   "execution_count": 38,
   "metadata": {},
   "outputs": [],
   "source": [
    "import sys\n",
    "import os\n",
    "import copy\n",
    "import PyFBA\n",
    "import re"
   ]
  },
  {
   "cell_type": "code",
   "execution_count": 2,
   "metadata": {},
   "outputs": [
    {
     "data": {
      "text/plain": [
       "'/home/redwards/.local/lib/python3.8/site-packages/PyFBA-2.1-py3.8.egg/PyFBA/__init__.py'"
      ]
     },
     "execution_count": 2,
     "metadata": {},
     "output_type": "execute_result"
    }
   ],
   "source": [
    "import inspect\n",
    "inspect.getfile(PyFBA)"
   ]
  },
  {
   "cell_type": "markdown",
   "metadata": {},
   "source": [
    "# Find a genome and download the annotations\n",
    "\n",
    "You need to find your genome in PATRIC and download the annotations.\n",
    "\n",
    "Once you have identified the genome you would like to build the model for, choose _Feature Table_ from the menu bar:\n",
    "<img src=\"img/patric_ft.png\">\n",
    "\n",
    "Next, choose _Download_ and save as a _text file (.txt)_. \n",
    "\n",
    "<img src=\"img/patric_dl.png\">\n",
    "\n",
    "That will save a file called _FeatureTable.txt_ to your Downloads location. That file has the following columns:\n",
    "\n",
    "\n",
    "| Genome | Genome ID | Accession | PATRIC ID | RefSeq Locus Tag | Alt Locus Tag | Feature ID | \n",
    "| Annotation | Feature Type | Start | End | Length | Strand | FIGfam ID |\n",
    "| PATRIC genus-specific families (PLfams) | PATRIC cross-genus families (PGfams) | Protein ID | AA Length | Gene Symbol | Product | GO\n",
    "\n",
    "\n",
    "\n",
    "The key columns are PATRIC ID (Column 3) and Product (Column 19) [Column numbers are 0 based!]\n",
    "\n",
    "\n",
    "\n",
    "Now that we know that, we need to convert these feature names into functional roles. The key here is to split on adjoiners, such as ' / ', ' # ', and ' @ '.\n",
    "\n",
    "\n"
   ]
  },
  {
   "cell_type": "code",
   "execution_count": 3,
   "metadata": {},
   "outputs": [
    {
     "name": "stdout",
     "output_type": "stream",
     "text": [
      "There are 3509 unique roles in this genome\n"
     ]
    }
   ],
   "source": [
    "assigned_functions = {}\n",
    "with open(os.path.join('workspace/Citrobacter_sedlakii_genome_features.txt'), 'r') as f:\n",
    "    for l in f:\n",
    "        p=l.strip().split(\"\\t\")\n",
    "        assigned_functions[p[3]]=PyFBA.parse.roles_of_function(p[19])\n",
    "roles = set([i[0] for i in [list(j) for j in assigned_functions.values()]])\n",
    "print(\"There are {} unique roles in this genome\".format(len(roles)))"
   ]
  },
  {
   "cell_type": "markdown",
   "metadata": {},
   "source": [
    "Next, we convert those roles to reactions. We start with a dict of roles and reactions, but we only need a list of unique reactions, so we convert the keys to a set."
   ]
  },
  {
   "cell_type": "code",
   "execution_count": 4,
   "metadata": {},
   "outputs": [],
   "source": [
    "roles_to_reactions = PyFBA.filters.roles_to_reactions(roles, organism_type=\"Gram_Negative\", verbose=False)"
   ]
  },
  {
   "cell_type": "markdown",
   "metadata": {},
   "source": [
    "If you toggle `verbose=True`, you will see that there are a lot of roles that we skip, even though we have an EC number for them: for whatever reason, the annotation is not quite right. We can check for those too, because our model seed parsed data has EC numbers with reactions."
   ]
  },
  {
   "cell_type": "code",
   "execution_count": 5,
   "metadata": {},
   "outputs": [],
   "source": [
    "# ecr2r = PyFBA.filters.roles_to_ec_reactions(roles, organism_type=\"Gram_Negative\", verbose=False)\n",
    "ecr2r = set()"
   ]
  },
  {
   "cell_type": "markdown",
   "metadata": {},
   "source": [
    "We combine `roles_to_reactions` and `ecr2r` and figure out what the unique set of reactions is for our genome."
   ]
  },
  {
   "cell_type": "code",
   "execution_count": 6,
   "metadata": {},
   "outputs": [
    {
     "name": "stdout",
     "output_type": "stream",
     "text": [
      "There are 1065 unique reactions associated with this genome\n"
     ]
    }
   ],
   "source": [
    "roles_to_reactions.update(ecr2r)\n",
    "reactions_to_run = set()\n",
    "for role in roles_to_reactions:\n",
    "    reactions_to_run.update(roles_to_reactions[role])\n",
    "print(\"There are {}\".format(len(reactions_to_run)) +\n",
    "      \" unique reactions associated with this genome\".format(len(reactions_to_run)))"
   ]
  },
  {
   "cell_type": "markdown",
   "metadata": {},
   "source": [
    "### Read all the reactions and compounds in our database\n",
    "\n",
    "We read all the reactions, compounds, and enzymes in the [ModelSEEDDatabase](https://github.com/ModelSEED/ModelSEEDDatabase) into three data structures. Note, the first time you call this it is a bit slow as it has to parse the files, but if we've parsed them once, we don't need to do it again!\n",
    "\n",
    "We modify the reactions specifically for Gram negative models (there are also options for Gram positive models, Mycobacterial models, general microbial models, and plant models)."
   ]
  },
  {
   "cell_type": "code",
   "execution_count": 7,
   "metadata": {},
   "outputs": [
    {
     "name": "stdout",
     "output_type": "stream",
     "text": [
      "There are 33,992 compounds, 43,774 reactions, and 9,423 enzymes in total\n"
     ]
    }
   ],
   "source": [
    "compounds, reactions, enzymes = \\\n",
    "    PyFBA.parse.model_seed.compounds_reactions_enzymes('gramnegative')\n",
    "print(f\"There are {len(compounds):,} compounds, {len(reactions):,} reactions, and {len(enzymes):,} enzymes in total\")"
   ]
  },
  {
   "cell_type": "code",
   "execution_count": 8,
   "metadata": {},
   "outputs": [],
   "source": [
    "for r in reactions:\n",
    "    for c in reactions[r].all_compounds():\n",
    "        if c.uptake_secretion:\n",
    "            print(f\"US: {c}\")"
   ]
  },
  {
   "cell_type": "markdown",
   "metadata": {},
   "source": [
    "#### Update reactions to run, making sure that all reactions are in the list!\n",
    "\n",
    "There are some reactions that come from functional roles that do not appear in the reactions list. We're working on tracking these down, but for now we just check that all reaction IDs in *reactions_to_run* are in *reactions*, too."
   ]
  },
  {
   "cell_type": "code",
   "execution_count": 9,
   "metadata": {},
   "outputs": [],
   "source": [
    "tempset = set()\n",
    "for r in reactions_to_run:\n",
    "    if r in reactions:\n",
    "        tempset.add(r)\n",
    "    else:\n",
    "        sys.stderr.write(\"Reaction ID {} is not in our reactions list. Skipped\\n\".format(r))\n",
    "reactions_to_run = tempset"
   ]
  },
  {
   "cell_type": "markdown",
   "metadata": {},
   "source": [
    "### Test whether these reactions grow on ArgonneLB media\n",
    "\n",
    "We can test whether this set of reactions grows on ArgonneLB media. The media is the same one we used above, and you can download the [ArgonneLB.txt](https://raw.githubusercontent.com/linsalrob/PyFBA/master/media/ArgonneLB.txt) and text file and put it in the same directory as this iPython notebook to run it.\n",
    "\n",
    "(Note: we don't need to convert the media components, because the media and compounds come from the same source.)"
   ]
  },
  {
   "cell_type": "code",
   "execution_count": 10,
   "metadata": {},
   "outputs": [
    {
     "name": "stdout",
     "output_type": "stream",
     "text": [
      "Our media has 65 components\n"
     ]
    }
   ],
   "source": [
    "media = PyFBA.parse.read_media_file(\"/home/redwards/test_media/ArgonneLB.txt\")\n",
    "print(\"Our media has {} components\".format(len(media)))"
   ]
  },
  {
   "cell_type": "markdown",
   "metadata": {},
   "source": [
    "### Define a biomass equation\n",
    "\n",
    "The biomass equation is the part that says whether the model will grow! This is a [metabolism.reaction.Reaction](https://github.com/linsalrob/PyFBA/blob/master/PyFBA/metabolism/reaction.py) object."
   ]
  },
  {
   "cell_type": "code",
   "execution_count": 11,
   "metadata": {},
   "outputs": [],
   "source": [
    "biomass_equation = PyFBA.metabolism.biomass_equation()"
   ]
  },
  {
   "cell_type": "code",
   "execution_count": 12,
   "metadata": {},
   "outputs": [
    {
     "data": {
      "text/plain": [
       "'(40.11) ATP + (0.008) CO2 + (0.084) CTP + (0.008) CoA + (0.135) GTP + (0.511) Glycine + (0.429) L-Alanine + (0.247) L-Arginine + (0.201) L-Asparagine + (0.201) L-Aspartate + (0.076) L-Cysteine + (0.219) L-Glutamate + (0.219) L-Glutamine + (0.079) L-Histidine + (0.242) L-Isoleucine + (0.376) L-Leucine + (0.286) L-Lysine + (0.128) L-Methionine + (0.155) L-Phenylalanine + (0.185) L-Proline + (0.18) L-Serine + (0.211) L-Threonine + (0.047) L-Tryptophan + (0.115) L-Tyrosine + (0.353) L-Valine + (0.008) NAD + (0.008) NADP + (0.008) S-Adenosyl-L-methionine + (0.015) TTP + (0.091) UTP + (0.015) dATP + (0.015) dCTP + (0.015) dGTP > (40.0) ADP + (1.0) Biomass + (40.0) H + (0.406) PPi  + (39.992) Phosphate + (0.008) apo-ACP'"
      ]
     },
     "execution_count": 12,
     "metadata": {},
     "output_type": "execute_result"
    }
   ],
   "source": [
    "biomass_equation.equation"
   ]
  },
  {
   "cell_type": "code",
   "execution_count": 13,
   "metadata": {},
   "outputs": [],
   "source": [
    "with open('rbad.txt', 'w') as out:\n",
    "    for r in reactions_to_run:\n",
    "        out.write(f\"{r}\\n\")"
   ]
  },
  {
   "cell_type": "markdown",
   "metadata": {},
   "source": [
    "### Run the FBA\n",
    "\n",
    "With the reactions, compounds, reactions_to_run, media, and biomass model, we can test whether the model grows on this media."
   ]
  },
  {
   "cell_type": "code",
   "execution_count": 14,
   "metadata": {},
   "outputs": [
    {
     "name": "stdout",
     "output_type": "stream",
     "text": [
      "Before running FBA there are 43774 reactions\n",
      "After running FBA there are 43939 reactions\n",
      "Initial run has a biomass flux value of 0.0 --> Growth: False\n"
     ]
    }
   ],
   "source": [
    "print(f\"Before running FBA there are {len(reactions)} reactions\")\n",
    "status, value, growth = PyFBA.fba.run_fba(compounds, reactions, reactions_to_run,\n",
    "                                          media, biomass_equation)\n",
    "print(f\"After running FBA there are {len(reactions)} reactions\")\n",
    "print(\"Initial run has a biomass flux value of {} --> Growth: {}\".format(value, growth))"
   ]
  },
  {
   "cell_type": "code",
   "execution_count": 15,
   "metadata": {},
   "outputs": [
    {
     "name": "stdout",
     "output_type": "stream",
     "text": [
      "There are 1065 reactions to run\n"
     ]
    }
   ],
   "source": [
    "print(f\"There are {len(reactions_to_run)} reactions to run\")"
   ]
  },
  {
   "cell_type": "code",
   "execution_count": 16,
   "metadata": {},
   "outputs": [
    {
     "name": "stdout",
     "output_type": "stream",
     "text": [
      "There are 0 uptake secretion reactions in reactions_to_run\n",
      "There are 165 uptake secretion reactions in reactions\n"
     ]
    }
   ],
   "source": [
    "upsr = 0\n",
    "for r in reactions_to_run:\n",
    "    if r.startswith('upsr'):\n",
    "        upsr += 1\n",
    "print(f\"There are {upsr} uptake secretion reactions in reactions_to_run\")\n",
    "upsr = 0\n",
    "for r in reactions:\n",
    "    if r.startswith('upsr'):\n",
    "        upsr += 1\n",
    "print(f\"There are {upsr} uptake secretion reactions in reactions\")"
   ]
  },
  {
   "cell_type": "markdown",
   "metadata": {},
   "source": [
    "# Will gap filling work?\n",
    "\n",
    "These are the reactions from the C. sedlakii SBML file, and so if we add these, we should get growth!"
   ]
  },
  {
   "cell_type": "code",
   "execution_count": 17,
   "metadata": {},
   "outputs": [],
   "source": [
    "sbml_addnl = {'rxn00868', 'rxn01923', 'rxn02268', 'rxn10215', 'rxn10219', 'rxn08089', 'rxn10212', 'rxn08083', 'rxn10214', 'rxn10211', 'rxn10218', 'rxn08086', 'rxn10217', 'rxn08087', 'rxn08088', 'rxn08085', 'rxn10216', 'rxn08084', 'rxn10213', 'rxn05572', 'rxn05565', 'rxn00541', 'rxn10155', 'rxn10157', 'rxn05536', 'rxn05544', 'rxn12848', 'rxn12851', 'rxn05539', 'rxn05541', 'rxn05537', 'rxn05543', 'rxn12849', 'rxn05533', 'rxn05540', 'rxn05534', 'rxn05547', 'rxn05546', 'rxn05542', 'rxn05535', 'rxn12850', 'rxn05545', 'rxn05538', 'rxn05168', 'rxn05179', 'rxn05161', 'rxn03061', 'rxn09313', 'rxn08354', 'rxn08356', 'rxn09315', 'rxn05549', 'rxn05160', 'rxn05644', 'rxn05330', 'rxn05335', 'rxn05334', 'rxn05329', 'rxn05333', 'rxn05332', 'rxn05331', 'rxn05415', 'rxn05381', 'rxn05386', 'rxn05427', 'rxn05431', 'rxn05373', 'rxn05377', 'rxn05398', 'rxn05419', 'rxn05402', 'rxn05369', 'rxn05361', 'rxn05394', 'rxn05406', 'rxn05365', 'rxn05390', 'rxn05423', 'rxn05462', 'rxn05411', 'rxn03492', 'rxn04050', 'rxn08258', 'rxn04713', 'rxn00990', 'rxn00875', 'rxn08471', 'rxn05737', 'rxn08467', 'rxn10067', 'rxn08468', 'rxn08469', 'rxn08470', 'rxn02160', 'rxn05422', 'rxn05372', 'rxn05341', 'rxn05376', 'rxn05342', 'rxn05337', 'rxn05385', 'rxn05397', 'rxn05340', 'rxn05461', 'rxn05368', 'rxn05418', 'rxn05393', 'rxn05336', 'rxn05426', 'rxn05364', 'rxn05430', 'rxn05410', 'rxn05339', 'rxn05401', 'rxn05338', 'rxn05360', 'rxn05414', 'rxn05405', 'rxn05389', 'rxn05380', 'rxn03164', 'rxn05229', 'rxn07586', 'rxn05054', 'rxn04384', 'rxn00503', 'rxn00183', 'rxn05187', 'rxn05515', 'rxn02056', 'rxn09134', 'rxn09125', 'rxn09157', 'rxn09128', 'rxn09142', 'rxn09161', 'rxn09147', 'rxn09164', 'rxn09152', 'rxn09124', 'rxn09131', 'rxn09133', 'rxn09138', 'rxn09143', 'rxn09153', 'rxn09160', 'rxn09158', 'rxn09148', 'rxn09144', 'rxn09150', 'rxn09130', 'rxn09149', 'rxn09163', 'rxn09159', 'rxn09132', 'rxn09127', 'rxn09140', 'rxn09145', 'rxn09137', 'rxn09154', 'rxn09151', 'rxn09146', 'rxn09123', 'rxn09139', 'rxn09126', 'rxn09141', 'rxn09135', 'rxn09136', 'rxn09155', 'rxn09162', 'rxn09129', 'rxn09156', 'rxn02949', 'rxn03241', 'rxn03245', 'rxn02911', 'rxn02167', 'rxn03250', 'rxn02934', 'rxn03240', 'rxn03247', 'rxn05316', 'rxn09687', 'rxn05198', 'rxn09688', 'rxn05199', 'rxn05200', 'rxn09685', 'rxn05318', 'rxn05205', 'rxn05621', 'rxn05656', 'rxn05585', 'rxn05172', 'rxn05594', 'rxn05552', 'rxn05599', 'rxn05512', 'rxn05620', 'rxn01277', 'rxn05518', 'rxn05145', 'rxn05460', 'rxn05396', 'rxn05363', 'rxn05359', 'rxn05367', 'rxn05417', 'rxn05421', 'rxn05392', 'rxn05413', 'rxn05349', 'rxn05388', 'rxn05429', 'rxn05371', 'rxn05400', 'rxn05425', 'rxn05409', 'rxn05404', 'rxn05375', 'rxn05379', 'rxn05384', 'rxn04139', 'rxn00640', 'rxn05507', 'rxn05506', 'rxn01893', 'rxn00671', 'rxn00501', 'rxn10340', 'rxn10334', 'rxn10337', 'rxn10338', 'rxn10341', 'rxn10335', 'rxn10342', 'rxn10339', 'rxn10336', 'rxn00160', 'rxn01285', 'rxn04143', 'rxn01847', 'rxn01103', 'rxn00227', 'rxn05175', 'rxn05163', 'rxn05958', 'rxn05683', 'rxn05484', 'rxn02933', 'rxn04750', 'rxn03244', 'rxn01451', 'rxn03239', 'rxn03246', 'rxn03242', 'rxn03249', 'rxn06777', 'rxn05500', 'rxn01637', 'rxn01122', 'rxn04602', 'rxn02416', 'rxn04601', 'rxn04928', 'rxn05596', 'rxn02775', 'rxn04046', 'rxn07589', 'rxn03491', 'rxn10117', 'rxn10119', 'rxn08333', 'rxn04673', 'rxn10308', 'rxn10311', 'rxn10315', 'rxn10309', 'rxn10307', 'rxn10312', 'rxn10310', 'rxn10314', 'rxn08040', 'rxn10313', 'rxn12147', 'rxn03931', 'rxn03916', 'rxn04674', 'rxn03397', 'rxn10094', 'rxn02286', 'rxn00555', 'rxn08709', 'rxn04052', 'rxn03512', 'rxn04045', 'rxn12224', 'rxn09188', 'rxn02359', 'rxn02008', 'rxn03643', 'rxn09177', 'rxn12512', 'rxn07587', 'rxn02507', 'rxn05202', 'rxn08291', 'rxn06865', 'rxn00303', 'rxn00222', 'rxn09978', 'rxn09979', 'rxn07588', 'rxn03919', 'rxn03435', 'rxn02187', 'rxn02186', 'rxn03436', 'rxn03068', 'rxn05317', 'rxn01219', 'rxn00364', 'rxn03514', 'rxn04048', 'rxn02792', 'rxn00350', 'rxn02791', 'rxn00171', 'rxn01000', 'rxn00675', 'rxn00175', 'rxn00986', 'rxn03932', 'rxn08712', 'rxn04113', 'rxn04996', 'rxn08756', 'rxn08352', 'rxn06023', 'rxn03136', 'rxn00800', 'rxn05165', 'rxn05181', 'rxn08194', 'rxn09180', 'rxn00670', 'rxn00173', 'rxn03644', 'rxn08619', 'rxn09289', 'rxn00776', 'rxn01360', 'rxn08335', 'rxn08336', 'rxn12500', 'rxn02287', 'rxn02774', 'rxn09167', 'rxn08708', 'rxn05156', 'rxn05151', 'rxn01629', 'rxn12146', 'rxn01123', 'rxn05147', 'rxn05173', 'rxn08707', 'rxn00927', 'rxn01299', 'rxn01226', 'rxn01545', 'rxn02476', 'rxn02011', 'rxn05201', 'rxn01895', 'rxn04604', 'rxn00830', 'rxn01403', 'rxn00179', 'rxn03991', 'rxn03990', 'rxn03975', 'rxn03974', 'rxn00818', 'rxn03838', 'rxn00817', 'rxn02596', 'rxn05555', 'rxn00056', 'rxn00212', 'rxn06979', 'rxn11544', 'rxn03918', 'rxn05559', 'rxn08345', 'rxn00509', 'rxn00006', 'rxn00834', 'rxn05293', 'rxn00634', 'rxn08618', 'rxn06848', 'rxn09997', 'rxn05938', 'rxn04783', 'rxn05206', 'rxn00102', 'rxn05937', 'rxn01644', 'rxn02938', 'rxn00792', 'rxn08711', 'rxn03513', 'rxn04047', 'rxn01265', 'rxn03394', 'rxn00777', 'rxn01106', 'rxn07492', 'rxn03538', 'rxn01480', 'rxn00119', 'rxn01517', 'rxn01966', 'rxn01132', 'rxn05162', 'rxn02277', 'rxn08257', 'rxn01352', 'rxn03540', 'rxn00789', 'rxn00508', 'rxn04386', 'rxn10481', 'rxn05528', 'rxn06077', 'rxn01671', 'rxn02929', 'rxn03917', 'rxn03135', 'rxn00469', 'rxn00791', 'rxn00756', 'rxn03087', 'rxn01329', 'rxn01917', 'rxn01879', 'rxn02285', 'rxn08710', 'rxn07438', 'rxn02321', 'rxn00787', 'rxn01289', 'rxn00851', 'rxn05297', 'rxn00062', 'rxn04132', 'rxn04133', 'rxn05319', 'rxn05467', 'rxn05468', 'rxn02374', 'rxn03012', 'rxn05064', 'rxn02666', 'rxn04457', 'rxn04456', 'rxn01664', 'rxn02916', 'rxn05667', 'rxn10571', 'rxn05195', 'rxn05645', 'rxn05144', 'rxn02988', 'rxn01256', 'rxn12604', 'rxn05039', 'rxn10904', 'rxn05499', 'rxn01152', 'rxn05691', 'rxn12893', 'rxn11116', 'rxn00880', 'rxn05593', 'rxn05469', 'rxn00186', 'rxn05694', 'rxn05491', 'rxn05682', 'rxn01748', 'rxn00327', 'rxn01746', 'rxn09656'}"
   ]
  },
  {
   "cell_type": "code",
   "execution_count": 18,
   "metadata": {},
   "outputs": [
    {
     "name": "stdout",
     "output_type": "stream",
     "text": [
      "Before adding sbml reactions there were 1065\n",
      "After adding sbml reactions there were 1544\n"
     ]
    }
   ],
   "source": [
    "r2r_plussbml = copy.copy(reactions_to_run)\n",
    "print(f\"Before adding sbml reactions there were {len(r2r_plussbml)}\")\n",
    "r2r_plussbml.update(sbml_addnl)\n",
    "print(f\"After adding sbml reactions there were {len(r2r_plussbml)}\")"
   ]
  },
  {
   "cell_type": "code",
   "execution_count": 19,
   "metadata": {},
   "outputs": [
    {
     "name": "stdout",
     "output_type": "stream",
     "text": [
      "Before running FBA there are 43939 reactions\n",
      "After running FBA there are 44014 reactions\n",
      "Initial run has a biomass flux value of 0.0 --> Growth: False\n"
     ]
    }
   ],
   "source": [
    "print(f\"Before running FBA there are {len(reactions)} reactions\")\n",
    "status, value, growth = PyFBA.fba.run_fba(compounds, reactions, r2r_plussbml,\n",
    "                                          media, biomass_equation, verbose=True)\n",
    "print(f\"After running FBA there are {len(reactions)} reactions\")\n",
    "print(\"Initial run has a biomass flux value of {} --> Growth: {}\".format(value, growth))"
   ]
  },
  {
   "cell_type": "code",
   "execution_count": 20,
   "metadata": {},
   "outputs": [
    {
     "name": "stdout",
     "output_type": "stream",
     "text": [
      "Before adding upsr reactions there were 1544 reactions\n",
      "After adding upsr reactions there were 1784 reactions\n"
     ]
    }
   ],
   "source": [
    "print(f\"Before adding upsr reactions there were {len(r2r_plussbml)} reactions\")\n",
    "for r in reactions:\n",
    "    if r.startswith('upsr'):\n",
    "        r2r_plussbml.update({r})\n",
    "print(f\"After adding upsr reactions there were {len(r2r_plussbml)} reactions\")"
   ]
  },
  {
   "cell_type": "code",
   "execution_count": 21,
   "metadata": {},
   "outputs": [
    {
     "name": "stdout",
     "output_type": "stream",
     "text": [
      "Before running FBA there are 44014 reactions\n"
     ]
    },
    {
     "name": "stderr",
     "output_type": "stream",
     "text": [
      "In the model there are : 1804 compounds and 2026 reactions\n",
      "We are logging to /home/redwards/GitHubsLinux/PyFBA/iPythonNotebooks/PyFBA.2021-06-01T08:42:47.350536.log\n",
      "We are loading 1804 rows and 2026 columns\n"
     ]
    },
    {
     "name": "stdout",
     "output_type": "stream",
     "text": [
      "After running FBA there are 44015 reactions\n",
      "Initial run has a biomass flux value of 0.0 --> Growth: False\n"
     ]
    },
    {
     "name": "stderr",
     "output_type": "stream",
     "text": [
      "Length of the media: 65\n",
      "Number of reactions to run: 1784\n",
      "Number of compounds in SM: 1804\n",
      "Number of reactions in SM: 2026\n",
      "Revised number of total reactions: 44015\n",
      "Number of total compounds: 33992\n",
      "SMat dimensions: 1804 x 2026\n"
     ]
    }
   ],
   "source": [
    "print(f\"Before running FBA there are {len(reactions)} reactions\")\n",
    "status, value, growth = PyFBA.fba.run_fba(compounds, reactions, r2r_plussbml,\n",
    "                                          media, biomass_equation, verbose=True)\n",
    "print(f\"After running FBA there are {len(reactions)} reactions\")\n",
    "print(\"Initial run has a biomass flux value of {} --> Growth: {}\".format(value, growth))"
   ]
  },
  {
   "cell_type": "code",
   "execution_count": 22,
   "metadata": {},
   "outputs": [],
   "source": [
    "# seems like we need EX_cpd00034"
   ]
  },
  {
   "cell_type": "code",
   "execution_count": 23,
   "metadata": {},
   "outputs": [
    {
     "name": "stdout",
     "output_type": "stream",
     "text": [
      "There are 0 EX reactions in reactions_to_run\n",
      "There are 0 EX reactions in reactions\n"
     ]
    }
   ],
   "source": [
    "upsr = 0\n",
    "for r in reactions_to_run:\n",
    "    if r.startswith('EX'):\n",
    "        upsr += 1\n",
    "print(f\"There are {upsr} EX reactions in reactions_to_run\")\n",
    "upsr = 0\n",
    "for r in reactions:\n",
    "    if r.startswith('EX'):\n",
    "        upsr += 1\n",
    "print(f\"There are {upsr} EX reactions in reactions\")"
   ]
  },
  {
   "cell_type": "code",
   "execution_count": 24,
   "metadata": {},
   "outputs": [
    {
     "data": {
      "text/plain": [
       "'(40.11) ATP + (0.008) CO2 + (0.084) CTP + (0.008) CoA + (0.135) GTP + (0.511) Glycine + (0.429) L-Alanine + (0.247) L-Arginine + (0.201) L-Asparagine + (0.201) L-Aspartate + (0.076) L-Cysteine + (0.219) L-Glutamate + (0.219) L-Glutamine + (0.079) L-Histidine + (0.242) L-Isoleucine + (0.376) L-Leucine + (0.286) L-Lysine + (0.128) L-Methionine + (0.155) L-Phenylalanine + (0.185) L-Proline + (0.18) L-Serine + (0.211) L-Threonine + (0.047) L-Tryptophan + (0.115) L-Tyrosine + (0.353) L-Valine + (0.008) NAD + (0.008) NADP + (0.008) S-Adenosyl-L-methionine + (0.015) TTP + (0.091) UTP + (0.015) dATP + (0.015) dCTP + (0.015) dGTP > (40.0) ADP + (1.0) Biomass + (40.0) H + (0.406) PPi  + (39.992) Phosphate + (0.008) apo-ACP'"
      ]
     },
     "execution_count": 24,
     "metadata": {},
     "output_type": "execute_result"
    }
   ],
   "source": [
    "biomass_equation = PyFBA.metabolism.biomass_equation('standard')\n",
    "biomass_equation.equation"
   ]
  },
  {
   "cell_type": "code",
   "execution_count": 25,
   "metadata": {},
   "outputs": [
    {
     "name": "stdout",
     "output_type": "stream",
     "text": [
      "Before running FBA there are 44015 reactions\n"
     ]
    },
    {
     "name": "stderr",
     "output_type": "stream",
     "text": [
      "In the model there are : 1803 compounds and 2026 reactions\n",
      "We are loading 1803 rows and 2026 columns\n"
     ]
    },
    {
     "name": "stdout",
     "output_type": "stream",
     "text": [
      "After running FBA there are 44015 reactions\n",
      "Initial run has a biomass flux value of 0.0 --> Growth: False\n"
     ]
    },
    {
     "name": "stderr",
     "output_type": "stream",
     "text": [
      "Length of the media: 65\n",
      "Number of reactions to run: 1784\n",
      "Number of compounds in SM: 1803\n",
      "Number of reactions in SM: 2026\n",
      "Revised number of total reactions: 44015\n",
      "Number of total compounds: 33992\n",
      "SMat dimensions: 1803 x 2026\n"
     ]
    }
   ],
   "source": [
    "print(f\"Before running FBA there are {len(reactions)} reactions\")\n",
    "status, value, growth = PyFBA.fba.run_fba(compounds, reactions, r2r_plussbml,\n",
    "                                          media, biomass_equation, verbose=True)\n",
    "print(f\"After running FBA there are {len(reactions)} reactions\")\n",
    "print(\"Initial run has a biomass flux value of {} --> Growth: {}\".format(value, growth))"
   ]
  },
  {
   "cell_type": "code",
   "execution_count": 26,
   "metadata": {},
   "outputs": [
    {
     "ename": "NameError",
     "evalue": "name 'uptake_secretion_reactions' is not defined",
     "output_type": "error",
     "traceback": [
      "\u001b[0;31m---------------------------------------------------------------------------\u001b[0m",
      "\u001b[0;31mNameError\u001b[0m                                 Traceback (most recent call last)",
      "\u001b[0;32m<ipython-input-26-64fc5c6d9a06>\u001b[0m in \u001b[0;36m<module>\u001b[0;34m\u001b[0m\n\u001b[0;32m----> 1\u001b[0;31m \u001b[0muptake_secretion_reactions\u001b[0m\u001b[0;34m\u001b[0m\u001b[0;34m\u001b[0m\u001b[0m\n\u001b[0m",
      "\u001b[0;31mNameError\u001b[0m: name 'uptake_secretion_reactions' is not defined"
     ]
    }
   ],
   "source": [
    "uptake_secretion_reactions"
   ]
  },
  {
   "cell_type": "code",
   "execution_count": 27,
   "metadata": {},
   "outputs": [
    {
     "name": "stdout",
     "output_type": "stream",
     "text": [
      "There are 33992 total compounds and 33992 filtered compounds\n"
     ]
    }
   ],
   "source": [
    "all_compounds = compounds\n",
    "# Filter for compounds that are boundary compounds\n",
    "filtered_compounds = set()\n",
    "for c in all_compounds:\n",
    "    if not compounds[c].uptake_secretion:\n",
    "        filtered_compounds.add(c)\n",
    "print(f\"There are {len(all_compounds)} total compounds and {len(filtered_compounds)} filtered compounds\")"
   ]
  },
  {
   "cell_type": "code",
   "execution_count": 28,
   "metadata": {},
   "outputs": [
    {
     "data": {
      "text/plain": [
       "{'rxn01997',\n",
       " 'rxn08296',\n",
       " 'rxn03080',\n",
       " 'rxn05187',\n",
       " 'rxn08200',\n",
       " 'rxn00245',\n",
       " 'rxn03962',\n",
       " 'rxn03060',\n",
       " 'rxn01879',\n",
       " 'rxn00395',\n",
       " 'rxn05312',\n",
       " 'rxn03147',\n",
       " 'rxn10256',\n",
       " 'rxn00756',\n",
       " 'rxn00206',\n",
       " 'rxn05347',\n",
       " 'rxn01300',\n",
       " 'rxn01101',\n",
       " 'rxn06600',\n",
       " 'rxn05365',\n",
       " 'rxn00365',\n",
       " 'rxn05150',\n",
       " 'rxn02596',\n",
       " 'rxn00615',\n",
       " 'rxn12147',\n",
       " 'rxn05337',\n",
       " 'rxn00772',\n",
       " 'rxn00874',\n",
       " 'rxn09199',\n",
       " 'rxn00293',\n",
       " 'rxn05594',\n",
       " 'rxn01675',\n",
       " 'rxn01116',\n",
       " 'rxn06729',\n",
       " 'rxn01847',\n",
       " 'rxn00966',\n",
       " 'rxn06591',\n",
       " 'rxn05325',\n",
       " 'rxn08356',\n",
       " 'rxn04413',\n",
       " 'rxn01967',\n",
       " 'rxn05163',\n",
       " 'rxn05402',\n",
       " 'rxn05401',\n",
       " 'rxn09205',\n",
       " 'rxn02331',\n",
       " 'rxn00143',\n",
       " 'rxn03248',\n",
       " 'rxn05162',\n",
       " 'rxn09127',\n",
       " 'rxn08470',\n",
       " 'rxn05551',\n",
       " 'rxn06510',\n",
       " 'rxn01068',\n",
       " 'rxn01520',\n",
       " 'rxn12646',\n",
       " 'rxn01538',\n",
       " 'rxn03436',\n",
       " 'rxn05359',\n",
       " 'rxn05569',\n",
       " 'rxn10313',\n",
       " 'rxn00100',\n",
       " 'rxn05361',\n",
       " 'rxn00856',\n",
       " 'rxn00139',\n",
       " 'rxn10268',\n",
       " 'rxn02277',\n",
       " 'rxn08205',\n",
       " 'rxn01360',\n",
       " 'rxn05559',\n",
       " 'rxn01146',\n",
       " 'rxn05533',\n",
       " 'rxn01851',\n",
       " 'rxn00584',\n",
       " 'rxn03136',\n",
       " 'rxn05607',\n",
       " 'rxn05528',\n",
       " 'rxn10266',\n",
       " 'rxn03537',\n",
       " 'rxn03075',\n",
       " 'rxn03384',\n",
       " 'rxn09198',\n",
       " 'rxn01434',\n",
       " 'rxn01966',\n",
       " 'rxn03393',\n",
       " 'rxn01480',\n",
       " 'rxn02201',\n",
       " 'rxn05328',\n",
       " 'rxn08619',\n",
       " 'rxn01791',\n",
       " 'rxn00227',\n",
       " 'rxn01870',\n",
       " 'rxn05437',\n",
       " 'rxn03150',\n",
       " 'rxn03164',\n",
       " 'rxn05544',\n",
       " 'rxn02288',\n",
       " 'rxn01975',\n",
       " 'rxn00588',\n",
       " 'rxn09296',\n",
       " 'rxn01218',\n",
       " 'rxn00787',\n",
       " 'rxn04928',\n",
       " 'rxn03250',\n",
       " 'rxn05542',\n",
       " 'rxn03175',\n",
       " 'rxn10157',\n",
       " 'rxn10226',\n",
       " 'rxn08129',\n",
       " 'rxn00776',\n",
       " 'rxn05160',\n",
       " 'rxn00420',\n",
       " 'rxn00902',\n",
       " 'rxn09144',\n",
       " 'rxn01152',\n",
       " 'rxn10042',\n",
       " 'rxn05514',\n",
       " 'rxn03909',\n",
       " 'rxn00947',\n",
       " 'rxn01069',\n",
       " 'rxn05398',\n",
       " 'rxn09158',\n",
       " 'rxn00784',\n",
       " 'rxn08179',\n",
       " 'rxn05404',\n",
       " 'rxn03446',\n",
       " 'rxn05516',\n",
       " 'rxn09109',\n",
       " 'rxn04601',\n",
       " 'rxn04603',\n",
       " 'rxn08669',\n",
       " 'rxn00931',\n",
       " 'rxn02369',\n",
       " 'rxn03644',\n",
       " 'rxn09134',\n",
       " 'rxn04113',\n",
       " 'rxn02177',\n",
       " 'rxn10121',\n",
       " 'rxn01000',\n",
       " 'rxn09203',\n",
       " 'rxn03108',\n",
       " 'rxn00791',\n",
       " 'rxn10261',\n",
       " 'rxn05188',\n",
       " 'rxn05671',\n",
       " 'rxn01858',\n",
       " 'rxn01871',\n",
       " 'rxn01451',\n",
       " 'rxn05484',\n",
       " 'rxn00675',\n",
       " 'rxn01387',\n",
       " 'rxn08549',\n",
       " 'rxn00708',\n",
       " 'rxn00474',\n",
       " 'rxn10254',\n",
       " 'rxn10235',\n",
       " 'rxn08199',\n",
       " 'rxn05164',\n",
       " 'rxn00303',\n",
       " 'rxn10260',\n",
       " 'rxn08040',\n",
       " 'rxn03643',\n",
       " 'rxn01987',\n",
       " 'rxn09992',\n",
       " 'rxn01516',\n",
       " 'rxn06937',\n",
       " 'rxn05206',\n",
       " 'rxn08528',\n",
       " 'rxn01761',\n",
       " 'rxn00338',\n",
       " 'rxn09685',\n",
       " 'rxn03240',\n",
       " 'rxn05405',\n",
       " 'rxn02939',\n",
       " 'rxn00634',\n",
       " 'rxn02666',\n",
       " 'rxn04052',\n",
       " 'rxn02341',\n",
       " 'rxn12206',\n",
       " 'rxn08552',\n",
       " 'rxn08298',\n",
       " 'rxn00029',\n",
       " 'rxn08713',\n",
       " 'rxn01404',\n",
       " 'rxn10259',\n",
       " 'rxn01484',\n",
       " 'rxn00816',\n",
       " 'rxn05512',\n",
       " 'rxn05651',\n",
       " 'rxn06672',\n",
       " 'rxn12635',\n",
       " 'rxn09102',\n",
       " 'rxn00192',\n",
       " 'rxn01080',\n",
       " 'rxn05459',\n",
       " 'rxn01513',\n",
       " 'rxn00980',\n",
       " 'rxn12644',\n",
       " 'rxn03901',\n",
       " 'rxn01974',\n",
       " 'rxn05383',\n",
       " 'rxn01446',\n",
       " 'rxn02005',\n",
       " 'rxn01134',\n",
       " 'rxn01670',\n",
       " 'rxn05397',\n",
       " 'rxn05181',\n",
       " 'rxn05452',\n",
       " 'rxn05348',\n",
       " 'rxn02835',\n",
       " 'rxn01646',\n",
       " 'rxn04457',\n",
       " 'rxn02898',\n",
       " 'rxn05441',\n",
       " 'rxn05173',\n",
       " 'rxn01122',\n",
       " 'rxn05937',\n",
       " 'rxn00831',\n",
       " 'rxn00543',\n",
       " 'rxn00689',\n",
       " 'rxn04385',\n",
       " 'rxn01210',\n",
       " 'rxn01226',\n",
       " 'rxn05561',\n",
       " 'rxn00412',\n",
       " 'rxn02376',\n",
       " 'rxn02160',\n",
       " 'rxn05627',\n",
       " 'rxn01917',\n",
       " 'rxn05427',\n",
       " 'rxn05565',\n",
       " 'rxn03907',\n",
       " 'rxn02303',\n",
       " 'rxn05434',\n",
       " 'rxn02988',\n",
       " 'rxn05655',\n",
       " 'rxn05363',\n",
       " 'rxn09101',\n",
       " 'rxn05384',\n",
       " 'rxn10214',\n",
       " 'rxn05209',\n",
       " 'rxn05574',\n",
       " 'rxn03884',\n",
       " 'rxn00800',\n",
       " 'rxn10806',\n",
       " 'rxn08469',\n",
       " 'rxn05345',\n",
       " 'rxn05414',\n",
       " 'rxn01545',\n",
       " 'rxn08468',\n",
       " 'rxn02504',\n",
       " 'rxn02173',\n",
       " 'rxn03038',\n",
       " 'rxn01314',\n",
       " 'rxn10119',\n",
       " 'rxn01299',\n",
       " 'rxn00095',\n",
       " 'rxn10253',\n",
       " 'rxn01807',\n",
       " 'rxn05198',\n",
       " 'rxn09345',\n",
       " 'rxn05436',\n",
       " 'rxn00165',\n",
       " 'rxn02508',\n",
       " 'rxn00336',\n",
       " 'rxn02762',\n",
       " 'rxn10199',\n",
       " 'rxn08088',\n",
       " 'rxn05654',\n",
       " 'rxn03991',\n",
       " 'rxn02789',\n",
       " 'rxn01301',\n",
       " 'rxn00313',\n",
       " 'rxn01740',\n",
       " 'rxn09208',\n",
       " 'rxn10184',\n",
       " 'rxn00515',\n",
       " 'rxn03397',\n",
       " 'rxn09125',\n",
       " 'rxn08975',\n",
       " 'rxn01923',\n",
       " 'rxn01132',\n",
       " 'rxn05667',\n",
       " 'rxn03031',\n",
       " 'rxn09107',\n",
       " 'rxn08550',\n",
       " 'rxn05442',\n",
       " 'rxn05024',\n",
       " 'rxn10220',\n",
       " 'rxn10150',\n",
       " 'rxn05297',\n",
       " 'rxn12641',\n",
       " 'rxn01021',\n",
       " 'rxn08311',\n",
       " 'rxn04704',\n",
       " 'rxn02175',\n",
       " 'rxn10229',\n",
       " 'rxn08306',\n",
       " 'rxn00414',\n",
       " 'rxn05396',\n",
       " 'rxn00322',\n",
       " 'rxn00493',\n",
       " 'rxn00171',\n",
       " 'rxn00184',\n",
       " 'rxn08335',\n",
       " 'rxn04047',\n",
       " 'rxn00974',\n",
       " 'rxn05334',\n",
       " 'rxn00792',\n",
       " 'rxn02476',\n",
       " 'rxn00285',\n",
       " 'rxn00369',\n",
       " 'rxn05418',\n",
       " 'rxn01313',\n",
       " 'rxn09140',\n",
       " 'rxn01672',\n",
       " 'rxn01114',\n",
       " 'rxn07584',\n",
       " 'rxn00077',\n",
       " 'rxn00903',\n",
       " 'rxn10339',\n",
       " 'rxn01403',\n",
       " 'rxn00616',\n",
       " 'rxn05201',\n",
       " 'rxn12604',\n",
       " 'rxn10117',\n",
       " 'rxn02933',\n",
       " 'rxn00189',\n",
       " 'rxn00161',\n",
       " 'rxn05501',\n",
       " 'rxn08084',\n",
       " 'rxn01281',\n",
       " 'rxn10211',\n",
       " 'rxn00950',\n",
       " 'rxn12643',\n",
       " 'rxn09129',\n",
       " 'rxn09106',\n",
       " 'rxn00085',\n",
       " 'rxn08551',\n",
       " 'rxn05541',\n",
       " 'rxn01647',\n",
       " 'rxn05388',\n",
       " 'rxn00817',\n",
       " 'rxn04750',\n",
       " 'rxn01268',\n",
       " 'rxn02186',\n",
       " 'rxn00818',\n",
       " 'rxn00762',\n",
       " 'rxn00423',\n",
       " 'rxn05346',\n",
       " 'rxn09164',\n",
       " 'rxn09148',\n",
       " 'rxn00835',\n",
       " 'rxn08546',\n",
       " 'rxn10067',\n",
       " 'rxn08941',\n",
       " 'rxn05537',\n",
       " 'rxn00102',\n",
       " 'rxn09687',\n",
       " 'rxn05039',\n",
       " 'rxn05330',\n",
       " 'rxn01639',\n",
       " 'rxn05645',\n",
       " 'rxn08352',\n",
       " 'rxn01629',\n",
       " 'rxn09313',\n",
       " 'rxn02187',\n",
       " 'rxn01352',\n",
       " 'rxn00262',\n",
       " 'rxn09448',\n",
       " 'rxn03435',\n",
       " 'rxn00727',\n",
       " 'rxn00763',\n",
       " 'rxn02320',\n",
       " 'rxn02161',\n",
       " 'rxn05733',\n",
       " 'rxn01800',\n",
       " 'rxn05451',\n",
       " 'rxn00642',\n",
       " 'rxn09207',\n",
       " 'rxn05149',\n",
       " 'rxn02159',\n",
       " 'rxn02792',\n",
       " 'rxn01465',\n",
       " 'rxn02380',\n",
       " 'rxn10310',\n",
       " 'rxn11268',\n",
       " 'rxn10945',\n",
       " 'rxn00117',\n",
       " 'rxn00726',\n",
       " 'rxn00205',\n",
       " 'rxn01053',\n",
       " 'rxn10163',\n",
       " 'rxn00898',\n",
       " 'rxn09155',\n",
       " 'rxn09310',\n",
       " 'rxn09143',\n",
       " 'rxn00802',\n",
       " 'rxn00178',\n",
       " 'rxn10571',\n",
       " 'rxn00986',\n",
       " 'rxn05647',\n",
       " 'rxn01649',\n",
       " 'rxn05372',\n",
       " 'rxn09141',\n",
       " 'rxn05555',\n",
       " 'rxn01709',\n",
       " 'rxn05250',\n",
       " 'rxn01748',\n",
       " 'rxn08299',\n",
       " 'rxn05417',\n",
       " 'rxn03975',\n",
       " 'rxn02522',\n",
       " 'rxn01518',\n",
       " 'rxn05251',\n",
       " 'rxn04674',\n",
       " 'rxn05453',\n",
       " 'rxn01255',\n",
       " 'rxn06493',\n",
       " 'rxn00927',\n",
       " 'rxn00022',\n",
       " 'rxn02056',\n",
       " 'rxn05445',\n",
       " 'rxn10336',\n",
       " 'rxn00808',\n",
       " 'rxn10224',\n",
       " 'rxn09656',\n",
       " 'rxn05491',\n",
       " 'rxn05195',\n",
       " 'rxn09108',\n",
       " 'rxn08900',\n",
       " 'rxn00342',\n",
       " 'rxn00470',\n",
       " 'rxn05543',\n",
       " 'rxn07492',\n",
       " 'rxn10207',\n",
       " 'rxn00473',\n",
       " 'rxn05406',\n",
       " 'rxn05179',\n",
       " 'rxn01522',\n",
       " 'rxn01302',\n",
       " 'rxn00544',\n",
       " 'rxn03990',\n",
       " 'rxn00074',\n",
       " 'rxn05423',\n",
       " 'rxn05625',\n",
       " 'rxn01103',\n",
       " 'rxn05646',\n",
       " 'rxn01705',\n",
       " 'rxn08710',\n",
       " 'rxn02263',\n",
       " 'rxn12636',\n",
       " 'rxn02200',\n",
       " 'rxn08712',\n",
       " 'rxn10219',\n",
       " 'rxn02911',\n",
       " 'rxn08942',\n",
       " 'rxn00778',\n",
       " 'rxn05389',\n",
       " 'rxn00790',\n",
       " 'rxn08307',\n",
       " 'rxn00469',\n",
       " 'rxn10227',\n",
       " 'rxn00297',\n",
       " 'rxn03898',\n",
       " 'rxn10187',\n",
       " 'rxn05385',\n",
       " 'rxn02004',\n",
       " 'rxn05496',\n",
       " 'rxn09200',\n",
       " 'rxn01492',\n",
       " 'rxn01390',\n",
       " 'rxn00546',\n",
       " 'rxn00868',\n",
       " 'rxn10188',\n",
       " 'rxn00555',\n",
       " 'rxn11544',\n",
       " 'rxn05349',\n",
       " 'rxn00789',\n",
       " 'rxn08291',\n",
       " 'rxn03084',\n",
       " 'rxn00935',\n",
       " 'rxn05232',\n",
       " 'rxn08354',\n",
       " 'rxn00527',\n",
       " 'rxn00777',\n",
       " 'rxn05207',\n",
       " 'rxn02085',\n",
       " 'rxn03135',\n",
       " 'rxn01117',\n",
       " 'rxn01653',\n",
       " 'rxn05392',\n",
       " 'rxn10343',\n",
       " 'rxn03841',\n",
       " 'rxn00646',\n",
       " 'rxn05500',\n",
       " 'rxn05145',\n",
       " 'rxn05200',\n",
       " 'rxn05176',\n",
       " 'rxn01834',\n",
       " 'rxn01396',\n",
       " 'rxn00355',\n",
       " 'rxn03492',\n",
       " 'rxn05447',\n",
       " 'rxn09450',\n",
       " 'rxn12847',\n",
       " 'rxn09688',\n",
       " 'rxn03904',\n",
       " 'rxn03087',\n",
       " 'rxn05316',\n",
       " 'rxn05229',\n",
       " 'rxn08711',\n",
       " 'rxn11944',\n",
       " 'rxn05202',\n",
       " 'rxn00985',\n",
       " 'rxn03540',\n",
       " 'rxn06865',\n",
       " 'rxn02342',\n",
       " 'rxn01548',\n",
       " 'rxn10120',\n",
       " 'rxn03512',\n",
       " 'rxn00364',\n",
       " 'rxn02832',\n",
       " 'rxn10180',\n",
       " 'rxn01519',\n",
       " 'rxn00783',\n",
       " 'rxn10094',\n",
       " 'rxn03052',\n",
       " 'rxn09146',\n",
       " 'rxn00405',\n",
       " 'rxn08345',\n",
       " 'rxn10182',\n",
       " 'rxn08295',\n",
       " 'rxn05364',\n",
       " 'rxn01094',\n",
       " 'rxn02373',\n",
       " 'rxn00612',\n",
       " 'rxn00350',\n",
       " 'rxn00704',\n",
       " 'rxn03885',\n",
       " 'rxn00337',\n",
       " 'rxn09201',\n",
       " 'rxn05585',\n",
       " 'rxn08310',\n",
       " 'rxn10270',\n",
       " 'rxn05508',\n",
       " 'rxn09139',\n",
       " 'rxn00146',\n",
       " 'rxn00745',\n",
       " 'rxn00020',\n",
       " 'rxn00649',\n",
       " 'rxn12634',\n",
       " 'rxn09131',\n",
       " 'rxn01025',\n",
       " 'rxn00715',\n",
       " 'rxn00748',\n",
       " 'rxn10131',\n",
       " 'rxn09112',\n",
       " 'rxn08194',\n",
       " 'rxn00781',\n",
       " 'rxn05040',\n",
       " 'rxn01416',\n",
       " 'rxn00048',\n",
       " 'rxn04783',\n",
       " 'rxn05608',\n",
       " 'rxn09154',\n",
       " 'rxn09209',\n",
       " 'rxn05373',\n",
       " 'rxn00223',\n",
       " 'rxn05673',\n",
       " 'rxn10308',\n",
       " 'rxn01241',\n",
       " 'rxn07845',\n",
       " 'rxn01297',\n",
       " 'rxn00914',\n",
       " 'rxn00290',\n",
       " 'rxn05335',\n",
       " 'rxn01143',\n",
       " 'rxn05064',\n",
       " 'rxn05292',\n",
       " 'rxn00608',\n",
       " 'rxn00880',\n",
       " 'rxn02003',\n",
       " 'rxn12637',\n",
       " 'rxn08178',\n",
       " 'rxn00295',\n",
       " 'rxn01857',\n",
       " 'rxn09110',\n",
       " 'rxn01799',\n",
       " 'rxn09161',\n",
       " 'rxn01739',\n",
       " 'rxn08087',\n",
       " 'rxn04794',\n",
       " 'rxn03062',\n",
       " 'rxn05350',\n",
       " 'rxn01332',\n",
       " 'rxn05938',\n",
       " 'rxn01270',\n",
       " 'rxn02321',\n",
       " 'rxn10213',\n",
       " 'rxn05461',\n",
       " 'rxn08308',\n",
       " 'rxn00137',\n",
       " 'rxn10168',\n",
       " 'rxn10209',\n",
       " 'rxn09177',\n",
       " 'rxn04604',\n",
       " 'rxn00737',\n",
       " 'rxn03491',\n",
       " 'rxn00508',\n",
       " 'rxn01093',\n",
       " 'rxn12146',\n",
       " 'rxn01746',\n",
       " 'rxn05443',\n",
       " 'rxn05540',\n",
       " 'rxn01664',\n",
       " 'rxn01137',\n",
       " 'rxn00839',\n",
       " 'rxn00416',\n",
       " 'rxn00265',\n",
       " 'rxn05333',\n",
       " 'rxn01329',\n",
       " 'rxn00545',\n",
       " 'rxn05217',\n",
       " 'rxn05499',\n",
       " 'rxn00006',\n",
       " 'rxn05593',\n",
       " 'rxn01353',\n",
       " 'rxn03245',\n",
       " 'rxn00569',\n",
       " 'rxn08204',\n",
       " 'rxn06979',\n",
       " 'rxn00199',\n",
       " 'rxn00183',\n",
       " 'rxn00251',\n",
       " 'rxn00371',\n",
       " 'rxn02374',\n",
       " 'rxn05158',\n",
       " 'rxn05515',\n",
       " 'rxn01199',\n",
       " 'rxn05177',\n",
       " 'rxn02155',\n",
       " 'rxn00693',\n",
       " 'rxn00122',\n",
       " 'rxn00541',\n",
       " 'rxn08583',\n",
       " 'rxn04386',\n",
       " 'rxn00709',\n",
       " 'rxn12645',\n",
       " 'rxn04384',\n",
       " 'rxn09692',\n",
       " 'rxn08707',\n",
       " 'rxn08258',\n",
       " 'rxn10155',\n",
       " 'rxn03194',\n",
       " 'rxn02404',\n",
       " 'rxn05617',\n",
       " 'rxn00711',\n",
       " 'rxn00837',\n",
       " 'rxn05319',\n",
       " 'rxn05368',\n",
       " 'rxn04050',\n",
       " 'rxn00669',\n",
       " 'rxn05564',\n",
       " 'rxn08708',\n",
       " 'rxn00340',\n",
       " 'rxn00247',\n",
       " 'rxn03445',\n",
       " 'rxn05116',\n",
       " 'rxn12850',\n",
       " 'rxn08756',\n",
       " 'rxn05380',\n",
       " 'rxn00621',\n",
       " 'rxn03061',\n",
       " 'rxn00160',\n",
       " 'rxn00670',\n",
       " 'rxn00242',\n",
       " 'rxn10264',\n",
       " 'rxn00707',\n",
       " 'rxn06377',\n",
       " 'rxn00938',\n",
       " 'rxn03931',\n",
       " 'rxn05422',\n",
       " 'rxn03951',\n",
       " 'rxn01673',\n",
       " 'rxn08557',\n",
       " 'rxn00147',\n",
       " 'rxn08085',\n",
       " 'rxn05393',\n",
       " 'rxn03918',\n",
       " 'rxn05449',\n",
       " 'rxn00717',\n",
       " 'rxn00929',\n",
       " 'rxn05539',\n",
       " 'rxn02346',\n",
       " 'rxn09128',\n",
       " 'rxn05369',\n",
       " 'rxn00806',\n",
       " 'rxn05324',\n",
       " 'rxn05430',\n",
       " 'rxn02167',\n",
       " 'rxn00913',\n",
       " 'rxn00786',\n",
       " 'rxn01457',\n",
       " 'rxn00148',\n",
       " 'rxn00692',\n",
       " 'rxn01192',\n",
       " 'rxn04016',\n",
       " 'rxn02359',\n",
       " 'rxn05256',\n",
       " 'rxn02314',\n",
       " 'rxn01129',\n",
       " 'rxn01362',\n",
       " 'rxn05536',\n",
       " 'rxn11702',\n",
       " 'rxn10218',\n",
       " 'rxn03917',\n",
       " 'rxn01476',\n",
       " 'rxn02680',\n",
       " 'rxn09104',\n",
       " 'rxn02475',\n",
       " 'rxn01682',\n",
       " 'rxn02804',\n",
       " 'rxn02473',\n",
       " 'rxn05682',\n",
       " 'rxn09126',\n",
       " 'rxn08548',\n",
       " 'rxn05410',\n",
       " 'rxn05468',\n",
       " 'rxn08203',\n",
       " 'rxn00881',\n",
       " 'rxn01621',\n",
       " 'rxn00256',\n",
       " 'rxn00915',\n",
       " 'rxn00157',\n",
       " 'rxn06022',\n",
       " 'rxn02791',\n",
       " 'rxn02811',\n",
       " 'rxn03513',\n",
       " 'rxn08556',\n",
       " 'rxn10203',\n",
       " 'rxn09978',\n",
       " 'rxn00459',\n",
       " 'rxn10237',\n",
       " 'rxn02503',\n",
       " 'rxn01544',\n",
       " 'rxn01445',\n",
       " 'rxn08558',\n",
       " 'rxn01169',\n",
       " 'rxn10208',\n",
       " 'rxn05301',\n",
       " 'rxn10315',\n",
       " 'rxn03974',\n",
       " 'rxn02782',\n",
       " 'rxn05425',\n",
       " 'rxn00910',\n",
       " 'rxn03856',\n",
       " 'rxn02345',\n",
       " 'rxn09138',\n",
       " 'rxn12224',\n",
       " 'rxn02834',\n",
       " 'rxn05444',\n",
       " 'rxn10228',\n",
       " 'rxn02465',\n",
       " 'rxn05457',\n",
       " 'rxn01506',\n",
       " 'rxn05054',\n",
       " 'rxn03536',\n",
       " 'rxn00558',\n",
       " 'rxn05638',\n",
       " 'rxn05343',\n",
       " 'rxn01289',\n",
       " 'rxn00248',\n",
       " 'rxn00691',\n",
       " 'rxn00650',\n",
       " 'rxn02916',\n",
       " 'rxn01973',\n",
       " 'rxn01044',\n",
       " 'rxn12633',\n",
       " 'rxn05456',\n",
       " 'rxn00867',\n",
       " 'rxn05448',\n",
       " 'rxn09163',\n",
       " 'rxn09264',\n",
       " 'rxn01466',\n",
       " 'rxn02319',\n",
       " 'rxn01269',\n",
       " 'rxn00640',\n",
       " 'rxn01073',\n",
       " 'rxn09147',\n",
       " 'rxn00601',\n",
       " 'rxn02484',\n",
       " 'rxn05408',\n",
       " 'rxn00747',\n",
       " 'rxn12405',\n",
       " 'rxn09130',\n",
       " 'rxn05300',\n",
       " 'rxn00159',\n",
       " 'rxn03919',\n",
       " 'rxn05318',\n",
       " 'rxn05582',\n",
       " 'rxn00452',\n",
       " 'rxn02305',\n",
       " 'rxn05236',\n",
       " 'rxn05571',\n",
       " 'rxn05377',\n",
       " 'rxn04082',\n",
       " 'rxn03514',\n",
       " 'rxn08089',\n",
       " 'rxn10263',\n",
       " 'rxn05446',\n",
       " 'rxn01115',\n",
       " 'rxn08709',\n",
       " 'rxn08257',\n",
       " 'rxn10340',\n",
       " 'rxn04045',\n",
       " 'rxn12642',\n",
       " 'rxn03933',\n",
       " 'rxn05605',\n",
       " 'rxn01304',\n",
       " 'rxn12500',\n",
       " 'rxn10206',\n",
       " 'rxn00114',\n",
       " 'rxn09124',\n",
       " 'rxn02402',\n",
       " 'rxn01515',\n",
       " 'rxn06077',\n",
       " 'rxn02144',\n",
       " 'rxn00500',\n",
       " 'rxn02405',\n",
       " 'rxn01280',\n",
       " 'rxn05494',\n",
       " 'rxn09133',\n",
       " 'rxn04602',\n",
       " 'rxn05371',\n",
       " 'rxn03437',\n",
       " 'rxn05249',\n",
       " 'rxn01872',\n",
       " 'rxn00863',\n",
       " 'rxn09210',\n",
       " 'rxn09449',\n",
       " 'rxn10255',\n",
       " 'rxn06076',\n",
       " 'rxn05029',\n",
       " 'rxn01102',\n",
       " 'rxn05205',\n",
       " 'rxn10337',\n",
       " 'rxn00330',\n",
       " 'rxn08943',\n",
       " 'rxn00274',\n",
       " 'rxn05680',\n",
       " 'rxn00758',\n",
       " 'rxn03004',\n",
       " 'rxn12510',\n",
       " 'rxn05547',\n",
       " 'rxn01642',\n",
       " 'rxn00212',\n",
       " 'rxn10181',\n",
       " 'rxn01637',\n",
       " 'rxn01989',\n",
       " 'rxn03893',\n",
       " 'rxn03137',\n",
       " 'rxn00105',\n",
       " 'rxn00559',\n",
       " 'rxn10314',\n",
       " 'rxn00875',\n",
       " 'rxn03481',\n",
       " 'rxn05344',\n",
       " 'rxn01643',\n",
       " 'rxn10309',\n",
       " 'rxn04143',\n",
       " 'rxn01775',\n",
       " 'rxn02474',\n",
       " 'rxn05958',\n",
       " 'rxn01257',\n",
       " 'rxn00214',\n",
       " 'rxn01620',\n",
       " 'rxn05376',\n",
       " 'rxn01368',\n",
       " 'rxn05154',\n",
       " 'rxn09979',\n",
       " 'rxn00540',\n",
       " 'rxn04673',\n",
       " 'rxn10215',\n",
       " 'rxn05165',\n",
       " 'rxn05307',\n",
       " 'rxn01602',\n",
       " 'rxn05252',\n",
       " 'rxn05467',\n",
       " 'rxn05460',\n",
       " 'rxn00211',\n",
       " 'rxn05518',\n",
       " 'rxn01133',\n",
       " 'rxn05233',\n",
       " 'rxn05572',\n",
       " 'rxn10344',\n",
       " 'rxn01219',\n",
       " 'rxn05339',\n",
       " 'rxn00060',\n",
       " 'rxn01277',\n",
       " 'rxn01706',\n",
       " 'rxn10311',\n",
       " 'rxn05694',\n",
       " 'rxn05326',\n",
       " 'rxn05175',\n",
       " 'rxn05563',\n",
       " 'rxn01388',\n",
       " 'rxn03932',\n",
       " 'rxn09152',\n",
       " 'rxn03409',\n",
       " 'rxn10217',\n",
       " 'rxn05740',\n",
       " 'rxn00686',\n",
       " 'rxn05440',\n",
       " 'rxn09149',\n",
       " 'rxn02264',\n",
       " 'rxn01510',\n",
       " 'rxn02775',\n",
       " 'rxn10342',\n",
       " 'rxn05313',\n",
       " 'rxn08300',\n",
       " 'rxn03239',\n",
       " 'rxn10338',\n",
       " 'rxn05183',\n",
       " 'rxn05219',\n",
       " 'rxn00671',\n",
       " 'rxn00834',\n",
       " 'rxn00213',\n",
       " 'rxn05247',\n",
       " 'rxn05438',\n",
       " 'rxn01208',\n",
       " 'rxn08783',\n",
       " 'rxn00283',\n",
       " 'rxn08127',\n",
       " 'rxn02285',\n",
       " 'rxn09997',\n",
       " 'rxn00011',\n",
       " 'rxn13782',\n",
       " 'rxn00988',\n",
       " 'rxn01204',\n",
       " 'rxn10335',\n",
       " 'rxn02008',\n",
       " 'rxn03511',\n",
       " 'rxn09156',\n",
       " 'rxn09132',\n",
       " 'rxn09240',\n",
       " 'rxn09211',\n",
       " 'rxn00799',\n",
       " 'rxn05439',\n",
       " 'rxn10210',\n",
       " 'rxn05546',\n",
       " 'rxn09151',\n",
       " 'rxn05507',\n",
       " 'rxn04954',\n",
       " 'rxn13783',\n",
       " 'rxn10267',\n",
       " 'rxn01333',\n",
       " 'rxn09153',\n",
       " 'rxn00124',\n",
       " 'rxn09202',\n",
       " 'rxn00086',\n",
       " 'rxn02011',\n",
       " 'rxn05336',\n",
       " 'rxn08297',\n",
       " 'rxn02213',\n",
       " 'rxn05534',\n",
       " 'rxn02774',\n",
       " 'rxn05663',\n",
       " 'rxn01285',\n",
       " 'rxn01370',\n",
       " 'rxn01521',\n",
       " 'rxn03630',\n",
       " 'rxn08128',\n",
       " 'rxn07588',\n",
       " 'rxn01275',\n",
       " 'rxn00138',\n",
       " 'rxn10222',\n",
       " 'rxn05231',\n",
       " 'rxn00289',\n",
       " 'rxn05431',\n",
       " 'rxn02944',\n",
       " 'rxn03243',\n",
       " 'rxn01331',\n",
       " 'rxn05248',\n",
       " 'rxn08954',\n",
       " 'rxn10221',\n",
       " 'rxn05527',\n",
       " 'rxn12849',\n",
       " 'rxn02831',\n",
       " 'rxn12845',\n",
       " 'rxn10474',\n",
       " 'rxn05161',\n",
       " 'rxn00101',\n",
       " 'rxn01334',\n",
       " 'rxn01322',\n",
       " 'rxn12851',\n",
       " 'rxn00851',\n",
       " 'rxn05155',\n",
       " 'rxn10223',\n",
       " 'rxn05466',\n",
       " ...}"
      ]
     },
     "execution_count": 28,
     "metadata": {},
     "output_type": "execute_result"
    }
   ],
   "source": [
    "without_ex = set()\n",
    "with open('rwex.txt', 'r') as fin:\n",
    "    for l in fin:\n",
    "        l = l.strip()\n",
    "        without_ex.add(l)\n",
    "without_ex"
   ]
  },
  {
   "cell_type": "code",
   "execution_count": 29,
   "metadata": {},
   "outputs": [
    {
     "name": "stdout",
     "output_type": "stream",
     "text": [
      "Before running FBA there are 44015 reactions\n"
     ]
    },
    {
     "name": "stderr",
     "output_type": "stream",
     "text": [
      "In the model there are : 1406 compounds and 1638 reactions\n",
      "We are loading 1406 rows and 1638 columns\n"
     ]
    },
    {
     "name": "stdout",
     "output_type": "stream",
     "text": [
      "After running FBA there are 44015 reactions\n",
      "Initial run has a biomass flux value of 0.0 --> Growth: False\n"
     ]
    },
    {
     "name": "stderr",
     "output_type": "stream",
     "text": [
      "Length of the media: 65\n",
      "Number of reactions to run: 1399\n",
      "Number of compounds in SM: 1406\n",
      "Number of reactions in SM: 1638\n",
      "Revised number of total reactions: 44015\n",
      "Number of total compounds: 33992\n",
      "SMat dimensions: 1406 x 1638\n"
     ]
    }
   ],
   "source": [
    "print(f\"Before running FBA there are {len(reactions)} reactions\")\n",
    "status, value, growth = PyFBA.fba.run_fba(compounds, reactions, without_ex,\n",
    "                                          media, biomass_equation, verbose=True)\n",
    "print(f\"After running FBA there are {len(reactions)} reactions\")\n",
    "print(\"Initial run has a biomass flux value of {} --> Growth: {}\".format(value, growth))"
   ]
  },
  {
   "cell_type": "code",
   "execution_count": 30,
   "metadata": {},
   "outputs": [
    {
     "data": {
      "text/plain": [
       "1399"
      ]
     },
     "execution_count": 30,
     "metadata": {},
     "output_type": "execute_result"
    }
   ],
   "source": [
    "len(without_ex)"
   ]
  },
  {
   "cell_type": "code",
   "execution_count": 33,
   "metadata": {},
   "outputs": [
    {
     "data": {
      "text/plain": [
       "1065"
      ]
     },
     "execution_count": 33,
     "metadata": {},
     "output_type": "execute_result"
    }
   ],
   "source": [
    "len(reactions_to_run)"
   ]
  },
  {
   "cell_type": "markdown",
   "metadata": {},
   "source": [
    "# it is the biomass model that is the problem\n",
    "\n",
    "Lets take the biomass model from the SBML and see if this work."
   ]
  },
  {
   "cell_type": "code",
   "execution_count": 34,
   "metadata": {},
   "outputs": [],
   "source": [
    "sbml_equation = '(0.00778132482043096) cpd00063: Ca2 (location: c) +  (0.352889948968272) cpd00156: L_Valine (location: e) +  (0.00778132482043096) cpd00030: Mn2 (location: e) +  (0.00778132482043096) cpd00205: K (location: c) +  (0.428732289454499) cpd00035: L_Alanine (location: e) +  (0.128039715997337) cpd00060: L_Methionine (location: e) +  (0.15480760087483) cpd00066: L_Phenylalanine (location: c) +  (0.00778132482043096) cpd00017: S_Adenosyl_L_methionine (location: c) +  (0.00778132482043096) cpd00010: CoA (location: c) +  (0.0609084652443221) cpd15665: Peptidoglycan_polymer_n_subunits (location: c) +  (0.0841036156544863) cpd00052: CTP (location: c) +  (0.00778132482043096) cpd10516: fe3 (location: e) +  (0.01468498342018) cpd00357: TTP (location: c) +  (0.00778132482043096) cpd00099: Cl_ (location: e) +  (0.01468498342018) cpd00356: dCTP (location: c) +  (0.00778132482043096) cpd10515: Fe2 (location: e) +  (0.00778132482043096) cpd00254: Mg (location: c) +  (0.242249358141304) cpd00322: L_Isoleucine (location: e) +  (0.00778132482043096) cpd00058: Cu2 (location: e) +  (0.00778132482043096) cpd00149: Co2 (location: c) +  (0.201205267995816) cpd00041: L_Aspartate (location: e) +  (1) cpd17043: RNA_transcription (location: c) +  (0.219496655995436) cpd00023: L_Glutamate (location: e) +  (0.219496655995436) cpd00053: L_Glutamine (location: e) +  (0.376088782528765) cpd00107: L_Leucine (location: e) +  (0.00778132482043096) cpd00220: Riboflavin (location: e) +  (0.179790960093822) cpd00054: L_Serine (location: e) +  (0.0472899299502361) cpd00065: L_Tryptophan (location: e) +  (0.0609084652443221) cpd02229: Bactoprenyl_diphosphate (location: c) +  (0.00778132482043096) cpd11493: ACP (location: c) +  (1) cpd17041: Protein_biosynthesis (location: c) +  (0.184698405654696) cpd00129: L_Proline (location: e) +  (0.135406821203723) cpd00038: GTP (location: c) +  (0.01468498342018) cpd00241: dGTP (location: c) +  (1) cpd17042: DNA_replication (location: c) +  (0.211466290532188) cpd00161: L_Threonine (location: e) +  (40.1101757365074) cpd00002: ATP (location: c) +  (0.00778132482043096) cpd00016: Pyridoxal_phosphate (location: c) +  (0.00778132482043096) cpd00048: Sulfate (location: e) +  (0.00778132482043096) cpd00003: NAD (location: c) +  (0.01468498342018) cpd00115: dATP (location: c) +  (0.115101904973216) cpd00069: L_Tyrosine (location: e) +  (0.00778132482043096) cpd00015: FAD (location: c) +  (0.201205267995816) cpd00132: L_Asparagine (location: e) +  (0.00778132482043096) cpd00006: NADP (location: c) +  (35.5386858537513) cpd00001: H2O (location: e) +  (0.0762884719008526) cpd00084: L_Cysteine (location: c) +  (0.0794113918032267) cpd00119: L_Histidine (location: e) +  (0.285970236774541) cpd00039: L_Lysine (location: e) +  (0.0908319049068452) cpd00062: UTP (location: c) +  (0.00778132482043096) cpd00034: Zn2 (location: e) +  (0.247156803702178) cpd00051: L_Arginine (location: e) +  (0.510820469745475) cpd00033: Glycine (location: e) >  (40) cpd00008: ADP (location: c) +  (39.9922186751796) cpd00009: Phosphate (location: e) +  (0.00778132482043096) cpd12370: apo_ACP (location: c) +  (1) cpd11416: Biomass (location: c) +  (40) cpd00067: H (location: e) +  (0.0609084652443221) cpd15666: Peptidoglycan_polymer_n_1_subunits (location: c) +  (0.405833094852252) cpd00012: PPi (location: e)'"
   ]
  },
  {
   "cell_type": "code",
   "execution_count": 36,
   "metadata": {},
   "outputs": [],
   "source": [
    "sbml_left_compounds = {'cpd00066: L_Phenylalanine (location: c)' : 0.15480760087483,  'cpd00016: Pyridoxal_phosphate (location: c)' : 0.00778132482043096,  'cpd00132: L_Asparagine (location: e)' : 0.201205267995816,  'cpd00156: L_Valine (location: e)' : 0.352889948968272,  'cpd00099: Cl_ (location: e)' : 0.00778132482043096,  'cpd00038: GTP (location: c)' : 0.135406821203723,  'cpd00003: NAD (location: c)' : 0.00778132482043096,  'cpd17041: Protein_biosynthesis (location: c)' : 1.0,  'cpd00033: Glycine (location: e)' : 0.510820469745475,  'cpd00322: L_Isoleucine (location: e)' : 0.242249358141304,  'cpd00254: Mg (location: c)' : 0.00778132482043096,  'cpd17043: RNA_transcription (location: c)' : 1.0,  'cpd00048: Sulfate (location: e)' : 0.00778132482043096,  'cpd10515: Fe2 (location: e)' : 0.00778132482043096,  'cpd02229: Bactoprenyl_diphosphate (location: c)' : 0.0609084652443221,  'cpd11493: ACP (location: c)' : 0.00778132482043096,  'cpd00161: L_Threonine (location: e)' : 0.211466290532188,  'cpd00006: NADP (location: c)' : 0.00778132482043096,  'cpd00060: L_Methionine (location: e)' : 0.128039715997337,  'cpd00119: L_Histidine (location: e)' : 0.0794113918032267,  'cpd00052: CTP (location: c)' : 0.0841036156544863,  'cpd00051: L_Arginine (location: e)' : 0.247156803702178,  'cpd15665: Peptidoglycan_polymer_n_subunits (location: c)' : 0.0609084652443221,  'cpd00017: S_Adenosyl_L_methionine (location: c)' : 0.00778132482043096,  'cpd00030: Mn2 (location: e)' : 0.00778132482043096,  'cpd10516: fe3 (location: e)' : 0.00778132482043096,  'cpd00065: L_Tryptophan (location: e)' : 0.0472899299502361,  'cpd00084: L_Cysteine (location: c)' : 0.0762884719008526,  'cpd00023: L_Glutamate (location: e)' : 0.219496655995436,  'cpd17042: DNA_replication (location: c)' : 1.0,  'cpd00356: dCTP (location: c)' : 0.01468498342018,  'cpd00035: L_Alanine (location: e)' : 0.428732289454499,  'cpd00069: L_Tyrosine (location: e)' : 0.115101904973216,  'cpd00220: Riboflavin (location: e)' : 0.00778132482043096,  'cpd00129: L_Proline (location: e)' : 0.184698405654696,  'cpd00357: TTP (location: c)' : 0.01468498342018,  'cpd00205: K (location: c)' : 0.00778132482043096,  'cpd00149: Co2 (location: c)' : 0.00778132482043096,  'cpd00063: Ca2 (location: c)' : 0.00778132482043096,  'cpd00054: L_Serine (location: e)' : 0.179790960093822,  'cpd00001: H2O (location: e)' : 35.5386858537513,  'cpd00010: CoA (location: c)' : 0.00778132482043096,  'cpd00015: FAD (location: c)' : 0.00778132482043096,  'cpd00062: UTP (location: c)' : 0.0908319049068452,  'cpd00107: L_Leucine (location: e)' : 0.376088782528765,  'cpd00241: dGTP (location: c)' : 0.01468498342018,  'cpd00053: L_Glutamine (location: e)' : 0.219496655995436,  'cpd00039: L_Lysine (location: e)' : 0.285970236774541,  'cpd00034: Zn2 (location: e)' : 0.00778132482043096,  'cpd00058: Cu2 (location: e)' : 0.00778132482043096,  'cpd00002: ATP (location: c)' : 40.1101757365074,  'cpd00041: L_Aspartate (location: e)' : 0.201205267995816,  'cpd00115: dATP (location: c)' : 0.01468498342018}"
   ]
  },
  {
   "cell_type": "code",
   "execution_count": 37,
   "metadata": {},
   "outputs": [],
   "source": [
    "sbml_right_compounds = {'cpd00067: H (location: e)' : 40.0,  'cpd00012: PPi (location: e)' : 0.405833094852252,  'cpd00008: ADP (location: c)' : 40.0,  'cpd11416: Biomass (location: c)' : 1.0,  'cpd12370: apo_ACP (location: c)' : 0.00778132482043096,  'cpd00009: Phosphate (location: e)' : 39.9922186751796,  'cpd15666: Peptidoglycan_polymer_n_1_subunits (location: c)' : 0.0609084652443221}"
   ]
  },
  {
   "cell_type": "code",
   "execution_count": 62,
   "metadata": {},
   "outputs": [],
   "source": [
    "sbml_biomass = PyFBA.metabolism.Reaction('sbml_biomass', 'sbml_biomass')\n",
    "sbml_biomass.equation = sbml_equation\n",
    "parsecomp = re.compile('^(cpd\\\\d+): (.*?) \\(location: (.)\\)')\n",
    "for c in sbml_left_compounds:\n",
    "    m = parsecomp.match(c)\n",
    "    if not m:\n",
    "        sys.stderr.write(f\"Can't parse {c}\\n\")\n",
    "    if m.group(1) in compounds:\n",
    "        if False and compounds[m.group(1)] != m.group(2):\n",
    "            sys.stderr.write(f\"We had |{compounds[m.group(1)]}| for {m.group(1)} in the SBML, but now have |{m.group(2)}|\\n\")\n",
    "        newcomp = PyFBA.metabolism.CompoundWithLocation.from_compound(compounds[m.group(1)], m.group(3))\n",
    "        sbml_biomass.add_left_compounds({newcomp})\n",
    "        sbml_biomass.set_left_compound_abundance(newcomp, sbml_left_compounds[c])\n",
    "    else:\n",
    "        print(f\"{m.group(1)} not found\")"
   ]
  },
  {
   "cell_type": "code",
   "execution_count": 70,
   "metadata": {},
   "outputs": [
    {
     "name": "stderr",
     "output_type": "stream",
     "text": [
      "We had |cpd00067: H+| for cpd00067 in the SBML, but now have |H|\n",
      "We had |cpd00012: PPi| for cpd00012 in the SBML, but now have |PPi|\n",
      "We had |cpd00008: ADP| for cpd00008 in the SBML, but now have |ADP|\n",
      "We had |cpd11416: Biomass| for cpd11416 in the SBML, but now have |Biomass|\n",
      "We had |cpd12370: apo-ACP| for cpd12370 in the SBML, but now have |apo_ACP|\n",
      "We had |cpd00009: Phosphate| for cpd00009 in the SBML, but now have |Phosphate|\n",
      "We had |cpd15666: Peptidoglycan polymer (n-1 subunits)| for cpd15666 in the SBML, but now have |Peptidoglycan_polymer_n_1_subunits|\n"
     ]
    }
   ],
   "source": [
    "for c in sbml_right_compounds:\n",
    "    m = parsecomp.match(c)\n",
    "    if not m:\n",
    "        sys.stderr.write(f\"Can't parse {c}\\n\")\n",
    "    if m.group(1) in compounds:\n",
    "        if True and compounds[m.group(1)] != m.group(2):\n",
    "            sys.stderr.write(f\"We had |{compounds[m.group(1)]}| for {m.group(1)} in the SBML, but now have |{m.group(2)}|\\n\")\n",
    "        newcomp = PyFBA.metabolism.CompoundWithLocation.from_compound(compounds[m.group(1)], m.group(3))\n",
    "        sbml_biomass.add_right_compounds({newcomp})\n",
    "        sbml_biomass.set_right_compound_abundance(newcomp, sbml_right_compounds[c])\n",
    "    else:\n",
    "        print(f\"{m.group(1)} not found\")"
   ]
  },
  {
   "cell_type": "code",
   "execution_count": 65,
   "metadata": {},
   "outputs": [
    {
     "name": "stdout",
     "output_type": "stream",
     "text": [
      "Before running FBA there are 44015 reactions\n"
     ]
    },
    {
     "name": "stderr",
     "output_type": "stream",
     "text": [
      "In the model there are : 1226 compounds and 1238 reactions\n",
      "We are loading 1226 rows and 1238 columns\n"
     ]
    },
    {
     "name": "stdout",
     "output_type": "stream",
     "text": [
      "After running FBA there are 44015 reactions\n",
      "Initial run has a biomass flux value of 0.0 --> Growth: False\n"
     ]
    },
    {
     "name": "stderr",
     "output_type": "stream",
     "text": [
      "Length of the media: 65\n",
      "Number of reactions to run: 1065\n",
      "Number of compounds in SM: 1226\n",
      "Number of reactions in SM: 1238\n",
      "Revised number of total reactions: 44015\n",
      "Number of total compounds: 33992\n",
      "SMat dimensions: 1226 x 1238\n"
     ]
    }
   ],
   "source": [
    "print(f\"Before running FBA there are {len(reactions)} reactions\")\n",
    "status, value, growth = PyFBA.fba.run_fba(compounds, reactions, reactions_to_run,\n",
    "                                          media, sbml_biomass, verbose=True)\n",
    "print(f\"After running FBA there are {len(reactions)} reactions\")\n",
    "print(\"Initial run has a biomass flux value of {} --> Growth: {}\".format(value, growth))"
   ]
  },
  {
   "cell_type": "markdown",
   "metadata": {},
   "source": [
    "# Add the missing reactions"
   ]
  },
  {
   "cell_type": "code",
   "execution_count": 66,
   "metadata": {},
   "outputs": [],
   "source": [
    "all_reactions = {'rxn00868', 'rxn01923', 'rxn02268', 'rxn10215', 'rxn10219', 'rxn08089', 'rxn10212', 'rxn08083', 'rxn10214', 'rxn10211', 'rxn10218', 'rxn08086', 'rxn10217', 'rxn08087', 'rxn08088', 'rxn08085', 'rxn10216', 'rxn08084', 'rxn10213', 'rxn05572', 'rxn05565', 'rxn00541', 'rxn10155', 'rxn10157', 'rxn05536', 'rxn05544', 'rxn12848', 'rxn12851', 'rxn05539', 'rxn05541', 'rxn05537', 'rxn05543', 'rxn12849', 'rxn05533', 'rxn05540', 'rxn05534', 'rxn05547', 'rxn05546', 'rxn05542', 'rxn05535', 'rxn12850', 'rxn05545', 'rxn05538', 'rxn05168', 'rxn05179', 'rxn05161', 'rxn09313', 'rxn08354', 'rxn08356', 'rxn09315', 'rxn05549', 'rxn05160', 'rxn05644', 'rxn05330', 'rxn05335', 'rxn05334', 'rxn05329', 'rxn05333', 'rxn05332', 'rxn05331', 'rxn05415', 'rxn05381', 'rxn05386', 'rxn05427', 'rxn05431', 'rxn05373', 'rxn05377', 'rxn05398', 'rxn05419', 'rxn05402', 'rxn05369', 'rxn05361', 'rxn05394', 'rxn05406', 'rxn05365', 'rxn05390', 'rxn05423', 'rxn05462', 'rxn05411', 'rxn03492', 'rxn04050', 'rxn08258', 'rxn04713', 'rxn00990', 'rxn00875', 'rxn08471', 'rxn05737', 'rxn08467', 'rxn10067', 'rxn08468', 'rxn08469', 'rxn08470', 'rxn01302', 'rxn01301', 'rxn05422', 'rxn05372', 'rxn05341', 'rxn05376', 'rxn05342', 'rxn05337', 'rxn05385', 'rxn05397', 'rxn05340', 'rxn05461', 'rxn05368', 'rxn05418', 'rxn05393', 'rxn05336', 'rxn05426', 'rxn05364', 'rxn05430', 'rxn05410', 'rxn05339', 'rxn05401', 'rxn05338', 'rxn05360', 'rxn05414', 'rxn05405', 'rxn05389', 'rxn05380', 'rxn03164', 'rxn05229', 'rxn07586', 'rxn05054', 'rxn04384', 'rxn00503', 'rxn00183', 'rxn05187', 'rxn05515', 'rxn02056', 'rxn09134', 'rxn09125', 'rxn09157', 'rxn09128', 'rxn09142', 'rxn09161', 'rxn09147', 'rxn09164', 'rxn09152', 'rxn09124', 'rxn09131', 'rxn09133', 'rxn09138', 'rxn09143', 'rxn09153', 'rxn09160', 'rxn09158', 'rxn09148', 'rxn09144', 'rxn09150', 'rxn09130', 'rxn09149', 'rxn09163', 'rxn09159', 'rxn09132', 'rxn09127', 'rxn09140', 'rxn09145', 'rxn09137', 'rxn09154', 'rxn09151', 'rxn09146', 'rxn09123', 'rxn09139', 'rxn09126', 'rxn09141', 'rxn09135', 'rxn09136', 'rxn09155', 'rxn09162', 'rxn09129', 'rxn09156', 'rxn02949', 'rxn03241', 'rxn03245', 'rxn02911', 'rxn02167', 'rxn03250', 'rxn02934', 'rxn03240', 'rxn03247', 'rxn05316', 'rxn09687', 'rxn05198', 'rxn09688', 'rxn05199', 'rxn05200', 'rxn09685', 'rxn05318', 'rxn05205', 'rxn05621', 'rxn05656', 'rxn05585', 'rxn05172', 'rxn05594', 'rxn05552', 'rxn05599', 'rxn05512', 'rxn05620', 'rxn01277', 'rxn05518', 'rxn05145', 'rxn05460', 'rxn05396', 'rxn05363', 'rxn05359', 'rxn05367', 'rxn05417', 'rxn05421', 'rxn05392', 'rxn05413', 'rxn05349', 'rxn05388', 'rxn05429', 'rxn05371', 'rxn05400', 'rxn05425', 'rxn05409', 'rxn05404', 'rxn05375', 'rxn05379', 'rxn05384', 'rxn04139', 'rxn00640', 'rxn05507', 'rxn05506', 'rxn01893', 'rxn00671', 'rxn00501', 'rxn10340', 'rxn10334', 'rxn10337', 'rxn10338', 'rxn10341', 'rxn10335', 'rxn10342', 'rxn10339', 'rxn10336', 'rxn00160', 'rxn01285', 'rxn04143', 'rxn01847', 'rxn01103', 'rxn00227', 'rxn05175', 'rxn05163', 'rxn05683', 'rxn05484', 'rxn02933', 'rxn04750', 'rxn03244', 'rxn01451', 'rxn03239', 'rxn03246', 'rxn03242', 'rxn03249', 'rxn06777', 'rxn05500', 'rxn01637', 'rxn01122', 'rxn04602', 'rxn02416', 'rxn04601', 'rxn04928', 'rxn05596', 'rxn02762', 'rxn02521', 'rxn02522', 'rxn03483', 'rxn02775', 'rxn04046', 'rxn07589', 'rxn03491', 'rxn10117', 'rxn10119', 'rxn08333', 'rxn04673', 'rxn10308', 'rxn10311', 'rxn10315', 'rxn10309', 'rxn10307', 'rxn10312', 'rxn10310', 'rxn10314', 'rxn08040', 'rxn10313', 'rxn12147', 'rxn03931', 'rxn03916', 'rxn04674', 'rxn03397', 'rxn10094', 'rxn02286', 'rxn02474', 'rxn00555', 'rxn08709', 'rxn04052', 'rxn03512', 'rxn12224', 'rxn09188', 'rxn02359', 'rxn02008', 'rxn08179', 'rxn08178', 'rxn03643', 'rxn09177', 'rxn12512', 'rxn07587', 'rxn02507', 'rxn08291', 'rxn06865', 'rxn00303', 'rxn00222', 'rxn09978', 'rxn09979', 'rxn07588', 'rxn04413', 'rxn03537', 'rxn03536', 'rxn03919', 'rxn03435', 'rxn02187', 'rxn02186', 'rxn03436', 'rxn03068', 'rxn05317', 'rxn01219', 'rxn00364', 'rxn03514', 'rxn04048', 'rxn00544', 'rxn02792', 'rxn00350', 'rxn02791', 'rxn05221', 'rxn00675', 'rxn00175', 'rxn00986', 'rxn01507', 'rxn02400', 'rxn01670', 'rxn00363', 'rxn00708', 'rxn01218', 'rxn01521', 'rxn01445', 'rxn00913', 'rxn01145', 'rxn00132', 'rxn01961', 'rxn00831', 'rxn08712', 'rxn04113', 'rxn04996', 'rxn08756', 'rxn08352', 'rxn06023', 'rxn02449', 'rxn05165', 'rxn05181', 'rxn08194', 'rxn01093', 'rxn09180', 'rxn03644', 'rxn08619', 'rxn09289', 'rxn00776', 'rxn01360', 'rxn08335', 'rxn08336', 'rxn12500', 'rxn02287', 'rxn02774', 'rxn09167', 'rxn08708', 'rxn05156', 'rxn05151', 'rxn01629', 'rxn12146', 'rxn01123', 'rxn05147', 'rxn05173', 'rxn08707', 'rxn00927', 'rxn01299', 'rxn01226', 'rxn01545', 'rxn02476', 'rxn02011', 'rxn05201', 'rxn01895', 'rxn04604', 'rxn00830', 'rxn00179', 'rxn03991', 'rxn03990', 'rxn03975', 'rxn03974', 'rxn00818', 'rxn03838', 'rxn00817', 'rxn02596', 'rxn05555', 'rxn00056', 'rxn06979', 'rxn11544', 'rxn03918', 'rxn05559', 'rxn08345', 'rxn00509', 'rxn00205', 'rxn00006', 'rxn02473', 'rxn00834', 'rxn05293', 'rxn00105', 'rxn00634', 'rxn08618', 'rxn06848', 'rxn09997', 'rxn05938', 'rxn04783', 'rxn05206', 'rxn00102', 'rxn01644', 'rxn02938', 'rxn00792', 'rxn08711', 'rxn03513', 'rxn04047', 'rxn01265', 'rxn01404', 'rxn03394', 'rxn00777', 'rxn01106', 'rxn07492', 'rxn03538', 'rxn01480', 'rxn00119', 'rxn01517', 'rxn01966', 'rxn01132', 'rxn05162', 'rxn02277', 'rxn08257', 'rxn05197', 'rxn01352', 'rxn03540', 'rxn00789', 'rxn00508', 'rxn04386', 'rxn10481', 'rxn05528', 'rxn06077', 'rxn01671', 'rxn02929', 'rxn03917', 'rxn03135', 'rxn00469', 'rxn00756', 'rxn03087', 'rxn01329', 'rxn01917', 'rxn01879', 'rxn01538', 'rxn02285', 'rxn08710', 'rxn07438', 'rxn02321', 'rxn00787', 'rxn01289', 'rxn00851', 'rxn05297', 'rxn00062', 'rxn04132', 'rxn04133', 'rxn05319', 'rxn05467', 'rxn05468', 'rxn02374', 'rxn03012', 'rxn05064', 'rxn02666', 'rxn04457', 'rxn04456', 'rxn01664', 'rxn02916', 'rxn05667', 'rxn10571', 'rxn05195', 'rxn05645', 'rxn05144', 'rxn02988', 'rxn01256', 'rxn12604', 'rxn05039', 'rxn10904', 'rxn05499', 'rxn01152', 'rxn05691', 'rxn12893', 'rxn11116', 'rxn00880', 'rxn05593', 'rxn05469', 'rxn00186', 'rxn05694', 'rxn05491', 'rxn05682', 'rxn01748', 'rxn00327', 'rxn01746', 'rxn09656'}"
   ]
  },
  {
   "cell_type": "code",
   "execution_count": 68,
   "metadata": {},
   "outputs": [
    {
     "name": "stdout",
     "output_type": "stream",
     "text": [
      "Before updating there are 1065 reactions\n",
      "After updating there are 1579 reactions\n"
     ]
    }
   ],
   "source": [
    "print(f\"Before updating there are {len(reactions_to_run)} reactions\")\n",
    "r2ra = copy.copy(reactions_to_run)\n",
    "r2ra.update(all_reactions)\n",
    "print(f\"After updating there are {len(r2ra)} reactions\")"
   ]
  },
  {
   "cell_type": "code",
   "execution_count": 69,
   "metadata": {},
   "outputs": [
    {
     "name": "stdout",
     "output_type": "stream",
     "text": [
      "Before running FBA there are 44015 reactions\n"
     ]
    },
    {
     "name": "stderr",
     "output_type": "stream",
     "text": [
      "In the model there are : 1226 compounds and 1238 reactions\n",
      "We are loading 1226 rows and 1238 columns\n"
     ]
    },
    {
     "name": "stdout",
     "output_type": "stream",
     "text": [
      "After running FBA there are 44015 reactions\n",
      "Initial run has a biomass flux value of 0.0 --> Growth: False\n"
     ]
    },
    {
     "name": "stderr",
     "output_type": "stream",
     "text": [
      "Length of the media: 65\n",
      "Number of reactions to run: 1065\n",
      "Number of compounds in SM: 1226\n",
      "Number of reactions in SM: 1238\n",
      "Revised number of total reactions: 44015\n",
      "Number of total compounds: 33992\n",
      "SMat dimensions: 1226 x 1238\n"
     ]
    }
   ],
   "source": [
    "print(f\"Before running FBA there are {len(reactions)} reactions\")\n",
    "status, value, growth = PyFBA.fba.run_fba(compounds, reactions, reactions_to_run,\n",
    "                                          media, sbml_biomass, verbose=True)\n",
    "print(f\"After running FBA there are {len(reactions)} reactions\")\n",
    "print(\"Initial run has a biomass flux value of {} --> Growth: {}\".format(value, growth))"
   ]
  },
  {
   "cell_type": "code",
   "execution_count": null,
   "metadata": {},
   "outputs": [],
   "source": []
  },
  {
   "cell_type": "code",
   "execution_count": null,
   "metadata": {},
   "outputs": [],
   "source": []
  },
  {
   "cell_type": "code",
   "execution_count": null,
   "metadata": {},
   "outputs": [],
   "source": []
  },
  {
   "cell_type": "code",
   "execution_count": 31,
   "metadata": {},
   "outputs": [],
   "source": [
    "new_reactions = PyFBA.gapfill.suggest_from_media(compounds, reactions,\n",
    "                                                   reactions_to_run, media, verbose=False)"
   ]
  },
  {
   "cell_type": "code",
   "execution_count": 32,
   "metadata": {},
   "outputs": [
    {
     "name": "stdout",
     "output_type": "stream",
     "text": [
      "There are 30663 new reactions to add\n"
     ]
    }
   ],
   "source": [
    "print(f\"There are {len(new_reactions)} new reactions to add\")"
   ]
  },
  {
   "cell_type": "code",
   "execution_count": null,
   "metadata": {},
   "outputs": [],
   "source": [
    "transrct = set()\n",
    "for r in new_reactions:\n",
    "    if reactions[r].is_transport:\n",
    "        transrct.add(r)\n",
    "print(f\"There are {len(transrct)} new transport reactions\")"
   ]
  },
  {
   "cell_type": "code",
   "execution_count": null,
   "metadata": {},
   "outputs": [],
   "source": [
    "reactions_to_run.update(transrct)"
   ]
  },
  {
   "cell_type": "code",
   "execution_count": null,
   "metadata": {},
   "outputs": [],
   "source": [
    "print(f\"Before running FBA there are {len(reactions)} reactions\")\n",
    "status, value, growth = PyFBA.fba.run_fba(compounds, reactions, reactions_to_run,\n",
    "                                          media, biomass_equation)\n",
    "print(f\"After running FBA there are {len(reactions)} reactions\")\n",
    "print(\"Initial run has a biomass flux value of {} --> Growth: {}\".format(value, growth))"
   ]
  },
  {
   "cell_type": "code",
   "execution_count": null,
   "metadata": {},
   "outputs": [],
   "source": [
    "print(f\"There are {len(reactions_to_run)} reactions to run\")"
   ]
  },
  {
   "cell_type": "markdown",
   "metadata": {},
   "source": [
    "## Gap-fill the model\n",
    "\n",
    "Since the model does not grow on ArgonneLB we need to gap-fill it to ensure growth. There are several ways that we can gap-fill, and we will work through them until we get growth.\n",
    "\n",
    "As you will see, we update the *reactions_to_run list* each time, and keep the media and everything else consistent. Then we just need to run the FBA like we have done above and see if we get growth.\n",
    "\n",
    "We also keep a copy of the original *reactions_to_run*, and a list with all the reactions that we are adding, so once we are done we can go back and bisect the reactions that are added."
   ]
  },
  {
   "cell_type": "code",
   "execution_count": null,
   "metadata": {},
   "outputs": [],
   "source": [
    "added_reactions = []\n",
    "original_reactions_to_run = copy.copy(reactions_to_run)"
   ]
  },
  {
   "cell_type": "markdown",
   "metadata": {},
   "source": [
    "### Media import reactions\n",
    "\n",
    "We need to make sure that the cell can import everything that is in the media... otherwise it won't be able to grow. Be sure to only do this step if you are certain that the cell can grow on the media you are testing."
   ]
  },
  {
   "cell_type": "code",
   "execution_count": null,
   "metadata": {},
   "outputs": [],
   "source": [
    "update_type = 'media'\n",
    "new_reactions = PyFBA.gapfill.suggest_from_media(compounds, reactions,\n",
    "                                                   reactions_to_run, media, verbose=True)\n",
    "added_reactions.append((update_type, new_reactions))\n",
    "\n",
    "print(f\"Before adding {update_type} reactions, we had {len(reactions_to_run)} reactions.\")\n",
    "reactions_to_run.update(new_reactions)\n",
    "print(f\"After adding {update_type} reactions, we had {len(reactions_to_run)} reactions.\")"
   ]
  },
  {
   "cell_type": "code",
   "execution_count": null,
   "metadata": {},
   "outputs": [],
   "source": [
    "for r in reactions:\n",
    "    if reactions[r].is_transport:\n",
    "        print(r)"
   ]
  },
  {
   "cell_type": "code",
   "execution_count": null,
   "metadata": {},
   "outputs": [],
   "source": [
    "for r in reactions:\n",
    "    for c in reactions[r].left_compounds:\n",
    "        if c.location == 'e':\n",
    "            if not reactions[r].is_transport:\n",
    "                print(f\"Check {r}\")"
   ]
  },
  {
   "cell_type": "code",
   "execution_count": null,
   "metadata": {},
   "outputs": [],
   "source": [
    "status, value, growth = PyFBA.fba.run_fba(compounds, reactions, reactions_to_run,\n",
    "                                          media, biomass_equation)\n",
    "print(\"Run has a biomass flux value of {} --> Growth: {}\".format(value, growth))"
   ]
  },
  {
   "cell_type": "markdown",
   "metadata": {},
   "source": [
    "### Essential reactions\n",
    "\n",
    "There are ~100 reactions that are in every model we have tested, and we construe these to be essential for all models, so we typically add these next!"
   ]
  },
  {
   "cell_type": "code",
   "execution_count": null,
   "metadata": {},
   "outputs": [],
   "source": [
    "update_type = 'essential'\n",
    "new_reactions = PyFBA.gapfill.suggest_essential_reactions()\n",
    "added_reactions.append((update_type, new_reactions))\n",
    "print(f\"Before adding {update_type} reactions, we had {len(reactions_to_run)} reactions.\")\n",
    "reactions_to_run.update(new_reactions)\n",
    "print(f\"After adding {update_type} reactions, we had {len(reactions_to_run)} reactions.\")"
   ]
  },
  {
   "cell_type": "code",
   "execution_count": null,
   "metadata": {},
   "outputs": [],
   "source": [
    "status, value, growth = PyFBA.fba.run_fba(compounds, reactions, reactions_to_run,\n",
    "                                          media, biomass_equation)\n",
    "print(\"Run has a biomass flux value of {} --> Growth: {}\".format(value, growth))"
   ]
  },
  {
   "cell_type": "markdown",
   "metadata": {},
   "source": [
    "### Subsystems\n",
    "\n",
    "The reactions connect us to subsystems (see [Overbeek et al. 2014](http://www.ncbi.nlm.nih.gov/pmc/articles/PMC3965101/)), and this test ensures that all the subsystems are complete. We add reactions required to complete the subsystem."
   ]
  },
  {
   "cell_type": "code",
   "execution_count": null,
   "metadata": {},
   "outputs": [],
   "source": [
    "update_type = 'subsystems'\n",
    "new_reactions = \\\n",
    "    PyFBA.gapfill.suggest_reactions_from_subsystems(reactions,\n",
    "                                                    reactions_to_run,\n",
    "                                                    threshold=0.5)\n",
    "added_reactions.append((update_type, new_reactions))\n",
    "print(f\"Before adding {update_type} reactions, we had {len(reactions_to_run)} reactions.\")\n",
    "reactions_to_run.update(new_reactions)\n",
    "print(f\"After adding {update_type} reactions, we had {len(reactions_to_run)} reactions.\")"
   ]
  },
  {
   "cell_type": "code",
   "execution_count": null,
   "metadata": {},
   "outputs": [],
   "source": [
    "status, value, growth = PyFBA.fba.run_fba(compounds, reactions, reactions_to_run,\n",
    "                                          media, biomass_equation)\n",
    "print(\"Run has a biomass flux value of {} --> Growth: {}\".format(value, growth))"
   ]
  },
  {
   "cell_type": "code",
   "execution_count": null,
   "metadata": {},
   "outputs": [],
   "source": [
    "pre_orphan=copy.copy(reactions_to_run)\n",
    "pre_o_added=copy.copy(added_reactions)\n",
    "print(\"Pre orphan has {} reactions\".format(len(pre_orphan)))"
   ]
  },
  {
   "cell_type": "markdown",
   "metadata": {},
   "source": [
    "### Orphan compounds\n",
    "\n",
    "Orphan compounds are those compounds which are only associated with one reaction. They are either produced, or trying to be consumed. We need to add reaction(s) that complete the network of those compounds.\n",
    "\n",
    "You can change the maximum number of reactions that a compound is in to be considered an orphan (try increasing it to 2 or 3)."
   ]
  },
  {
   "cell_type": "code",
   "execution_count": null,
   "metadata": {},
   "outputs": [],
   "source": [
    "update_type = 'orphan compounds'\n",
    "new_reactions = PyFBA.gapfill.suggest_by_compound(compounds, reactions,\n",
    "                                                     reactions_to_run,\n",
    "                                                     max_reactions=1)\n",
    "added_reactions.append((update_type, new_reactions))\n",
    "print(f\"Before adding {update_type} reactions, we had {len(reactions_to_run)} reactions.\")\n",
    "reactions_to_run.update(new_reactions)\n",
    "print(f\"After adding {update_type} reactions, we had {len(reactions_to_run)} reactions.\")"
   ]
  },
  {
   "cell_type": "code",
   "execution_count": null,
   "metadata": {},
   "outputs": [],
   "source": [
    "status, value, growth = PyFBA.fba.run_fba(compounds, reactions, reactions_to_run,\n",
    "                                          media, biomass_equation)\n",
    "print(\"Run has a biomass flux value of {} --> Growth: {}\".format(value, growth))"
   ]
  },
  {
   "cell_type": "markdown",
   "metadata": {},
   "source": [
    "## Trimming the model\n",
    "Now that the model has been shown to grow on ArgonneLB media after several gap-fill iterations, we should trim down the reactions to only the required reactions necessary to observe growth."
   ]
  },
  {
   "cell_type": "code",
   "execution_count": null,
   "metadata": {},
   "outputs": [],
   "source": [
    "reqd_additional = set()\n",
    "\n",
    "# Begin loop through all gap-filled reactions\n",
    "while added_reactions:\n",
    "    ori = copy.copy(original_reactions_to_run)\n",
    "    ori.update(reqd_additional)\n",
    "    # Test next set of gap-filled reactions\n",
    "    # Each set is based on a method described above\n",
    "    how, new = added_reactions.pop()\n",
    "    sys.stderr.write(\"Testing reactions from {}\\n\".format(how))\n",
    "    \n",
    "    # Get all the other gap-filled reactions we need to add\n",
    "    for tple in added_reactions:\n",
    "        ori.update(tple[1])\n",
    "    \n",
    "    # Use minimization function to determine the minimal\n",
    "    # set of gap-filled reactions from the current method\n",
    "    new_essential = PyFBA.gapfill.minimize_additional_reactions(ori, new, compounds,\n",
    "                                                                reactions, media,\n",
    "                                                                biomass_equation)\n",
    "    sys.stderr.write(\"Saved {} reactions from {}\\n\".format(len(new_essential), how))\n",
    "    for r in new_essential:\n",
    "        sys.stderr.write(r + \"\\n\")\n",
    "    # Record the method used to determine\n",
    "    # how the reaction was gap-filled\n",
    "    for new_r in new_essential:\n",
    "        reactions[new_r].is_gapfilled = True\n",
    "        reactions[new_r].gapfill_method = how\n",
    "    reqd_additional.update(new_essential)\n",
    "\n",
    "# Combine old and new reactions\n",
    "all_reactions = original_reactions_to_run.union(reqd_additional)"
   ]
  },
  {
   "cell_type": "code",
   "execution_count": null,
   "metadata": {},
   "outputs": [],
   "source": [
    "status, value, growth = PyFBA.fba.run_fba(compounds, reactions, all_reactions,\n",
    "                                          media, biomass_equation)\n",
    "print(\"The biomass reaction has a flux of {} --> Growth: {}\".format(value, growth))"
   ]
  }
 ],
 "metadata": {
  "kernelspec": {
   "display_name": "PyFBA_venv",
   "language": "python",
   "name": "pyfba_venv"
  },
  "language_info": {
   "codemirror_mode": {
    "name": "ipython",
    "version": 3
   },
   "file_extension": ".py",
   "mimetype": "text/x-python",
   "name": "python",
   "nbconvert_exporter": "python",
   "pygments_lexer": "ipython3",
   "version": "3.9.1"
  }
 },
 "nbformat": 4,
 "nbformat_minor": 1
}
